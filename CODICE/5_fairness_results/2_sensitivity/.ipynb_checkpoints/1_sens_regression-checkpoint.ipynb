{
 "cells": [
  {
   "cell_type": "code",
   "execution_count": 1,
   "id": "863aeade",
   "metadata": {},
   "outputs": [
    {
     "name": "stdout",
     "output_type": "stream",
     "text": [
      "Python Platform: macOS-13.2.1-arm64-arm-64bit\n",
      "Tensor Flow Version: 2.12.0\n",
      "Keras Version: 2.12.0\n",
      "\n",
      "Python 3.10.10 | packaged by conda-forge | (main, Mar 24 2023, 20:12:31) [Clang 14.0.6 ]\n",
      "Pandas 2.0.0\n",
      "Scikit-Learn 1.2.2\n",
      "GPU is available\n"
     ]
    }
   ],
   "source": [
    "import sys\n",
    "import tensorflow.keras\n",
    "import pandas as pd\n",
    "import sklearn as sk\n",
    "import tensorflow as tf\n",
    "import platform\n",
    "\n",
    "print(f\"Python Platform: {platform.platform()}\")\n",
    "print(f\"Tensor Flow Version: {tf.__version__}\")\n",
    "print(f\"Keras Version: {tensorflow.keras.__version__}\")\n",
    "print()\n",
    "print(f\"Python {sys.version}\")\n",
    "print(f\"Pandas {pd.__version__}\")\n",
    "print(f\"Scikit-Learn {sk.__version__}\")\n",
    "gpu = len(tf.config.list_physical_devices('GPU'))>0\n",
    "print(\"GPU is\", \"available\" if gpu else \"NOT AVAILABLE\")"
   ]
  },
  {
   "cell_type": "code",
   "execution_count": 3,
   "id": "a0bbf7aa",
   "metadata": {},
   "outputs": [],
   "source": [
    "# IMPORTING STATEMENTS\n",
    "import pandas as pd\n",
    "import numpy as np\n",
    "import matplotlib.pyplot as plt\n",
    "\n",
    "#import mutual_information_regression as mri\n",
    "#import helper_functions_fs as hf\n",
    "\n",
    "np.random.seed(7)"
   ]
  },
  {
   "cell_type": "code",
   "execution_count": 4,
   "id": "2e93108d",
   "metadata": {},
   "outputs": [],
   "source": [
    "from sklearn.preprocessing import StandardScaler"
   ]
  },
  {
   "cell_type": "markdown",
   "id": "87fe6815",
   "metadata": {},
   "source": [
    "# Import the Data"
   ]
  },
  {
   "cell_type": "code",
   "execution_count": 5,
   "id": "f8c05e88",
   "metadata": {
    "scrolled": true
   },
   "outputs": [
    {
     "data": {
      "text/html": [
       "<div>\n",
       "<style scoped>\n",
       "    .dataframe tbody tr th:only-of-type {\n",
       "        vertical-align: middle;\n",
       "    }\n",
       "\n",
       "    .dataframe tbody tr th {\n",
       "        vertical-align: top;\n",
       "    }\n",
       "\n",
       "    .dataframe thead th {\n",
       "        text-align: right;\n",
       "    }\n",
       "</style>\n",
       "<table border=\"1\" class=\"dataframe\">\n",
       "  <thead>\n",
       "    <tr style=\"text-align: right;\">\n",
       "      <th></th>\n",
       "      <th>InterestRate</th>\n",
       "      <th>MinorityRatio</th>\n",
       "      <th>CensusTractMedFamIncome</th>\n",
       "      <th>MonthlyIncome</th>\n",
       "      <th>HUDMedIncome</th>\n",
       "      <th>LTV</th>\n",
       "      <th>PaymentCount</th>\n",
       "      <th>Age1</th>\n",
       "      <th>Age2</th>\n",
       "      <th>HousingExpense</th>\n",
       "      <th>...</th>\n",
       "      <th>State_31</th>\n",
       "      <th>State_39</th>\n",
       "      <th>State_42</th>\n",
       "      <th>State_48</th>\n",
       "      <th>State_55</th>\n",
       "      <th>State_infrequent_sklearn</th>\n",
       "      <th>Minority_Min</th>\n",
       "      <th>Minority_Missing</th>\n",
       "      <th>Minority_White</th>\n",
       "      <th>Borrower2Dummy</th>\n",
       "    </tr>\n",
       "  </thead>\n",
       "  <tbody>\n",
       "    <tr>\n",
       "      <th>170846</th>\n",
       "      <td>3.750</td>\n",
       "      <td>5.631</td>\n",
       "      <td>96500</td>\n",
       "      <td>4693</td>\n",
       "      <td>69400</td>\n",
       "      <td>72.0</td>\n",
       "      <td>360</td>\n",
       "      <td>65</td>\n",
       "      <td>61</td>\n",
       "      <td>21.76</td>\n",
       "      <td>...</td>\n",
       "      <td>0.0</td>\n",
       "      <td>0.0</td>\n",
       "      <td>0.0</td>\n",
       "      <td>0.0</td>\n",
       "      <td>1.0</td>\n",
       "      <td>0.0</td>\n",
       "      <td>0.0</td>\n",
       "      <td>0.0</td>\n",
       "      <td>1.0</td>\n",
       "      <td>1</td>\n",
       "    </tr>\n",
       "    <tr>\n",
       "      <th>154335</th>\n",
       "      <td>4.375</td>\n",
       "      <td>5.745</td>\n",
       "      <td>93258</td>\n",
       "      <td>3194</td>\n",
       "      <td>94200</td>\n",
       "      <td>79.0</td>\n",
       "      <td>360</td>\n",
       "      <td>34</td>\n",
       "      <td>0</td>\n",
       "      <td>30.74</td>\n",
       "      <td>...</td>\n",
       "      <td>0.0</td>\n",
       "      <td>0.0</td>\n",
       "      <td>0.0</td>\n",
       "      <td>0.0</td>\n",
       "      <td>1.0</td>\n",
       "      <td>0.0</td>\n",
       "      <td>0.0</td>\n",
       "      <td>0.0</td>\n",
       "      <td>1.0</td>\n",
       "      <td>0</td>\n",
       "    </tr>\n",
       "    <tr>\n",
       "      <th>145818</th>\n",
       "      <td>2.750</td>\n",
       "      <td>21.300</td>\n",
       "      <td>82260</td>\n",
       "      <td>6344</td>\n",
       "      <td>81700</td>\n",
       "      <td>99.0</td>\n",
       "      <td>360</td>\n",
       "      <td>32</td>\n",
       "      <td>56</td>\n",
       "      <td>27.87</td>\n",
       "      <td>...</td>\n",
       "      <td>0.0</td>\n",
       "      <td>0.0</td>\n",
       "      <td>0.0</td>\n",
       "      <td>0.0</td>\n",
       "      <td>0.0</td>\n",
       "      <td>0.0</td>\n",
       "      <td>0.0</td>\n",
       "      <td>0.0</td>\n",
       "      <td>1.0</td>\n",
       "      <td>1</td>\n",
       "    </tr>\n",
       "    <tr>\n",
       "      <th>94035</th>\n",
       "      <td>3.375</td>\n",
       "      <td>4.000</td>\n",
       "      <td>71172</td>\n",
       "      <td>9776</td>\n",
       "      <td>76700</td>\n",
       "      <td>80.0</td>\n",
       "      <td>360</td>\n",
       "      <td>25</td>\n",
       "      <td>25</td>\n",
       "      <td>9.00</td>\n",
       "      <td>...</td>\n",
       "      <td>0.0</td>\n",
       "      <td>1.0</td>\n",
       "      <td>0.0</td>\n",
       "      <td>0.0</td>\n",
       "      <td>0.0</td>\n",
       "      <td>0.0</td>\n",
       "      <td>0.0</td>\n",
       "      <td>0.0</td>\n",
       "      <td>1.0</td>\n",
       "      <td>1</td>\n",
       "    </tr>\n",
       "    <tr>\n",
       "      <th>175348</th>\n",
       "      <td>4.250</td>\n",
       "      <td>8.000</td>\n",
       "      <td>65755</td>\n",
       "      <td>3800</td>\n",
       "      <td>73100</td>\n",
       "      <td>80.0</td>\n",
       "      <td>360</td>\n",
       "      <td>30</td>\n",
       "      <td>0</td>\n",
       "      <td>12.00</td>\n",
       "      <td>...</td>\n",
       "      <td>0.0</td>\n",
       "      <td>1.0</td>\n",
       "      <td>0.0</td>\n",
       "      <td>0.0</td>\n",
       "      <td>0.0</td>\n",
       "      <td>0.0</td>\n",
       "      <td>0.0</td>\n",
       "      <td>0.0</td>\n",
       "      <td>1.0</td>\n",
       "      <td>0</td>\n",
       "    </tr>\n",
       "  </tbody>\n",
       "</table>\n",
       "<p>5 rows × 74 columns</p>\n",
       "</div>"
      ],
      "text/plain": [
       "        InterestRate  MinorityRatio  CensusTractMedFamIncome  MonthlyIncome   \n",
       "170846         3.750          5.631                    96500           4693  \\\n",
       "154335         4.375          5.745                    93258           3194   \n",
       "145818         2.750         21.300                    82260           6344   \n",
       "94035          3.375          4.000                    71172           9776   \n",
       "175348         4.250          8.000                    65755           3800   \n",
       "\n",
       "        HUDMedIncome   LTV  PaymentCount  Age1  Age2  HousingExpense  ...   \n",
       "170846         69400  72.0           360    65    61           21.76  ...  \\\n",
       "154335         94200  79.0           360    34     0           30.74  ...   \n",
       "145818         81700  99.0           360    32    56           27.87  ...   \n",
       "94035          76700  80.0           360    25    25            9.00  ...   \n",
       "175348         73100  80.0           360    30     0           12.00  ...   \n",
       "\n",
       "        State_31  State_39  State_42  State_48  State_55   \n",
       "170846       0.0       0.0       0.0       0.0       1.0  \\\n",
       "154335       0.0       0.0       0.0       0.0       1.0   \n",
       "145818       0.0       0.0       0.0       0.0       0.0   \n",
       "94035        0.0       1.0       0.0       0.0       0.0   \n",
       "175348       0.0       1.0       0.0       0.0       0.0   \n",
       "\n",
       "        State_infrequent_sklearn  Minority_Min  Minority_Missing   \n",
       "170846                       0.0           0.0               0.0  \\\n",
       "154335                       0.0           0.0               0.0   \n",
       "145818                       0.0           0.0               0.0   \n",
       "94035                        0.0           0.0               0.0   \n",
       "175348                       0.0           0.0               0.0   \n",
       "\n",
       "        Minority_White  Borrower2Dummy  \n",
       "170846             1.0               1  \n",
       "154335             1.0               0  \n",
       "145818             1.0               1  \n",
       "94035              1.0               1  \n",
       "175348             1.0               0  \n",
       "\n",
       "[5 rows x 74 columns]"
      ]
     },
     "execution_count": 5,
     "metadata": {},
     "output_type": "execute_result"
    }
   ],
   "source": [
    "# training data\n",
    "data = pd.read_csv('../../0_data/train.csv', index_col=0)\n",
    "data.head()"
   ]
  },
  {
   "attachments": {},
   "cell_type": "markdown",
   "id": "5b405257",
   "metadata": {},
   "source": [
    "\n",
    "# REMOVE SENSITIVE VARIABLES\n",
    "\n",
    "\n",
    "da **Lee, Floridi**: \"\n",
    "All predictors in the feature set (Appendix) were used, with the exception of race, sex, and minority population of the census tract area.\n",
    "In the US, the Equal Credit Opportunity Act (ECOA) of 1974 prohibits credit discrimination on the basis of race, and this would preclude lenders from including these features in the decision- making process. Legally, lenders are required to make lending decisions “as if they had no information about the applicant’s race, regardless of whether race is or is not a good proxy for risk factors not easily observed by a lender” (Ladd 1998). There are important studies showing that the inclusion of these features may result in both fairer and more accurate outcomes (Kleinberg et al. 2018), which will be addressed in the Sect. 4.4. \n",
    "\"\n",
    "\n",
    "rimuovo:\n",
    "- 'Age1', \n",
    "- 'Age2',\n",
    "- 'Gender1_1',  'Gender1_2',  'Gender1_3', 'Gender2_1', 'Gender2_2', 'Gender2_3', 'Gender2_4',\n",
    "- 'Race1_2', 'Race1_5', 'Race1_6', 'Race1_infrequent_sklearn', \n",
    "- 'Minority2_Min', 'Minority2_Missing', 'Minority2_White', 'Race2_5', 'Race2_6', 'Race2_8','Race2_infrequent_sklearn',\n",
    "- 'Minority_Min', 'Minority_Missing', 'Minority_White',\n",
    "\n",
    "\n",
    "**RIMUOVO ANCHE Borrower2Dummy**"
   ]
  },
  {
   "cell_type": "code",
   "execution_count": 7,
   "id": "85e5bf83",
   "metadata": {
    "scrolled": true
   },
   "outputs": [
    {
     "data": {
      "text/plain": [
       "Index(['InterestRate', 'MinorityRatio', 'CensusTractMedFamIncome',\n",
       "       'MonthlyIncome', 'HUDMedIncome', 'LTV', 'PaymentCount', 'Age1', 'Age2',\n",
       "       'HousingExpense', 'DebtExpense', 'PMI', 'CreditScore1', 'CreditScore2',\n",
       "       'NoteDate', 'NoteAmount', 'BorrowerCount', 'FirstTime', 'SelfEmployed',\n",
       "       'Bank_Boston', 'Bank_Chicago', 'Bank_Cincinnati', 'Bank_Dallas',\n",
       "       'Bank_Des Moines', 'Bank_Indianapolis', 'Bank_Pittsburgh',\n",
       "       'Bank_Topeka', 'Bank_infrequent_sklearn', 'LoanPurpose_1',\n",
       "       'LoanPurpose_2', 'LoanPurpose_6', 'MortgageType_0',\n",
       "       'MortgageType_infrequent_sklearn', 'Gender1_1', 'Gender1_2',\n",
       "       'Gender1_3', 'Gender2_1', 'Gender2_2', 'Gender2_3', 'Gender2_4',\n",
       "       'PropertyType_1', 'PropertyType_6', 'PropertyType_7',\n",
       "       'PropertyType_infrequent_sklearn', 'Race1_2', 'Race1_5', 'Race1_6',\n",
       "       'Race1_infrequent_sklearn', 'Minority2_Min', 'Minority2_Missing',\n",
       "       'Minority2_White', 'Race2_5', 'Race2_6', 'Race2_8',\n",
       "       'Race2_infrequent_sklearn', 'State_6', 'State_8', 'State_17',\n",
       "       'State_18', 'State_19', 'State_20', 'State_26', 'State_27', 'State_29',\n",
       "       'State_31', 'State_39', 'State_42', 'State_48', 'State_55',\n",
       "       'State_infrequent_sklearn', 'Minority_Min', 'Minority_Missing',\n",
       "       'Minority_White', 'Borrower2Dummy'],\n",
       "      dtype='object')"
      ]
     },
     "execution_count": 7,
     "metadata": {},
     "output_type": "execute_result"
    }
   ],
   "source": [
    "data.columns"
   ]
  },
  {
   "cell_type": "code",
   "execution_count": 13,
   "id": "14594642",
   "metadata": {},
   "outputs": [
    {
     "data": {
      "text/plain": [
       "0.997905637326197"
      ]
     },
     "execution_count": 13,
     "metadata": {},
     "output_type": "execute_result"
    }
   ],
   "source": [
    "((data['BorrowerCount']-1)==data['Borrower2Dummy']).sum()/len(data)"
   ]
  },
  {
   "cell_type": "code",
   "execution_count": 15,
   "id": "b0f857f5",
   "metadata": {},
   "outputs": [],
   "source": [
    "data.drop(['Age1', 'Age2','Gender1_1',  'Gender1_2',  'Gender1_3', 'Gender2_1', 'Gender2_2', 'Gender2_3', 'Gender2_4',\n",
    "            'Race1_2', 'Race1_5', 'Race1_6', 'Race1_infrequent_sklearn', \n",
    "            'Minority2_Min', 'Minority2_Missing', 'Minority2_White', 'Race2_5', 'Race2_6', 'Race2_8',\n",
    "            'Race2_infrequent_sklearn','Minority_Min', 'Minority_Missing', 'Minority_White',\n",
    "            ], axis=1, inplace=True)"
   ]
  },
  {
   "cell_type": "code",
   "execution_count": 16,
   "id": "46fedf59",
   "metadata": {},
   "outputs": [],
   "source": [
    "# defining response variable and input features\n",
    "y = data.pop('InterestRate')\n",
    "X = data.copy()"
   ]
  },
  {
   "cell_type": "code",
   "execution_count": 18,
   "id": "963f5251",
   "metadata": {},
   "outputs": [
    {
     "data": {
      "text/html": [
       "<div>\n",
       "<style scoped>\n",
       "    .dataframe tbody tr th:only-of-type {\n",
       "        vertical-align: middle;\n",
       "    }\n",
       "\n",
       "    .dataframe tbody tr th {\n",
       "        vertical-align: top;\n",
       "    }\n",
       "\n",
       "    .dataframe thead th {\n",
       "        text-align: right;\n",
       "    }\n",
       "</style>\n",
       "<table border=\"1\" class=\"dataframe\">\n",
       "  <thead>\n",
       "    <tr style=\"text-align: right;\">\n",
       "      <th></th>\n",
       "      <th>InterestRate</th>\n",
       "      <th>MinorityRatio</th>\n",
       "      <th>CensusTractMedFamIncome</th>\n",
       "      <th>MonthlyIncome</th>\n",
       "      <th>HUDMedIncome</th>\n",
       "      <th>LTV</th>\n",
       "      <th>PaymentCount</th>\n",
       "      <th>Age1</th>\n",
       "      <th>Age2</th>\n",
       "      <th>HousingExpense</th>\n",
       "      <th>...</th>\n",
       "      <th>State_31</th>\n",
       "      <th>State_39</th>\n",
       "      <th>State_42</th>\n",
       "      <th>State_48</th>\n",
       "      <th>State_55</th>\n",
       "      <th>State_infrequent_sklearn</th>\n",
       "      <th>Minority_Min</th>\n",
       "      <th>Minority_Missing</th>\n",
       "      <th>Minority_White</th>\n",
       "      <th>Borrower2Dummy</th>\n",
       "    </tr>\n",
       "  </thead>\n",
       "  <tbody>\n",
       "    <tr>\n",
       "      <th>188315</th>\n",
       "      <td>4.000</td>\n",
       "      <td>47.950</td>\n",
       "      <td>80357</td>\n",
       "      <td>18334</td>\n",
       "      <td>95900</td>\n",
       "      <td>80.0</td>\n",
       "      <td>360</td>\n",
       "      <td>39</td>\n",
       "      <td>0</td>\n",
       "      <td>17.07</td>\n",
       "      <td>...</td>\n",
       "      <td>0.0</td>\n",
       "      <td>0.0</td>\n",
       "      <td>0.0</td>\n",
       "      <td>1.0</td>\n",
       "      <td>0.0</td>\n",
       "      <td>0.0</td>\n",
       "      <td>0.0</td>\n",
       "      <td>0.0</td>\n",
       "      <td>1.0</td>\n",
       "      <td>0</td>\n",
       "    </tr>\n",
       "    <tr>\n",
       "      <th>104813</th>\n",
       "      <td>3.250</td>\n",
       "      <td>6.489</td>\n",
       "      <td>112882</td>\n",
       "      <td>10065</td>\n",
       "      <td>86200</td>\n",
       "      <td>72.0</td>\n",
       "      <td>360</td>\n",
       "      <td>64</td>\n",
       "      <td>66</td>\n",
       "      <td>20.14</td>\n",
       "      <td>...</td>\n",
       "      <td>0.0</td>\n",
       "      <td>0.0</td>\n",
       "      <td>0.0</td>\n",
       "      <td>0.0</td>\n",
       "      <td>0.0</td>\n",
       "      <td>1.0</td>\n",
       "      <td>0.0</td>\n",
       "      <td>0.0</td>\n",
       "      <td>1.0</td>\n",
       "      <td>1</td>\n",
       "    </tr>\n",
       "    <tr>\n",
       "      <th>164647</th>\n",
       "      <td>3.475</td>\n",
       "      <td>9.661</td>\n",
       "      <td>118045</td>\n",
       "      <td>19272</td>\n",
       "      <td>82300</td>\n",
       "      <td>72.0</td>\n",
       "      <td>360</td>\n",
       "      <td>62</td>\n",
       "      <td>62</td>\n",
       "      <td>14.70</td>\n",
       "      <td>...</td>\n",
       "      <td>0.0</td>\n",
       "      <td>0.0</td>\n",
       "      <td>0.0</td>\n",
       "      <td>0.0</td>\n",
       "      <td>1.0</td>\n",
       "      <td>0.0</td>\n",
       "      <td>0.0</td>\n",
       "      <td>1.0</td>\n",
       "      <td>0.0</td>\n",
       "      <td>1</td>\n",
       "    </tr>\n",
       "    <tr>\n",
       "      <th>110948</th>\n",
       "      <td>3.125</td>\n",
       "      <td>5.172</td>\n",
       "      <td>100096</td>\n",
       "      <td>5171</td>\n",
       "      <td>89200</td>\n",
       "      <td>80.0</td>\n",
       "      <td>180</td>\n",
       "      <td>43</td>\n",
       "      <td>0</td>\n",
       "      <td>25.31</td>\n",
       "      <td>...</td>\n",
       "      <td>0.0</td>\n",
       "      <td>0.0</td>\n",
       "      <td>0.0</td>\n",
       "      <td>0.0</td>\n",
       "      <td>0.0</td>\n",
       "      <td>0.0</td>\n",
       "      <td>0.0</td>\n",
       "      <td>0.0</td>\n",
       "      <td>1.0</td>\n",
       "      <td>0</td>\n",
       "    </tr>\n",
       "    <tr>\n",
       "      <th>152548</th>\n",
       "      <td>4.750</td>\n",
       "      <td>4.396</td>\n",
       "      <td>91638</td>\n",
       "      <td>14262</td>\n",
       "      <td>79600</td>\n",
       "      <td>80.0</td>\n",
       "      <td>360</td>\n",
       "      <td>39</td>\n",
       "      <td>31</td>\n",
       "      <td>12.66</td>\n",
       "      <td>...</td>\n",
       "      <td>0.0</td>\n",
       "      <td>0.0</td>\n",
       "      <td>0.0</td>\n",
       "      <td>0.0</td>\n",
       "      <td>0.0</td>\n",
       "      <td>0.0</td>\n",
       "      <td>0.0</td>\n",
       "      <td>0.0</td>\n",
       "      <td>1.0</td>\n",
       "      <td>1</td>\n",
       "    </tr>\n",
       "  </tbody>\n",
       "</table>\n",
       "<p>5 rows × 74 columns</p>\n",
       "</div>"
      ],
      "text/plain": [
       "        InterestRate  MinorityRatio  CensusTractMedFamIncome  MonthlyIncome   \n",
       "188315         4.000         47.950                    80357          18334  \\\n",
       "104813         3.250          6.489                   112882          10065   \n",
       "164647         3.475          9.661                   118045          19272   \n",
       "110948         3.125          5.172                   100096           5171   \n",
       "152548         4.750          4.396                    91638          14262   \n",
       "\n",
       "        HUDMedIncome   LTV  PaymentCount  Age1  Age2  HousingExpense  ...   \n",
       "188315         95900  80.0           360    39     0           17.07  ...  \\\n",
       "104813         86200  72.0           360    64    66           20.14  ...   \n",
       "164647         82300  72.0           360    62    62           14.70  ...   \n",
       "110948         89200  80.0           180    43     0           25.31  ...   \n",
       "152548         79600  80.0           360    39    31           12.66  ...   \n",
       "\n",
       "        State_31  State_39  State_42  State_48  State_55   \n",
       "188315       0.0       0.0       0.0       1.0       0.0  \\\n",
       "104813       0.0       0.0       0.0       0.0       0.0   \n",
       "164647       0.0       0.0       0.0       0.0       1.0   \n",
       "110948       0.0       0.0       0.0       0.0       0.0   \n",
       "152548       0.0       0.0       0.0       0.0       0.0   \n",
       "\n",
       "        State_infrequent_sklearn  Minority_Min  Minority_Missing   \n",
       "188315                       0.0           0.0               0.0  \\\n",
       "104813                       1.0           0.0               0.0   \n",
       "164647                       0.0           0.0               1.0   \n",
       "110948                       0.0           0.0               0.0   \n",
       "152548                       0.0           0.0               0.0   \n",
       "\n",
       "        Minority_White  Borrower2Dummy  \n",
       "188315             1.0               0  \n",
       "104813             1.0               1  \n",
       "164647             0.0               1  \n",
       "110948             1.0               0  \n",
       "152548             1.0               1  \n",
       "\n",
       "[5 rows x 74 columns]"
      ]
     },
     "execution_count": 18,
     "metadata": {},
     "output_type": "execute_result"
    }
   ],
   "source": [
    "# test data\n",
    "data_test = pd.read_csv('../../0_data/test.csv', index_col=0)\n",
    "data_test.head()"
   ]
  },
  {
   "cell_type": "code",
   "execution_count": 19,
   "id": "8276c4da",
   "metadata": {},
   "outputs": [],
   "source": [
    "data_test.drop(['Age1', 'Age2','Gender1_1',  'Gender1_2',  'Gender1_3', 'Gender2_1', 'Gender2_2', 'Gender2_3', 'Gender2_4',\n",
    "            'Race1_2', 'Race1_5', 'Race1_6', 'Race1_infrequent_sklearn', \n",
    "            'Minority2_Min', 'Minority2_Missing', 'Minority2_White', 'Race2_5', 'Race2_6', 'Race2_8',\n",
    "            'Race2_infrequent_sklearn','Minority_Min', 'Minority_Missing', 'Minority_White',\n",
    "            ], axis=1, inplace=True)"
   ]
  },
  {
   "cell_type": "code",
   "execution_count": 20,
   "id": "e4cbe3e8",
   "metadata": {},
   "outputs": [],
   "source": [
    "y_test = data_test.pop('InterestRate')\n",
    "X_test = data_test.copy()"
   ]
  },
  {
   "cell_type": "markdown",
   "id": "e510301f",
   "metadata": {},
   "source": [
    "# Scaling"
   ]
  },
  {
   "cell_type": "code",
   "execution_count": 21,
   "id": "02078e00",
   "metadata": {
    "collapsed": true
   },
   "outputs": [
    {
     "data": {
      "text/html": [
       "<div>\n",
       "<style scoped>\n",
       "    .dataframe tbody tr th:only-of-type {\n",
       "        vertical-align: middle;\n",
       "    }\n",
       "\n",
       "    .dataframe tbody tr th {\n",
       "        vertical-align: top;\n",
       "    }\n",
       "\n",
       "    .dataframe thead th {\n",
       "        text-align: right;\n",
       "    }\n",
       "</style>\n",
       "<table border=\"1\" class=\"dataframe\">\n",
       "  <thead>\n",
       "    <tr style=\"text-align: right;\">\n",
       "      <th></th>\n",
       "      <th>MinorityRatio</th>\n",
       "      <th>CensusTractMedFamIncome</th>\n",
       "      <th>MonthlyIncome</th>\n",
       "      <th>HUDMedIncome</th>\n",
       "      <th>LTV</th>\n",
       "      <th>PaymentCount</th>\n",
       "      <th>HousingExpense</th>\n",
       "      <th>DebtExpense</th>\n",
       "      <th>PMI</th>\n",
       "      <th>CreditScore1</th>\n",
       "      <th>...</th>\n",
       "      <th>State_26</th>\n",
       "      <th>State_27</th>\n",
       "      <th>State_29</th>\n",
       "      <th>State_31</th>\n",
       "      <th>State_39</th>\n",
       "      <th>State_42</th>\n",
       "      <th>State_48</th>\n",
       "      <th>State_55</th>\n",
       "      <th>State_infrequent_sklearn</th>\n",
       "      <th>Borrower2Dummy</th>\n",
       "    </tr>\n",
       "  </thead>\n",
       "  <tbody>\n",
       "    <tr>\n",
       "      <th>count</th>\n",
       "      <td>1.890790e+05</td>\n",
       "      <td>1.890790e+05</td>\n",
       "      <td>1.890790e+05</td>\n",
       "      <td>1.890790e+05</td>\n",
       "      <td>1.890790e+05</td>\n",
       "      <td>1.890790e+05</td>\n",
       "      <td>1.890790e+05</td>\n",
       "      <td>1.890790e+05</td>\n",
       "      <td>1.890790e+05</td>\n",
       "      <td>1.890790e+05</td>\n",
       "      <td>...</td>\n",
       "      <td>1.890790e+05</td>\n",
       "      <td>1.890790e+05</td>\n",
       "      <td>1.890790e+05</td>\n",
       "      <td>1.890790e+05</td>\n",
       "      <td>1.890790e+05</td>\n",
       "      <td>1.890790e+05</td>\n",
       "      <td>1.890790e+05</td>\n",
       "      <td>1.890790e+05</td>\n",
       "      <td>1.890790e+05</td>\n",
       "      <td>1.890790e+05</td>\n",
       "    </tr>\n",
       "    <tr>\n",
       "      <th>mean</th>\n",
       "      <td>-2.335544e-16</td>\n",
       "      <td>4.329118e-17</td>\n",
       "      <td>6.898592e-17</td>\n",
       "      <td>-1.819958e-16</td>\n",
       "      <td>6.964825e-16</td>\n",
       "      <td>2.689164e-16</td>\n",
       "      <td>1.323913e-16</td>\n",
       "      <td>6.650381e-16</td>\n",
       "      <td>3.112493e-17</td>\n",
       "      <td>2.442832e-16</td>\n",
       "      <td>...</td>\n",
       "      <td>-2.203077e-17</td>\n",
       "      <td>-5.026211e-17</td>\n",
       "      <td>-4.030363e-17</td>\n",
       "      <td>4.911594e-17</td>\n",
       "      <td>6.713514e-17</td>\n",
       "      <td>4.160011e-17</td>\n",
       "      <td>-5.148343e-17</td>\n",
       "      <td>2.324270e-17</td>\n",
       "      <td>3.370849e-17</td>\n",
       "      <td>3.848105e-17</td>\n",
       "    </tr>\n",
       "    <tr>\n",
       "      <th>std</th>\n",
       "      <td>1.000003e+00</td>\n",
       "      <td>1.000003e+00</td>\n",
       "      <td>1.000003e+00</td>\n",
       "      <td>1.000003e+00</td>\n",
       "      <td>1.000003e+00</td>\n",
       "      <td>1.000003e+00</td>\n",
       "      <td>1.000003e+00</td>\n",
       "      <td>1.000003e+00</td>\n",
       "      <td>1.000003e+00</td>\n",
       "      <td>1.000003e+00</td>\n",
       "      <td>...</td>\n",
       "      <td>1.000003e+00</td>\n",
       "      <td>1.000003e+00</td>\n",
       "      <td>1.000003e+00</td>\n",
       "      <td>1.000003e+00</td>\n",
       "      <td>1.000003e+00</td>\n",
       "      <td>1.000003e+00</td>\n",
       "      <td>1.000003e+00</td>\n",
       "      <td>1.000003e+00</td>\n",
       "      <td>1.000003e+00</td>\n",
       "      <td>1.000003e+00</td>\n",
       "    </tr>\n",
       "    <tr>\n",
       "      <th>min</th>\n",
       "      <td>-9.829129e-01</td>\n",
       "      <td>-2.968603e+00</td>\n",
       "      <td>-1.541693e+00</td>\n",
       "      <td>-3.136269e+00</td>\n",
       "      <td>-8.617748e-01</td>\n",
       "      <td>-3.667909e+00</td>\n",
       "      <td>-2.410365e+00</td>\n",
       "      <td>-3.148844e+00</td>\n",
       "      <td>-4.158231e-01</td>\n",
       "      <td>-4.275040e+00</td>\n",
       "      <td>...</td>\n",
       "      <td>-1.893727e-01</td>\n",
       "      <td>-1.822596e-01</td>\n",
       "      <td>-2.131760e-01</td>\n",
       "      <td>-2.210030e-01</td>\n",
       "      <td>-3.043770e-01</td>\n",
       "      <td>-2.002391e-01</td>\n",
       "      <td>-1.994807e-01</td>\n",
       "      <td>-3.706281e-01</td>\n",
       "      <td>-5.073212e-01</td>\n",
       "      <td>-1.210046e+00</td>\n",
       "    </tr>\n",
       "    <tr>\n",
       "      <th>25%</th>\n",
       "      <td>-6.899229e-01</td>\n",
       "      <td>-6.907823e-01</td>\n",
       "      <td>-6.998868e-01</td>\n",
       "      <td>-6.839963e-01</td>\n",
       "      <td>-8.617748e-01</td>\n",
       "      <td>-2.778056e-01</td>\n",
       "      <td>-7.202951e-01</td>\n",
       "      <td>-7.560665e-01</td>\n",
       "      <td>-4.158231e-01</td>\n",
       "      <td>-5.143845e-01</td>\n",
       "      <td>...</td>\n",
       "      <td>-1.893727e-01</td>\n",
       "      <td>-1.822596e-01</td>\n",
       "      <td>-2.131760e-01</td>\n",
       "      <td>-2.210030e-01</td>\n",
       "      <td>-3.043770e-01</td>\n",
       "      <td>-2.002391e-01</td>\n",
       "      <td>-1.994807e-01</td>\n",
       "      <td>-3.706281e-01</td>\n",
       "      <td>-5.073212e-01</td>\n",
       "      <td>-1.210046e+00</td>\n",
       "    </tr>\n",
       "    <tr>\n",
       "      <th>50%</th>\n",
       "      <td>-3.806037e-01</td>\n",
       "      <td>-2.074440e-01</td>\n",
       "      <td>-2.267679e-01</td>\n",
       "      <td>-6.296614e-02</td>\n",
       "      <td>-9.168695e-02</td>\n",
       "      <td>5.697203e-01</td>\n",
       "      <td>-1.531912e-01</td>\n",
       "      <td>8.581993e-03</td>\n",
       "      <td>-4.158231e-01</td>\n",
       "      <td>7.391671e-01</td>\n",
       "      <td>...</td>\n",
       "      <td>-1.893727e-01</td>\n",
       "      <td>-1.822596e-01</td>\n",
       "      <td>-2.131760e-01</td>\n",
       "      <td>-2.210030e-01</td>\n",
       "      <td>-3.043770e-01</td>\n",
       "      <td>-2.002391e-01</td>\n",
       "      <td>-1.994807e-01</td>\n",
       "      <td>-3.706281e-01</td>\n",
       "      <td>-5.073212e-01</td>\n",
       "      <td>8.264146e-01</td>\n",
       "    </tr>\n",
       "    <tr>\n",
       "      <th>75%</th>\n",
       "      <td>2.836096e-01</td>\n",
       "      <td>5.193869e-01</td>\n",
       "      <td>4.021168e-01</td>\n",
       "      <td>5.102925e-01</td>\n",
       "      <td>1.650090e-01</td>\n",
       "      <td>5.697203e-01</td>\n",
       "      <td>5.862923e-01</td>\n",
       "      <td>7.836339e-01</td>\n",
       "      <td>-4.158231e-01</td>\n",
       "      <td>7.391671e-01</td>\n",
       "      <td>...</td>\n",
       "      <td>-1.893727e-01</td>\n",
       "      <td>-1.822596e-01</td>\n",
       "      <td>-2.131760e-01</td>\n",
       "      <td>-2.210030e-01</td>\n",
       "      <td>-3.043770e-01</td>\n",
       "      <td>-2.002391e-01</td>\n",
       "      <td>-1.994807e-01</td>\n",
       "      <td>-3.706281e-01</td>\n",
       "      <td>-5.073212e-01</td>\n",
       "      <td>8.264146e-01</td>\n",
       "    </tr>\n",
       "    <tr>\n",
       "      <th>max</th>\n",
       "      <td>3.195775e+00</td>\n",
       "      <td>4.143399e+00</td>\n",
       "      <td>3.701777e+00</td>\n",
       "      <td>3.949844e+00</td>\n",
       "      <td>5.170580e+00</td>\n",
       "      <td>5.697203e-01</td>\n",
       "      <td>4.372398e+00</td>\n",
       "      <td>5.361121e+00</td>\n",
       "      <td>7.908332e+00</td>\n",
       "      <td>7.391671e-01</td>\n",
       "      <td>...</td>\n",
       "      <td>5.280593e+00</td>\n",
       "      <td>5.486678e+00</td>\n",
       "      <td>4.690960e+00</td>\n",
       "      <td>4.524826e+00</td>\n",
       "      <td>3.285399e+00</td>\n",
       "      <td>4.994029e+00</td>\n",
       "      <td>5.013015e+00</td>\n",
       "      <td>2.698123e+00</td>\n",
       "      <td>1.971138e+00</td>\n",
       "      <td>8.264146e-01</td>\n",
       "    </tr>\n",
       "  </tbody>\n",
       "</table>\n",
       "<p>8 rows × 50 columns</p>\n",
       "</div>"
      ],
      "text/plain": [
       "       MinorityRatio  CensusTractMedFamIncome  MonthlyIncome  HUDMedIncome   \n",
       "count   1.890790e+05             1.890790e+05   1.890790e+05  1.890790e+05  \\\n",
       "mean   -2.335544e-16             4.329118e-17   6.898592e-17 -1.819958e-16   \n",
       "std     1.000003e+00             1.000003e+00   1.000003e+00  1.000003e+00   \n",
       "min    -9.829129e-01            -2.968603e+00  -1.541693e+00 -3.136269e+00   \n",
       "25%    -6.899229e-01            -6.907823e-01  -6.998868e-01 -6.839963e-01   \n",
       "50%    -3.806037e-01            -2.074440e-01  -2.267679e-01 -6.296614e-02   \n",
       "75%     2.836096e-01             5.193869e-01   4.021168e-01  5.102925e-01   \n",
       "max     3.195775e+00             4.143399e+00   3.701777e+00  3.949844e+00   \n",
       "\n",
       "                LTV  PaymentCount  HousingExpense   DebtExpense           PMI   \n",
       "count  1.890790e+05  1.890790e+05    1.890790e+05  1.890790e+05  1.890790e+05  \\\n",
       "mean   6.964825e-16  2.689164e-16    1.323913e-16  6.650381e-16  3.112493e-17   \n",
       "std    1.000003e+00  1.000003e+00    1.000003e+00  1.000003e+00  1.000003e+00   \n",
       "min   -8.617748e-01 -3.667909e+00   -2.410365e+00 -3.148844e+00 -4.158231e-01   \n",
       "25%   -8.617748e-01 -2.778056e-01   -7.202951e-01 -7.560665e-01 -4.158231e-01   \n",
       "50%   -9.168695e-02  5.697203e-01   -1.531912e-01  8.581993e-03 -4.158231e-01   \n",
       "75%    1.650090e-01  5.697203e-01    5.862923e-01  7.836339e-01 -4.158231e-01   \n",
       "max    5.170580e+00  5.697203e-01    4.372398e+00  5.361121e+00  7.908332e+00   \n",
       "\n",
       "       CreditScore1  ...      State_26      State_27      State_29   \n",
       "count  1.890790e+05  ...  1.890790e+05  1.890790e+05  1.890790e+05  \\\n",
       "mean   2.442832e-16  ... -2.203077e-17 -5.026211e-17 -4.030363e-17   \n",
       "std    1.000003e+00  ...  1.000003e+00  1.000003e+00  1.000003e+00   \n",
       "min   -4.275040e+00  ... -1.893727e-01 -1.822596e-01 -2.131760e-01   \n",
       "25%   -5.143845e-01  ... -1.893727e-01 -1.822596e-01 -2.131760e-01   \n",
       "50%    7.391671e-01  ... -1.893727e-01 -1.822596e-01 -2.131760e-01   \n",
       "75%    7.391671e-01  ... -1.893727e-01 -1.822596e-01 -2.131760e-01   \n",
       "max    7.391671e-01  ...  5.280593e+00  5.486678e+00  4.690960e+00   \n",
       "\n",
       "           State_31      State_39      State_42      State_48      State_55   \n",
       "count  1.890790e+05  1.890790e+05  1.890790e+05  1.890790e+05  1.890790e+05  \\\n",
       "mean   4.911594e-17  6.713514e-17  4.160011e-17 -5.148343e-17  2.324270e-17   \n",
       "std    1.000003e+00  1.000003e+00  1.000003e+00  1.000003e+00  1.000003e+00   \n",
       "min   -2.210030e-01 -3.043770e-01 -2.002391e-01 -1.994807e-01 -3.706281e-01   \n",
       "25%   -2.210030e-01 -3.043770e-01 -2.002391e-01 -1.994807e-01 -3.706281e-01   \n",
       "50%   -2.210030e-01 -3.043770e-01 -2.002391e-01 -1.994807e-01 -3.706281e-01   \n",
       "75%   -2.210030e-01 -3.043770e-01 -2.002391e-01 -1.994807e-01 -3.706281e-01   \n",
       "max    4.524826e+00  3.285399e+00  4.994029e+00  5.013015e+00  2.698123e+00   \n",
       "\n",
       "       State_infrequent_sklearn  Borrower2Dummy  \n",
       "count              1.890790e+05    1.890790e+05  \n",
       "mean               3.370849e-17    3.848105e-17  \n",
       "std                1.000003e+00    1.000003e+00  \n",
       "min               -5.073212e-01   -1.210046e+00  \n",
       "25%               -5.073212e-01   -1.210046e+00  \n",
       "50%               -5.073212e-01    8.264146e-01  \n",
       "75%               -5.073212e-01    8.264146e-01  \n",
       "max                1.971138e+00    8.264146e-01  \n",
       "\n",
       "[8 rows x 50 columns]"
      ]
     },
     "execution_count": 21,
     "metadata": {},
     "output_type": "execute_result"
    }
   ],
   "source": [
    "# input variables\n",
    "ss = StandardScaler()\n",
    "X_train = ss.fit_transform(X)\n",
    "X_test = ss.transform(X_test)\n",
    "X = pd.DataFrame(X_train, columns=data.columns)\n",
    "X_test = pd.DataFrame(X_test, columns=data.columns)\n",
    "X.describe()"
   ]
  },
  {
   "cell_type": "code",
   "execution_count": 22,
   "id": "3df57709",
   "metadata": {
    "collapsed": true
   },
   "outputs": [
    {
     "data": {
      "text/plain": [
       "count    1.890790e+05\n",
       "mean    -1.981173e-16\n",
       "std      1.000003e+00\n",
       "min     -2.684678e+00\n",
       "25%     -7.623710e-01\n",
       "50%     -1.856790e-01\n",
       "75%      5.832437e-01\n",
       "max      4.427857e+00\n",
       "dtype: float64"
      ]
     },
     "execution_count": 22,
     "metadata": {},
     "output_type": "execute_result"
    }
   ],
   "source": [
    "# dependent variables\n",
    "ss_y = StandardScaler()\n",
    "y = ss_y.fit_transform(np.array(y).reshape(-1, 1))\n",
    "y_test = ss_y.transform(np.array(y_test).reshape(-1, 1))\n",
    "pd.Series(y.flatten()).describe()"
   ]
  },
  {
   "cell_type": "markdown",
   "id": "8967ee6d",
   "metadata": {},
   "source": [
    "# no VARIABLE SELECTION APPLICATIONS \n"
   ]
  },
  {
   "cell_type": "markdown",
   "id": "d588821a",
   "metadata": {},
   "source": [
    "# TODO: Scoring Methods\n",
    "\n",
    "We define a helper function to save the scores for each model and make a final comparison.\n",
    "\n",
    "The metrics we will analyse are: \n",
    "- MSE: Mean Squared Error\n",
    "- MAE: Mean Absolute Error\n",
    "- MR: Mean Residual\n",
    "- **R2 ???????**\n",
    "- **FAIRNESS QUALCOSA!!! TODO!!**\n",
    "\n",
    "# PRENDERE DA ONE NOTE !!!!"
   ]
  },
  {
   "cell_type": "code",
   "execution_count": 23,
   "id": "3ff86bd4",
   "metadata": {},
   "outputs": [],
   "source": [
    "from sklearn.metrics import mean_squared_error, r2_score, mean_absolute_error\n",
    "\n",
    "\n",
    "def mean_residual(y_true, prediction):\n",
    "    '''Compute the mean residual metric'''\n",
    "    residuals = (y_true - prediction)\n",
    "    MR = residuals.mean()\n",
    "    return MR\n",
    "\n",
    "\n",
    "def compute_scores(x, y_true, y_pred):\n",
    "    '''Compute the following metrics for the given model: MSE, MAE, MR, r2'''\n",
    "    y_true = y_true.reshape(y_pred.shape)\n",
    "\n",
    "    MSE = mean_squared_error(y_true, y_pred)\n",
    "    print(f\"MSE: {MSE:.4f}\")\n",
    "    MAE = mean_absolute_error(y_true, y_pred)\n",
    "    print(f\"MAE: {MAE:.4f}\")\n",
    "    MR = mean_residual(y_true, y_pred)\n",
    "    print(f\"MR: {MR:.4f}\")\n",
    "    R2 = r2_score(y_true, y_pred)\n",
    "    adj_R2 = 1- ((1-R2) * (x.shape[0]-1)/(x.shape[0]-x.shape[1]-1))\n",
    "    print(f\"adj-R2: {adj_R2:.4f}\")\n",
    "    return [MSE, MAE, MR, adj_R2]\n",
    "\n",
    "\n",
    "def save_scores(model, scores):\n",
    "    '''Store scores for the given model into a dedicated dataframe for a final comparison across models'''\n",
    "    MSE, MAE, MR, r2 = scores\n",
    "    pd.Series(scores).to_csv('scores/'+model)\n",
    "    model_names.append(model)\n",
    "    MSEs.append(MSE)\n",
    "    MAEs.append(MAE)\n",
    "    MRs.append(MR)\n",
    "    r2s.append(r2)\n",
    "    \n",
    "\n",
    "def display_scores():\n",
    "    scores_df = pd.DataFrame([model_names, MSEs, MAEs, MRs, r2s], \n",
    "                 index=['method', 'MSE', 'MAE', 'MR', 'adj R-squared']).T\n",
    "    return scores_df"
   ]
  },
  {
   "cell_type": "code",
   "execution_count": 24,
   "id": "2df619b4",
   "metadata": {},
   "outputs": [],
   "source": [
    "model_names, MSEs, MAEs, MRs, r2s = [],[],[],[],[]"
   ]
  },
  {
   "cell_type": "code",
   "execution_count": 25,
   "id": "6322c5c7",
   "metadata": {},
   "outputs": [],
   "source": [
    "def export_pred(y_pred_std, model, scaler=ss_y):\n",
    "    '''Reverts model predictions to the original scale of the input data and then saves it to a csv file'''\n",
    "\n",
    "    y_pred = scaler.inverse_transform(np.array(y_pred_std, ndmin=2)).flatten()\n",
    "    np.savetxt('predictions/'+str(model)+'_pred.csv', y_pred, delimiter=\",\")"
   ]
  },
  {
   "cell_type": "markdown",
   "id": "42c2808f",
   "metadata": {},
   "source": [
    "# MODELS\n",
    "\n",
    "# 1. Linear Regression"
   ]
  },
  {
   "cell_type": "code",
   "execution_count": 26,
   "id": "777b19bb",
   "metadata": {},
   "outputs": [],
   "source": [
    "import statsmodels.api as sm"
   ]
  },
  {
   "cell_type": "code",
   "execution_count": 27,
   "id": "6991e9bb",
   "metadata": {},
   "outputs": [
    {
     "name": "stdout",
     "output_type": "stream",
     "text": [
      "                            OLS Regression Results                            \n",
      "==============================================================================\n",
      "Dep. Variable:                      y   R-squared:                       0.704\n",
      "Model:                            OLS   Adj. R-squared:                  0.704\n",
      "Method:                 Least Squares   F-statistic:                     9997.\n",
      "Date:                Thu, 28 Sep 2023   Prob (F-statistic):               0.00\n",
      "Time:                        15:54:20   Log-Likelihood:            -1.5316e+05\n",
      "No. Observations:              189079   AIC:                         3.064e+05\n",
      "Df Residuals:                  189033   BIC:                         3.069e+05\n",
      "Df Model:                          45                                         \n",
      "Covariance Type:            nonrobust                                         \n",
      "===================================================================================================\n",
      "                                      coef    std err          t      P>|t|      [0.025      0.975]\n",
      "---------------------------------------------------------------------------------------------------\n",
      "const                               0.0001      0.002      0.082      0.934      -0.003       0.003\n",
      "MinorityRatio                       0.0336      0.002     20.551      0.000       0.030       0.037\n",
      "CensusTractMedFamIncome             0.0111      0.002      6.476      0.000       0.008       0.014\n",
      "MonthlyIncome                       0.0436      0.003     17.218      0.000       0.039       0.049\n",
      "HUDMedIncome                       -0.0020      0.002     -1.141      0.254      -0.005       0.001\n",
      "LTV                                 0.0439      0.003     12.960      0.000       0.037       0.051\n",
      "PaymentCount                        0.2964      0.001    198.971      0.000       0.294       0.299\n",
      "HousingExpense                      0.0462      0.002     20.595      0.000       0.042       0.051\n",
      "DebtExpense                         0.0332      0.002     19.777      0.000       0.030       0.036\n",
      "PMI                                -0.0422      0.003    -15.810      0.000      -0.047      -0.037\n",
      "CreditScore1                       -0.0810      0.001    -55.040      0.000      -0.084      -0.078\n",
      "CreditScore2                       -0.1003      0.005    -18.315      0.000      -0.111      -0.090\n",
      "NoteDate                           -0.5764      0.001   -416.227      0.000      -0.579      -0.574\n",
      "NoteAmount                         -0.0617      0.003    -23.864      0.000      -0.067      -0.057\n",
      "BorrowerCount                       0.0094      0.013      0.695      0.487      -0.017       0.036\n",
      "FirstTime                           0.1395      0.001     93.232      0.000       0.137       0.142\n",
      "SelfEmployed                        0.1460      0.001    105.142      0.000       0.143       0.149\n",
      "Bank_Boston                     -3.228e+10   2.46e+10     -1.314      0.189   -8.04e+10    1.59e+10\n",
      "Bank_Chicago                    -8.229e+10   6.26e+10     -1.314      0.189   -2.05e+11    4.05e+10\n",
      "Bank_Cincinnati                 -6.317e+10   4.81e+10     -1.314      0.189   -1.57e+11    3.11e+10\n",
      "Bank_Dallas                     -4.793e+10   3.65e+10     -1.314      0.189   -1.19e+11    2.36e+10\n",
      "Bank_Des Moines                 -6.745e+10   5.13e+10     -1.314      0.189   -1.68e+11    3.32e+10\n",
      "Bank_Indianapolis                 -5.8e+10   4.42e+10     -1.314      0.189   -1.45e+11    2.85e+10\n",
      "Bank_Pittsburgh                 -4.579e+10   3.49e+10     -1.314      0.189   -1.14e+11    2.25e+10\n",
      "Bank_Topeka                     -7.103e+10   5.41e+10     -1.314      0.189   -1.77e+11    3.49e+10\n",
      "Bank_infrequent_sklearn         -3.487e+10   2.65e+10     -1.314      0.189   -8.69e+10    1.72e+10\n",
      "LoanPurpose_1                   -7.253e+10   2.72e+11     -0.267      0.790   -6.06e+11    4.61e+11\n",
      "LoanPurpose_2                   -7.122e+10   2.67e+11     -0.267      0.790   -5.95e+11    4.52e+11\n",
      "LoanPurpose_6                   -7.251e+10   2.72e+11     -0.267      0.790   -6.05e+11     4.6e+11\n",
      "MortgageType_0                   9.202e+10   6.08e+10      1.513      0.130   -2.72e+10    2.11e+11\n",
      "MortgageType_infrequent_sklearn  9.202e+10   6.08e+10      1.513      0.130   -2.72e+10    2.11e+11\n",
      "PropertyType_1                  -5.238e+10   1.22e+11     -0.428      0.668   -2.92e+11    1.87e+11\n",
      "PropertyType_6                  -2.589e+10   6.04e+10     -0.428      0.668   -1.44e+11    9.26e+10\n",
      "PropertyType_7                  -4.577e+10   1.07e+11     -0.428      0.668   -2.55e+11    1.64e+11\n",
      "PropertyType_infrequent_sklearn -1.633e+10   3.81e+10     -0.428      0.668    -9.1e+10    5.84e+10\n",
      "State_6                         -3.411e+10   2.92e+10     -1.170      0.242   -9.13e+10     2.3e+10\n",
      "State_8                         -3.342e+10   2.86e+10     -1.170      0.242   -8.94e+10    2.26e+10\n",
      "State_17                        -6.115e+10   5.23e+10     -1.170      0.242   -1.64e+11    4.13e+10\n",
      "State_18                        -5.562e+10   4.75e+10     -1.170      0.242   -1.49e+11    3.76e+10\n",
      "State_19                        -4.868e+10   4.16e+10     -1.170      0.242    -1.3e+11    3.29e+10\n",
      "State_20                        -4.942e+10   4.22e+10     -1.170      0.242   -1.32e+11    3.34e+10\n",
      "State_26                        -3.749e+10   3.21e+10     -1.170      0.242      -1e+11    2.53e+10\n",
      "State_27                        -3.618e+10   3.09e+10     -1.170      0.242   -9.68e+10    2.44e+10\n",
      "State_29                        -4.182e+10   3.58e+10     -1.170      0.242   -1.12e+11    2.83e+10\n",
      "State_31                        -4.322e+10   3.69e+10     -1.170      0.242   -1.16e+11    2.92e+10\n",
      "State_39                        -5.713e+10   4.88e+10     -1.170      0.242   -1.53e+11    3.86e+10\n",
      "State_42                        -3.948e+10   3.38e+10     -1.170      0.242   -1.06e+11    2.67e+10\n",
      "State_48                        -3.935e+10   3.36e+10     -1.170      0.242   -1.05e+11    2.66e+10\n",
      "State_55                        -6.683e+10   5.71e+10     -1.170      0.242   -1.79e+11    4.51e+10\n",
      "State_infrequent_sklearn        -8.275e+10   7.07e+10     -1.170      0.242   -2.21e+11    5.59e+10\n",
      "Borrower2Dummy                     -0.1105      0.015     -7.612      0.000      -0.139      -0.082\n",
      "==============================================================================\n",
      "Omnibus:                     2696.905   Durbin-Watson:                   1.999\n",
      "Prob(Omnibus):                  0.000   Jarque-Bera (JB):             4114.373\n",
      "Skew:                           0.154   Prob(JB):                         0.00\n",
      "Kurtosis:                       3.653   Cond. No.                     7.57e+14\n",
      "==============================================================================\n",
      "\n",
      "Notes:\n",
      "[1] Standard Errors assume that the covariance matrix of the errors is correctly specified.\n",
      "[2] The smallest eigenvalue is 1.33e-24. This might indicate that there are\n",
      "strong multicollinearity problems or that the design matrix is singular.\n"
     ]
    }
   ],
   "source": [
    "#add constant to predictor variables\n",
    "x = sm.add_constant(X)\n",
    "#fit linear regression model\n",
    "lr = sm.OLS(y, x).fit()\n",
    "\n",
    "#view model summary\n",
    "print(lr.summary())"
   ]
  },
  {
   "cell_type": "code",
   "execution_count": 29,
   "id": "8868e892",
   "metadata": {},
   "outputs": [
    {
     "name": "stdout",
     "output_type": "stream",
     "text": [
      "MSE: 0.2977\n",
      "MAE: 0.4264\n",
      "MR: 0.0004\n",
      "adj-R2: 0.7066\n"
     ]
    }
   ],
   "source": [
    "X_TEST = sm.add_constant(X_test)\n",
    "lr_pred = lr.predict(X_TEST)\n",
    "scores = compute_scores(X_TEST, y_test, lr_pred)\n",
    "save_scores('LinearRegression', scores)"
   ]
  },
  {
   "cell_type": "code",
   "execution_count": 31,
   "id": "4a4a6711",
   "metadata": {},
   "outputs": [],
   "source": [
    "export_pred(lr_pred, 'LinearRegression')"
   ]
  },
  {
   "cell_type": "markdown",
   "id": "cbc1f6d5",
   "metadata": {},
   "source": [
    "# 2. RANSAC\n",
    "\n",
    "https://scikit-learn.org/stable/auto_examples/linear_model/plot_ransac.html#sphx-glr-auto-examples-linear-model-plot-ransac-py"
   ]
  },
  {
   "cell_type": "code",
   "execution_count": 32,
   "id": "a950f4dd",
   "metadata": {},
   "outputs": [],
   "source": [
    "from sklearn import linear_model"
   ]
  },
  {
   "cell_type": "code",
   "execution_count": 33,
   "id": "9f09f2a9",
   "metadata": {},
   "outputs": [],
   "source": [
    "# Robustly fit linear model with RANSAC algorithm to avoid outlier interference\n",
    "ransac = linear_model.RANSACRegressor().fit(X, y)"
   ]
  },
  {
   "cell_type": "code",
   "execution_count": 34,
   "id": "929f511f",
   "metadata": {},
   "outputs": [
    {
     "name": "stdout",
     "output_type": "stream",
     "text": [
      "MSE: 0.4419\n",
      "MAE: 0.5137\n",
      "MR: 0.1112\n",
      "adj-R2: 0.5646\n"
     ]
    }
   ],
   "source": [
    "ransac_pred = ransac.predict(X_test)\n",
    "scores = compute_scores(X_test, y_test, ransac_pred)\n",
    "save_scores('RANSAC', scores)"
   ]
  },
  {
   "cell_type": "code",
   "execution_count": 35,
   "id": "cee8e3f3",
   "metadata": {},
   "outputs": [],
   "source": [
    "export_pred(ransac_pred, 'RANSAC')"
   ]
  },
  {
   "cell_type": "markdown",
   "id": "3d54f7c1",
   "metadata": {},
   "source": [
    "# 5. Random Forest"
   ]
  },
  {
   "cell_type": "code",
   "execution_count": 40,
   "id": "2d6cd973",
   "metadata": {},
   "outputs": [],
   "source": [
    "from sklearn.model_selection import GridSearchCV\n",
    "from sklearn.ensemble import RandomForestRegressor"
   ]
  },
  {
   "cell_type": "markdown",
   "id": "be4e53bf",
   "metadata": {},
   "source": [
    "## GRIDSEARCH CV\n",
    "\n",
    "https://www.researchgate.net/publication/230766603_How_Many_Trees_in_a_Random_Forest citare !! per numero di trees:\n",
    "\n",
    "\"The analysis of 29 datasets shows that from128 trees there is no more signiﬁcant diﬀerence between the forests using 256, 512,1024, 2048 and 4096 trees. The mean and the median AUC values do not presentmajor changes from 64 trees. Therefore, it is possible to suggest, based on the ex-periments, a range between 64 and 128 trees in a forest\""
   ]
  },
  {
   "cell_type": "code",
   "execution_count": null,
   "id": "fd90b118",
   "metadata": {
    "scrolled": true
   },
   "outputs": [
    {
     "name": "stdout",
     "output_type": "stream",
     "text": [
      "Fitting 5 folds for each of 64 candidates, totalling 320 fits\n",
      "[CV] END ........................max_depth=5, n_estimators=2; total time=   0.6s\n",
      "[CV] END ........................max_depth=5, n_estimators=2; total time=   0.6s\n",
      "[CV] END ........................max_depth=5, n_estimators=2; total time=   0.6s\n",
      "[CV] END ........................max_depth=5, n_estimators=2; total time=   0.6s\n",
      "[CV] END ........................max_depth=5, n_estimators=2; total time=   0.6s\n",
      "[CV] END ........................max_depth=5, n_estimators=4; total time=   1.2s\n",
      "[CV] END ........................max_depth=5, n_estimators=4; total time=   1.2s\n",
      "[CV] END ........................max_depth=5, n_estimators=4; total time=   1.2s\n",
      "[CV] END ........................max_depth=5, n_estimators=4; total time=   1.2s\n",
      "[CV] END ........................max_depth=5, n_estimators=4; total time=   1.2s\n",
      "[CV] END ........................max_depth=5, n_estimators=8; total time=   2.3s\n",
      "[CV] END ........................max_depth=5, n_estimators=8; total time=   2.3s\n",
      "[CV] END ........................max_depth=5, n_estimators=8; total time=   2.3s\n",
      "[CV] END ........................max_depth=5, n_estimators=8; total time=   2.3s\n",
      "[CV] END ........................max_depth=5, n_estimators=8; total time=   2.3s\n",
      "[CV] END .......................max_depth=5, n_estimators=16; total time=   4.7s\n",
      "[CV] END .......................max_depth=5, n_estimators=16; total time=   4.6s\n",
      "[CV] END .......................max_depth=5, n_estimators=16; total time=   4.6s\n",
      "[CV] END .......................max_depth=5, n_estimators=16; total time=   4.6s\n",
      "[CV] END .......................max_depth=5, n_estimators=16; total time=   4.6s\n",
      "[CV] END .......................max_depth=5, n_estimators=32; total time=   9.3s\n",
      "[CV] END .......................max_depth=5, n_estimators=32; total time=   9.3s\n",
      "[CV] END .......................max_depth=5, n_estimators=32; total time=   9.5s\n",
      "[CV] END .......................max_depth=5, n_estimators=32; total time=   9.5s\n",
      "[CV] END .......................max_depth=5, n_estimators=32; total time=   9.6s\n",
      "[CV] END .......................max_depth=5, n_estimators=64; total time=  19.4s\n",
      "[CV] END .......................max_depth=5, n_estimators=64; total time=  19.0s\n",
      "[CV] END .......................max_depth=5, n_estimators=64; total time=  19.2s\n",
      "[CV] END .......................max_depth=5, n_estimators=64; total time=  19.1s\n",
      "[CV] END .......................max_depth=5, n_estimators=64; total time=  19.4s\n",
      "[CV] END .......................max_depth=5, n_estimators=96; total time=  28.9s\n",
      "[CV] END .......................max_depth=5, n_estimators=96; total time=  28.6s\n",
      "[CV] END .......................max_depth=5, n_estimators=96; total time=  28.8s\n",
      "[CV] END .......................max_depth=5, n_estimators=96; total time=  28.7s\n",
      "[CV] END .......................max_depth=5, n_estimators=96; total time=  28.3s\n",
      "[CV] END ......................max_depth=5, n_estimators=128; total time=  37.7s\n",
      "[CV] END ......................max_depth=5, n_estimators=128; total time=  37.7s\n",
      "[CV] END ......................max_depth=5, n_estimators=128; total time=  37.7s\n",
      "[CV] END ......................max_depth=5, n_estimators=128; total time=  37.7s\n",
      "[CV] END ......................max_depth=5, n_estimators=128; total time=  37.7s\n",
      "[CV] END .......................max_depth=10, n_estimators=2; total time=   1.2s\n",
      "[CV] END .......................max_depth=10, n_estimators=2; total time=   1.2s\n",
      "[CV] END .......................max_depth=10, n_estimators=2; total time=   1.2s\n",
      "[CV] END .......................max_depth=10, n_estimators=2; total time=   1.2s\n",
      "[CV] END .......................max_depth=10, n_estimators=2; total time=   1.2s\n",
      "[CV] END .......................max_depth=10, n_estimators=4; total time=   2.3s\n",
      "[CV] END .......................max_depth=10, n_estimators=4; total time=   2.3s\n",
      "[CV] END .......................max_depth=10, n_estimators=4; total time=   2.3s\n",
      "[CV] END .......................max_depth=10, n_estimators=4; total time=   2.3s\n",
      "[CV] END .......................max_depth=10, n_estimators=4; total time=   2.3s\n",
      "[CV] END .......................max_depth=10, n_estimators=8; total time=   4.6s\n",
      "[CV] END .......................max_depth=10, n_estimators=8; total time=   4.6s\n",
      "[CV] END .......................max_depth=10, n_estimators=8; total time=   4.6s\n",
      "[CV] END .......................max_depth=10, n_estimators=8; total time=   4.6s\n",
      "[CV] END .......................max_depth=10, n_estimators=8; total time=   4.6s\n",
      "[CV] END ......................max_depth=10, n_estimators=16; total time=   9.2s\n",
      "[CV] END ......................max_depth=10, n_estimators=16; total time=   9.2s\n",
      "[CV] END ......................max_depth=10, n_estimators=16; total time=   9.2s\n",
      "[CV] END ......................max_depth=10, n_estimators=16; total time=   9.2s\n",
      "[CV] END ......................max_depth=10, n_estimators=16; total time=   9.3s\n",
      "[CV] END ......................max_depth=10, n_estimators=32; total time=  18.6s\n",
      "[CV] END ......................max_depth=10, n_estimators=32; total time=  18.7s\n",
      "[CV] END ......................max_depth=10, n_estimators=32; total time=  18.7s\n",
      "[CV] END ......................max_depth=10, n_estimators=32; total time=  18.6s\n",
      "[CV] END ......................max_depth=10, n_estimators=32; total time=  18.6s\n",
      "[CV] END ......................max_depth=10, n_estimators=64; total time=  37.3s\n",
      "[CV] END ......................max_depth=10, n_estimators=64; total time=  37.4s\n",
      "[CV] END ......................max_depth=10, n_estimators=64; total time=  37.2s\n",
      "[CV] END ......................max_depth=10, n_estimators=64; total time=  36.7s\n",
      "[CV] END ......................max_depth=10, n_estimators=64; total time=  37.4s\n",
      "[CV] END ......................max_depth=10, n_estimators=96; total time=  55.2s\n",
      "[CV] END ......................max_depth=10, n_estimators=96; total time=  56.0s\n",
      "[CV] END ......................max_depth=10, n_estimators=96; total time=  55.9s\n",
      "[CV] END ......................max_depth=10, n_estimators=96; total time=  55.7s\n",
      "[CV] END ......................max_depth=10, n_estimators=96; total time=  55.7s\n",
      "[CV] END .....................max_depth=10, n_estimators=128; total time= 1.2min\n",
      "[CV] END .....................max_depth=10, n_estimators=128; total time= 1.2min\n",
      "[CV] END .....................max_depth=10, n_estimators=128; total time= 1.2min\n",
      "[CV] END .....................max_depth=10, n_estimators=128; total time= 1.3min\n",
      "[CV] END .....................max_depth=10, n_estimators=128; total time= 1.3min\n",
      "[CV] END .......................max_depth=15, n_estimators=2; total time=   1.6s\n",
      "[CV] END .......................max_depth=15, n_estimators=2; total time=   1.7s\n",
      "[CV] END .......................max_depth=15, n_estimators=2; total time=   1.6s\n",
      "[CV] END .......................max_depth=15, n_estimators=2; total time=   1.7s\n",
      "[CV] END .......................max_depth=15, n_estimators=2; total time=   1.6s\n",
      "[CV] END .......................max_depth=15, n_estimators=4; total time=   3.2s\n",
      "[CV] END .......................max_depth=15, n_estimators=4; total time=   3.2s\n",
      "[CV] END .......................max_depth=15, n_estimators=4; total time=   3.2s\n",
      "[CV] END .......................max_depth=15, n_estimators=4; total time=   3.2s\n",
      "[CV] END .......................max_depth=15, n_estimators=4; total time=   3.2s\n",
      "[CV] END .......................max_depth=15, n_estimators=8; total time=   6.4s\n",
      "[CV] END .......................max_depth=15, n_estimators=8; total time=   6.5s\n",
      "[CV] END .......................max_depth=15, n_estimators=8; total time=   6.6s\n",
      "[CV] END .......................max_depth=15, n_estimators=8; total time=   6.5s\n",
      "[CV] END .......................max_depth=15, n_estimators=8; total time=   6.5s\n",
      "[CV] END ......................max_depth=15, n_estimators=16; total time=  13.1s\n",
      "[CV] END ......................max_depth=15, n_estimators=16; total time=  13.3s\n",
      "[CV] END ......................max_depth=15, n_estimators=16; total time=  13.0s\n",
      "[CV] END ......................max_depth=15, n_estimators=16; total time=  13.1s\n",
      "[CV] END ......................max_depth=15, n_estimators=16; total time=  17.7s\n",
      "[CV] END ......................max_depth=15, n_estimators=32; total time=  26.1s\n"
     ]
    },
    {
     "name": "stdout",
     "output_type": "stream",
     "text": [
      "[CV] END ......................max_depth=15, n_estimators=32; total time=  25.7s\n",
      "[CV] END ......................max_depth=15, n_estimators=32; total time=  25.7s\n",
      "[CV] END ......................max_depth=15, n_estimators=32; total time=  25.7s\n",
      "[CV] END ......................max_depth=15, n_estimators=32; total time=23.9min\n",
      "[CV] END ......................max_depth=15, n_estimators=64; total time=  50.2s\n",
      "[CV] END ......................max_depth=15, n_estimators=64; total time=  51.4s\n",
      "[CV] END ......................max_depth=15, n_estimators=64; total time=  52.3s\n",
      "[CV] END ......................max_depth=15, n_estimators=64; total time=  51.5s\n",
      "[CV] END ......................max_depth=15, n_estimators=64; total time=  51.4s\n",
      "[CV] END ......................max_depth=15, n_estimators=96; total time= 1.3min\n",
      "[CV] END ......................max_depth=15, n_estimators=96; total time= 1.3min\n",
      "[CV] END ......................max_depth=15, n_estimators=96; total time= 1.3min\n",
      "[CV] END ......................max_depth=15, n_estimators=96; total time= 1.3min\n",
      "[CV] END ......................max_depth=15, n_estimators=96; total time= 1.3min\n",
      "[CV] END .....................max_depth=15, n_estimators=128; total time= 1.7min\n",
      "[CV] END .....................max_depth=15, n_estimators=128; total time= 1.7min\n",
      "[CV] END .....................max_depth=15, n_estimators=128; total time= 1.7min\n",
      "[CV] END .....................max_depth=15, n_estimators=128; total time= 1.8min\n",
      "[CV] END .....................max_depth=15, n_estimators=128; total time= 2.0min\n",
      "[CV] END .......................max_depth=20, n_estimators=2; total time=   2.1s\n",
      "[CV] END .......................max_depth=20, n_estimators=2; total time=   2.1s\n",
      "[CV] END .......................max_depth=20, n_estimators=2; total time=   2.0s\n",
      "[CV] END .......................max_depth=20, n_estimators=2; total time=   2.0s\n",
      "[CV] END .......................max_depth=20, n_estimators=2; total time=   2.0s\n",
      "[CV] END .......................max_depth=20, n_estimators=4; total time=   4.0s\n",
      "[CV] END .......................max_depth=20, n_estimators=4; total time=   4.0s\n",
      "[CV] END .......................max_depth=20, n_estimators=4; total time=   4.0s\n",
      "[CV] END .......................max_depth=20, n_estimators=4; total time=   4.0s\n",
      "[CV] END .......................max_depth=20, n_estimators=4; total time=   4.0s\n",
      "[CV] END .......................max_depth=20, n_estimators=8; total time=   8.1s\n",
      "[CV] END .......................max_depth=20, n_estimators=8; total time=   8.0s\n",
      "[CV] END .......................max_depth=20, n_estimators=8; total time=   8.1s\n",
      "[CV] END .......................max_depth=20, n_estimators=8; total time=   8.0s\n",
      "[CV] END .......................max_depth=20, n_estimators=8; total time=   8.0s\n",
      "[CV] END ......................max_depth=20, n_estimators=16; total time=  15.9s\n",
      "[CV] END ......................max_depth=20, n_estimators=16; total time=  15.9s\n",
      "[CV] END ......................max_depth=20, n_estimators=16; total time=  16.1s\n",
      "[CV] END ......................max_depth=20, n_estimators=16; total time=  16.0s\n",
      "[CV] END ......................max_depth=20, n_estimators=16; total time=  15.9s\n",
      "[CV] END ......................max_depth=20, n_estimators=32; total time=  32.1s\n",
      "[CV] END ......................max_depth=20, n_estimators=32; total time=  32.1s\n",
      "[CV] END ......................max_depth=20, n_estimators=32; total time=  32.0s\n",
      "[CV] END ......................max_depth=20, n_estimators=32; total time=  32.9s\n",
      "[CV] END ......................max_depth=20, n_estimators=32; total time=  32.1s\n",
      "[CV] END ......................max_depth=20, n_estimators=64; total time= 1.1min\n",
      "[CV] END ......................max_depth=20, n_estimators=64; total time= 1.1min\n",
      "[CV] END ......................max_depth=20, n_estimators=64; total time= 1.1min\n",
      "[CV] END ......................max_depth=20, n_estimators=64; total time= 1.1min\n",
      "[CV] END ......................max_depth=20, n_estimators=64; total time= 1.1min\n",
      "[CV] END ......................max_depth=20, n_estimators=96; total time= 1.9min\n",
      "[CV] END ......................max_depth=20, n_estimators=96; total time= 1.7min\n",
      "[CV] END ......................max_depth=20, n_estimators=96; total time= 1.7min\n",
      "[CV] END ......................max_depth=20, n_estimators=96; total time= 1.7min\n",
      "[CV] END ......................max_depth=20, n_estimators=96; total time= 1.7min\n",
      "[CV] END .....................max_depth=20, n_estimators=128; total time= 2.3min\n",
      "[CV] END .....................max_depth=20, n_estimators=128; total time= 2.3min\n",
      "[CV] END .....................max_depth=20, n_estimators=128; total time= 2.3min\n",
      "[CV] END .....................max_depth=20, n_estimators=128; total time= 2.3min\n",
      "[CV] END .....................max_depth=20, n_estimators=128; total time= 2.3min\n",
      "[CV] END .......................max_depth=25, n_estimators=2; total time=   2.4s\n",
      "[CV] END .......................max_depth=25, n_estimators=2; total time=   2.4s\n",
      "[CV] END .......................max_depth=25, n_estimators=2; total time=   2.4s\n",
      "[CV] END .......................max_depth=25, n_estimators=2; total time=   2.4s\n",
      "[CV] END .......................max_depth=25, n_estimators=2; total time=   2.4s\n",
      "[CV] END .......................max_depth=25, n_estimators=4; total time=   4.7s\n",
      "[CV] END .......................max_depth=25, n_estimators=4; total time=   4.7s\n",
      "[CV] END .......................max_depth=25, n_estimators=4; total time=   4.8s\n",
      "[CV] END .......................max_depth=25, n_estimators=4; total time=   4.7s\n",
      "[CV] END .......................max_depth=25, n_estimators=4; total time=   4.7s\n",
      "[CV] END .......................max_depth=25, n_estimators=8; total time=   9.5s\n",
      "[CV] END .......................max_depth=25, n_estimators=8; total time=   9.5s\n",
      "[CV] END .......................max_depth=25, n_estimators=8; total time=   9.5s\n",
      "[CV] END .......................max_depth=25, n_estimators=8; total time=   9.5s\n",
      "[CV] END .......................max_depth=25, n_estimators=8; total time=   9.5s\n",
      "[CV] END ......................max_depth=25, n_estimators=16; total time=  18.9s\n",
      "[CV] END ......................max_depth=25, n_estimators=16; total time=  19.0s\n",
      "[CV] END ......................max_depth=25, n_estimators=16; total time=  18.9s\n",
      "[CV] END ......................max_depth=25, n_estimators=16; total time=  19.0s\n",
      "[CV] END ......................max_depth=25, n_estimators=16; total time=  18.9s\n"
     ]
    }
   ],
   "source": [
    "forest = GridSearchCV(\n",
    "    RandomForestRegressor(random_state=0),\n",
    "    param_grid = {'n_estimators': [2,4, 8, 16, 32, 64, 96, 128], \n",
    "                  'max_depth': range(5,45,5)},\n",
    "    scoring= 'neg_mean_squared_error',\n",
    "    verbose=2)\n",
    "\n",
    "yf= y.flatten()\n",
    "forest.fit(X,yf)\n",
    "\n",
    "print(f\"\\nBest RandomForest with params: {forest.best_params_} and MSE: {forest.best_score_:.3f}\")"
   ]
  },
  {
   "cell_type": "code",
   "execution_count": null,
   "id": "41a61000",
   "metadata": {},
   "outputs": [],
   "source": [
    "# Creating a random forest model with the selected parameters\n",
    "best_forest = RandomForestRegressor(max_depth=forest.best_params_['max_depth'], \n",
    "                                    n_estimators=forest.best_params_['n_estimators'])\n",
    "best_forest.fit(X, yf)"
   ]
  },
  {
   "cell_type": "code",
   "execution_count": null,
   "id": "83620d9e",
   "metadata": {},
   "outputs": [],
   "source": [
    "def compare_forests(cv_results, model_name='RandomForest'):\n",
    "    import matplotlib.pyplot as plt\n",
    "    import numpy as np\n",
    "\n",
    "    fig, axs = plt.subplots(1, 1, figsize=(6,5))\n",
    "    fig.suptitle(\"Complexity - Performance: number of estimators vs score\")\n",
    "\n",
    "    # Plot: number of estimators vs score\n",
    "    ax = axs\n",
    "    colors_list2 = plt.cm.Paired(np.arange(len(cv_results['param_max_depth'].unique())))\n",
    "    for i,num in enumerate(cv_results['param_max_depth'].unique()):\n",
    "        ax.plot(\n",
    "            cv_results[  cv_results['param_max_depth']==num   ]['param_n_estimators'],#[\"param_max_depth\"],\n",
    "            cv_results[  cv_results['param_max_depth']==num   ][\"mean_test_score\"],\n",
    "            marker=\"o\",\n",
    "            color=colors_list2[i],\n",
    "            label=str(num),\n",
    "        )\n",
    "    ax.set_xlabel(\"Number of Trees\")\n",
    "    ax.set_ylabel(\"MSE score\")\n",
    "\n",
    "    # Add legend\n",
    "    axs.legend(loc=\"lower right\", title='Depth of trees')\n",
    "\n",
    "    plt.tight_layout()\n",
    "    plt.show()"
   ]
  },
  {
   "cell_type": "raw",
   "id": "c578ae7b",
   "metadata": {},
   "source": [
    "res = pd.DataFrame(forest.cv_results_)\n",
    "res.to_csv('RESULTS_FOREST.csv')"
   ]
  },
  {
   "cell_type": "code",
   "execution_count": null,
   "id": "287ddb46",
   "metadata": {
    "scrolled": true
   },
   "outputs": [],
   "source": [
    "compare_forests( pd.DataFrame(forest.cv_results_) )"
   ]
  },
  {
   "cell_type": "markdown",
   "id": "b2f52a57",
   "metadata": {},
   "source": [
    "### comment? "
   ]
  },
  {
   "cell_type": "code",
   "execution_count": null,
   "id": "7469a2c5",
   "metadata": {},
   "outputs": [],
   "source": [
    "forest_pred = best_forest.predict(X_test)\n",
    "scores = compute_scores(X_test, y_test, forest_pred)\n",
    "save_scores('RandomForest', scores)"
   ]
  },
  {
   "cell_type": "code",
   "execution_count": null,
   "id": "deadc693",
   "metadata": {},
   "outputs": [],
   "source": [
    "export_pred(forest_pred, 'RandomForest')"
   ]
  },
  {
   "cell_type": "code",
   "execution_count": null,
   "id": "e56493a3",
   "metadata": {},
   "outputs": [],
   "source": []
  },
  {
   "cell_type": "markdown",
   "id": "9fc4f776",
   "metadata": {},
   "source": [
    "# 6. XGBoost \n",
    "\n",
    "First we explore the default parameters, then move on to cross validation."
   ]
  },
  {
   "cell_type": "code",
   "execution_count": null,
   "id": "47496ccb",
   "metadata": {},
   "outputs": [],
   "source": [
    "from xgboost import XGBRegressor\n",
    "import time"
   ]
  },
  {
   "cell_type": "code",
   "execution_count": null,
   "id": "b2762f79",
   "metadata": {},
   "outputs": [],
   "source": [
    "xgbr = XGBRegressor(tree_method=\"hist\")\n",
    "start = time.time()\n",
    "xgbr.fit(X, yf)\n",
    "elapsed = time.time() - start\n",
    "print(f'XGB Training ran in {elapsed:.5f} seconds')"
   ]
  },
  {
   "cell_type": "code",
   "execution_count": null,
   "id": "a70d823f",
   "metadata": {},
   "outputs": [],
   "source": [
    "scores = compute_scores(X_test, y_test, xgbr)\n",
    "save_scores('XGBoost_def', scores)"
   ]
  },
  {
   "cell_type": "markdown",
   "id": "2e4beec3",
   "metadata": {},
   "source": [
    "## Cross Validation"
   ]
  },
  {
   "cell_type": "code",
   "execution_count": null,
   "id": "19c2170b",
   "metadata": {},
   "outputs": [],
   "source": [
    "# Define the parameter grid to search\n",
    "param_grid = {\n",
    "    'n_estimators': [16, 64, 128],\n",
    "    'learning_rate': [0.01, 0.1, 0.2, 0.3], # def 0.3\n",
    "    'max_depth': [3, 4, 6],                 # def 0.6\n",
    "    'min_child_weight': [1, 2, 3],          # def 1\n",
    "    'gamma': [0, 0.1, 0.2], # def 0, minimum loss reduction required for further tree splits\n",
    "    'reg_alpha': [0, 0.5],      # def 0, L1 regularization to the feature weights\n",
    "    'reg_lambda': [0.5, 1],     # def 1, L2 regularization to the feature weights\n",
    "    'subsample': [0.8, 1.0],    # def 1\n",
    "    'colsample_bytree': [0.8, 1.0]} # def 1"
   ]
  },
  {
   "cell_type": "code",
   "execution_count": null,
   "id": "3ef338b7",
   "metadata": {},
   "outputs": [],
   "source": [
    "xgbr = GridSearchCV(estimator=XGBRegressor(), param_grid=param_grid, \n",
    "                           cv=5, scoring='neg_mean_squared_error', verbose=2)\n"
   ]
  },
  {
   "cell_type": "code",
   "execution_count": null,
   "id": "a158a1f0",
   "metadata": {},
   "outputs": [],
   "source": [
    "xgbr.fit(X, yf)\n",
    "\n",
    "print(f\"\\nBest XGBRegressor with params: {xgbr.best_params_} and MSE: {xgbr.best_score_:.3f}\")"
   ]
  },
  {
   "cell_type": "code",
   "execution_count": null,
   "id": "50a43758",
   "metadata": {},
   "outputs": [],
   "source": [
    "# Creating a XGB model with the selected parameters\n",
    "best_xgbr = XGBRegressor(max_depth=xgbr.best_params_['max_depth'],\n",
    "                        n_estimators=xgbr.best_params_['n_estimators'],\n",
    "                        learning_rate=xgbr.best_params_['learning_rate'],\n",
    "                        min_child_weight=xgbr.best_params_['min_child_weight'], \n",
    "                        gamma=xgbr.best_params_['gamma'],\n",
    "                        alpha=xgbr.best_params_['reg_alpha'],\n",
    "                        reg_lambda=xgbr.best_params_['reg_lambda'],\n",
    "                        subsample=xgbr.best_params_['subsample'],\n",
    "                        colsample_bytree=xgbr.best_params_['colsample_bytree']\n",
    "                        )\n",
    "best_xgbr.fit(X, yf)"
   ]
  },
  {
   "cell_type": "code",
   "execution_count": null,
   "id": "04cefd55",
   "metadata": {},
   "outputs": [],
   "source": [
    "xgb_pred = best_xgbr.predict(X_test)\n",
    "scores = compute_scores(X_test, y_test, xgb_pred)\n",
    "\n",
    "save_scores('XGBoost', scores)"
   ]
  },
  {
   "cell_type": "code",
   "execution_count": null,
   "id": "0d8070cd",
   "metadata": {},
   "outputs": [],
   "source": [
    "export_pred(xgb_pred, 'XGBoost')"
   ]
  },
  {
   "cell_type": "code",
   "execution_count": null,
   "id": "1bdafc44",
   "metadata": {},
   "outputs": [],
   "source": []
  },
  {
   "cell_type": "markdown",
   "id": "7827af33",
   "metadata": {},
   "source": [
    "# 7. Light GBM"
   ]
  },
  {
   "cell_type": "code",
   "execution_count": null,
   "id": "0c5b7a13",
   "metadata": {},
   "outputs": [],
   "source": [
    "from lightgbm import LGBMRegressor"
   ]
  },
  {
   "cell_type": "code",
   "execution_count": null,
   "id": "74b83b49",
   "metadata": {},
   "outputs": [],
   "source": [
    "lgbm = LGBMRegressor()\n",
    "start = time.time()\n",
    "lgbm.fit(X, yf)\n",
    "elapsed = time.time() - start\n",
    "print(f'LGBM Training ran in {elapsed:.5f} seconds')"
   ]
  },
  {
   "cell_type": "code",
   "execution_count": null,
   "id": "06b4894b",
   "metadata": {},
   "outputs": [],
   "source": [
    "lgbm_pred = lgbm.predict(X_test)\n",
    "scores = compute_scores(X_test, y_test, lgbm_pred)\n",
    "save_scores('LightGBM_def', scores)"
   ]
  },
  {
   "cell_type": "markdown",
   "id": "36b27c76",
   "metadata": {},
   "source": [
    "## Cross Validation"
   ]
  },
  {
   "cell_type": "code",
   "execution_count": null,
   "id": "75f7517e",
   "metadata": {},
   "outputs": [],
   "source": [
    "# Define the parameter grid to search\n",
    "param_grid = {\n",
    "    'colsample_bytree': [0.8, 1.0],\n",
    "    'learning_rate': [0.01, 0.1, 0.2, 0.3],  \n",
    "    'max_depth': [3, 4, 6],                  \n",
    "    'min_child_weight': [1, 2, 3], \n",
    "    'num_leaves': [8, 16, 32, 64],\n",
    "    'n_estimators': [16, 64, 128],\n",
    "    'reg_alpha': [0, 0.5],                   # L1 regularization\n",
    "    'reg_lambda': [0.5, 1],                  # L2 regularization\n",
    "}"
   ]
  },
  {
   "cell_type": "code",
   "execution_count": null,
   "id": "3393ab45",
   "metadata": {},
   "outputs": [],
   "source": [
    "lgbm = GridSearchCV(estimator=LGBMRegressor(), param_grid=param_grid, \n",
    "                           cv=5, scoring='neg_mean_squared_error', verbose=2)"
   ]
  },
  {
   "cell_type": "code",
   "execution_count": null,
   "id": "9569c748",
   "metadata": {},
   "outputs": [],
   "source": [
    "lgbm.fit(X, yf)\n",
    "\n",
    "print(f\"\\nBest LGBMRegressor with params: {lgbm.best_params_} and MSE: {lgbm.best_score_:.3f}\")"
   ]
  },
  {
   "cell_type": "markdown",
   "id": "43dbf45f",
   "metadata": {},
   "source": [
    "Best LGBMRegressor with params: {'colsample_bytree': 1.0, 'learning_rate': 0.3, 'max_depth': 6, 'min_child_weight': 1, 'n_estimators': 128, 'num_leaves': 64, 'reg_alpha': 0.5, 'reg_lambda': 1} and MSE: -0.176\n"
   ]
  },
  {
   "cell_type": "code",
   "execution_count": null,
   "id": "584a7a98",
   "metadata": {},
   "outputs": [],
   "source": [
    "# Creating a XGB model with the selected parameters\n",
    "best_lgbm = LGBMRegressor(max_depth=lgbm.best_params_['max_depth'],\n",
    "                        n_estimators=lgbm.best_params_['n_estimators'],\n",
    "                        learning_rate=lgbm.best_params_['learning_rate'],\n",
    "                        min_child_weight=lgbm.best_params_['min_child_weight'], \n",
    "                        reg_alpha=lgbm.best_params_['reg_alpha'],\n",
    "                        reg_lambda=lgbm.best_params_['reg_lambda'],\n",
    "                        colsample_bytree=lgbm.best_params_['colsample_bytree'],\n",
    "                        num_leaves=lgbm.best_params_['num_leaves'],\n",
    "                        )\n",
    "best_lgbm.fit(X, yf)"
   ]
  },
  {
   "cell_type": "code",
   "execution_count": null,
   "id": "e17d48a1",
   "metadata": {
    "scrolled": true
   },
   "outputs": [],
   "source": [
    "lgbm_pred = best_lgbm.predict(X_test)\n",
    "scores = compute_scores(X_test, y_test, lgbm_pred)\n",
    "\n",
    "save_scores('LightGBM', scores)"
   ]
  },
  {
   "cell_type": "code",
   "execution_count": null,
   "id": "1a210961",
   "metadata": {},
   "outputs": [],
   "source": [
    "export_pred(lgbm_pred, 'LightGBM')"
   ]
  },
  {
   "cell_type": "code",
   "execution_count": null,
   "id": "094c9fa4",
   "metadata": {},
   "outputs": [],
   "source": []
  },
  {
   "cell_type": "markdown",
   "id": "e8012dd2",
   "metadata": {},
   "source": [
    "# 8. Hybrid Regression"
   ]
  },
  {
   "cell_type": "code",
   "execution_count": null,
   "id": "f423112f",
   "metadata": {},
   "outputs": [],
   "source": [
    "# Import predictions from csv files, which have been rescaled to the original scale\n",
    "forest_pred = pd.read_csv('predictions/RandomForest_pred.csv', header=None)\n",
    "xgbr_pred = pd.read_csv('predictions/best_xgb_pred.csv', header=None)\n",
    "lgbm_pred = pd.read_csv('predictions/best_lgbm_pred.csv', header=None)"
   ]
  },
  {
   "cell_type": "code",
   "execution_count": null,
   "id": "dbd27aa4",
   "metadata": {},
   "outputs": [],
   "source": [
    "# Define the weights for each model\n",
    "weights = [1/3, 1/3, 1/3]  # Equal weights for each model\n",
    "\n",
    "# Combine predictions using weighted average\n",
    "hybrid_predictions = (weights[0] * forest_pred + \n",
    "                      weights[1] * xgbr_pred +     \n",
    "                      weights[2] * lgbm_pred)\n",
    "\n",
    "# Standardize, scale to the same scale of y_test\n",
    "hybrid_predictions = ss_y.transform(np.array(hybrid_predictions).reshape(-1, 1))"
   ]
  },
  {
   "cell_type": "code",
   "execution_count": null,
   "id": "75d1e75e",
   "metadata": {},
   "outputs": [],
   "source": [
    "scores = compute_scores(X_test, y_test, hybrid_predictions)\n",
    "save_scores('HybridModel', scores)"
   ]
  },
  {
   "cell_type": "code",
   "execution_count": null,
   "id": "af0864e0",
   "metadata": {},
   "outputs": [],
   "source": [
    "export_pred(hybrid_predictions, 'HybridModel')"
   ]
  },
  {
   "cell_type": "code",
   "execution_count": null,
   "id": "bbf9bdfe",
   "metadata": {},
   "outputs": [],
   "source": []
  },
  {
   "cell_type": "code",
   "execution_count": null,
   "id": "02ce3727",
   "metadata": {},
   "outputs": [],
   "source": []
  },
  {
   "cell_type": "markdown",
   "id": "f0b8ffb0",
   "metadata": {},
   "source": [
    "# 9. Stacking\n",
    "Architecture from Quang"
   ]
  },
  {
   "cell_type": "code",
   "execution_count": null,
   "id": "ce2b6875",
   "metadata": {},
   "outputs": [],
   "source": [
    "from vecstack import StackingTransformer\n",
    "\n",
    "# Initialize 1st level estimators\n",
    "estimators = [('RF', RandomForestRegressor(max_depth=forest.best_params_['max_depth'], \n",
    "                                    n_estimators=forest.best_params_['n_estimators'])),\n",
    "              ('LGBM', LGBMRegressor(max_depth=lgbm.best_params_['max_depth'],\n",
    "                        n_estimators=lgbm.best_params_['n_estimators'],\n",
    "                        learning_rate=lgbm.best_params_['learning_rate'],\n",
    "                        min_child_weight=lgbm.best_params_['min_child_weight'], \n",
    "                        reg_alpha=lgbm.best_params_['reg_alpha'],\n",
    "                        reg_lambda=lgbm.best_params_['reg_lambda'],\n",
    "                        colsample_bytree=lgbm.best_params_['colsample_bytree'],\n",
    "                        num_leaves=lgbm.best_params_['num_leaves'],\n",
    "              ))]\n",
    "              \n",
    "# Initialize StackingTransformer\n",
    "stack = StackingTransformer(estimators, regression=True, verbose=2, shuffle=True, metric=mean_squared_error)"
   ]
  },
  {
   "cell_type": "code",
   "execution_count": null,
   "id": "b4a72cc7",
   "metadata": {},
   "outputs": [],
   "source": [
    "stack = stack.fit(X, yf)"
   ]
  },
  {
   "cell_type": "code",
   "execution_count": null,
   "id": "1926200f",
   "metadata": {},
   "outputs": [],
   "source": [
    "# Get stacked features\n",
    "S_train = stack.transform(X_train)\n",
    "S_test = stack.transform(X_test)"
   ]
  },
  {
   "cell_type": "code",
   "execution_count": null,
   "id": "59b24189",
   "metadata": {},
   "outputs": [],
   "source": [
    "xgbr = XGBRegressor()\n",
    "start = time.time()\n",
    "xgbr.fit(S_train, yf)\n",
    "elapsed = time.time() - start\n",
    "print(f'XGB Stacking Training ran in {elapsed:.5f} seconds')"
   ]
  },
  {
   "cell_type": "code",
   "execution_count": null,
   "id": "1199ba34",
   "metadata": {},
   "outputs": [],
   "source": [
    "stacking_pred = xgbr.predict(S_test)\n",
    "scores = compute_scores(S_test, y_test, stacking_pred)\n",
    "\n",
    "save_scores('Stacking', scores)"
   ]
  },
  {
   "cell_type": "code",
   "execution_count": null,
   "id": "79567864",
   "metadata": {},
   "outputs": [],
   "source": [
    "export_pred(stacking_pred, 'Stacking')"
   ]
  },
  {
   "cell_type": "code",
   "execution_count": null,
   "id": "5607f7c7",
   "metadata": {},
   "outputs": [],
   "source": []
  },
  {
   "cell_type": "code",
   "execution_count": null,
   "id": "6b3f369b",
   "metadata": {},
   "outputs": [],
   "source": []
  },
  {
   "cell_type": "code",
   "execution_count": null,
   "id": "81097d59",
   "metadata": {},
   "outputs": [],
   "source": []
  },
  {
   "cell_type": "markdown",
   "id": "88b5528b",
   "metadata": {},
   "source": [
    "# FINAL SUMMARY OF METHODS PERFORMANCES\n",
    "\n",
    "We display below a summary of the scores obtained by the different models. \n",
    "We see that models can be classified differently based on the metric of evaluation chosen. \n",
    "\n",
    "\n"
   ]
  },
  {
   "cell_type": "code",
   "execution_count": null,
   "id": "4d5356ff",
   "metadata": {},
   "outputs": [],
   "source": [
    "final_scores=display_scores()"
   ]
  },
  {
   "cell_type": "code",
   "execution_count": null,
   "id": "f3339e97",
   "metadata": {},
   "outputs": [],
   "source": [
    "final_scores.to_csv('final_scores.csv')\n",
    "final_scores"
   ]
  },
  {
   "cell_type": "code",
   "execution_count": null,
   "id": "101f1b80",
   "metadata": {},
   "outputs": [],
   "source": []
  },
  {
   "cell_type": "markdown",
   "id": "9ee1771a",
   "metadata": {},
   "source": [
    "# analisi finali\n",
    "- predictions per anno vs reale (grafica)"
   ]
  }
 ],
 "metadata": {
  "kernelspec": {
   "display_name": "Python 3.10 (tensorflow)",
   "language": "python",
   "name": "tensorflow"
  },
  "language_info": {
   "codemirror_mode": {
    "name": "ipython",
    "version": 3
   },
   "file_extension": ".py",
   "mimetype": "text/x-python",
   "name": "python",
   "nbconvert_exporter": "python",
   "pygments_lexer": "ipython3",
   "version": "3.10.10"
  }
 },
 "nbformat": 4,
 "nbformat_minor": 5
}
