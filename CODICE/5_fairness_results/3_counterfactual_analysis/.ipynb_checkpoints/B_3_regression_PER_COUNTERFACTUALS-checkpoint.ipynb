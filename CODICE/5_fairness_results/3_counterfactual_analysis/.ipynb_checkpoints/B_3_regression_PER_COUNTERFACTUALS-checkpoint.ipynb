{
 "cells": [
  {
   "cell_type": "code",
   "execution_count": 1,
   "id": "863aeade",
   "metadata": {},
   "outputs": [
    {
     "name": "stdout",
     "output_type": "stream",
     "text": [
      "Python Platform: macOS-13.2.1-arm64-arm-64bit\n",
      "Tensor Flow Version: 2.12.0\n",
      "Keras Version: 2.12.0\n",
      "\n",
      "Python 3.10.10 | packaged by conda-forge | (main, Mar 24 2023, 20:12:31) [Clang 14.0.6 ]\n",
      "Pandas 2.1.1\n",
      "Scikit-Learn 1.2.2\n",
      "GPU is available\n"
     ]
    }
   ],
   "source": [
    "import sys\n",
    "import tensorflow.keras\n",
    "import pandas as pd\n",
    "import sklearn as sk\n",
    "import tensorflow as tf\n",
    "import platform\n",
    "\n",
    "print(f\"Python Platform: {platform.platform()}\")\n",
    "print(f\"Tensor Flow Version: {tf.__version__}\")\n",
    "print(f\"Keras Version: {tensorflow.keras.__version__}\")\n",
    "print()\n",
    "print(f\"Python {sys.version}\")\n",
    "print(f\"Pandas {pd.__version__}\")\n",
    "print(f\"Scikit-Learn {sk.__version__}\")\n",
    "gpu = len(tf.config.list_physical_devices('GPU'))>0\n",
    "print(\"GPU is\", \"available\" if gpu else \"NOT AVAILABLE\")"
   ]
  },
  {
   "cell_type": "code",
   "execution_count": 2,
   "id": "a0bbf7aa",
   "metadata": {},
   "outputs": [],
   "source": [
    "# IMPORTING STATEMENTS\n",
    "import pandas as pd\n",
    "import numpy as np\n",
    "import matplotlib.pyplot as plt\n",
    "\n",
    "#import mutual_information_regression as mri\n",
    "#import helper_functions_fs as hf\n",
    "\n",
    "np.random.seed(7)"
   ]
  },
  {
   "cell_type": "code",
   "execution_count": 3,
   "id": "2e93108d",
   "metadata": {},
   "outputs": [],
   "source": [
    "from sklearn.preprocessing import StandardScaler"
   ]
  },
  {
   "cell_type": "markdown",
   "id": "87fe6815",
   "metadata": {},
   "source": [
    "# Import the Data"
   ]
  },
  {
   "cell_type": "code",
   "execution_count": 4,
   "id": "f8c05e88",
   "metadata": {
    "scrolled": true
   },
   "outputs": [],
   "source": [
    "# training data\n",
    "data = pd.read_csv('../../0_data/train.csv', index_col=0).reset_index(drop=True)"
   ]
  },
  {
   "cell_type": "code",
   "execution_count": 5,
   "id": "46fedf59",
   "metadata": {},
   "outputs": [],
   "source": [
    "# defining response variable and input features\n",
    "y = data.pop('InterestRate')\n",
    "X = data.copy()"
   ]
  },
  {
   "cell_type": "code",
   "execution_count": 6,
   "id": "963f5251",
   "metadata": {},
   "outputs": [
    {
     "data": {
      "text/html": [
       "<div>\n",
       "<style scoped>\n",
       "    .dataframe tbody tr th:only-of-type {\n",
       "        vertical-align: middle;\n",
       "    }\n",
       "\n",
       "    .dataframe tbody tr th {\n",
       "        vertical-align: top;\n",
       "    }\n",
       "\n",
       "    .dataframe thead th {\n",
       "        text-align: right;\n",
       "    }\n",
       "</style>\n",
       "<table border=\"1\" class=\"dataframe\">\n",
       "  <thead>\n",
       "    <tr style=\"text-align: right;\">\n",
       "      <th></th>\n",
       "      <th>InterestRate</th>\n",
       "      <th>MinorityRatio</th>\n",
       "      <th>CensusTractMedFamIncome</th>\n",
       "      <th>MonthlyIncome</th>\n",
       "      <th>HUDMedIncome</th>\n",
       "      <th>LTV</th>\n",
       "      <th>PaymentCount</th>\n",
       "      <th>Age1</th>\n",
       "      <th>Age2</th>\n",
       "      <th>HousingExpense</th>\n",
       "      <th>...</th>\n",
       "      <th>State_31</th>\n",
       "      <th>State_39</th>\n",
       "      <th>State_42</th>\n",
       "      <th>State_48</th>\n",
       "      <th>State_55</th>\n",
       "      <th>State_infrequent_sklearn</th>\n",
       "      <th>Minority_Min</th>\n",
       "      <th>Minority_Missing</th>\n",
       "      <th>Minority_White</th>\n",
       "      <th>Borrower2Dummy</th>\n",
       "    </tr>\n",
       "  </thead>\n",
       "  <tbody>\n",
       "    <tr>\n",
       "      <th>0</th>\n",
       "      <td>4.500</td>\n",
       "      <td>16.936</td>\n",
       "      <td>154125</td>\n",
       "      <td>14425</td>\n",
       "      <td>119600</td>\n",
       "      <td>72.0</td>\n",
       "      <td>360</td>\n",
       "      <td>30</td>\n",
       "      <td>30</td>\n",
       "      <td>35.82</td>\n",
       "      <td>...</td>\n",
       "      <td>0.0</td>\n",
       "      <td>0.0</td>\n",
       "      <td>0.0</td>\n",
       "      <td>0.0</td>\n",
       "      <td>0.0</td>\n",
       "      <td>0.0</td>\n",
       "      <td>1</td>\n",
       "      <td>0</td>\n",
       "      <td>0</td>\n",
       "      <td>1</td>\n",
       "    </tr>\n",
       "    <tr>\n",
       "      <th>1</th>\n",
       "      <td>5.000</td>\n",
       "      <td>22.466</td>\n",
       "      <td>156053</td>\n",
       "      <td>15803</td>\n",
       "      <td>79200</td>\n",
       "      <td>90.0</td>\n",
       "      <td>360</td>\n",
       "      <td>50</td>\n",
       "      <td>50</td>\n",
       "      <td>18.72</td>\n",
       "      <td>...</td>\n",
       "      <td>0.0</td>\n",
       "      <td>0.0</td>\n",
       "      <td>0.0</td>\n",
       "      <td>0.0</td>\n",
       "      <td>0.0</td>\n",
       "      <td>1.0</td>\n",
       "      <td>1</td>\n",
       "      <td>0</td>\n",
       "      <td>0</td>\n",
       "      <td>1</td>\n",
       "    </tr>\n",
       "    <tr>\n",
       "      <th>2</th>\n",
       "      <td>2.625</td>\n",
       "      <td>2.467</td>\n",
       "      <td>72944</td>\n",
       "      <td>9724</td>\n",
       "      <td>76600</td>\n",
       "      <td>80.0</td>\n",
       "      <td>180</td>\n",
       "      <td>33</td>\n",
       "      <td>0</td>\n",
       "      <td>17.10</td>\n",
       "      <td>...</td>\n",
       "      <td>0.0</td>\n",
       "      <td>0.0</td>\n",
       "      <td>0.0</td>\n",
       "      <td>0.0</td>\n",
       "      <td>0.0</td>\n",
       "      <td>0.0</td>\n",
       "      <td>1</td>\n",
       "      <td>0</td>\n",
       "      <td>0</td>\n",
       "      <td>0</td>\n",
       "    </tr>\n",
       "    <tr>\n",
       "      <th>3</th>\n",
       "      <td>3.625</td>\n",
       "      <td>14.460</td>\n",
       "      <td>109038</td>\n",
       "      <td>7044</td>\n",
       "      <td>99300</td>\n",
       "      <td>90.0</td>\n",
       "      <td>360</td>\n",
       "      <td>32</td>\n",
       "      <td>33</td>\n",
       "      <td>21.42</td>\n",
       "      <td>...</td>\n",
       "      <td>0.0</td>\n",
       "      <td>0.0</td>\n",
       "      <td>0.0</td>\n",
       "      <td>0.0</td>\n",
       "      <td>0.0</td>\n",
       "      <td>0.0</td>\n",
       "      <td>1</td>\n",
       "      <td>0</td>\n",
       "      <td>0</td>\n",
       "      <td>1</td>\n",
       "    </tr>\n",
       "    <tr>\n",
       "      <th>4</th>\n",
       "      <td>3.750</td>\n",
       "      <td>4.777</td>\n",
       "      <td>143165</td>\n",
       "      <td>16373</td>\n",
       "      <td>109200</td>\n",
       "      <td>72.0</td>\n",
       "      <td>360</td>\n",
       "      <td>49</td>\n",
       "      <td>49</td>\n",
       "      <td>13.86</td>\n",
       "      <td>...</td>\n",
       "      <td>0.0</td>\n",
       "      <td>0.0</td>\n",
       "      <td>0.0</td>\n",
       "      <td>0.0</td>\n",
       "      <td>0.0</td>\n",
       "      <td>1.0</td>\n",
       "      <td>1</td>\n",
       "      <td>0</td>\n",
       "      <td>0</td>\n",
       "      <td>1</td>\n",
       "    </tr>\n",
       "  </tbody>\n",
       "</table>\n",
       "<p>5 rows × 74 columns</p>\n",
       "</div>"
      ],
      "text/plain": [
       "   InterestRate  MinorityRatio  CensusTractMedFamIncome  MonthlyIncome  \\\n",
       "0         4.500         16.936                   154125          14425   \n",
       "1         5.000         22.466                   156053          15803   \n",
       "2         2.625          2.467                    72944           9724   \n",
       "3         3.625         14.460                   109038           7044   \n",
       "4         3.750          4.777                   143165          16373   \n",
       "\n",
       "   HUDMedIncome   LTV  PaymentCount  Age1  Age2  HousingExpense  ...  \\\n",
       "0        119600  72.0           360    30    30           35.82  ...   \n",
       "1         79200  90.0           360    50    50           18.72  ...   \n",
       "2         76600  80.0           180    33     0           17.10  ...   \n",
       "3         99300  90.0           360    32    33           21.42  ...   \n",
       "4        109200  72.0           360    49    49           13.86  ...   \n",
       "\n",
       "   State_31  State_39  State_42  State_48  State_55  State_infrequent_sklearn  \\\n",
       "0       0.0       0.0       0.0       0.0       0.0                       0.0   \n",
       "1       0.0       0.0       0.0       0.0       0.0                       1.0   \n",
       "2       0.0       0.0       0.0       0.0       0.0                       0.0   \n",
       "3       0.0       0.0       0.0       0.0       0.0                       0.0   \n",
       "4       0.0       0.0       0.0       0.0       0.0                       1.0   \n",
       "\n",
       "   Minority_Min  Minority_Missing  Minority_White  Borrower2Dummy  \n",
       "0             1                 0               0               1  \n",
       "1             1                 0               0               1  \n",
       "2             1                 0               0               0  \n",
       "3             1                 0               0               1  \n",
       "4             1                 0               0               1  \n",
       "\n",
       "[5 rows x 74 columns]"
      ]
     },
     "execution_count": 6,
     "metadata": {},
     "output_type": "execute_result"
    }
   ],
   "source": [
    "data_test = pd.read_csv('TEST_DATA.csv', index_col=0).reset_index(drop=True)     # modificato\n",
    "data_test.head()"
   ]
  },
  {
   "cell_type": "code",
   "execution_count": 7,
   "id": "e4cbe3e8",
   "metadata": {},
   "outputs": [],
   "source": [
    "y_test = data_test.pop('InterestRate')\n",
    "X_test = data_test.copy()"
   ]
  },
  {
   "cell_type": "markdown",
   "id": "e510301f",
   "metadata": {},
   "source": [
    "# Scaling"
   ]
  },
  {
   "cell_type": "code",
   "execution_count": 8,
   "id": "85e5bf83",
   "metadata": {},
   "outputs": [
    {
     "data": {
      "text/plain": [
       "0                InterestRate\n",
       "1               MinorityRatio\n",
       "2     CensusTractMedFamIncome\n",
       "3               MonthlyIncome\n",
       "4                HUDMedIncome\n",
       "5                         LTV\n",
       "6                PaymentCount\n",
       "7                        Age1\n",
       "8                        Age2\n",
       "9              HousingExpense\n",
       "10                DebtExpense\n",
       "11                        PMI\n",
       "12               CreditScore1\n",
       "13               CreditScore2\n",
       "14                   NoteDate\n",
       "15                 NoteAmount\n",
       "Name: 0, dtype: object"
      ]
     },
     "execution_count": 8,
     "metadata": {},
     "output_type": "execute_result"
    }
   ],
   "source": [
    "numerical = pd.read_csv('../../0_data/numerical.csv', index_col=0)\n",
    "numerical.iloc[:,0]"
   ]
  },
  {
   "cell_type": "code",
   "execution_count": 9,
   "id": "8e376049",
   "metadata": {},
   "outputs": [],
   "source": [
    "# separate numerical and dummies\n",
    "\n",
    "X_num = pd.concat([X.pop(col) for col in list(numerical.iloc[1:,0])], axis=1)\n",
    "X['BorrowerCount'] = X['BorrowerCount']-1\n",
    "\n",
    "X_test_num = pd.concat([X_test.pop(col) for col in list(numerical.iloc[1:,0])], axis=1)\n",
    "X_test['BorrowerCount'] = X_test['BorrowerCount']-1"
   ]
  },
  {
   "cell_type": "code",
   "execution_count": 10,
   "id": "02078e00",
   "metadata": {},
   "outputs": [
    {
     "name": "stderr",
     "output_type": "stream",
     "text": [
      "/Users/fra/miniconda3/envs/tensorflow/lib/python3.10/site-packages/sklearn/utils/validation.py:767: FutureWarning: is_sparse is deprecated and will be removed in a future version. Check `isinstance(dtype, pd.SparseDtype)` instead.\n",
      "  if not hasattr(array, \"sparse\") and array.dtypes.apply(is_sparse).any():\n",
      "/Users/fra/miniconda3/envs/tensorflow/lib/python3.10/site-packages/sklearn/utils/validation.py:605: FutureWarning: is_sparse is deprecated and will be removed in a future version. Check `isinstance(dtype, pd.SparseDtype)` instead.\n",
      "  if is_sparse(pd_dtype):\n",
      "/Users/fra/miniconda3/envs/tensorflow/lib/python3.10/site-packages/sklearn/utils/validation.py:614: FutureWarning: is_sparse is deprecated and will be removed in a future version. Check `isinstance(dtype, pd.SparseDtype)` instead.\n",
      "  if is_sparse(pd_dtype) or not is_extension_array_dtype(pd_dtype):\n",
      "/Users/fra/miniconda3/envs/tensorflow/lib/python3.10/site-packages/sklearn/utils/validation.py:767: FutureWarning: is_sparse is deprecated and will be removed in a future version. Check `isinstance(dtype, pd.SparseDtype)` instead.\n",
      "  if not hasattr(array, \"sparse\") and array.dtypes.apply(is_sparse).any():\n",
      "/Users/fra/miniconda3/envs/tensorflow/lib/python3.10/site-packages/sklearn/utils/validation.py:605: FutureWarning: is_sparse is deprecated and will be removed in a future version. Check `isinstance(dtype, pd.SparseDtype)` instead.\n",
      "  if is_sparse(pd_dtype):\n",
      "/Users/fra/miniconda3/envs/tensorflow/lib/python3.10/site-packages/sklearn/utils/validation.py:614: FutureWarning: is_sparse is deprecated and will be removed in a future version. Check `isinstance(dtype, pd.SparseDtype)` instead.\n",
      "  if is_sparse(pd_dtype) or not is_extension_array_dtype(pd_dtype):\n",
      "/Users/fra/miniconda3/envs/tensorflow/lib/python3.10/site-packages/sklearn/utils/validation.py:767: FutureWarning: is_sparse is deprecated and will be removed in a future version. Check `isinstance(dtype, pd.SparseDtype)` instead.\n",
      "  if not hasattr(array, \"sparse\") and array.dtypes.apply(is_sparse).any():\n",
      "/Users/fra/miniconda3/envs/tensorflow/lib/python3.10/site-packages/sklearn/utils/validation.py:605: FutureWarning: is_sparse is deprecated and will be removed in a future version. Check `isinstance(dtype, pd.SparseDtype)` instead.\n",
      "  if is_sparse(pd_dtype):\n",
      "/Users/fra/miniconda3/envs/tensorflow/lib/python3.10/site-packages/sklearn/utils/validation.py:614: FutureWarning: is_sparse is deprecated and will be removed in a future version. Check `isinstance(dtype, pd.SparseDtype)` instead.\n",
      "  if is_sparse(pd_dtype) or not is_extension_array_dtype(pd_dtype):\n"
     ]
    },
    {
     "data": {
      "text/html": [
       "<div>\n",
       "<style scoped>\n",
       "    .dataframe tbody tr th:only-of-type {\n",
       "        vertical-align: middle;\n",
       "    }\n",
       "\n",
       "    .dataframe tbody tr th {\n",
       "        vertical-align: top;\n",
       "    }\n",
       "\n",
       "    .dataframe thead th {\n",
       "        text-align: right;\n",
       "    }\n",
       "</style>\n",
       "<table border=\"1\" class=\"dataframe\">\n",
       "  <thead>\n",
       "    <tr style=\"text-align: right;\">\n",
       "      <th></th>\n",
       "      <th>MinorityRatio</th>\n",
       "      <th>CensusTractMedFamIncome</th>\n",
       "      <th>MonthlyIncome</th>\n",
       "      <th>HUDMedIncome</th>\n",
       "      <th>LTV</th>\n",
       "      <th>PaymentCount</th>\n",
       "      <th>Age1</th>\n",
       "      <th>Age2</th>\n",
       "      <th>HousingExpense</th>\n",
       "      <th>DebtExpense</th>\n",
       "      <th>PMI</th>\n",
       "      <th>CreditScore1</th>\n",
       "      <th>CreditScore2</th>\n",
       "      <th>NoteDate</th>\n",
       "      <th>NoteAmount</th>\n",
       "    </tr>\n",
       "  </thead>\n",
       "  <tbody>\n",
       "    <tr>\n",
       "      <th>count</th>\n",
       "      <td>1.890790e+05</td>\n",
       "      <td>1.890790e+05</td>\n",
       "      <td>1.890790e+05</td>\n",
       "      <td>1.890790e+05</td>\n",
       "      <td>1.890790e+05</td>\n",
       "      <td>1.890790e+05</td>\n",
       "      <td>1.890790e+05</td>\n",
       "      <td>1.890790e+05</td>\n",
       "      <td>1.890790e+05</td>\n",
       "      <td>1.890790e+05</td>\n",
       "      <td>1.890790e+05</td>\n",
       "      <td>1.890790e+05</td>\n",
       "      <td>1.890790e+05</td>\n",
       "      <td>1.890790e+05</td>\n",
       "      <td>1.890790e+05</td>\n",
       "    </tr>\n",
       "    <tr>\n",
       "      <th>mean</th>\n",
       "      <td>-2.335544e-16</td>\n",
       "      <td>4.329118e-17</td>\n",
       "      <td>6.898592e-17</td>\n",
       "      <td>-1.819958e-16</td>\n",
       "      <td>6.964825e-16</td>\n",
       "      <td>2.689164e-16</td>\n",
       "      <td>-2.288664e-16</td>\n",
       "      <td>4.235170e-17</td>\n",
       "      <td>1.323913e-16</td>\n",
       "      <td>6.650381e-16</td>\n",
       "      <td>3.112493e-17</td>\n",
       "      <td>2.442832e-16</td>\n",
       "      <td>2.375942e-16</td>\n",
       "      <td>2.158467e-14</td>\n",
       "      <td>-4.906427e-17</td>\n",
       "    </tr>\n",
       "    <tr>\n",
       "      <th>std</th>\n",
       "      <td>1.000003e+00</td>\n",
       "      <td>1.000003e+00</td>\n",
       "      <td>1.000003e+00</td>\n",
       "      <td>1.000003e+00</td>\n",
       "      <td>1.000003e+00</td>\n",
       "      <td>1.000003e+00</td>\n",
       "      <td>1.000003e+00</td>\n",
       "      <td>1.000003e+00</td>\n",
       "      <td>1.000003e+00</td>\n",
       "      <td>1.000003e+00</td>\n",
       "      <td>1.000003e+00</td>\n",
       "      <td>1.000003e+00</td>\n",
       "      <td>1.000003e+00</td>\n",
       "      <td>1.000003e+00</td>\n",
       "      <td>1.000003e+00</td>\n",
       "    </tr>\n",
       "    <tr>\n",
       "      <th>min</th>\n",
       "      <td>-9.829129e-01</td>\n",
       "      <td>-2.968603e+00</td>\n",
       "      <td>-1.541693e+00</td>\n",
       "      <td>-3.136269e+00</td>\n",
       "      <td>-8.617748e-01</td>\n",
       "      <td>-3.667909e+00</td>\n",
       "      <td>-2.003581e+00</td>\n",
       "      <td>-1.101219e+00</td>\n",
       "      <td>-2.410365e+00</td>\n",
       "      <td>-3.148844e+00</td>\n",
       "      <td>-4.158231e-01</td>\n",
       "      <td>-4.275040e+00</td>\n",
       "      <td>-2.317892e+00</td>\n",
       "      <td>-7.010553e+00</td>\n",
       "      <td>-1.761821e+00</td>\n",
       "    </tr>\n",
       "    <tr>\n",
       "      <th>25%</th>\n",
       "      <td>-6.899229e-01</td>\n",
       "      <td>-6.907823e-01</td>\n",
       "      <td>-6.998868e-01</td>\n",
       "      <td>-6.839963e-01</td>\n",
       "      <td>-8.617748e-01</td>\n",
       "      <td>-2.778056e-01</td>\n",
       "      <td>-8.066413e-01</td>\n",
       "      <td>-1.101219e+00</td>\n",
       "      <td>-7.202951e-01</td>\n",
       "      <td>-7.560665e-01</td>\n",
       "      <td>-4.158231e-01</td>\n",
       "      <td>-5.143845e-01</td>\n",
       "      <td>-5.737875e-01</td>\n",
       "      <td>-1.000778e+00</td>\n",
       "      <td>-7.500204e-01</td>\n",
       "    </tr>\n",
       "    <tr>\n",
       "      <th>50%</th>\n",
       "      <td>-3.806037e-01</td>\n",
       "      <td>-2.074440e-01</td>\n",
       "      <td>-2.267679e-01</td>\n",
       "      <td>-6.296614e-02</td>\n",
       "      <td>-9.168695e-02</td>\n",
       "      <td>5.697203e-01</td>\n",
       "      <td>-1.333627e-01</td>\n",
       "      <td>1.920703e-01</td>\n",
       "      <td>-1.531912e-01</td>\n",
       "      <td>8.581993e-03</td>\n",
       "      <td>-4.158231e-01</td>\n",
       "      <td>7.391671e-01</td>\n",
       "      <td>-5.737875e-01</td>\n",
       "      <td>2.011766e-01</td>\n",
       "      <td>-2.017936e-01</td>\n",
       "    </tr>\n",
       "    <tr>\n",
       "      <th>75%</th>\n",
       "      <td>2.836096e-01</td>\n",
       "      <td>5.193869e-01</td>\n",
       "      <td>4.021168e-01</td>\n",
       "      <td>5.102925e-01</td>\n",
       "      <td>1.650090e-01</td>\n",
       "      <td>5.697203e-01</td>\n",
       "      <td>6.895334e-01</td>\n",
       "      <td>7.761363e-01</td>\n",
       "      <td>5.862923e-01</td>\n",
       "      <td>7.836339e-01</td>\n",
       "      <td>-4.158231e-01</td>\n",
       "      <td>7.391671e-01</td>\n",
       "      <td>1.170317e+00</td>\n",
       "      <td>1.403131e+00</td>\n",
       "      <td>5.519377e-01</td>\n",
       "    </tr>\n",
       "    <tr>\n",
       "      <th>max</th>\n",
       "      <td>3.195775e+00</td>\n",
       "      <td>4.143399e+00</td>\n",
       "      <td>3.701777e+00</td>\n",
       "      <td>3.949844e+00</td>\n",
       "      <td>5.170580e+00</td>\n",
       "      <td>5.697203e-01</td>\n",
       "      <td>3.981118e+00</td>\n",
       "      <td>2.862086e+00</td>\n",
       "      <td>4.372398e+00</td>\n",
       "      <td>5.361121e+00</td>\n",
       "      <td>7.908332e+00</td>\n",
       "      <td>7.391671e-01</td>\n",
       "      <td>1.170317e+00</td>\n",
       "      <td>1.403131e+00</td>\n",
       "      <td>4.433948e+00</td>\n",
       "    </tr>\n",
       "  </tbody>\n",
       "</table>\n",
       "</div>"
      ],
      "text/plain": [
       "       MinorityRatio  CensusTractMedFamIncome  MonthlyIncome  HUDMedIncome  \\\n",
       "count   1.890790e+05             1.890790e+05   1.890790e+05  1.890790e+05   \n",
       "mean   -2.335544e-16             4.329118e-17   6.898592e-17 -1.819958e-16   \n",
       "std     1.000003e+00             1.000003e+00   1.000003e+00  1.000003e+00   \n",
       "min    -9.829129e-01            -2.968603e+00  -1.541693e+00 -3.136269e+00   \n",
       "25%    -6.899229e-01            -6.907823e-01  -6.998868e-01 -6.839963e-01   \n",
       "50%    -3.806037e-01            -2.074440e-01  -2.267679e-01 -6.296614e-02   \n",
       "75%     2.836096e-01             5.193869e-01   4.021168e-01  5.102925e-01   \n",
       "max     3.195775e+00             4.143399e+00   3.701777e+00  3.949844e+00   \n",
       "\n",
       "                LTV  PaymentCount          Age1          Age2  HousingExpense  \\\n",
       "count  1.890790e+05  1.890790e+05  1.890790e+05  1.890790e+05    1.890790e+05   \n",
       "mean   6.964825e-16  2.689164e-16 -2.288664e-16  4.235170e-17    1.323913e-16   \n",
       "std    1.000003e+00  1.000003e+00  1.000003e+00  1.000003e+00    1.000003e+00   \n",
       "min   -8.617748e-01 -3.667909e+00 -2.003581e+00 -1.101219e+00   -2.410365e+00   \n",
       "25%   -8.617748e-01 -2.778056e-01 -8.066413e-01 -1.101219e+00   -7.202951e-01   \n",
       "50%   -9.168695e-02  5.697203e-01 -1.333627e-01  1.920703e-01   -1.531912e-01   \n",
       "75%    1.650090e-01  5.697203e-01  6.895334e-01  7.761363e-01    5.862923e-01   \n",
       "max    5.170580e+00  5.697203e-01  3.981118e+00  2.862086e+00    4.372398e+00   \n",
       "\n",
       "        DebtExpense           PMI  CreditScore1  CreditScore2      NoteDate  \\\n",
       "count  1.890790e+05  1.890790e+05  1.890790e+05  1.890790e+05  1.890790e+05   \n",
       "mean   6.650381e-16  3.112493e-17  2.442832e-16  2.375942e-16  2.158467e-14   \n",
       "std    1.000003e+00  1.000003e+00  1.000003e+00  1.000003e+00  1.000003e+00   \n",
       "min   -3.148844e+00 -4.158231e-01 -4.275040e+00 -2.317892e+00 -7.010553e+00   \n",
       "25%   -7.560665e-01 -4.158231e-01 -5.143845e-01 -5.737875e-01 -1.000778e+00   \n",
       "50%    8.581993e-03 -4.158231e-01  7.391671e-01 -5.737875e-01  2.011766e-01   \n",
       "75%    7.836339e-01 -4.158231e-01  7.391671e-01  1.170317e+00  1.403131e+00   \n",
       "max    5.361121e+00  7.908332e+00  7.391671e-01  1.170317e+00  1.403131e+00   \n",
       "\n",
       "         NoteAmount  \n",
       "count  1.890790e+05  \n",
       "mean  -4.906427e-17  \n",
       "std    1.000003e+00  \n",
       "min   -1.761821e+00  \n",
       "25%   -7.500204e-01  \n",
       "50%   -2.017936e-01  \n",
       "75%    5.519377e-01  \n",
       "max    4.433948e+00  "
      ]
     },
     "execution_count": 10,
     "metadata": {},
     "output_type": "execute_result"
    }
   ],
   "source": [
    "# scale numerical vars \n",
    "ss = StandardScaler()\n",
    "X_train_num = ss.fit_transform(X_num)\n",
    "X_test_num = ss.transform(X_test_num)\n",
    "X_num = pd.DataFrame(X_train_num, columns=list(numerical.iloc[1:,0]))\n",
    "X_test_num = pd.DataFrame(X_test_num, columns=list(numerical.iloc[1:,0]))\n",
    "X_num.describe()"
   ]
  },
  {
   "cell_type": "code",
   "execution_count": 11,
   "id": "89400e70",
   "metadata": {},
   "outputs": [],
   "source": [
    "# merge back together numerical and dummies\n",
    "X = pd.concat([X, X_num], axis=1, ignore_index=False)\n",
    "X_test = pd.concat([X_test, X_test_num], axis=1,ignore_index=False)"
   ]
  },
  {
   "cell_type": "code",
   "execution_count": 12,
   "id": "5b8bb87e",
   "metadata": {},
   "outputs": [
    {
     "data": {
      "text/html": [
       "<div>\n",
       "<style scoped>\n",
       "    .dataframe tbody tr th:only-of-type {\n",
       "        vertical-align: middle;\n",
       "    }\n",
       "\n",
       "    .dataframe tbody tr th {\n",
       "        vertical-align: top;\n",
       "    }\n",
       "\n",
       "    .dataframe thead th {\n",
       "        text-align: right;\n",
       "    }\n",
       "</style>\n",
       "<table border=\"1\" class=\"dataframe\">\n",
       "  <thead>\n",
       "    <tr style=\"text-align: right;\">\n",
       "      <th></th>\n",
       "      <th>BorrowerCount</th>\n",
       "      <th>FirstTime</th>\n",
       "      <th>SelfEmployed</th>\n",
       "      <th>Bank_Boston</th>\n",
       "      <th>Bank_Chicago</th>\n",
       "      <th>Bank_Cincinnati</th>\n",
       "      <th>Bank_Dallas</th>\n",
       "      <th>Bank_Des Moines</th>\n",
       "      <th>Bank_Indianapolis</th>\n",
       "      <th>Bank_Pittsburgh</th>\n",
       "      <th>...</th>\n",
       "      <th>PaymentCount</th>\n",
       "      <th>Age1</th>\n",
       "      <th>Age2</th>\n",
       "      <th>HousingExpense</th>\n",
       "      <th>DebtExpense</th>\n",
       "      <th>PMI</th>\n",
       "      <th>CreditScore1</th>\n",
       "      <th>CreditScore2</th>\n",
       "      <th>NoteDate</th>\n",
       "      <th>NoteAmount</th>\n",
       "    </tr>\n",
       "  </thead>\n",
       "  <tbody>\n",
       "    <tr>\n",
       "      <th>0</th>\n",
       "      <td>1</td>\n",
       "      <td>1</td>\n",
       "      <td>1</td>\n",
       "      <td>0.0</td>\n",
       "      <td>0.0</td>\n",
       "      <td>0.0</td>\n",
       "      <td>0.0</td>\n",
       "      <td>0.0</td>\n",
       "      <td>0.0</td>\n",
       "      <td>0.0</td>\n",
       "      <td>...</td>\n",
       "      <td>0.569720</td>\n",
       "      <td>-1.105876</td>\n",
       "      <td>0.150351</td>\n",
       "      <td>2.064010</td>\n",
       "      <td>1.740745</td>\n",
       "      <td>-0.415823</td>\n",
       "      <td>-0.514385</td>\n",
       "      <td>-0.573787</td>\n",
       "      <td>-1.000778</td>\n",
       "      <td>3.998591</td>\n",
       "    </tr>\n",
       "    <tr>\n",
       "      <th>1</th>\n",
       "      <td>1</td>\n",
       "      <td>0</td>\n",
       "      <td>1</td>\n",
       "      <td>0.0</td>\n",
       "      <td>0.0</td>\n",
       "      <td>0.0</td>\n",
       "      <td>0.0</td>\n",
       "      <td>0.0</td>\n",
       "      <td>0.0</td>\n",
       "      <td>1.0</td>\n",
       "      <td>...</td>\n",
       "      <td>0.569720</td>\n",
       "      <td>0.390298</td>\n",
       "      <td>0.984731</td>\n",
       "      <td>-0.071998</td>\n",
       "      <td>0.784674</td>\n",
       "      <td>2.252175</td>\n",
       "      <td>-3.021488</td>\n",
       "      <td>-1.009814</td>\n",
       "      <td>-1.000778</td>\n",
       "      <td>1.171192</td>\n",
       "    </tr>\n",
       "    <tr>\n",
       "      <th>2</th>\n",
       "      <td>0</td>\n",
       "      <td>0</td>\n",
       "      <td>0</td>\n",
       "      <td>0.0</td>\n",
       "      <td>0.0</td>\n",
       "      <td>0.0</td>\n",
       "      <td>0.0</td>\n",
       "      <td>0.0</td>\n",
       "      <td>1.0</td>\n",
       "      <td>0.0</td>\n",
       "      <td>...</td>\n",
       "      <td>-1.972857</td>\n",
       "      <td>-0.881450</td>\n",
       "      <td>-1.101219</td>\n",
       "      <td>-0.274357</td>\n",
       "      <td>0.940725</td>\n",
       "      <td>-0.415823</td>\n",
       "      <td>-0.514385</td>\n",
       "      <td>1.170317</td>\n",
       "      <td>1.403131</td>\n",
       "      <td>-0.035713</td>\n",
       "    </tr>\n",
       "    <tr>\n",
       "      <th>3</th>\n",
       "      <td>1</td>\n",
       "      <td>1</td>\n",
       "      <td>0</td>\n",
       "      <td>0.0</td>\n",
       "      <td>0.0</td>\n",
       "      <td>0.0</td>\n",
       "      <td>0.0</td>\n",
       "      <td>1.0</td>\n",
       "      <td>0.0</td>\n",
       "      <td>0.0</td>\n",
       "      <td>...</td>\n",
       "      <td>0.569720</td>\n",
       "      <td>-0.956259</td>\n",
       "      <td>0.275508</td>\n",
       "      <td>0.265267</td>\n",
       "      <td>-0.623944</td>\n",
       "      <td>2.252175</td>\n",
       "      <td>-0.514385</td>\n",
       "      <td>-0.573787</td>\n",
       "      <td>-1.000778</td>\n",
       "      <td>-0.040550</td>\n",
       "    </tr>\n",
       "    <tr>\n",
       "      <th>4</th>\n",
       "      <td>1</td>\n",
       "      <td>0</td>\n",
       "      <td>0</td>\n",
       "      <td>1.0</td>\n",
       "      <td>0.0</td>\n",
       "      <td>0.0</td>\n",
       "      <td>0.0</td>\n",
       "      <td>0.0</td>\n",
       "      <td>0.0</td>\n",
       "      <td>0.0</td>\n",
       "      <td>...</td>\n",
       "      <td>0.569720</td>\n",
       "      <td>0.315490</td>\n",
       "      <td>0.943012</td>\n",
       "      <td>-0.679074</td>\n",
       "      <td>-0.677001</td>\n",
       "      <td>-0.415823</td>\n",
       "      <td>-0.514385</td>\n",
       "      <td>-1.009814</td>\n",
       "      <td>-1.000778</td>\n",
       "      <td>0.854349</td>\n",
       "    </tr>\n",
       "    <tr>\n",
       "      <th>...</th>\n",
       "      <td>...</td>\n",
       "      <td>...</td>\n",
       "      <td>...</td>\n",
       "      <td>...</td>\n",
       "      <td>...</td>\n",
       "      <td>...</td>\n",
       "      <td>...</td>\n",
       "      <td>...</td>\n",
       "      <td>...</td>\n",
       "      <td>...</td>\n",
       "      <td>...</td>\n",
       "      <td>...</td>\n",
       "      <td>...</td>\n",
       "      <td>...</td>\n",
       "      <td>...</td>\n",
       "      <td>...</td>\n",
       "      <td>...</td>\n",
       "      <td>...</td>\n",
       "      <td>...</td>\n",
       "      <td>...</td>\n",
       "      <td>...</td>\n",
       "    </tr>\n",
       "    <tr>\n",
       "      <th>2245</th>\n",
       "      <td>1</td>\n",
       "      <td>0</td>\n",
       "      <td>0</td>\n",
       "      <td>0.0</td>\n",
       "      <td>0.0</td>\n",
       "      <td>1.0</td>\n",
       "      <td>0.0</td>\n",
       "      <td>0.0</td>\n",
       "      <td>0.0</td>\n",
       "      <td>0.0</td>\n",
       "      <td>...</td>\n",
       "      <td>0.569720</td>\n",
       "      <td>-0.657024</td>\n",
       "      <td>0.400665</td>\n",
       "      <td>0.587541</td>\n",
       "      <td>-0.235897</td>\n",
       "      <td>-0.415823</td>\n",
       "      <td>0.739167</td>\n",
       "      <td>-0.573787</td>\n",
       "      <td>-1.000778</td>\n",
       "      <td>-0.298539</td>\n",
       "    </tr>\n",
       "    <tr>\n",
       "      <th>2246</th>\n",
       "      <td>0</td>\n",
       "      <td>0</td>\n",
       "      <td>0</td>\n",
       "      <td>0.0</td>\n",
       "      <td>1.0</td>\n",
       "      <td>0.0</td>\n",
       "      <td>0.0</td>\n",
       "      <td>0.0</td>\n",
       "      <td>0.0</td>\n",
       "      <td>0.0</td>\n",
       "      <td>...</td>\n",
       "      <td>0.569720</td>\n",
       "      <td>0.988768</td>\n",
       "      <td>-1.101219</td>\n",
       "      <td>-0.235634</td>\n",
       "      <td>0.448645</td>\n",
       "      <td>-0.415823</td>\n",
       "      <td>-3.021488</td>\n",
       "      <td>1.170317</td>\n",
       "      <td>1.403131</td>\n",
       "      <td>-1.012847</td>\n",
       "    </tr>\n",
       "    <tr>\n",
       "      <th>2247</th>\n",
       "      <td>0</td>\n",
       "      <td>1</td>\n",
       "      <td>1</td>\n",
       "      <td>0.0</td>\n",
       "      <td>1.0</td>\n",
       "      <td>0.0</td>\n",
       "      <td>0.0</td>\n",
       "      <td>0.0</td>\n",
       "      <td>0.0</td>\n",
       "      <td>0.0</td>\n",
       "      <td>...</td>\n",
       "      <td>0.569720</td>\n",
       "      <td>0.016255</td>\n",
       "      <td>-1.101219</td>\n",
       "      <td>0.540075</td>\n",
       "      <td>1.772995</td>\n",
       "      <td>-0.415823</td>\n",
       "      <td>-1.767936</td>\n",
       "      <td>1.170317</td>\n",
       "      <td>-2.202733</td>\n",
       "      <td>0.322247</td>\n",
       "    </tr>\n",
       "    <tr>\n",
       "      <th>2248</th>\n",
       "      <td>1</td>\n",
       "      <td>1</td>\n",
       "      <td>0</td>\n",
       "      <td>0.0</td>\n",
       "      <td>0.0</td>\n",
       "      <td>0.0</td>\n",
       "      <td>0.0</td>\n",
       "      <td>0.0</td>\n",
       "      <td>1.0</td>\n",
       "      <td>0.0</td>\n",
       "      <td>...</td>\n",
       "      <td>0.569720</td>\n",
       "      <td>-1.255494</td>\n",
       "      <td>0.192070</td>\n",
       "      <td>1.198365</td>\n",
       "      <td>0.087648</td>\n",
       "      <td>2.785775</td>\n",
       "      <td>0.739167</td>\n",
       "      <td>-0.573787</td>\n",
       "      <td>0.201177</td>\n",
       "      <td>0.519770</td>\n",
       "    </tr>\n",
       "    <tr>\n",
       "      <th>2249</th>\n",
       "      <td>0</td>\n",
       "      <td>0</td>\n",
       "      <td>1</td>\n",
       "      <td>0.0</td>\n",
       "      <td>0.0</td>\n",
       "      <td>0.0</td>\n",
       "      <td>0.0</td>\n",
       "      <td>1.0</td>\n",
       "      <td>0.0</td>\n",
       "      <td>0.0</td>\n",
       "      <td>...</td>\n",
       "      <td>0.569720</td>\n",
       "      <td>-1.031067</td>\n",
       "      <td>-1.101219</td>\n",
       "      <td>1.822928</td>\n",
       "      <td>1.507709</td>\n",
       "      <td>2.252175</td>\n",
       "      <td>-1.767936</td>\n",
       "      <td>1.170317</td>\n",
       "      <td>-1.000778</td>\n",
       "      <td>-0.679073</td>\n",
       "    </tr>\n",
       "  </tbody>\n",
       "</table>\n",
       "<p>2250 rows × 73 columns</p>\n",
       "</div>"
      ],
      "text/plain": [
       "      BorrowerCount  FirstTime  SelfEmployed  Bank_Boston  Bank_Chicago  \\\n",
       "0                 1          1             1          0.0           0.0   \n",
       "1                 1          0             1          0.0           0.0   \n",
       "2                 0          0             0          0.0           0.0   \n",
       "3                 1          1             0          0.0           0.0   \n",
       "4                 1          0             0          1.0           0.0   \n",
       "...             ...        ...           ...          ...           ...   \n",
       "2245              1          0             0          0.0           0.0   \n",
       "2246              0          0             0          0.0           1.0   \n",
       "2247              0          1             1          0.0           1.0   \n",
       "2248              1          1             0          0.0           0.0   \n",
       "2249              0          0             1          0.0           0.0   \n",
       "\n",
       "      Bank_Cincinnati  Bank_Dallas  Bank_Des Moines  Bank_Indianapolis  \\\n",
       "0                 0.0          0.0              0.0                0.0   \n",
       "1                 0.0          0.0              0.0                0.0   \n",
       "2                 0.0          0.0              0.0                1.0   \n",
       "3                 0.0          0.0              1.0                0.0   \n",
       "4                 0.0          0.0              0.0                0.0   \n",
       "...               ...          ...              ...                ...   \n",
       "2245              1.0          0.0              0.0                0.0   \n",
       "2246              0.0          0.0              0.0                0.0   \n",
       "2247              0.0          0.0              0.0                0.0   \n",
       "2248              0.0          0.0              0.0                1.0   \n",
       "2249              0.0          0.0              1.0                0.0   \n",
       "\n",
       "      Bank_Pittsburgh  ...  PaymentCount      Age1      Age2  HousingExpense  \\\n",
       "0                 0.0  ...      0.569720 -1.105876  0.150351        2.064010   \n",
       "1                 1.0  ...      0.569720  0.390298  0.984731       -0.071998   \n",
       "2                 0.0  ...     -1.972857 -0.881450 -1.101219       -0.274357   \n",
       "3                 0.0  ...      0.569720 -0.956259  0.275508        0.265267   \n",
       "4                 0.0  ...      0.569720  0.315490  0.943012       -0.679074   \n",
       "...               ...  ...           ...       ...       ...             ...   \n",
       "2245              0.0  ...      0.569720 -0.657024  0.400665        0.587541   \n",
       "2246              0.0  ...      0.569720  0.988768 -1.101219       -0.235634   \n",
       "2247              0.0  ...      0.569720  0.016255 -1.101219        0.540075   \n",
       "2248              0.0  ...      0.569720 -1.255494  0.192070        1.198365   \n",
       "2249              0.0  ...      0.569720 -1.031067 -1.101219        1.822928   \n",
       "\n",
       "      DebtExpense       PMI  CreditScore1  CreditScore2  NoteDate  NoteAmount  \n",
       "0        1.740745 -0.415823     -0.514385     -0.573787 -1.000778    3.998591  \n",
       "1        0.784674  2.252175     -3.021488     -1.009814 -1.000778    1.171192  \n",
       "2        0.940725 -0.415823     -0.514385      1.170317  1.403131   -0.035713  \n",
       "3       -0.623944  2.252175     -0.514385     -0.573787 -1.000778   -0.040550  \n",
       "4       -0.677001 -0.415823     -0.514385     -1.009814 -1.000778    0.854349  \n",
       "...           ...       ...           ...           ...       ...         ...  \n",
       "2245    -0.235897 -0.415823      0.739167     -0.573787 -1.000778   -0.298539  \n",
       "2246     0.448645 -0.415823     -3.021488      1.170317  1.403131   -1.012847  \n",
       "2247     1.772995 -0.415823     -1.767936      1.170317 -2.202733    0.322247  \n",
       "2248     0.087648  2.785775      0.739167     -0.573787  0.201177    0.519770  \n",
       "2249     1.507709  2.252175     -1.767936      1.170317 -1.000778   -0.679073  \n",
       "\n",
       "[2250 rows x 73 columns]"
      ]
     },
     "execution_count": 12,
     "metadata": {},
     "output_type": "execute_result"
    }
   ],
   "source": [
    "X_test"
   ]
  },
  {
   "cell_type": "code",
   "execution_count": null,
   "id": "7809d416",
   "metadata": {},
   "outputs": [],
   "source": [
    "X"
   ]
  },
  {
   "cell_type": "code",
   "execution_count": null,
   "id": "ab569d16",
   "metadata": {},
   "outputs": [],
   "source": []
  },
  {
   "cell_type": "code",
   "execution_count": 13,
   "id": "3df57709",
   "metadata": {},
   "outputs": [
    {
     "data": {
      "text/plain": [
       "count    1.890790e+05\n",
       "mean    -1.981173e-16\n",
       "std      1.000003e+00\n",
       "min     -2.684678e+00\n",
       "25%     -7.623710e-01\n",
       "50%     -1.856790e-01\n",
       "75%      5.832437e-01\n",
       "max      4.427857e+00\n",
       "dtype: float64"
      ]
     },
     "execution_count": 13,
     "metadata": {},
     "output_type": "execute_result"
    }
   ],
   "source": [
    "# dependent variables\n",
    "ss_y = StandardScaler()\n",
    "y = ss_y.fit_transform(np.array(y).reshape(-1, 1))\n",
    "y_test = ss_y.transform(np.array(y_test).reshape(-1, 1))\n",
    "pd.Series(y.flatten()).describe()"
   ]
  },
  {
   "cell_type": "code",
   "execution_count": 14,
   "id": "020a2f75",
   "metadata": {},
   "outputs": [
    {
     "data": {
      "text/plain": [
       "array([[ 1.73662773],\n",
       "       [ 2.50555042],\n",
       "       [-1.14683236],\n",
       "       ...,\n",
       "       [ 3.08224244],\n",
       "       [ 0.19878235],\n",
       "       [ 2.31331975]])"
      ]
     },
     "execution_count": 14,
     "metadata": {},
     "output_type": "execute_result"
    }
   ],
   "source": [
    "y_test"
   ]
  },
  {
   "cell_type": "markdown",
   "id": "d588821a",
   "metadata": {},
   "source": [
    "# Scoring Methods\n"
   ]
  },
  {
   "cell_type": "code",
   "execution_count": 15,
   "id": "3ff86bd4",
   "metadata": {},
   "outputs": [],
   "source": [
    "from sklearn.metrics import mean_squared_error, r2_score, mean_absolute_error\n",
    "\n",
    "\n",
    "def mean_residual(y_true, prediction):\n",
    "    '''Compute the mean residual metric'''\n",
    "    residuals = (y_true - prediction)\n",
    "    MR = residuals.mean()\n",
    "    return MR\n",
    "\n",
    "\n",
    "def compute_scores(x, y_true, y_pred):\n",
    "    '''Compute the following metrics for the given model: MSE, MAE, MR, r2'''\n",
    "    y_true = y_true.reshape(y_pred.shape)\n",
    "\n",
    "    MSE = mean_squared_error(y_true, y_pred)\n",
    "    print(f\"MSE: {MSE:.4f}\")\n",
    "    MAE = mean_absolute_error(y_true, y_pred)\n",
    "    print(f\"MAE: {MAE:.4f}\")\n",
    "    MR = mean_residual(y_true, y_pred)\n",
    "    print(f\"MR: {MR:.4f}\")\n",
    "    R2 = r2_score(y_true, y_pred)\n",
    "    adj_R2 = 1- ((1-R2) * (x.shape[0]-1)/(x.shape[0]-x.shape[1]-1))\n",
    "    print(f\"adj-R2: {adj_R2:.4f}\")\n",
    "    return [MSE, MAE, MR, adj_R2]\n",
    "\n",
    "\n",
    "def save_scores(model, scores):\n",
    "    '''Store scores for the given model into a dedicated dataframe for a final comparison across models'''\n",
    "    MSE, MAE, MR, r2 = scores\n",
    "    #pd.Series(scores).to_csv('scores/'+model)\n",
    "    model_names.append(model)\n",
    "    MSEs.append(MSE)\n",
    "    MAEs.append(MAE)\n",
    "    MRs.append(MR)\n",
    "    r2s.append(r2)\n",
    "    \n",
    "\n",
    "def display_scores():\n",
    "    scores_df = pd.DataFrame([model_names, MSEs, MAEs, MRs, r2s], \n",
    "                 index=['method', 'MSE', 'MAE', 'MR', 'adj R-squared']).T\n",
    "    return scores_df"
   ]
  },
  {
   "cell_type": "code",
   "execution_count": 16,
   "id": "2df619b4",
   "metadata": {},
   "outputs": [],
   "source": [
    "model_names, MSEs, MAEs, MRs, r2s = [],[],[],[],[]"
   ]
  },
  {
   "cell_type": "code",
   "execution_count": 17,
   "id": "6322c5c7",
   "metadata": {},
   "outputs": [],
   "source": [
    "def export_pred(y_pred_std, model, scaler=ss_y):\n",
    "    '''Reverts model predictions to the original scale of the input data and then saves it to a csv file'''\n",
    "\n",
    "    y_pred = scaler.inverse_transform(np.array(y_pred_std, ndmin=2)).flatten()\n",
    "    np.savetxt('predictions/'+str(model)+'_pred.csv', y_pred, delimiter=\",\")"
   ]
  },
  {
   "cell_type": "markdown",
   "id": "42c2808f",
   "metadata": {},
   "source": [
    "# MODELS\n",
    "\n",
    "# 1. Linear Regression"
   ]
  },
  {
   "cell_type": "code",
   "execution_count": 18,
   "id": "777b19bb",
   "metadata": {},
   "outputs": [],
   "source": [
    "import statsmodels.api as sm"
   ]
  },
  {
   "cell_type": "code",
   "execution_count": 19,
   "id": "6991e9bb",
   "metadata": {},
   "outputs": [
    {
     "name": "stdout",
     "output_type": "stream",
     "text": [
      "                            OLS Regression Results                            \n",
      "==============================================================================\n",
      "Dep. Variable:                      y   R-squared:                       0.705\n",
      "Model:                            OLS   Adj. R-squared:                  0.705\n",
      "Method:                 Least Squares   F-statistic:                     7061.\n",
      "Date:                Wed, 04 Oct 2023   Prob (F-statistic):               0.00\n",
      "Time:                        00:17:27   Log-Likelihood:            -1.5285e+05\n",
      "No. Observations:              189079   AIC:                         3.058e+05\n",
      "Df Residuals:                  189014   BIC:                         3.065e+05\n",
      "Df Model:                          64                                         \n",
      "Covariance Type:            nonrobust                                         \n",
      "===================================================================================================\n",
      "                                      coef    std err          t      P>|t|      [0.025      0.975]\n",
      "---------------------------------------------------------------------------------------------------\n",
      "const                           -1.262e+11   1.46e+11     -0.864      0.388   -4.13e+11     1.6e+11\n",
      "BorrowerCount                      -0.0311      0.043     -0.733      0.464      -0.114       0.052\n",
      "FirstTime                           0.3556      0.004     90.498      0.000       0.348       0.363\n",
      "SelfEmployed                        0.3511      0.003    103.897      0.000       0.344       0.358\n",
      "Bank_Boston                     -4.234e+09    2.5e+09     -1.694      0.090   -9.13e+09    6.64e+08\n",
      "Bank_Chicago                    -4.234e+09    2.5e+09     -1.694      0.090   -9.13e+09    6.64e+08\n",
      "Bank_Cincinnati                 -4.234e+09    2.5e+09     -1.694      0.090   -9.13e+09    6.64e+08\n",
      "Bank_Dallas                     -4.234e+09    2.5e+09     -1.694      0.090   -9.13e+09    6.64e+08\n",
      "Bank_Des Moines                 -4.234e+09    2.5e+09     -1.694      0.090   -9.13e+09    6.64e+08\n",
      "Bank_Indianapolis               -4.234e+09    2.5e+09     -1.694      0.090   -9.13e+09    6.64e+08\n",
      "Bank_Pittsburgh                 -4.234e+09    2.5e+09     -1.694      0.090   -9.13e+09    6.64e+08\n",
      "Bank_Topeka                     -4.234e+09    2.5e+09     -1.694      0.090   -9.13e+09    6.64e+08\n",
      "Bank_infrequent_sklearn         -4.234e+09    2.5e+09     -1.694      0.090   -9.13e+09    6.64e+08\n",
      "LoanPurpose_1                   -5.156e+08   5.14e+09     -0.100      0.920   -1.06e+10    9.56e+09\n",
      "LoanPurpose_2                   -5.156e+08   5.14e+09     -0.100      0.920   -1.06e+10    9.56e+09\n",
      "LoanPurpose_6                   -5.156e+08   5.14e+09     -0.100      0.920   -1.06e+10    9.56e+09\n",
      "MortgageType_0                  -6.041e+10   5.86e+10     -1.030      0.303   -1.75e+11    5.45e+10\n",
      "MortgageType_infrequent_sklearn -6.041e+10   5.86e+10     -1.030      0.303   -1.75e+11    5.45e+10\n",
      "Gender1_1                       -1.113e+11   3.71e+10     -3.002      0.003   -1.84e+11   -3.86e+10\n",
      "Gender1_2                       -1.113e+11   3.71e+10     -3.002      0.003   -1.84e+11   -3.86e+10\n",
      "Gender1_3                       -1.113e+11   3.71e+10     -3.002      0.003   -1.84e+11   -3.86e+10\n",
      "Gender2_1                        3.618e+09   1.64e+10      0.221      0.825   -2.85e+10    3.57e+10\n",
      "Gender2_2                        3.618e+09   1.64e+10      0.221      0.825   -2.85e+10    3.57e+10\n",
      "Gender2_3                        3.618e+09   1.64e+10      0.221      0.825   -2.85e+10    3.57e+10\n",
      "Gender2_4                        3.618e+09   1.64e+10      0.221      0.825   -2.85e+10    3.57e+10\n",
      "PropertyType_1                  -2.362e+09   1.24e+10     -0.190      0.849   -2.67e+10     2.2e+10\n",
      "PropertyType_6                  -2.362e+09   1.24e+10     -0.190      0.849   -2.67e+10     2.2e+10\n",
      "PropertyType_7                  -2.362e+09   1.24e+10     -0.190      0.849   -2.67e+10     2.2e+10\n",
      "PropertyType_infrequent_sklearn -2.362e+09   1.24e+10     -0.190      0.849   -2.67e+10     2.2e+10\n",
      "Race1_2                         -6.338e+10   4.34e+10     -1.462      0.144   -1.48e+11    2.16e+10\n",
      "Race1_5                         -3.464e+10   1.07e+11     -0.323      0.747   -2.45e+11    1.75e+11\n",
      "Race1_6                          2.232e+10   1.61e+11      0.139      0.890   -2.93e+11    3.38e+11\n",
      "Race1_infrequent_sklearn        -6.338e+10   4.34e+10     -1.462      0.144   -1.48e+11    2.16e+10\n",
      "Minority2_Min                    4.724e+10   4.21e+10      1.122      0.262   -3.53e+10     1.3e+11\n",
      "Minority2_Missing                4.724e+10   4.21e+10      1.122      0.262   -3.53e+10     1.3e+11\n",
      "Minority2_White                  8.377e+10   5.96e+10      1.406      0.160    -3.3e+10    2.01e+11\n",
      "Race2_5                          8.311e+10   5.95e+10      1.396      0.163   -3.36e+10       2e+11\n",
      "Race2_6                          1.196e+11   7.97e+10      1.502      0.133   -3.65e+10    2.76e+11\n",
      "Race2_8                          1.196e+11   7.97e+10      1.502      0.133   -3.65e+10    2.76e+11\n",
      "Race2_infrequent_sklearn         1.196e+11   7.97e+10      1.502      0.133   -3.65e+10    2.76e+11\n",
      "State_6                         -1.411e+09   1.01e+10     -0.140      0.889   -2.12e+10    1.84e+10\n",
      "State_8                         -1.411e+09   1.01e+10     -0.140      0.889   -2.12e+10    1.84e+10\n",
      "State_17                        -1.411e+09   1.01e+10     -0.140      0.889   -2.12e+10    1.84e+10\n",
      "State_18                        -1.411e+09   1.01e+10     -0.140      0.889   -2.12e+10    1.84e+10\n",
      "State_19                        -1.411e+09   1.01e+10     -0.140      0.889   -2.12e+10    1.84e+10\n",
      "State_20                        -1.411e+09   1.01e+10     -0.140      0.889   -2.12e+10    1.84e+10\n",
      "State_26                        -1.411e+09   1.01e+10     -0.140      0.889   -2.12e+10    1.84e+10\n",
      "State_27                        -1.411e+09   1.01e+10     -0.140      0.889   -2.12e+10    1.84e+10\n",
      "State_29                        -1.411e+09   1.01e+10     -0.140      0.889   -2.12e+10    1.84e+10\n",
      "State_31                        -1.411e+09   1.01e+10     -0.140      0.889   -2.12e+10    1.84e+10\n",
      "State_39                        -1.411e+09   1.01e+10     -0.140      0.889   -2.12e+10    1.84e+10\n",
      "State_42                        -1.411e+09   1.01e+10     -0.140      0.889   -2.12e+10    1.84e+10\n",
      "State_48                        -1.411e+09   1.01e+10     -0.140      0.889   -2.12e+10    1.84e+10\n",
      "State_55                        -1.411e+09   1.01e+10     -0.140      0.889   -2.12e+10    1.84e+10\n",
      "State_infrequent_sklearn        -1.411e+09   1.01e+10     -0.140      0.889   -2.12e+10    1.84e+10\n",
      "Minority_Min                     1.994e+11    8.1e+10      2.460      0.014    4.05e+10    3.58e+11\n",
      "Minority_Missing                 1.137e+11   1.79e+11      0.634      0.526   -2.38e+11    4.65e+11\n",
      "Minority_White                   1.706e+11   1.31e+11      1.302      0.193   -8.63e+10    4.27e+11\n",
      "Borrower2Dummy                     -0.2636      0.038     -7.017      0.000      -0.337      -0.190\n",
      "MinorityRatio                       0.0328      0.002     19.886      0.000       0.030       0.036\n",
      "CensusTractMedFamIncome             0.0108      0.002      6.468      0.000       0.008       0.014\n",
      "MonthlyIncome                       0.0393      0.003     15.545      0.000       0.034       0.044\n",
      "HUDMedIncome                       -0.0023      0.002     -1.349      0.177      -0.006       0.001\n",
      "LTV                                 0.0484      0.003     17.020      0.000       0.043       0.054\n",
      "PaymentCount                        0.2956      0.001    199.071      0.000       0.293       0.299\n",
      "Age1                                0.0281      0.002     15.337      0.000       0.025       0.032\n",
      "Age2                               -0.0193      0.004     -4.612      0.000      -0.028      -0.011\n",
      "HousingExpense                      0.0450      0.002     20.159      0.000       0.041       0.049\n",
      "DebtExpense                         0.0297      0.002     17.638      0.000       0.026       0.033\n",
      "PMI                                -0.0424      0.002    -18.756      0.000      -0.047      -0.038\n",
      "CreditScore1                       -0.0822      0.001    -56.224      0.000      -0.085      -0.079\n",
      "CreditScore2                       -0.0977      0.006    -17.713      0.000      -0.109      -0.087\n",
      "NoteDate                           -0.5767      0.001   -419.438      0.000      -0.579      -0.574\n",
      "NoteAmount                         -0.0553      0.003    -21.562      0.000      -0.060      -0.050\n",
      "==============================================================================\n",
      "Omnibus:                     2735.303   Durbin-Watson:                   2.000\n",
      "Prob(Omnibus):                  0.000   Jarque-Bera (JB):             4194.333\n",
      "Skew:                           0.155   Prob(JB):                         0.00\n",
      "Kurtosis:                       3.661   Cond. No.                     1.10e+16\n",
      "==============================================================================\n",
      "\n",
      "Notes:\n",
      "[1] Standard Errors assume that the covariance matrix of the errors is correctly specified.\n",
      "[2] The smallest eigenvalue is 1.21e-26. This might indicate that there are\n",
      "strong multicollinearity problems or that the design matrix is singular.\n"
     ]
    }
   ],
   "source": [
    "#add constant to predictor variables\n",
    "x = sm.add_constant(X)\n",
    "#fit linear regression model\n",
    "lr = sm.OLS(y, x).fit()\n",
    "\n",
    "#view model summary\n",
    "print(lr.summary())"
   ]
  },
  {
   "cell_type": "code",
   "execution_count": 20,
   "id": "8868e892",
   "metadata": {},
   "outputs": [
    {
     "name": "stdout",
     "output_type": "stream",
     "text": [
      "MSE: 1566066389749368881152.0000\n",
      "MAE: 30279372891.1281\n",
      "MR: 7100327449.2158\n",
      "adj-R2: -1563240973179226947584.0000\n"
     ]
    },
    {
     "name": "stderr",
     "output_type": "stream",
     "text": [
      "/Users/fra/miniconda3/envs/tensorflow/lib/python3.10/site-packages/sklearn/utils/validation.py:605: FutureWarning: is_sparse is deprecated and will be removed in a future version. Check `isinstance(dtype, pd.SparseDtype)` instead.\n",
      "  if is_sparse(pd_dtype):\n",
      "/Users/fra/miniconda3/envs/tensorflow/lib/python3.10/site-packages/sklearn/utils/validation.py:614: FutureWarning: is_sparse is deprecated and will be removed in a future version. Check `isinstance(dtype, pd.SparseDtype)` instead.\n",
      "  if is_sparse(pd_dtype) or not is_extension_array_dtype(pd_dtype):\n",
      "/Users/fra/miniconda3/envs/tensorflow/lib/python3.10/site-packages/sklearn/utils/validation.py:605: FutureWarning: is_sparse is deprecated and will be removed in a future version. Check `isinstance(dtype, pd.SparseDtype)` instead.\n",
      "  if is_sparse(pd_dtype):\n",
      "/Users/fra/miniconda3/envs/tensorflow/lib/python3.10/site-packages/sklearn/utils/validation.py:614: FutureWarning: is_sparse is deprecated and will be removed in a future version. Check `isinstance(dtype, pd.SparseDtype)` instead.\n",
      "  if is_sparse(pd_dtype) or not is_extension_array_dtype(pd_dtype):\n",
      "/Users/fra/miniconda3/envs/tensorflow/lib/python3.10/site-packages/sklearn/utils/validation.py:605: FutureWarning: is_sparse is deprecated and will be removed in a future version. Check `isinstance(dtype, pd.SparseDtype)` instead.\n",
      "  if is_sparse(pd_dtype):\n",
      "/Users/fra/miniconda3/envs/tensorflow/lib/python3.10/site-packages/sklearn/utils/validation.py:614: FutureWarning: is_sparse is deprecated and will be removed in a future version. Check `isinstance(dtype, pd.SparseDtype)` instead.\n",
      "  if is_sparse(pd_dtype) or not is_extension_array_dtype(pd_dtype):\n"
     ]
    }
   ],
   "source": [
    "X_TEST = sm.add_constant(X_test)\n",
    "lr_pred = lr.predict(X_TEST)\n",
    "scores = compute_scores(X_TEST, y_test, lr_pred)\n",
    "save_scores('LinearRegression', scores)"
   ]
  },
  {
   "cell_type": "code",
   "execution_count": 21,
   "id": "4a4a6711",
   "metadata": {},
   "outputs": [],
   "source": [
    "export_pred(lr_pred, 'LinearRegression')"
   ]
  },
  {
   "cell_type": "code",
   "execution_count": 22,
   "id": "8189265e",
   "metadata": {},
   "outputs": [
    {
     "data": {
      "text/plain": [
       "0       2.874459e+10\n",
       "1       2.874459e+10\n",
       "2       2.874459e+10\n",
       "3       2.874459e+10\n",
       "4       2.874459e+10\n",
       "            ...     \n",
       "2245    4.516497e-01\n",
       "2246   -2.874459e+10\n",
       "2247    5.695444e+10\n",
       "2248    1.380003e-01\n",
       "2249    1.112761e+00\n",
       "Length: 2250, dtype: float64"
      ]
     },
     "execution_count": 22,
     "metadata": {},
     "output_type": "execute_result"
    }
   ],
   "source": [
    "lr_pred"
   ]
  },
  {
   "cell_type": "markdown",
   "id": "3d54f7c1",
   "metadata": {},
   "source": [
    "# 5. Random Forest - only predict"
   ]
  },
  {
   "cell_type": "code",
   "execution_count": 23,
   "id": "36d2c20a",
   "metadata": {},
   "outputs": [],
   "source": [
    "yf= y.flatten()"
   ]
  },
  {
   "cell_type": "code",
   "execution_count": 24,
   "id": "2d6cd973",
   "metadata": {},
   "outputs": [],
   "source": [
    "from sklearn.ensemble import RandomForestRegressor\n",
    "from sklearn.model_selection import GridSearchCV"
   ]
  },
  {
   "cell_type": "code",
   "execution_count": 25,
   "id": "8db22ac7",
   "metadata": {},
   "outputs": [
    {
     "name": "stderr",
     "output_type": "stream",
     "text": [
      "/Users/fra/miniconda3/envs/tensorflow/lib/python3.10/site-packages/sklearn/utils/validation.py:767: FutureWarning: is_sparse is deprecated and will be removed in a future version. Check `isinstance(dtype, pd.SparseDtype)` instead.\n",
      "  if not hasattr(array, \"sparse\") and array.dtypes.apply(is_sparse).any():\n",
      "/Users/fra/miniconda3/envs/tensorflow/lib/python3.10/site-packages/sklearn/utils/validation.py:605: FutureWarning: is_sparse is deprecated and will be removed in a future version. Check `isinstance(dtype, pd.SparseDtype)` instead.\n",
      "  if is_sparse(pd_dtype):\n",
      "/Users/fra/miniconda3/envs/tensorflow/lib/python3.10/site-packages/sklearn/utils/validation.py:614: FutureWarning: is_sparse is deprecated and will be removed in a future version. Check `isinstance(dtype, pd.SparseDtype)` instead.\n",
      "  if is_sparse(pd_dtype) or not is_extension_array_dtype(pd_dtype):\n"
     ]
    },
    {
     "data": {
      "text/html": [
       "<style>#sk-container-id-1 {color: black;background-color: white;}#sk-container-id-1 pre{padding: 0;}#sk-container-id-1 div.sk-toggleable {background-color: white;}#sk-container-id-1 label.sk-toggleable__label {cursor: pointer;display: block;width: 100%;margin-bottom: 0;padding: 0.3em;box-sizing: border-box;text-align: center;}#sk-container-id-1 label.sk-toggleable__label-arrow:before {content: \"▸\";float: left;margin-right: 0.25em;color: #696969;}#sk-container-id-1 label.sk-toggleable__label-arrow:hover:before {color: black;}#sk-container-id-1 div.sk-estimator:hover label.sk-toggleable__label-arrow:before {color: black;}#sk-container-id-1 div.sk-toggleable__content {max-height: 0;max-width: 0;overflow: hidden;text-align: left;background-color: #f0f8ff;}#sk-container-id-1 div.sk-toggleable__content pre {margin: 0.2em;color: black;border-radius: 0.25em;background-color: #f0f8ff;}#sk-container-id-1 input.sk-toggleable__control:checked~div.sk-toggleable__content {max-height: 200px;max-width: 100%;overflow: auto;}#sk-container-id-1 input.sk-toggleable__control:checked~label.sk-toggleable__label-arrow:before {content: \"▾\";}#sk-container-id-1 div.sk-estimator input.sk-toggleable__control:checked~label.sk-toggleable__label {background-color: #d4ebff;}#sk-container-id-1 div.sk-label input.sk-toggleable__control:checked~label.sk-toggleable__label {background-color: #d4ebff;}#sk-container-id-1 input.sk-hidden--visually {border: 0;clip: rect(1px 1px 1px 1px);clip: rect(1px, 1px, 1px, 1px);height: 1px;margin: -1px;overflow: hidden;padding: 0;position: absolute;width: 1px;}#sk-container-id-1 div.sk-estimator {font-family: monospace;background-color: #f0f8ff;border: 1px dotted black;border-radius: 0.25em;box-sizing: border-box;margin-bottom: 0.5em;}#sk-container-id-1 div.sk-estimator:hover {background-color: #d4ebff;}#sk-container-id-1 div.sk-parallel-item::after {content: \"\";width: 100%;border-bottom: 1px solid gray;flex-grow: 1;}#sk-container-id-1 div.sk-label:hover label.sk-toggleable__label {background-color: #d4ebff;}#sk-container-id-1 div.sk-serial::before {content: \"\";position: absolute;border-left: 1px solid gray;box-sizing: border-box;top: 0;bottom: 0;left: 50%;z-index: 0;}#sk-container-id-1 div.sk-serial {display: flex;flex-direction: column;align-items: center;background-color: white;padding-right: 0.2em;padding-left: 0.2em;position: relative;}#sk-container-id-1 div.sk-item {position: relative;z-index: 1;}#sk-container-id-1 div.sk-parallel {display: flex;align-items: stretch;justify-content: center;background-color: white;position: relative;}#sk-container-id-1 div.sk-item::before, #sk-container-id-1 div.sk-parallel-item::before {content: \"\";position: absolute;border-left: 1px solid gray;box-sizing: border-box;top: 0;bottom: 0;left: 50%;z-index: -1;}#sk-container-id-1 div.sk-parallel-item {display: flex;flex-direction: column;z-index: 1;position: relative;background-color: white;}#sk-container-id-1 div.sk-parallel-item:first-child::after {align-self: flex-end;width: 50%;}#sk-container-id-1 div.sk-parallel-item:last-child::after {align-self: flex-start;width: 50%;}#sk-container-id-1 div.sk-parallel-item:only-child::after {width: 0;}#sk-container-id-1 div.sk-dashed-wrapped {border: 1px dashed gray;margin: 0 0.4em 0.5em 0.4em;box-sizing: border-box;padding-bottom: 0.4em;background-color: white;}#sk-container-id-1 div.sk-label label {font-family: monospace;font-weight: bold;display: inline-block;line-height: 1.2em;}#sk-container-id-1 div.sk-label-container {text-align: center;}#sk-container-id-1 div.sk-container {/* jupyter's `normalize.less` sets `[hidden] { display: none; }` but bootstrap.min.css set `[hidden] { display: none !important; }` so we also need the `!important` here to be able to override the default hidden behavior on the sphinx rendered scikit-learn.org. See: https://github.com/scikit-learn/scikit-learn/issues/21755 */display: inline-block !important;position: relative;}#sk-container-id-1 div.sk-text-repr-fallback {display: none;}</style><div id=\"sk-container-id-1\" class=\"sk-top-container\"><div class=\"sk-text-repr-fallback\"><pre>RandomForestRegressor(max_depth=30, n_estimators=128)</pre><b>In a Jupyter environment, please rerun this cell to show the HTML representation or trust the notebook. <br />On GitHub, the HTML representation is unable to render, please try loading this page with nbviewer.org.</b></div><div class=\"sk-container\" hidden><div class=\"sk-item\"><div class=\"sk-estimator sk-toggleable\"><input class=\"sk-toggleable__control sk-hidden--visually\" id=\"sk-estimator-id-1\" type=\"checkbox\" checked><label for=\"sk-estimator-id-1\" class=\"sk-toggleable__label sk-toggleable__label-arrow\">RandomForestRegressor</label><div class=\"sk-toggleable__content\"><pre>RandomForestRegressor(max_depth=30, n_estimators=128)</pre></div></div></div></div></div>"
      ],
      "text/plain": [
       "RandomForestRegressor(max_depth=30, n_estimators=128)"
      ]
     },
     "execution_count": 25,
     "metadata": {},
     "output_type": "execute_result"
    }
   ],
   "source": [
    "best_forest = RandomForestRegressor(max_depth=30, n_estimators=128)\n",
    "best_forest.fit(X, yf)"
   ]
  },
  {
   "cell_type": "code",
   "execution_count": 26,
   "id": "7469a2c5",
   "metadata": {},
   "outputs": [
    {
     "name": "stdout",
     "output_type": "stream",
     "text": [
      "MSE: 0.1738\n",
      "MAE: 0.3183\n",
      "MR: -0.0061\n",
      "adj-R2: 0.8266\n"
     ]
    },
    {
     "name": "stderr",
     "output_type": "stream",
     "text": [
      "/Users/fra/miniconda3/envs/tensorflow/lib/python3.10/site-packages/sklearn/utils/validation.py:767: FutureWarning: is_sparse is deprecated and will be removed in a future version. Check `isinstance(dtype, pd.SparseDtype)` instead.\n",
      "  if not hasattr(array, \"sparse\") and array.dtypes.apply(is_sparse).any():\n",
      "/Users/fra/miniconda3/envs/tensorflow/lib/python3.10/site-packages/sklearn/utils/validation.py:605: FutureWarning: is_sparse is deprecated and will be removed in a future version. Check `isinstance(dtype, pd.SparseDtype)` instead.\n",
      "  if is_sparse(pd_dtype):\n",
      "/Users/fra/miniconda3/envs/tensorflow/lib/python3.10/site-packages/sklearn/utils/validation.py:614: FutureWarning: is_sparse is deprecated and will be removed in a future version. Check `isinstance(dtype, pd.SparseDtype)` instead.\n",
      "  if is_sparse(pd_dtype) or not is_extension_array_dtype(pd_dtype):\n"
     ]
    }
   ],
   "source": [
    "forest_pred = best_forest.predict(X_test)\n",
    "scores = compute_scores(X_test, y_test, forest_pred)\n",
    "save_scores('RandomForest', scores)"
   ]
  },
  {
   "cell_type": "code",
   "execution_count": 27,
   "id": "e56493a3",
   "metadata": {},
   "outputs": [
    {
     "data": {
      "text/plain": [
       "2250"
      ]
     },
     "execution_count": 27,
     "metadata": {},
     "output_type": "execute_result"
    }
   ],
   "source": [
    "len(forest_pred)"
   ]
  },
  {
   "cell_type": "code",
   "execution_count": 28,
   "id": "deadc693",
   "metadata": {},
   "outputs": [],
   "source": [
    "export_pred(forest_pred, 'RandomForest')"
   ]
  },
  {
   "cell_type": "code",
   "execution_count": null,
   "id": "d40b91da",
   "metadata": {},
   "outputs": [],
   "source": []
  },
  {
   "cell_type": "code",
   "execution_count": null,
   "id": "893bbdc1",
   "metadata": {},
   "outputs": [],
   "source": []
  },
  {
   "cell_type": "code",
   "execution_count": null,
   "id": "81b39a52",
   "metadata": {},
   "outputs": [],
   "source": []
  },
  {
   "cell_type": "code",
   "execution_count": null,
   "id": "ec0f381e",
   "metadata": {},
   "outputs": [],
   "source": []
  },
  {
   "cell_type": "code",
   "execution_count": null,
   "id": "717b3fab",
   "metadata": {},
   "outputs": [],
   "source": []
  },
  {
   "cell_type": "markdown",
   "id": "9fc4f776",
   "metadata": {},
   "source": [
    "# 6. XGBoost \n",
    "\n",
    "First we explore the default parameters, then move on to cross validation."
   ]
  },
  {
   "cell_type": "code",
   "execution_count": 29,
   "id": "47496ccb",
   "metadata": {},
   "outputs": [],
   "source": [
    "from xgboost import XGBRegressor\n",
    "import time"
   ]
  },
  {
   "cell_type": "code",
   "execution_count": 30,
   "id": "a178d789",
   "metadata": {},
   "outputs": [],
   "source": [
    "best_params_xgb = {'colsample_bytree': 1.0, 'gamma': 0.2, \n",
    "                'learning_rate': 0.3, 'max_depth': 6, \n",
    "                'min_child_weight': 2, 'n_estimators': 128, \n",
    "                'reg_alpha': 0.5, 'reg_lambda': 1, 'subsample': 1.0}"
   ]
  },
  {
   "cell_type": "code",
   "execution_count": 31,
   "id": "50a43758",
   "metadata": {},
   "outputs": [
    {
     "name": "stderr",
     "output_type": "stream",
     "text": [
      "/Users/fra/miniconda3/envs/tensorflow/lib/python3.10/site-packages/xgboost/data.py:312: FutureWarning: is_sparse is deprecated and will be removed in a future version. Check `isinstance(dtype, pd.SparseDtype)` instead.\n",
      "  if is_sparse(dtype):\n",
      "/Users/fra/miniconda3/envs/tensorflow/lib/python3.10/site-packages/xgboost/data.py:314: FutureWarning: is_categorical_dtype is deprecated and will be removed in a future version. Use isinstance(dtype, CategoricalDtype) instead\n",
      "  elif is_categorical_dtype(dtype) and enable_categorical:\n",
      "/Users/fra/miniconda3/envs/tensorflow/lib/python3.10/site-packages/xgboost/data.py:345: FutureWarning: is_categorical_dtype is deprecated and will be removed in a future version. Use isinstance(dtype, CategoricalDtype) instead\n",
      "  if is_categorical_dtype(dtype)\n",
      "/Users/fra/miniconda3/envs/tensorflow/lib/python3.10/site-packages/xgboost/data.py:336: FutureWarning: is_categorical_dtype is deprecated and will be removed in a future version. Use isinstance(dtype, CategoricalDtype) instead\n",
      "  return is_int or is_bool or is_float or is_categorical_dtype(dtype)\n"
     ]
    },
    {
     "data": {
      "text/html": [
       "<style>#sk-container-id-2 {color: black;background-color: white;}#sk-container-id-2 pre{padding: 0;}#sk-container-id-2 div.sk-toggleable {background-color: white;}#sk-container-id-2 label.sk-toggleable__label {cursor: pointer;display: block;width: 100%;margin-bottom: 0;padding: 0.3em;box-sizing: border-box;text-align: center;}#sk-container-id-2 label.sk-toggleable__label-arrow:before {content: \"▸\";float: left;margin-right: 0.25em;color: #696969;}#sk-container-id-2 label.sk-toggleable__label-arrow:hover:before {color: black;}#sk-container-id-2 div.sk-estimator:hover label.sk-toggleable__label-arrow:before {color: black;}#sk-container-id-2 div.sk-toggleable__content {max-height: 0;max-width: 0;overflow: hidden;text-align: left;background-color: #f0f8ff;}#sk-container-id-2 div.sk-toggleable__content pre {margin: 0.2em;color: black;border-radius: 0.25em;background-color: #f0f8ff;}#sk-container-id-2 input.sk-toggleable__control:checked~div.sk-toggleable__content {max-height: 200px;max-width: 100%;overflow: auto;}#sk-container-id-2 input.sk-toggleable__control:checked~label.sk-toggleable__label-arrow:before {content: \"▾\";}#sk-container-id-2 div.sk-estimator input.sk-toggleable__control:checked~label.sk-toggleable__label {background-color: #d4ebff;}#sk-container-id-2 div.sk-label input.sk-toggleable__control:checked~label.sk-toggleable__label {background-color: #d4ebff;}#sk-container-id-2 input.sk-hidden--visually {border: 0;clip: rect(1px 1px 1px 1px);clip: rect(1px, 1px, 1px, 1px);height: 1px;margin: -1px;overflow: hidden;padding: 0;position: absolute;width: 1px;}#sk-container-id-2 div.sk-estimator {font-family: monospace;background-color: #f0f8ff;border: 1px dotted black;border-radius: 0.25em;box-sizing: border-box;margin-bottom: 0.5em;}#sk-container-id-2 div.sk-estimator:hover {background-color: #d4ebff;}#sk-container-id-2 div.sk-parallel-item::after {content: \"\";width: 100%;border-bottom: 1px solid gray;flex-grow: 1;}#sk-container-id-2 div.sk-label:hover label.sk-toggleable__label {background-color: #d4ebff;}#sk-container-id-2 div.sk-serial::before {content: \"\";position: absolute;border-left: 1px solid gray;box-sizing: border-box;top: 0;bottom: 0;left: 50%;z-index: 0;}#sk-container-id-2 div.sk-serial {display: flex;flex-direction: column;align-items: center;background-color: white;padding-right: 0.2em;padding-left: 0.2em;position: relative;}#sk-container-id-2 div.sk-item {position: relative;z-index: 1;}#sk-container-id-2 div.sk-parallel {display: flex;align-items: stretch;justify-content: center;background-color: white;position: relative;}#sk-container-id-2 div.sk-item::before, #sk-container-id-2 div.sk-parallel-item::before {content: \"\";position: absolute;border-left: 1px solid gray;box-sizing: border-box;top: 0;bottom: 0;left: 50%;z-index: -1;}#sk-container-id-2 div.sk-parallel-item {display: flex;flex-direction: column;z-index: 1;position: relative;background-color: white;}#sk-container-id-2 div.sk-parallel-item:first-child::after {align-self: flex-end;width: 50%;}#sk-container-id-2 div.sk-parallel-item:last-child::after {align-self: flex-start;width: 50%;}#sk-container-id-2 div.sk-parallel-item:only-child::after {width: 0;}#sk-container-id-2 div.sk-dashed-wrapped {border: 1px dashed gray;margin: 0 0.4em 0.5em 0.4em;box-sizing: border-box;padding-bottom: 0.4em;background-color: white;}#sk-container-id-2 div.sk-label label {font-family: monospace;font-weight: bold;display: inline-block;line-height: 1.2em;}#sk-container-id-2 div.sk-label-container {text-align: center;}#sk-container-id-2 div.sk-container {/* jupyter's `normalize.less` sets `[hidden] { display: none; }` but bootstrap.min.css set `[hidden] { display: none !important; }` so we also need the `!important` here to be able to override the default hidden behavior on the sphinx rendered scikit-learn.org. See: https://github.com/scikit-learn/scikit-learn/issues/21755 */display: inline-block !important;position: relative;}#sk-container-id-2 div.sk-text-repr-fallback {display: none;}</style><div id=\"sk-container-id-2\" class=\"sk-top-container\"><div class=\"sk-text-repr-fallback\"><pre>XGBRegressor(alpha=0.5, base_score=None, booster=None, callbacks=None,\n",
       "             colsample_bylevel=None, colsample_bynode=None,\n",
       "             colsample_bytree=1.0, early_stopping_rounds=None,\n",
       "             enable_categorical=False, eval_metric=None, feature_types=None,\n",
       "             gamma=0.2, gpu_id=None, grow_policy=None, importance_type=None,\n",
       "             interaction_constraints=None, learning_rate=0.3, max_bin=None,\n",
       "             max_cat_threshold=None, max_cat_to_onehot=None,\n",
       "             max_delta_step=None, max_depth=6, max_leaves=None,\n",
       "             min_child_weight=2, missing=nan, monotone_constraints=None,\n",
       "             n_estimators=128, n_jobs=None, num_parallel_tree=None,\n",
       "             predictor=None, ...)</pre><b>In a Jupyter environment, please rerun this cell to show the HTML representation or trust the notebook. <br />On GitHub, the HTML representation is unable to render, please try loading this page with nbviewer.org.</b></div><div class=\"sk-container\" hidden><div class=\"sk-item\"><div class=\"sk-estimator sk-toggleable\"><input class=\"sk-toggleable__control sk-hidden--visually\" id=\"sk-estimator-id-2\" type=\"checkbox\" checked><label for=\"sk-estimator-id-2\" class=\"sk-toggleable__label sk-toggleable__label-arrow\">XGBRegressor</label><div class=\"sk-toggleable__content\"><pre>XGBRegressor(alpha=0.5, base_score=None, booster=None, callbacks=None,\n",
       "             colsample_bylevel=None, colsample_bynode=None,\n",
       "             colsample_bytree=1.0, early_stopping_rounds=None,\n",
       "             enable_categorical=False, eval_metric=None, feature_types=None,\n",
       "             gamma=0.2, gpu_id=None, grow_policy=None, importance_type=None,\n",
       "             interaction_constraints=None, learning_rate=0.3, max_bin=None,\n",
       "             max_cat_threshold=None, max_cat_to_onehot=None,\n",
       "             max_delta_step=None, max_depth=6, max_leaves=None,\n",
       "             min_child_weight=2, missing=nan, monotone_constraints=None,\n",
       "             n_estimators=128, n_jobs=None, num_parallel_tree=None,\n",
       "             predictor=None, ...)</pre></div></div></div></div></div>"
      ],
      "text/plain": [
       "XGBRegressor(alpha=0.5, base_score=None, booster=None, callbacks=None,\n",
       "             colsample_bylevel=None, colsample_bynode=None,\n",
       "             colsample_bytree=1.0, early_stopping_rounds=None,\n",
       "             enable_categorical=False, eval_metric=None, feature_types=None,\n",
       "             gamma=0.2, gpu_id=None, grow_policy=None, importance_type=None,\n",
       "             interaction_constraints=None, learning_rate=0.3, max_bin=None,\n",
       "             max_cat_threshold=None, max_cat_to_onehot=None,\n",
       "             max_delta_step=None, max_depth=6, max_leaves=None,\n",
       "             min_child_weight=2, missing=nan, monotone_constraints=None,\n",
       "             n_estimators=128, n_jobs=None, num_parallel_tree=None,\n",
       "             predictor=None, ...)"
      ]
     },
     "execution_count": 31,
     "metadata": {},
     "output_type": "execute_result"
    }
   ],
   "source": [
    "# Creating a XGB model with the selected parameters\n",
    "best_xgbr = XGBRegressor(max_depth=best_params_xgb['max_depth'],\n",
    "                        n_estimators=best_params_xgb['n_estimators'],\n",
    "                        learning_rate=best_params_xgb['learning_rate'],\n",
    "                        min_child_weight=best_params_xgb['min_child_weight'], \n",
    "                        gamma=best_params_xgb['gamma'],\n",
    "                        alpha=best_params_xgb['reg_alpha'],\n",
    "                        reg_lambda=best_params_xgb['reg_lambda'],\n",
    "                        subsample=best_params_xgb['subsample'],\n",
    "                        colsample_bytree=best_params_xgb['colsample_bytree']\n",
    "                        )\n",
    "best_xgbr.fit(X, yf)"
   ]
  },
  {
   "cell_type": "code",
   "execution_count": 32,
   "id": "04cefd55",
   "metadata": {},
   "outputs": [
    {
     "name": "stdout",
     "output_type": "stream",
     "text": [
      "MSE: 0.1689\n",
      "MAE: 0.3158\n",
      "MR: -0.0031\n",
      "adj-R2: 0.8315\n"
     ]
    },
    {
     "name": "stderr",
     "output_type": "stream",
     "text": [
      "/Users/fra/miniconda3/envs/tensorflow/lib/python3.10/site-packages/xgboost/data.py:312: FutureWarning: is_sparse is deprecated and will be removed in a future version. Check `isinstance(dtype, pd.SparseDtype)` instead.\n",
      "  if is_sparse(dtype):\n",
      "/Users/fra/miniconda3/envs/tensorflow/lib/python3.10/site-packages/xgboost/data.py:314: FutureWarning: is_categorical_dtype is deprecated and will be removed in a future version. Use isinstance(dtype, CategoricalDtype) instead\n",
      "  elif is_categorical_dtype(dtype) and enable_categorical:\n",
      "/Users/fra/miniconda3/envs/tensorflow/lib/python3.10/site-packages/xgboost/data.py:345: FutureWarning: is_categorical_dtype is deprecated and will be removed in a future version. Use isinstance(dtype, CategoricalDtype) instead\n",
      "  if is_categorical_dtype(dtype)\n",
      "/Users/fra/miniconda3/envs/tensorflow/lib/python3.10/site-packages/xgboost/data.py:336: FutureWarning: is_categorical_dtype is deprecated and will be removed in a future version. Use isinstance(dtype, CategoricalDtype) instead\n",
      "  return is_int or is_bool or is_float or is_categorical_dtype(dtype)\n"
     ]
    }
   ],
   "source": [
    "xgb_pred = best_xgbr.predict(X_test)\n",
    "scores = compute_scores(X_test, y_test, xgb_pred)\n",
    "\n",
    "save_scores('XGBoost', scores)"
   ]
  },
  {
   "cell_type": "code",
   "execution_count": 33,
   "id": "0d8070cd",
   "metadata": {},
   "outputs": [],
   "source": [
    "export_pred(xgb_pred, 'XGBoost')"
   ]
  },
  {
   "cell_type": "code",
   "execution_count": null,
   "id": "1bdafc44",
   "metadata": {},
   "outputs": [],
   "source": []
  },
  {
   "cell_type": "markdown",
   "id": "7827af33",
   "metadata": {},
   "source": [
    "# 7. Light GBM"
   ]
  },
  {
   "cell_type": "code",
   "execution_count": 34,
   "id": "0c5b7a13",
   "metadata": {},
   "outputs": [],
   "source": [
    "from lightgbm import LGBMRegressor"
   ]
  },
  {
   "cell_type": "markdown",
   "id": "43dbf45f",
   "metadata": {},
   "source": [
    "Best LGBMRegressor with params: {'colsample_bytree': 1.0, 'learning_rate': 0.3, 'max_depth': 6, 'min_child_weight': 1, 'n_estimators': 128, 'num_leaves': 64, 'reg_alpha': 0.5, 'reg_lambda': 1} and MSE: -0.176\n"
   ]
  },
  {
   "cell_type": "code",
   "execution_count": 35,
   "id": "3f7765f2",
   "metadata": {},
   "outputs": [],
   "source": [
    "best_params_lgbm= {'colsample_bytree': 1.0, 'learning_rate': 0.3, \n",
    "              'max_depth': 6, 'min_child_weight': 1, 'n_estimators': 128, \n",
    "               'reg_alpha': 0.5, 'reg_lambda': 1, 'num_leaves': 64} "
   ]
  },
  {
   "cell_type": "code",
   "execution_count": 36,
   "id": "584a7a98",
   "metadata": {},
   "outputs": [
    {
     "data": {
      "text/html": [
       "<style>#sk-container-id-3 {color: black;background-color: white;}#sk-container-id-3 pre{padding: 0;}#sk-container-id-3 div.sk-toggleable {background-color: white;}#sk-container-id-3 label.sk-toggleable__label {cursor: pointer;display: block;width: 100%;margin-bottom: 0;padding: 0.3em;box-sizing: border-box;text-align: center;}#sk-container-id-3 label.sk-toggleable__label-arrow:before {content: \"▸\";float: left;margin-right: 0.25em;color: #696969;}#sk-container-id-3 label.sk-toggleable__label-arrow:hover:before {color: black;}#sk-container-id-3 div.sk-estimator:hover label.sk-toggleable__label-arrow:before {color: black;}#sk-container-id-3 div.sk-toggleable__content {max-height: 0;max-width: 0;overflow: hidden;text-align: left;background-color: #f0f8ff;}#sk-container-id-3 div.sk-toggleable__content pre {margin: 0.2em;color: black;border-radius: 0.25em;background-color: #f0f8ff;}#sk-container-id-3 input.sk-toggleable__control:checked~div.sk-toggleable__content {max-height: 200px;max-width: 100%;overflow: auto;}#sk-container-id-3 input.sk-toggleable__control:checked~label.sk-toggleable__label-arrow:before {content: \"▾\";}#sk-container-id-3 div.sk-estimator input.sk-toggleable__control:checked~label.sk-toggleable__label {background-color: #d4ebff;}#sk-container-id-3 div.sk-label input.sk-toggleable__control:checked~label.sk-toggleable__label {background-color: #d4ebff;}#sk-container-id-3 input.sk-hidden--visually {border: 0;clip: rect(1px 1px 1px 1px);clip: rect(1px, 1px, 1px, 1px);height: 1px;margin: -1px;overflow: hidden;padding: 0;position: absolute;width: 1px;}#sk-container-id-3 div.sk-estimator {font-family: monospace;background-color: #f0f8ff;border: 1px dotted black;border-radius: 0.25em;box-sizing: border-box;margin-bottom: 0.5em;}#sk-container-id-3 div.sk-estimator:hover {background-color: #d4ebff;}#sk-container-id-3 div.sk-parallel-item::after {content: \"\";width: 100%;border-bottom: 1px solid gray;flex-grow: 1;}#sk-container-id-3 div.sk-label:hover label.sk-toggleable__label {background-color: #d4ebff;}#sk-container-id-3 div.sk-serial::before {content: \"\";position: absolute;border-left: 1px solid gray;box-sizing: border-box;top: 0;bottom: 0;left: 50%;z-index: 0;}#sk-container-id-3 div.sk-serial {display: flex;flex-direction: column;align-items: center;background-color: white;padding-right: 0.2em;padding-left: 0.2em;position: relative;}#sk-container-id-3 div.sk-item {position: relative;z-index: 1;}#sk-container-id-3 div.sk-parallel {display: flex;align-items: stretch;justify-content: center;background-color: white;position: relative;}#sk-container-id-3 div.sk-item::before, #sk-container-id-3 div.sk-parallel-item::before {content: \"\";position: absolute;border-left: 1px solid gray;box-sizing: border-box;top: 0;bottom: 0;left: 50%;z-index: -1;}#sk-container-id-3 div.sk-parallel-item {display: flex;flex-direction: column;z-index: 1;position: relative;background-color: white;}#sk-container-id-3 div.sk-parallel-item:first-child::after {align-self: flex-end;width: 50%;}#sk-container-id-3 div.sk-parallel-item:last-child::after {align-self: flex-start;width: 50%;}#sk-container-id-3 div.sk-parallel-item:only-child::after {width: 0;}#sk-container-id-3 div.sk-dashed-wrapped {border: 1px dashed gray;margin: 0 0.4em 0.5em 0.4em;box-sizing: border-box;padding-bottom: 0.4em;background-color: white;}#sk-container-id-3 div.sk-label label {font-family: monospace;font-weight: bold;display: inline-block;line-height: 1.2em;}#sk-container-id-3 div.sk-label-container {text-align: center;}#sk-container-id-3 div.sk-container {/* jupyter's `normalize.less` sets `[hidden] { display: none; }` but bootstrap.min.css set `[hidden] { display: none !important; }` so we also need the `!important` here to be able to override the default hidden behavior on the sphinx rendered scikit-learn.org. See: https://github.com/scikit-learn/scikit-learn/issues/21755 */display: inline-block !important;position: relative;}#sk-container-id-3 div.sk-text-repr-fallback {display: none;}</style><div id=\"sk-container-id-3\" class=\"sk-top-container\"><div class=\"sk-text-repr-fallback\"><pre>LGBMRegressor(learning_rate=0.3, max_depth=6, min_child_weight=1,\n",
       "              n_estimators=128, num_leaves=64, reg_alpha=0.5, reg_lambda=1)</pre><b>In a Jupyter environment, please rerun this cell to show the HTML representation or trust the notebook. <br />On GitHub, the HTML representation is unable to render, please try loading this page with nbviewer.org.</b></div><div class=\"sk-container\" hidden><div class=\"sk-item\"><div class=\"sk-estimator sk-toggleable\"><input class=\"sk-toggleable__control sk-hidden--visually\" id=\"sk-estimator-id-3\" type=\"checkbox\" checked><label for=\"sk-estimator-id-3\" class=\"sk-toggleable__label sk-toggleable__label-arrow\">LGBMRegressor</label><div class=\"sk-toggleable__content\"><pre>LGBMRegressor(learning_rate=0.3, max_depth=6, min_child_weight=1,\n",
       "              n_estimators=128, num_leaves=64, reg_alpha=0.5, reg_lambda=1)</pre></div></div></div></div></div>"
      ],
      "text/plain": [
       "LGBMRegressor(learning_rate=0.3, max_depth=6, min_child_weight=1,\n",
       "              n_estimators=128, num_leaves=64, reg_alpha=0.5, reg_lambda=1)"
      ]
     },
     "execution_count": 36,
     "metadata": {},
     "output_type": "execute_result"
    }
   ],
   "source": [
    "# Creating a XGB model with the selected parameters\n",
    "best_lgbm = LGBMRegressor(max_depth=best_params_lgbm['max_depth'],\n",
    "                        n_estimators=best_params_lgbm['n_estimators'],\n",
    "                        learning_rate=best_params_lgbm['learning_rate'],\n",
    "                        min_child_weight=best_params_lgbm['min_child_weight'], \n",
    "                        reg_alpha=best_params_lgbm['reg_alpha'],\n",
    "                        reg_lambda=best_params_lgbm['reg_lambda'],\n",
    "                        colsample_bytree=best_params_lgbm['colsample_bytree'],\n",
    "                        num_leaves=best_params_lgbm['num_leaves'],\n",
    "                        )\n",
    "best_lgbm.fit(X, yf)"
   ]
  },
  {
   "cell_type": "code",
   "execution_count": 37,
   "id": "e17d48a1",
   "metadata": {
    "scrolled": true
   },
   "outputs": [
    {
     "name": "stdout",
     "output_type": "stream",
     "text": [
      "MSE: 0.1725\n",
      "MAE: 0.3201\n",
      "MR: 0.0070\n",
      "adj-R2: 0.8279\n"
     ]
    }
   ],
   "source": [
    "lgbm_pred = best_lgbm.predict(X_test)\n",
    "scores = compute_scores(X_test, y_test, lgbm_pred)\n",
    "\n",
    "save_scores('LightGBM', scores)"
   ]
  },
  {
   "cell_type": "code",
   "execution_count": 38,
   "id": "1a210961",
   "metadata": {},
   "outputs": [],
   "source": [
    "export_pred(lgbm_pred, 'LightGBM')"
   ]
  },
  {
   "cell_type": "code",
   "execution_count": null,
   "id": "094c9fa4",
   "metadata": {},
   "outputs": [],
   "source": []
  },
  {
   "cell_type": "markdown",
   "id": "e8012dd2",
   "metadata": {},
   "source": [
    "# 8. Hybrid Regression"
   ]
  },
  {
   "cell_type": "code",
   "execution_count": 39,
   "id": "f423112f",
   "metadata": {},
   "outputs": [],
   "source": [
    "# Import predictions from csv files, which have been rescaled to the original scale\n",
    "forest_pred = pd.read_csv('predictions/RandomForest_pred.csv', header=None)\n",
    "xgbr_pred = pd.read_csv('predictions/XGBoost_pred.csv', header=None)\n",
    "lgbm_pred = pd.read_csv('predictions/LightGBM_pred.csv', header=None)"
   ]
  },
  {
   "cell_type": "code",
   "execution_count": 40,
   "id": "dbd27aa4",
   "metadata": {},
   "outputs": [],
   "source": [
    "# Define the weights for each model\n",
    "weights = [1/3, 1/3, 1/3]  # Equal weights for each model\n",
    "\n",
    "# Combine predictions using weighted average\n",
    "hybrid_predictions = (weights[0] * forest_pred + \n",
    "                      weights[1] * xgbr_pred +     \n",
    "                      weights[2] * lgbm_pred)\n",
    "\n",
    "# Standardize, scale to the same scale of y_test\n",
    "hybrid_predictions = ss_y.transform(np.array(hybrid_predictions).reshape(-1, 1))"
   ]
  },
  {
   "cell_type": "code",
   "execution_count": 41,
   "id": "75d1e75e",
   "metadata": {},
   "outputs": [
    {
     "name": "stdout",
     "output_type": "stream",
     "text": [
      "MSE: 0.1639\n",
      "MAE: 0.3112\n",
      "MR: -0.0007\n",
      "adj-R2: 0.8364\n"
     ]
    }
   ],
   "source": [
    "scores = compute_scores(X_test, y_test, hybrid_predictions)\n",
    "save_scores('HybridModel', scores)"
   ]
  },
  {
   "cell_type": "code",
   "execution_count": 42,
   "id": "af0864e0",
   "metadata": {},
   "outputs": [],
   "source": [
    "export_pred(hybrid_predictions, 'HybridModel')"
   ]
  },
  {
   "cell_type": "code",
   "execution_count": null,
   "id": "bbf9bdfe",
   "metadata": {},
   "outputs": [],
   "source": []
  },
  {
   "cell_type": "code",
   "execution_count": null,
   "id": "02ce3727",
   "metadata": {},
   "outputs": [],
   "source": []
  },
  {
   "cell_type": "markdown",
   "id": "f0b8ffb0",
   "metadata": {},
   "source": [
    "# 9. Stacking\n",
    "Architecture from Quang"
   ]
  },
  {
   "cell_type": "code",
   "execution_count": 43,
   "id": "ce2b6875",
   "metadata": {},
   "outputs": [],
   "source": [
    "from vecstack import StackingTransformer\n",
    "\n",
    "# Initialize 1st level estimators\n",
    "estimators = [('RF', RandomForestRegressor(max_depth=30, #forest.best_params_['max_depth'], \n",
    "                                    n_estimators= 128 )),#forest.best_params_['n_estimators'])),\n",
    "              ('LGBM', LGBMRegressor(max_depth=best_params_lgbm['max_depth'],\n",
    "                        n_estimators=best_params_lgbm['n_estimators'],\n",
    "                        learning_rate=best_params_lgbm['learning_rate'],\n",
    "                        min_child_weight=best_params_lgbm['min_child_weight'], \n",
    "                        reg_alpha=best_params_lgbm['reg_alpha'],\n",
    "                        reg_lambda=best_params_lgbm['reg_lambda'],\n",
    "                        colsample_bytree=best_params_lgbm['colsample_bytree'],\n",
    "                        num_leaves=best_params_lgbm['num_leaves'],\n",
    "              ))]\n",
    "              \n",
    "# Initialize StackingTransformer\n",
    "stack = StackingTransformer(estimators, regression=True, verbose=2, shuffle=True, metric=mean_squared_error)"
   ]
  },
  {
   "cell_type": "code",
   "execution_count": 44,
   "id": "b4a72cc7",
   "metadata": {},
   "outputs": [
    {
     "name": "stdout",
     "output_type": "stream",
     "text": [
      "task:         [regression]\n",
      "metric:       [mean_squared_error]\n",
      "variant:      [A]\n",
      "n_estimators: [2]\n",
      "\n",
      "estimator  0: [RF: RandomForestRegressor]\n"
     ]
    },
    {
     "name": "stderr",
     "output_type": "stream",
     "text": [
      "/Users/fra/miniconda3/envs/tensorflow/lib/python3.10/site-packages/sklearn/utils/validation.py:767: FutureWarning: is_sparse is deprecated and will be removed in a future version. Check `isinstance(dtype, pd.SparseDtype)` instead.\n",
      "  if not hasattr(array, \"sparse\") and array.dtypes.apply(is_sparse).any():\n",
      "/Users/fra/miniconda3/envs/tensorflow/lib/python3.10/site-packages/sklearn/utils/validation.py:605: FutureWarning: is_sparse is deprecated and will be removed in a future version. Check `isinstance(dtype, pd.SparseDtype)` instead.\n",
      "  if is_sparse(pd_dtype):\n",
      "/Users/fra/miniconda3/envs/tensorflow/lib/python3.10/site-packages/sklearn/utils/validation.py:614: FutureWarning: is_sparse is deprecated and will be removed in a future version. Check `isinstance(dtype, pd.SparseDtype)` instead.\n",
      "  if is_sparse(pd_dtype) or not is_extension_array_dtype(pd_dtype):\n"
     ]
    },
    {
     "name": "stdout",
     "output_type": "stream",
     "text": [
      "    fold  0:  [0.18621050]\n",
      "    fold  1:  [0.18430801]\n",
      "    fold  2:  [0.18792116]\n",
      "    fold  3:  [0.18771257]\n",
      "    ----\n",
      "    MEAN:     [0.18653806] + [0.00144680]\n",
      "\n",
      "estimator  1: [LGBM: LGBMRegressor]\n",
      "    fold  0:  [0.17604921]\n",
      "    fold  1:  [0.17687877]\n",
      "    fold  2:  [0.17925742]\n",
      "    fold  3:  [0.17606261]\n",
      "    ----\n",
      "    MEAN:     [0.17706200] + [0.00131129]\n",
      "\n"
     ]
    }
   ],
   "source": [
    "stack = stack.fit(X, yf)"
   ]
  },
  {
   "cell_type": "code",
   "execution_count": 45,
   "id": "1926200f",
   "metadata": {},
   "outputs": [
    {
     "name": "stdout",
     "output_type": "stream",
     "text": [
      "Train set was detected.\n",
      "Transforming...\n",
      "\n",
      "estimator  0: [RF: RandomForestRegressor]\n"
     ]
    },
    {
     "name": "stderr",
     "output_type": "stream",
     "text": [
      "/Users/fra/miniconda3/envs/tensorflow/lib/python3.10/site-packages/sklearn/utils/validation.py:767: FutureWarning: is_sparse is deprecated and will be removed in a future version. Check `isinstance(dtype, pd.SparseDtype)` instead.\n",
      "  if not hasattr(array, \"sparse\") and array.dtypes.apply(is_sparse).any():\n",
      "/Users/fra/miniconda3/envs/tensorflow/lib/python3.10/site-packages/sklearn/utils/validation.py:605: FutureWarning: is_sparse is deprecated and will be removed in a future version. Check `isinstance(dtype, pd.SparseDtype)` instead.\n",
      "  if is_sparse(pd_dtype):\n",
      "/Users/fra/miniconda3/envs/tensorflow/lib/python3.10/site-packages/sklearn/utils/validation.py:614: FutureWarning: is_sparse is deprecated and will be removed in a future version. Check `isinstance(dtype, pd.SparseDtype)` instead.\n",
      "  if is_sparse(pd_dtype) or not is_extension_array_dtype(pd_dtype):\n"
     ]
    },
    {
     "name": "stdout",
     "output_type": "stream",
     "text": [
      "    model from fold  0: done\n",
      "    model from fold  1: done\n",
      "    model from fold  2: done\n",
      "    model from fold  3: done\n",
      "    ----\n",
      "    DONE\n",
      "\n",
      "estimator  1: [LGBM: LGBMRegressor]\n",
      "    model from fold  0: done\n",
      "    model from fold  1: done\n",
      "    model from fold  2: done\n",
      "    model from fold  3: done\n",
      "    ----\n",
      "    DONE\n",
      "\n",
      "Transforming...\n",
      "\n",
      "estimator  0: [RF: RandomForestRegressor]\n",
      "    model from fold  0: done\n",
      "    model from fold  1: done\n"
     ]
    },
    {
     "name": "stderr",
     "output_type": "stream",
     "text": [
      "/Users/fra/miniconda3/envs/tensorflow/lib/python3.10/site-packages/sklearn/utils/validation.py:767: FutureWarning: is_sparse is deprecated and will be removed in a future version. Check `isinstance(dtype, pd.SparseDtype)` instead.\n",
      "  if not hasattr(array, \"sparse\") and array.dtypes.apply(is_sparse).any():\n",
      "/Users/fra/miniconda3/envs/tensorflow/lib/python3.10/site-packages/sklearn/utils/validation.py:605: FutureWarning: is_sparse is deprecated and will be removed in a future version. Check `isinstance(dtype, pd.SparseDtype)` instead.\n",
      "  if is_sparse(pd_dtype):\n",
      "/Users/fra/miniconda3/envs/tensorflow/lib/python3.10/site-packages/sklearn/utils/validation.py:614: FutureWarning: is_sparse is deprecated and will be removed in a future version. Check `isinstance(dtype, pd.SparseDtype)` instead.\n",
      "  if is_sparse(pd_dtype) or not is_extension_array_dtype(pd_dtype):\n"
     ]
    },
    {
     "name": "stdout",
     "output_type": "stream",
     "text": [
      "    model from fold  2: done\n",
      "    model from fold  3: done\n",
      "    ----\n",
      "    DONE\n",
      "\n",
      "estimator  1: [LGBM: LGBMRegressor]\n",
      "    model from fold  0: done\n",
      "    model from fold  1: done\n",
      "    model from fold  2: done\n",
      "    model from fold  3: done\n",
      "    ----\n",
      "    DONE\n",
      "\n"
     ]
    }
   ],
   "source": [
    "# Get stacked features\n",
    "S_train = stack.transform(X)\n",
    "S_test = stack.transform(X_test)"
   ]
  },
  {
   "cell_type": "code",
   "execution_count": 46,
   "id": "59b24189",
   "metadata": {},
   "outputs": [
    {
     "name": "stdout",
     "output_type": "stream",
     "text": [
      "XGB Stacking Training ran in 2.55562 seconds\n"
     ]
    }
   ],
   "source": [
    "xgbr = XGBRegressor()\n",
    "start = time.time()\n",
    "xgbr.fit(S_train, yf)\n",
    "elapsed = time.time() - start\n",
    "print(f'XGB Stacking Training ran in {elapsed:.5f} seconds')"
   ]
  },
  {
   "cell_type": "code",
   "execution_count": 47,
   "id": "1199ba34",
   "metadata": {},
   "outputs": [
    {
     "name": "stdout",
     "output_type": "stream",
     "text": [
      "MSE: 0.1644\n",
      "MAE: 0.3116\n",
      "MR: -0.0050\n",
      "adj-R2: 0.8411\n"
     ]
    }
   ],
   "source": [
    "stacking_pred = xgbr.predict(S_test)\n",
    "scores = compute_scores(S_test, y_test, stacking_pred)\n",
    "\n",
    "save_scores('Stacking', scores)"
   ]
  },
  {
   "cell_type": "code",
   "execution_count": 48,
   "id": "79567864",
   "metadata": {},
   "outputs": [],
   "source": [
    "export_pred(stacking_pred, 'Stacking')"
   ]
  },
  {
   "cell_type": "code",
   "execution_count": null,
   "id": "5607f7c7",
   "metadata": {},
   "outputs": [],
   "source": []
  },
  {
   "cell_type": "code",
   "execution_count": null,
   "id": "6b3f369b",
   "metadata": {},
   "outputs": [],
   "source": []
  },
  {
   "cell_type": "code",
   "execution_count": null,
   "id": "81097d59",
   "metadata": {},
   "outputs": [],
   "source": []
  },
  {
   "cell_type": "markdown",
   "id": "88b5528b",
   "metadata": {},
   "source": [
    "# FINAL SUMMARY OF METHODS PERFORMANCES\n",
    "\n",
    "We display below a summary of the scores obtained by the different models. \n",
    "We see that models can be classified differently based on the metric of evaluation chosen. \n",
    "\n",
    "\n"
   ]
  },
  {
   "cell_type": "code",
   "execution_count": 49,
   "id": "4d5356ff",
   "metadata": {},
   "outputs": [],
   "source": [
    "final_scores=display_scores()"
   ]
  },
  {
   "cell_type": "code",
   "execution_count": 50,
   "id": "2d929b5a",
   "metadata": {},
   "outputs": [
    {
     "data": {
      "text/html": [
       "<div>\n",
       "<style scoped>\n",
       "    .dataframe tbody tr th:only-of-type {\n",
       "        vertical-align: middle;\n",
       "    }\n",
       "\n",
       "    .dataframe tbody tr th {\n",
       "        vertical-align: top;\n",
       "    }\n",
       "\n",
       "    .dataframe thead th {\n",
       "        text-align: right;\n",
       "    }\n",
       "</style>\n",
       "<table border=\"1\" class=\"dataframe\">\n",
       "  <thead>\n",
       "    <tr style=\"text-align: right;\">\n",
       "      <th></th>\n",
       "      <th>method</th>\n",
       "      <th>MSE</th>\n",
       "      <th>MAE</th>\n",
       "      <th>MR</th>\n",
       "      <th>adj R-squared</th>\n",
       "    </tr>\n",
       "  </thead>\n",
       "  <tbody>\n",
       "    <tr>\n",
       "      <th>0</th>\n",
       "      <td>LinearRegression</td>\n",
       "      <td>1566066389749368881152.0</td>\n",
       "      <td>30279372891.128063</td>\n",
       "      <td>7100327449.215753</td>\n",
       "      <td>-1563240973179226947584.0</td>\n",
       "    </tr>\n",
       "    <tr>\n",
       "      <th>1</th>\n",
       "      <td>RandomForest</td>\n",
       "      <td>0.173842</td>\n",
       "      <td>0.318328</td>\n",
       "      <td>-0.006083</td>\n",
       "      <td>0.826551</td>\n",
       "    </tr>\n",
       "    <tr>\n",
       "      <th>2</th>\n",
       "      <td>XGBoost</td>\n",
       "      <td>0.168855</td>\n",
       "      <td>0.315781</td>\n",
       "      <td>-0.003086</td>\n",
       "      <td>0.831527</td>\n",
       "    </tr>\n",
       "    <tr>\n",
       "      <th>3</th>\n",
       "      <td>LightGBM</td>\n",
       "      <td>0.172455</td>\n",
       "      <td>0.320071</td>\n",
       "      <td>0.006979</td>\n",
       "      <td>0.827935</td>\n",
       "    </tr>\n",
       "    <tr>\n",
       "      <th>4</th>\n",
       "      <td>HybridModel</td>\n",
       "      <td>0.163925</td>\n",
       "      <td>0.311217</td>\n",
       "      <td>-0.00073</td>\n",
       "      <td>0.836446</td>\n",
       "    </tr>\n",
       "    <tr>\n",
       "      <th>5</th>\n",
       "      <td>Stacking</td>\n",
       "      <td>0.164427</td>\n",
       "      <td>0.311639</td>\n",
       "      <td>-0.004967</td>\n",
       "      <td>0.841129</td>\n",
       "    </tr>\n",
       "  </tbody>\n",
       "</table>\n",
       "</div>"
      ],
      "text/plain": [
       "             method                       MSE                 MAE  \\\n",
       "0  LinearRegression  1566066389749368881152.0  30279372891.128063   \n",
       "1      RandomForest                  0.173842            0.318328   \n",
       "2           XGBoost                  0.168855            0.315781   \n",
       "3          LightGBM                  0.172455            0.320071   \n",
       "4       HybridModel                  0.163925            0.311217   \n",
       "5          Stacking                  0.164427            0.311639   \n",
       "\n",
       "                  MR             adj R-squared  \n",
       "0  7100327449.215753 -1563240973179226947584.0  \n",
       "1          -0.006083                  0.826551  \n",
       "2          -0.003086                  0.831527  \n",
       "3           0.006979                  0.827935  \n",
       "4           -0.00073                  0.836446  \n",
       "5          -0.004967                  0.841129  "
      ]
     },
     "execution_count": 50,
     "metadata": {},
     "output_type": "execute_result"
    }
   ],
   "source": [
    "final_scores"
   ]
  },
  {
   "cell_type": "code",
   "execution_count": 51,
   "id": "f3339e97",
   "metadata": {},
   "outputs": [],
   "source": [
    "final_scores.to_csv('final_scores.csv')"
   ]
  },
  {
   "cell_type": "code",
   "execution_count": null,
   "id": "101f1b80",
   "metadata": {},
   "outputs": [],
   "source": []
  },
  {
   "cell_type": "markdown",
   "id": "9ee1771a",
   "metadata": {},
   "source": [
    "# analisi finali\n",
    "- predictions per anno vs reale (grafica)"
   ]
  },
  {
   "cell_type": "code",
   "execution_count": null,
   "id": "ae4f9f11",
   "metadata": {},
   "outputs": [],
   "source": []
  },
  {
   "cell_type": "code",
   "execution_count": null,
   "id": "75b663b1",
   "metadata": {},
   "outputs": [],
   "source": []
  }
 ],
 "metadata": {
  "kernelspec": {
   "display_name": "Python 3.10 (tensorflow)",
   "language": "python",
   "name": "tensorflow"
  },
  "language_info": {
   "codemirror_mode": {
    "name": "ipython",
    "version": 3
   },
   "file_extension": ".py",
   "mimetype": "text/x-python",
   "name": "python",
   "nbconvert_exporter": "python",
   "pygments_lexer": "ipython3",
   "version": "3.10.10"
  }
 },
 "nbformat": 4,
 "nbformat_minor": 5
}
