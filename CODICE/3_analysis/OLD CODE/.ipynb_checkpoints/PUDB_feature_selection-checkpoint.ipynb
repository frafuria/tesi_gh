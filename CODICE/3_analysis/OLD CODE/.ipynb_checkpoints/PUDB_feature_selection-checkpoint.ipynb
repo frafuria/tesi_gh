{
 "cells": [
  {
   "cell_type": "markdown",
   "metadata": {},
   "source": [
    "# TODO:\n",
    "\n",
    "1. def in altro file\n",
    "2. parte introduttiva sistemare\n",
    "3. risultati (nel lavoro di gruppo la scelta era stata abbastanza approssimativa, no criterio)\n",
    "4. **ripetere tutto solo con Year o solo con NoteDate**"
   ]
  },
  {
   "cell_type": "code",
   "execution_count": 2,
   "metadata": {},
   "outputs": [],
   "source": [
    "# IMPORTING STATEMENTS\n",
    "import pandas as pd\n",
    "import numpy as np\n",
    "import matplotlib.pyplot as plt\n",
    "import mutual_information_regression\n",
    "import helper_functions_fs"
   ]
  },
  {
   "cell_type": "code",
   "execution_count": 3,
   "metadata": {},
   "outputs": [
    {
     "data": {
      "text/html": [
       "<div>\n",
       "<style scoped>\n",
       "    .dataframe tbody tr th:only-of-type {\n",
       "        vertical-align: middle;\n",
       "    }\n",
       "\n",
       "    .dataframe tbody tr th {\n",
       "        vertical-align: top;\n",
       "    }\n",
       "\n",
       "    .dataframe thead th {\n",
       "        text-align: right;\n",
       "    }\n",
       "</style>\n",
       "<table border=\"1\" class=\"dataframe\">\n",
       "  <thead>\n",
       "    <tr style=\"text-align: right;\">\n",
       "      <th></th>\n",
       "      <th>Year</th>\n",
       "      <th>InterestRate</th>\n",
       "      <th>MinorityRatio</th>\n",
       "      <th>CensusTractMedFamIncome</th>\n",
       "      <th>LocalAreaMedianIncome</th>\n",
       "      <th>MonthlyIncome</th>\n",
       "      <th>HUDMedIncome</th>\n",
       "      <th>UPB</th>\n",
       "      <th>LTV</th>\n",
       "      <th>PaymentCount</th>\n",
       "      <th>...</th>\n",
       "      <th>UnitCount</th>\n",
       "      <th>Race1</th>\n",
       "      <th>Minority2</th>\n",
       "      <th>Race2</th>\n",
       "      <th>CensusTractIdentifier</th>\n",
       "      <th>AreaCode</th>\n",
       "      <th>County</th>\n",
       "      <th>State</th>\n",
       "      <th>Minority</th>\n",
       "      <th>Borrower2Dummy</th>\n",
       "    </tr>\n",
       "  </thead>\n",
       "  <tbody>\n",
       "    <tr>\n",
       "      <th>0</th>\n",
       "      <td>2021</td>\n",
       "      <td>2.75</td>\n",
       "      <td>6.379</td>\n",
       "      <td>91316</td>\n",
       "      <td>85144</td>\n",
       "      <td>11771</td>\n",
       "      <td>92300</td>\n",
       "      <td>352000</td>\n",
       "      <td>80.0</td>\n",
       "      <td>360</td>\n",
       "      <td>...</td>\n",
       "      <td>1</td>\n",
       "      <td>6</td>\n",
       "      <td>Missing</td>\n",
       "      <td>6</td>\n",
       "      <td>45.02</td>\n",
       "      <td>38860</td>\n",
       "      <td>5</td>\n",
       "      <td>23</td>\n",
       "      <td>Missing</td>\n",
       "      <td>1</td>\n",
       "    </tr>\n",
       "    <tr>\n",
       "      <th>1</th>\n",
       "      <td>2021</td>\n",
       "      <td>2.25</td>\n",
       "      <td>3.553</td>\n",
       "      <td>100396</td>\n",
       "      <td>85144</td>\n",
       "      <td>5651</td>\n",
       "      <td>92300</td>\n",
       "      <td>139872</td>\n",
       "      <td>35.0</td>\n",
       "      <td>180</td>\n",
       "      <td>...</td>\n",
       "      <td>1</td>\n",
       "      <td>5</td>\n",
       "      <td>Missing</td>\n",
       "      <td>8</td>\n",
       "      <td>41.00</td>\n",
       "      <td>38860</td>\n",
       "      <td>5</td>\n",
       "      <td>23</td>\n",
       "      <td>White</td>\n",
       "      <td>0</td>\n",
       "    </tr>\n",
       "    <tr>\n",
       "      <th>2</th>\n",
       "      <td>2021</td>\n",
       "      <td>3.00</td>\n",
       "      <td>8.537</td>\n",
       "      <td>87500</td>\n",
       "      <td>91102</td>\n",
       "      <td>9395</td>\n",
       "      <td>95300</td>\n",
       "      <td>208000</td>\n",
       "      <td>80.0</td>\n",
       "      <td>360</td>\n",
       "      <td>...</td>\n",
       "      <td>1</td>\n",
       "      <td>5</td>\n",
       "      <td>Missing</td>\n",
       "      <td>8</td>\n",
       "      <td>7011.00</td>\n",
       "      <td>49340</td>\n",
       "      <td>27</td>\n",
       "      <td>25</td>\n",
       "      <td>White</td>\n",
       "      <td>0</td>\n",
       "    </tr>\n",
       "    <tr>\n",
       "      <th>3</th>\n",
       "      <td>2021</td>\n",
       "      <td>3.00</td>\n",
       "      <td>6.052</td>\n",
       "      <td>114531</td>\n",
       "      <td>91102</td>\n",
       "      <td>5912</td>\n",
       "      <td>95300</td>\n",
       "      <td>228000</td>\n",
       "      <td>80.0</td>\n",
       "      <td>360</td>\n",
       "      <td>...</td>\n",
       "      <td>1</td>\n",
       "      <td>5</td>\n",
       "      <td>White</td>\n",
       "      <td>5</td>\n",
       "      <td>7001.00</td>\n",
       "      <td>49340</td>\n",
       "      <td>27</td>\n",
       "      <td>25</td>\n",
       "      <td>White</td>\n",
       "      <td>1</td>\n",
       "    </tr>\n",
       "    <tr>\n",
       "      <th>4</th>\n",
       "      <td>2021</td>\n",
       "      <td>3.00</td>\n",
       "      <td>3.583</td>\n",
       "      <td>119423</td>\n",
       "      <td>91102</td>\n",
       "      <td>4420</td>\n",
       "      <td>95300</td>\n",
       "      <td>170000</td>\n",
       "      <td>73.0</td>\n",
       "      <td>360</td>\n",
       "      <td>...</td>\n",
       "      <td>1</td>\n",
       "      <td>5</td>\n",
       "      <td>Missing</td>\n",
       "      <td>8</td>\n",
       "      <td>7061.00</td>\n",
       "      <td>49340</td>\n",
       "      <td>27</td>\n",
       "      <td>25</td>\n",
       "      <td>White</td>\n",
       "      <td>0</td>\n",
       "    </tr>\n",
       "  </tbody>\n",
       "</table>\n",
       "<p>5 rows × 40 columns</p>\n",
       "</div>"
      ],
      "text/plain": [
       "   Year  InterestRate  MinorityRatio  CensusTractMedFamIncome   \n",
       "0  2021          2.75          6.379                    91316  \\\n",
       "1  2021          2.25          3.553                   100396   \n",
       "2  2021          3.00          8.537                    87500   \n",
       "3  2021          3.00          6.052                   114531   \n",
       "4  2021          3.00          3.583                   119423   \n",
       "\n",
       "   LocalAreaMedianIncome  MonthlyIncome  HUDMedIncome     UPB   LTV   \n",
       "0                  85144          11771         92300  352000  80.0  \\\n",
       "1                  85144           5651         92300  139872  35.0   \n",
       "2                  91102           9395         95300  208000  80.0   \n",
       "3                  91102           5912         95300  228000  80.0   \n",
       "4                  91102           4420         95300  170000  73.0   \n",
       "\n",
       "   PaymentCount  ...  UnitCount  Race1  Minority2  Race2   \n",
       "0           360  ...          1      6    Missing      6  \\\n",
       "1           180  ...          1      5    Missing      8   \n",
       "2           360  ...          1      5    Missing      8   \n",
       "3           360  ...          1      5      White      5   \n",
       "4           360  ...          1      5    Missing      8   \n",
       "\n",
       "   CensusTractIdentifier  AreaCode  County  State  Minority Borrower2Dummy  \n",
       "0                  45.02     38860       5     23   Missing              1  \n",
       "1                  41.00     38860       5     23     White              0  \n",
       "2                7011.00     49340      27     25     White              0  \n",
       "3                7001.00     49340      27     25     White              1  \n",
       "4                7061.00     49340      27     25     White              0  \n",
       "\n",
       "[5 rows x 40 columns]"
      ]
     },
     "execution_count": 3,
     "metadata": {},
     "output_type": "execute_result"
    }
   ],
   "source": [
    "data = pd.read_csv('clean2.csv', index_col=0)\n",
    "data.head()"
   ]
  },
  {
   "cell_type": "code",
   "execution_count": 4,
   "metadata": {},
   "outputs": [
    {
     "data": {
      "text/plain": [
       "236349"
      ]
     },
     "execution_count": 4,
     "metadata": {},
     "output_type": "execute_result"
    }
   ],
   "source": [
    "len(data)"
   ]
  },
  {
   "cell_type": "code",
   "execution_count": 3,
   "metadata": {},
   "outputs": [
    {
     "name": "stdout",
     "output_type": "stream",
     "text": [
      "<class 'pandas.core.frame.DataFrame'>\n",
      "Index: 236349 entries, 0 to 236762\n",
      "Data columns (total 40 columns):\n",
      " #   Column                   Non-Null Count   Dtype  \n",
      "---  ------                   --------------   -----  \n",
      " 0   Year                     236349 non-null  int64  \n",
      " 1   InterestRate             236349 non-null  float64\n",
      " 2   MinorityRatio            236349 non-null  float64\n",
      " 3   CensusTractMedFamIncome  236349 non-null  int64  \n",
      " 4   LocalAreaMedianIncome    236349 non-null  int64  \n",
      " 5   MonthlyIncome            236349 non-null  int64  \n",
      " 6   HUDMedIncome             236349 non-null  int64  \n",
      " 7   UPB                      236349 non-null  int64  \n",
      " 8   LTV                      236349 non-null  float64\n",
      " 9   PaymentCount             236349 non-null  int64  \n",
      " 10  Age1                     236349 non-null  int64  \n",
      " 11  Age2                     236349 non-null  int64  \n",
      " 12  HousingExpense           236349 non-null  float64\n",
      " 13  DebtExpense              236349 non-null  float64\n",
      " 14  PMI                      236349 non-null  float64\n",
      " 15  CreditScore1             236349 non-null  int64  \n",
      " 16  CreditScore2             236349 non-null  int64  \n",
      " 17  NoteDate                 236349 non-null  int64  \n",
      " 18  NoteAmount               236349 non-null  int64  \n",
      " 19  Bank                     236349 non-null  object \n",
      " 20  LoanPurpose              236349 non-null  int64  \n",
      " 21  MortgageType             236349 non-null  int64  \n",
      " 22  BorrowerCount            236349 non-null  int64  \n",
      " 23  FirstTime                236349 non-null  int64  \n",
      " 24  Gender1                  236349 non-null  int64  \n",
      " 25  Gender2                  236349 non-null  int64  \n",
      " 26  PropertyUsage            236349 non-null  int64  \n",
      " 27  SelfEmployed             236349 non-null  int64  \n",
      " 28  PropertyType             236349 non-null  int64  \n",
      " 29  HOEPA                    236349 non-null  int64  \n",
      " 30  UnitCount                236349 non-null  int64  \n",
      " 31  Race1                    236349 non-null  int64  \n",
      " 32  Minority2                236349 non-null  object \n",
      " 33  Race2                    236349 non-null  int64  \n",
      " 34  CensusTractIdentifier    236349 non-null  float64\n",
      " 35  AreaCode                 236349 non-null  object \n",
      " 36  County                   236349 non-null  int64  \n",
      " 37  State                    236349 non-null  int64  \n",
      " 38  Minority                 236349 non-null  object \n",
      " 39  Borrower2Dummy           236349 non-null  int64  \n",
      "dtypes: float64(7), int64(29), object(4)\n",
      "memory usage: 73.9+ MB\n"
     ]
    }
   ],
   "source": [
    "data.info()"
   ]
  },
  {
   "cell_type": "code",
   "execution_count": 4,
   "metadata": {},
   "outputs": [],
   "source": [
    "from sklearn.preprocessing import OrdinalEncoder"
   ]
  },
  {
   "cell_type": "code",
   "execution_count": 5,
   "metadata": {},
   "outputs": [],
   "source": [
    "enc = OrdinalEncoder()\n",
    "data[[\"Bank\",\"Minority\", \"Minority2\"]] = enc.fit_transform(data[[\"Bank\",\"Minority\", \"Minority2\"]])"
   ]
  },
  {
   "cell_type": "code",
   "execution_count": 6,
   "metadata": {
    "scrolled": true
   },
   "outputs": [
    {
     "data": {
      "text/html": [
       "<div>\n",
       "<style scoped>\n",
       "    .dataframe tbody tr th:only-of-type {\n",
       "        vertical-align: middle;\n",
       "    }\n",
       "\n",
       "    .dataframe tbody tr th {\n",
       "        vertical-align: top;\n",
       "    }\n",
       "\n",
       "    .dataframe thead th {\n",
       "        text-align: right;\n",
       "    }\n",
       "</style>\n",
       "<table border=\"1\" class=\"dataframe\">\n",
       "  <thead>\n",
       "    <tr style=\"text-align: right;\">\n",
       "      <th></th>\n",
       "      <th>Bank</th>\n",
       "      <th>Minority</th>\n",
       "      <th>Minority2</th>\n",
       "    </tr>\n",
       "  </thead>\n",
       "  <tbody>\n",
       "    <tr>\n",
       "      <th>0</th>\n",
       "      <td>0.0</td>\n",
       "      <td>1.0</td>\n",
       "      <td>1.0</td>\n",
       "    </tr>\n",
       "    <tr>\n",
       "      <th>1</th>\n",
       "      <td>0.0</td>\n",
       "      <td>2.0</td>\n",
       "      <td>1.0</td>\n",
       "    </tr>\n",
       "    <tr>\n",
       "      <th>2</th>\n",
       "      <td>0.0</td>\n",
       "      <td>2.0</td>\n",
       "      <td>1.0</td>\n",
       "    </tr>\n",
       "    <tr>\n",
       "      <th>3</th>\n",
       "      <td>0.0</td>\n",
       "      <td>2.0</td>\n",
       "      <td>2.0</td>\n",
       "    </tr>\n",
       "    <tr>\n",
       "      <th>4</th>\n",
       "      <td>0.0</td>\n",
       "      <td>2.0</td>\n",
       "      <td>1.0</td>\n",
       "    </tr>\n",
       "    <tr>\n",
       "      <th>...</th>\n",
       "      <td>...</td>\n",
       "      <td>...</td>\n",
       "      <td>...</td>\n",
       "    </tr>\n",
       "    <tr>\n",
       "      <th>236758</th>\n",
       "      <td>9.0</td>\n",
       "      <td>2.0</td>\n",
       "      <td>1.0</td>\n",
       "    </tr>\n",
       "    <tr>\n",
       "      <th>236759</th>\n",
       "      <td>9.0</td>\n",
       "      <td>2.0</td>\n",
       "      <td>2.0</td>\n",
       "    </tr>\n",
       "    <tr>\n",
       "      <th>236760</th>\n",
       "      <td>9.0</td>\n",
       "      <td>2.0</td>\n",
       "      <td>2.0</td>\n",
       "    </tr>\n",
       "    <tr>\n",
       "      <th>236761</th>\n",
       "      <td>9.0</td>\n",
       "      <td>2.0</td>\n",
       "      <td>2.0</td>\n",
       "    </tr>\n",
       "    <tr>\n",
       "      <th>236762</th>\n",
       "      <td>9.0</td>\n",
       "      <td>2.0</td>\n",
       "      <td>2.0</td>\n",
       "    </tr>\n",
       "  </tbody>\n",
       "</table>\n",
       "<p>236349 rows × 3 columns</p>\n",
       "</div>"
      ],
      "text/plain": [
       "        Bank  Minority  Minority2\n",
       "0        0.0       1.0        1.0\n",
       "1        0.0       2.0        1.0\n",
       "2        0.0       2.0        1.0\n",
       "3        0.0       2.0        2.0\n",
       "4        0.0       2.0        1.0\n",
       "...      ...       ...        ...\n",
       "236758   9.0       2.0        1.0\n",
       "236759   9.0       2.0        2.0\n",
       "236760   9.0       2.0        2.0\n",
       "236761   9.0       2.0        2.0\n",
       "236762   9.0       2.0        2.0\n",
       "\n",
       "[236349 rows x 3 columns]"
      ]
     },
     "execution_count": 6,
     "metadata": {},
     "output_type": "execute_result"
    }
   ],
   "source": [
    "data[['Bank','Minority','Minority2']]"
   ]
  },
  {
   "cell_type": "markdown",
   "metadata": {},
   "source": [
    "# Removing columns with low variance (<0.1)\n",
    "These columns will be removed in any case because they don't have any relevant informational content. "
   ]
  },
  {
   "cell_type": "code",
   "execution_count": 7,
   "metadata": {},
   "outputs": [],
   "source": [
    "df = data.replace('Missing', 999)"
   ]
  },
  {
   "cell_type": "code",
   "execution_count": 8,
   "metadata": {},
   "outputs": [
    {
     "name": "stdout",
     "output_type": "stream",
     "text": [
      "The removed features are: {'PropertyUsage', 'HOEPA', 'UnitCount'}\n"
     ]
    }
   ],
   "source": [
    "from sklearn.feature_selection import VarianceThreshold\n",
    "sel = VarianceThreshold(threshold=(.15))\n",
    "X_sel = sel.fit_transform(df)\n",
    "print('The removed features are: '+str(set(data.columns) - set (sel.get_feature_names_out())))"
   ]
  },
  {
   "cell_type": "code",
   "execution_count": 9,
   "metadata": {
    "scrolled": true
   },
   "outputs": [
    {
     "data": {
      "text/html": [
       "<div>\n",
       "<style scoped>\n",
       "    .dataframe tbody tr th:only-of-type {\n",
       "        vertical-align: middle;\n",
       "    }\n",
       "\n",
       "    .dataframe tbody tr th {\n",
       "        vertical-align: top;\n",
       "    }\n",
       "\n",
       "    .dataframe thead th {\n",
       "        text-align: right;\n",
       "    }\n",
       "</style>\n",
       "<table border=\"1\" class=\"dataframe\">\n",
       "  <thead>\n",
       "    <tr style=\"text-align: right;\">\n",
       "      <th></th>\n",
       "      <th>Year</th>\n",
       "      <th>InterestRate</th>\n",
       "      <th>MinorityRatio</th>\n",
       "      <th>CensusTractMedFamIncome</th>\n",
       "      <th>LocalAreaMedianIncome</th>\n",
       "      <th>MonthlyIncome</th>\n",
       "      <th>HUDMedIncome</th>\n",
       "      <th>UPB</th>\n",
       "      <th>LTV</th>\n",
       "      <th>PaymentCount</th>\n",
       "      <th>...</th>\n",
       "      <th>PropertyType</th>\n",
       "      <th>Race1</th>\n",
       "      <th>Minority2</th>\n",
       "      <th>Race2</th>\n",
       "      <th>CensusTractIdentifier</th>\n",
       "      <th>AreaCode</th>\n",
       "      <th>County</th>\n",
       "      <th>State</th>\n",
       "      <th>Minority</th>\n",
       "      <th>Borrower2Dummy</th>\n",
       "    </tr>\n",
       "  </thead>\n",
       "  <tbody>\n",
       "    <tr>\n",
       "      <th>0</th>\n",
       "      <td>2021</td>\n",
       "      <td>2.75</td>\n",
       "      <td>6.379</td>\n",
       "      <td>91316</td>\n",
       "      <td>85144</td>\n",
       "      <td>11771</td>\n",
       "      <td>92300</td>\n",
       "      <td>352000</td>\n",
       "      <td>80.0</td>\n",
       "      <td>360</td>\n",
       "      <td>...</td>\n",
       "      <td>1</td>\n",
       "      <td>6</td>\n",
       "      <td>1.0</td>\n",
       "      <td>6</td>\n",
       "      <td>45.02</td>\n",
       "      <td>38860</td>\n",
       "      <td>5</td>\n",
       "      <td>23</td>\n",
       "      <td>1.0</td>\n",
       "      <td>1</td>\n",
       "    </tr>\n",
       "    <tr>\n",
       "      <th>1</th>\n",
       "      <td>2021</td>\n",
       "      <td>2.25</td>\n",
       "      <td>3.553</td>\n",
       "      <td>100396</td>\n",
       "      <td>85144</td>\n",
       "      <td>5651</td>\n",
       "      <td>92300</td>\n",
       "      <td>139872</td>\n",
       "      <td>35.0</td>\n",
       "      <td>180</td>\n",
       "      <td>...</td>\n",
       "      <td>1</td>\n",
       "      <td>5</td>\n",
       "      <td>1.0</td>\n",
       "      <td>8</td>\n",
       "      <td>41.0</td>\n",
       "      <td>38860</td>\n",
       "      <td>5</td>\n",
       "      <td>23</td>\n",
       "      <td>2.0</td>\n",
       "      <td>0</td>\n",
       "    </tr>\n",
       "    <tr>\n",
       "      <th>2</th>\n",
       "      <td>2021</td>\n",
       "      <td>3.0</td>\n",
       "      <td>8.537</td>\n",
       "      <td>87500</td>\n",
       "      <td>91102</td>\n",
       "      <td>9395</td>\n",
       "      <td>95300</td>\n",
       "      <td>208000</td>\n",
       "      <td>80.0</td>\n",
       "      <td>360</td>\n",
       "      <td>...</td>\n",
       "      <td>1</td>\n",
       "      <td>5</td>\n",
       "      <td>1.0</td>\n",
       "      <td>8</td>\n",
       "      <td>7011.0</td>\n",
       "      <td>49340</td>\n",
       "      <td>27</td>\n",
       "      <td>25</td>\n",
       "      <td>2.0</td>\n",
       "      <td>0</td>\n",
       "    </tr>\n",
       "    <tr>\n",
       "      <th>3</th>\n",
       "      <td>2021</td>\n",
       "      <td>3.0</td>\n",
       "      <td>6.052</td>\n",
       "      <td>114531</td>\n",
       "      <td>91102</td>\n",
       "      <td>5912</td>\n",
       "      <td>95300</td>\n",
       "      <td>228000</td>\n",
       "      <td>80.0</td>\n",
       "      <td>360</td>\n",
       "      <td>...</td>\n",
       "      <td>1</td>\n",
       "      <td>5</td>\n",
       "      <td>2.0</td>\n",
       "      <td>5</td>\n",
       "      <td>7001.0</td>\n",
       "      <td>49340</td>\n",
       "      <td>27</td>\n",
       "      <td>25</td>\n",
       "      <td>2.0</td>\n",
       "      <td>1</td>\n",
       "    </tr>\n",
       "    <tr>\n",
       "      <th>4</th>\n",
       "      <td>2021</td>\n",
       "      <td>3.0</td>\n",
       "      <td>3.583</td>\n",
       "      <td>119423</td>\n",
       "      <td>91102</td>\n",
       "      <td>4420</td>\n",
       "      <td>95300</td>\n",
       "      <td>170000</td>\n",
       "      <td>73.0</td>\n",
       "      <td>360</td>\n",
       "      <td>...</td>\n",
       "      <td>1</td>\n",
       "      <td>5</td>\n",
       "      <td>1.0</td>\n",
       "      <td>8</td>\n",
       "      <td>7061.0</td>\n",
       "      <td>49340</td>\n",
       "      <td>27</td>\n",
       "      <td>25</td>\n",
       "      <td>2.0</td>\n",
       "      <td>0</td>\n",
       "    </tr>\n",
       "    <tr>\n",
       "      <th>...</th>\n",
       "      <td>...</td>\n",
       "      <td>...</td>\n",
       "      <td>...</td>\n",
       "      <td>...</td>\n",
       "      <td>...</td>\n",
       "      <td>...</td>\n",
       "      <td>...</td>\n",
       "      <td>...</td>\n",
       "      <td>...</td>\n",
       "      <td>...</td>\n",
       "      <td>...</td>\n",
       "      <td>...</td>\n",
       "      <td>...</td>\n",
       "      <td>...</td>\n",
       "      <td>...</td>\n",
       "      <td>...</td>\n",
       "      <td>...</td>\n",
       "      <td>...</td>\n",
       "      <td>...</td>\n",
       "      <td>...</td>\n",
       "      <td>...</td>\n",
       "    </tr>\n",
       "    <tr>\n",
       "      <th>236344</th>\n",
       "      <td>2019</td>\n",
       "      <td>3.875</td>\n",
       "      <td>17.119</td>\n",
       "      <td>54688</td>\n",
       "      <td>69210</td>\n",
       "      <td>3275</td>\n",
       "      <td>70000</td>\n",
       "      <td>133000</td>\n",
       "      <td>95.0</td>\n",
       "      <td>360</td>\n",
       "      <td>...</td>\n",
       "      <td>1</td>\n",
       "      <td>5</td>\n",
       "      <td>1.0</td>\n",
       "      <td>8</td>\n",
       "      <td>9599.0</td>\n",
       "      <td>35820</td>\n",
       "      <td>111</td>\n",
       "      <td>31</td>\n",
       "      <td>2.0</td>\n",
       "      <td>0</td>\n",
       "    </tr>\n",
       "    <tr>\n",
       "      <th>236345</th>\n",
       "      <td>2019</td>\n",
       "      <td>3.5</td>\n",
       "      <td>5.698</td>\n",
       "      <td>85714</td>\n",
       "      <td>69210</td>\n",
       "      <td>11500</td>\n",
       "      <td>70000</td>\n",
       "      <td>295000</td>\n",
       "      <td>84.0</td>\n",
       "      <td>240</td>\n",
       "      <td>...</td>\n",
       "      <td>1</td>\n",
       "      <td>5</td>\n",
       "      <td>2.0</td>\n",
       "      <td>5</td>\n",
       "      <td>9606.0</td>\n",
       "      <td>35820</td>\n",
       "      <td>111</td>\n",
       "      <td>31</td>\n",
       "      <td>2.0</td>\n",
       "      <td>1</td>\n",
       "    </tr>\n",
       "    <tr>\n",
       "      <th>236346</th>\n",
       "      <td>2019</td>\n",
       "      <td>3.875</td>\n",
       "      <td>13.887</td>\n",
       "      <td>84821</td>\n",
       "      <td>73964</td>\n",
       "      <td>4298</td>\n",
       "      <td>75200</td>\n",
       "      <td>77250</td>\n",
       "      <td>46.0</td>\n",
       "      <td>360</td>\n",
       "      <td>...</td>\n",
       "      <td>1</td>\n",
       "      <td>5</td>\n",
       "      <td>2.0</td>\n",
       "      <td>5</td>\n",
       "      <td>9512.0</td>\n",
       "      <td>999</td>\n",
       "      <td>13</td>\n",
       "      <td>31</td>\n",
       "      <td>2.0</td>\n",
       "      <td>1</td>\n",
       "    </tr>\n",
       "    <tr>\n",
       "      <th>236347</th>\n",
       "      <td>2019</td>\n",
       "      <td>4.625</td>\n",
       "      <td>6.373</td>\n",
       "      <td>73150</td>\n",
       "      <td>69210</td>\n",
       "      <td>6810</td>\n",
       "      <td>70000</td>\n",
       "      <td>207100</td>\n",
       "      <td>95.0</td>\n",
       "      <td>360</td>\n",
       "      <td>...</td>\n",
       "      <td>1</td>\n",
       "      <td>5</td>\n",
       "      <td>2.0</td>\n",
       "      <td>5</td>\n",
       "      <td>9598.0</td>\n",
       "      <td>35820</td>\n",
       "      <td>111</td>\n",
       "      <td>31</td>\n",
       "      <td>2.0</td>\n",
       "      <td>1</td>\n",
       "    </tr>\n",
       "    <tr>\n",
       "      <th>236348</th>\n",
       "      <td>2019</td>\n",
       "      <td>3.875</td>\n",
       "      <td>3.08</td>\n",
       "      <td>74500</td>\n",
       "      <td>69210</td>\n",
       "      <td>9649</td>\n",
       "      <td>70000</td>\n",
       "      <td>184000</td>\n",
       "      <td>80.0</td>\n",
       "      <td>360</td>\n",
       "      <td>...</td>\n",
       "      <td>1</td>\n",
       "      <td>5</td>\n",
       "      <td>2.0</td>\n",
       "      <td>5</td>\n",
       "      <td>9597.0</td>\n",
       "      <td>35820</td>\n",
       "      <td>111</td>\n",
       "      <td>31</td>\n",
       "      <td>2.0</td>\n",
       "      <td>1</td>\n",
       "    </tr>\n",
       "  </tbody>\n",
       "</table>\n",
       "<p>236349 rows × 37 columns</p>\n",
       "</div>"
      ],
      "text/plain": [
       "        Year InterestRate MinorityRatio CensusTractMedFamIncome   \n",
       "0       2021         2.75         6.379                   91316  \\\n",
       "1       2021         2.25         3.553                  100396   \n",
       "2       2021          3.0         8.537                   87500   \n",
       "3       2021          3.0         6.052                  114531   \n",
       "4       2021          3.0         3.583                  119423   \n",
       "...      ...          ...           ...                     ...   \n",
       "236344  2019        3.875        17.119                   54688   \n",
       "236345  2019          3.5         5.698                   85714   \n",
       "236346  2019        3.875        13.887                   84821   \n",
       "236347  2019        4.625         6.373                   73150   \n",
       "236348  2019        3.875          3.08                   74500   \n",
       "\n",
       "       LocalAreaMedianIncome MonthlyIncome HUDMedIncome     UPB   LTV   \n",
       "0                      85144         11771        92300  352000  80.0  \\\n",
       "1                      85144          5651        92300  139872  35.0   \n",
       "2                      91102          9395        95300  208000  80.0   \n",
       "3                      91102          5912        95300  228000  80.0   \n",
       "4                      91102          4420        95300  170000  73.0   \n",
       "...                      ...           ...          ...     ...   ...   \n",
       "236344                 69210          3275        70000  133000  95.0   \n",
       "236345                 69210         11500        70000  295000  84.0   \n",
       "236346                 73964          4298        75200   77250  46.0   \n",
       "236347                 69210          6810        70000  207100  95.0   \n",
       "236348                 69210          9649        70000  184000  80.0   \n",
       "\n",
       "       PaymentCount  ... PropertyType Race1 Minority2 Race2   \n",
       "0               360  ...            1     6       1.0     6  \\\n",
       "1               180  ...            1     5       1.0     8   \n",
       "2               360  ...            1     5       1.0     8   \n",
       "3               360  ...            1     5       2.0     5   \n",
       "4               360  ...            1     5       1.0     8   \n",
       "...             ...  ...          ...   ...       ...   ...   \n",
       "236344          360  ...            1     5       1.0     8   \n",
       "236345          240  ...            1     5       2.0     5   \n",
       "236346          360  ...            1     5       2.0     5   \n",
       "236347          360  ...            1     5       2.0     5   \n",
       "236348          360  ...            1     5       2.0     5   \n",
       "\n",
       "       CensusTractIdentifier AreaCode County State Minority Borrower2Dummy  \n",
       "0                      45.02    38860      5    23      1.0              1  \n",
       "1                       41.0    38860      5    23      2.0              0  \n",
       "2                     7011.0    49340     27    25      2.0              0  \n",
       "3                     7001.0    49340     27    25      2.0              1  \n",
       "4                     7061.0    49340     27    25      2.0              0  \n",
       "...                      ...      ...    ...   ...      ...            ...  \n",
       "236344                9599.0    35820    111    31      2.0              0  \n",
       "236345                9606.0    35820    111    31      2.0              1  \n",
       "236346                9512.0      999     13    31      2.0              1  \n",
       "236347                9598.0    35820    111    31      2.0              1  \n",
       "236348                9597.0    35820    111    31      2.0              1  \n",
       "\n",
       "[236349 rows x 37 columns]"
      ]
     },
     "execution_count": 9,
     "metadata": {},
     "output_type": "execute_result"
    }
   ],
   "source": [
    "X_sel = pd.DataFrame(X_sel , columns=sel.get_feature_names_out())\n",
    "X_sel"
   ]
  },
  {
   "cell_type": "code",
   "execution_count": 10,
   "metadata": {},
   "outputs": [],
   "source": [
    "#X_sel.to_csv('features.csv')"
   ]
  },
  {
   "cell_type": "code",
   "execution_count": null,
   "metadata": {},
   "outputs": [],
   "source": []
  },
  {
   "cell_type": "markdown",
   "metadata": {},
   "source": [
    "# Feature selection: the main drivers of interest rates \n",
    "\n",
    "\n"
   ]
  },
  {
   "cell_type": "code",
   "execution_count": 12,
   "metadata": {},
   "outputs": [],
   "source": [
    "X = X_sel.copy()\n",
    "y = X.pop('InterestRate').astype(float)\n",
    "\n",
    "# X = X_sel.drop(['InterestRate'], axis='columns')#, 'Age2', 'CreditScore2', 'Gender2', 'Minority2', 'Race2'], axis='columns')"
   ]
  },
  {
   "cell_type": "code",
   "execution_count": 11,
   "metadata": {},
   "outputs": [],
   "source": [
    "all_labels = list(X.columns)\n",
    "results = pd.DataFrame(index=all_labels, columns=['MIR_5', 'MIR_10', 'Best_5','Best_10', '10K', 'RFE_5', 'RFE_10'])"
   ]
  },
  {
   "cell_type": "markdown",
   "metadata": {},
   "source": [
    "## 1. Mutual Information Regression\n"
   ]
  },
  {
   "cell_type": "code",
   "execution_count": 13,
   "metadata": {},
   "outputs": [],
   "source": []
  },
  {
   "cell_type": "code",
   "execution_count": 14,
   "metadata": {},
   "outputs": [],
   "source": [
    "mi_scores = make_mi_scores(X, y)"
   ]
  },
  {
   "cell_type": "code",
   "execution_count": 15,
   "metadata": {},
   "outputs": [
    {
     "data": {
      "image/png": "[encoded data removed]",
      "text/plain": [
       "<Figure size 800x1200 with 1 Axes>"
      ]
     },
     "metadata": {},
     "output_type": "display_data"
    }
   ],
   "source": [
    "plot_mi_scores(mi_scores)"
   ]
  },
  {
   "cell_type": "code",
   "execution_count": 16,
   "metadata": {},
   "outputs": [
    {
     "data": {
      "text/plain": [
       "LocalAreaMedianIncome      0.670626\n",
       "CensusTractMedFamIncome    0.431017\n",
       "NoteDate                   0.430504\n",
       "Year                       0.389992\n",
       "HUDMedIncome               0.375569\n",
       "Name: MI Scores, dtype: float64"
      ]
     },
     "execution_count": 16,
     "metadata": {},
     "output_type": "execute_result"
    }
   ],
   "source": [
    "mi_scores[:10]"
   ]
  },
  {
   "cell_type": "code",
   "execution_count": null,
   "metadata": {},
   "outputs": [],
   "source": [
    "save_selected(features = mi_scores[:5].index, name_model = 'MIR_5')\n",
    "save_selected(features = mi_scores[:10].index, name_model = 'MIR_10')"
   ]
  },
  {
   "cell_type": "markdown",
   "metadata": {},
   "source": [
    "## Excluding 2nd borrower"
   ]
  },
  {
   "cell_type": "markdown",
   "metadata": {},
   "source": [
    "From the results of the Mutual Information regressor, it seems clear that those variables related to the second borrower on a given loan are not extremely correlated with interest rates. \n",
    "\n",
    "Therefore, we exclude variables related to the second borrower for 2 main reasons. Firstly, we believe it is unlikely that the additional borrower might have such an important impact of the determination of an individual's credit score. Nonetheless, we will keep the dummy indicationg whether a second borrower is present or not since this might have some impact. Secondly, only 60% of observations have an additional borrower, therefore the informational content is missing for a large part of the observations. "
   ]
  },
  {
   "cell_type": "code",
   "execution_count": 18,
   "metadata": {},
   "outputs": [],
   "source": [
    "y = X_sel.InterestRate.astype(float)\n",
    "X = X.drop(['Age2', 'CreditScore2', 'Gender2', 'Minority2', 'Race2'], axis='columns')"
   ]
  },
  {
   "cell_type": "markdown",
   "metadata": {},
   "source": [
    "## 2. SelectKBest\n",
    "\n",
    "Select features according to the k highest scores, using `f_regression` as score function, which uses a linear model for testing the effect of a single regressor, sequentially for many regressors.\n",
    "\n"
   ]
  },
  {
   "cell_type": "markdown",
   "metadata": {},
   "source": [
    "#### Rescaling"
   ]
  },
  {
   "cell_type": "code",
   "execution_count": 19,
   "metadata": {},
   "outputs": [],
   "source": [
    "from sklearn.preprocessing import StandardScaler\n",
    "ss= StandardScaler()\n",
    "\n",
    "X_trans = ss.fit_transform(X)\n",
    "X_trans = pd.DataFrame(X_trans, columns=X.columns)"
   ]
  },
  {
   "cell_type": "markdown",
   "metadata": {},
   "source": [
    "#### SelectKBest\n",
    "\n",
    "We identify the 5 and later 10 most relevant features."
   ]
  },
  {
   "cell_type": "code",
   "execution_count": 20,
   "metadata": {},
   "outputs": [
    {
     "name": "stdout",
     "output_type": "stream",
     "text": [
      "['Year' 'PaymentCount' 'NoteDate' 'FirstTime' 'SelfEmployed']\n"
     ]
    }
   ],
   "source": [
    "# SELECT 5 BEST FROM X_ALL_LABELS\n",
    "from sklearn.feature_selection import SelectKBest, f_regression\n",
    "\n",
    "selector = SelectKBest(f_regression, k=5)\n",
    "selector.fit_transform(X_trans,y)\n",
    "selected = selector.get_feature_names_out()\n",
    "print(selected)"
   ]
  },
  {
   "cell_type": "code",
   "execution_count": 21,
   "metadata": {},
   "outputs": [],
   "source": [
    "save_selected(features = selected, name_model = 'Best_5')"
   ]
  },
  {
   "cell_type": "code",
   "execution_count": 22,
   "metadata": {},
   "outputs": [
    {
     "name": "stdout",
     "output_type": "stream",
     "text": [
      "['Year' 'MinorityRatio' 'LTV' 'PaymentCount' 'DebtExpense' 'CreditScore1'\n",
      " 'NoteDate' 'FirstTime' 'SelfEmployed' 'PropertyType']\n"
     ]
    }
   ],
   "source": [
    "# SELECT 10 BEST FROM X_ALL_LABELS\n",
    "selector = SelectKBest(f_regression, k=10)\n",
    "selector.fit_transform(X_trans,y)\n",
    "selected = selector.get_feature_names_out()\n",
    "print(selected)"
   ]
  },
  {
   "cell_type": "code",
   "execution_count": 23,
   "metadata": {},
   "outputs": [],
   "source": [
    "save_selected(features = selected, name_model = 'Best_10')"
   ]
  },
  {
   "cell_type": "markdown",
   "metadata": {},
   "source": [
    "## 3. Recursive Feature Elimination\n",
    "\n",
    "We use an external estimator that assigns weights to features which is an SVR with linear kernel, and the goal of recursive feature elimination (RFE) is to select features by recursively considering smaller and smaller sets of features. First, the estimator is trained on the initial set of features and the importance of each feature is obtained. Then, the least important features are pruned from current set of features until the desirred number of features is left.\n",
    "\n"
   ]
  },
  {
   "cell_type": "code",
   "execution_count": 26,
   "metadata": {},
   "outputs": [],
   "source": [
    "from sklearn.feature_selection import RFE\n",
    "from sklearn.ensemble import RandomForestRegressor"
   ]
  },
  {
   "cell_type": "code",
   "execution_count": 30,
   "metadata": {},
   "outputs": [],
   "source": [
    "estimator = RandomForestRegressor(n_estimators=100, max_depth=10)"
   ]
  },
  {
   "cell_type": "code",
   "execution_count": 31,
   "metadata": {},
   "outputs": [],
   "source": [
    "selector = RFE(estimator, n_features_to_select=5, step=1, verbose=1)"
   ]
  },
  {
   "cell_type": "code",
   "execution_count": 32,
   "metadata": {},
   "outputs": [
    {
     "name": "stdout",
     "output_type": "stream",
     "text": [
      "Fitting estimator with 31 features.\n",
      "Fitting estimator with 30 features.\n",
      "Fitting estimator with 29 features.\n",
      "Fitting estimator with 28 features.\n",
      "Fitting estimator with 27 features.\n",
      "Fitting estimator with 26 features.\n",
      "Fitting estimator with 25 features.\n",
      "Fitting estimator with 24 features.\n",
      "Fitting estimator with 23 features.\n",
      "Fitting estimator with 22 features.\n",
      "Fitting estimator with 21 features.\n",
      "Fitting estimator with 20 features.\n",
      "Fitting estimator with 19 features.\n",
      "Fitting estimator with 18 features.\n",
      "Fitting estimator with 17 features.\n",
      "Fitting estimator with 16 features.\n",
      "Fitting estimator with 15 features.\n",
      "Fitting estimator with 14 features.\n",
      "Fitting estimator with 13 features.\n",
      "Fitting estimator with 12 features.\n",
      "Fitting estimator with 11 features.\n",
      "Fitting estimator with 10 features.\n",
      "Fitting estimator with 9 features.\n",
      "Fitting estimator with 8 features.\n",
      "Fitting estimator with 7 features.\n",
      "Fitting estimator with 6 features.\n"
     ]
    }
   ],
   "source": [
    "selector = selector.fit(X_trans,y)"
   ]
  },
  {
   "cell_type": "code",
   "execution_count": 37,
   "metadata": {},
   "outputs": [
    {
     "name": "stdout",
     "output_type": "stream",
     "text": [
      "['Year' 'LocalAreaMedianIncome' 'PaymentCount' 'NoteDate' 'SelfEmployed']\n"
     ]
    }
   ],
   "source": [
    "selected = selector.feature_names_in_[selector.support_]\n",
    "print(selected)"
   ]
  },
  {
   "cell_type": "code",
   "execution_count": 38,
   "metadata": {},
   "outputs": [],
   "source": [
    "save_selected(features = selected, name_model = 'RFE_5')"
   ]
  },
  {
   "cell_type": "markdown",
   "metadata": {},
   "source": [
    "# REPEAT RFE WITH 10 FEATURES\n"
   ]
  },
  {
   "cell_type": "code",
   "execution_count": 40,
   "metadata": {
    "scrolled": true
   },
   "outputs": [
    {
     "name": "stdout",
     "output_type": "stream",
     "text": [
      "Fitting estimator with 31 features.\n",
      "Fitting estimator with 30 features.\n",
      "Fitting estimator with 29 features.\n",
      "Fitting estimator with 28 features.\n",
      "Fitting estimator with 27 features.\n",
      "Fitting estimator with 26 features.\n",
      "Fitting estimator with 25 features.\n",
      "Fitting estimator with 24 features.\n",
      "Fitting estimator with 23 features.\n",
      "Fitting estimator with 22 features.\n",
      "Fitting estimator with 21 features.\n",
      "Fitting estimator with 20 features.\n",
      "Fitting estimator with 19 features.\n",
      "Fitting estimator with 18 features.\n",
      "Fitting estimator with 17 features.\n",
      "Fitting estimator with 16 features.\n",
      "Fitting estimator with 15 features.\n",
      "Fitting estimator with 14 features.\n",
      "Fitting estimator with 13 features.\n",
      "Fitting estimator with 12 features.\n",
      "Fitting estimator with 11 features.\n",
      "['Year' 'LocalAreaMedianIncome' 'HUDMedIncome' 'PaymentCount'\n",
      " 'CreditScore1' 'NoteDate' 'Bank' 'LoanPurpose' 'FirstTime' 'SelfEmployed']\n"
     ]
    }
   ],
   "source": [
    "estimator = RandomForestRegressor(n_estimators=100, max_depth=10)\n",
    "selector = RFE(estimator, n_features_to_select=10, step=1, verbose=1)\n",
    "selector = selector.fit(X_trans,y)"
   ]
  },
  {
   "cell_type": "code",
   "execution_count": 43,
   "metadata": {},
   "outputs": [
    {
     "name": "stdout",
     "output_type": "stream",
     "text": [
      "['Year' 'LocalAreaMedianIncome' 'HUDMedIncome' 'PaymentCount'\n",
      " 'CreditScore1' 'NoteDate' 'Bank' 'LoanPurpose' 'FirstTime' 'SelfEmployed']\n"
     ]
    }
   ],
   "source": [
    "selected = selector.feature_names_in_[selector.support_]\n",
    "print(selected)"
   ]
  },
  {
   "cell_type": "code",
   "execution_count": 41,
   "metadata": {},
   "outputs": [],
   "source": [
    "save_selected(features = selected, name_model = 'RFE_10')"
   ]
  },
  {
   "cell_type": "markdown",
   "metadata": {},
   "source": [
    "# Comparison of selection results\n"
   ]
  },
  {
   "cell_type": "code",
   "execution_count": 52,
   "metadata": {},
   "outputs": [
    {
     "data": {
      "text/html": [
       "<style type=\"text/css\">\n",
       "#T_96052_row0_col0, #T_96052_row0_col1, #T_96052_row0_col2, #T_96052_row0_col3, #T_96052_row0_col4, #T_96052_row1_col2, #T_96052_row2_col0, #T_96052_row3_col0, #T_96052_row3_col3, #T_96052_row3_col4, #T_96052_row5_col0, #T_96052_row5_col4, #T_96052_row7_col2, #T_96052_row8_col1, #T_96052_row8_col2, #T_96052_row8_col3, #T_96052_row8_col4, #T_96052_row12_col2, #T_96052_row14_col2, #T_96052_row14_col4, #T_96052_row16_col0, #T_96052_row16_col1, #T_96052_row16_col2, #T_96052_row16_col3, #T_96052_row16_col4, #T_96052_row18_col4, #T_96052_row19_col4, #T_96052_row22_col1, #T_96052_row22_col2, #T_96052_row22_col4, #T_96052_row26_col1, #T_96052_row26_col2, #T_96052_row26_col3, #T_96052_row26_col4, #T_96052_row27_col2 {\n",
       "  background-color: lightgreen;\n",
       "}\n",
       "#T_96052_row1_col0, #T_96052_row1_col1, #T_96052_row1_col3, #T_96052_row1_col4, #T_96052_row2_col1, #T_96052_row2_col2, #T_96052_row2_col3, #T_96052_row2_col4, #T_96052_row3_col1, #T_96052_row3_col2, #T_96052_row4_col0, #T_96052_row4_col1, #T_96052_row4_col2, #T_96052_row4_col3, #T_96052_row4_col4, #T_96052_row5_col1, #T_96052_row5_col2, #T_96052_row5_col3, #T_96052_row6_col0, #T_96052_row6_col1, #T_96052_row6_col2, #T_96052_row6_col3, #T_96052_row6_col4, #T_96052_row7_col0, #T_96052_row7_col1, #T_96052_row7_col3, #T_96052_row7_col4, #T_96052_row8_col0, #T_96052_row9_col0, #T_96052_row9_col1, #T_96052_row9_col2, #T_96052_row9_col3, #T_96052_row9_col4, #T_96052_row10_col0, #T_96052_row10_col1, #T_96052_row10_col2, #T_96052_row10_col3, #T_96052_row10_col4, #T_96052_row11_col0, #T_96052_row11_col1, #T_96052_row11_col2, #T_96052_row11_col3, #T_96052_row11_col4, #T_96052_row12_col0, #T_96052_row12_col1, #T_96052_row12_col3, #T_96052_row12_col4, #T_96052_row13_col0, #T_96052_row13_col1, #T_96052_row13_col2, #T_96052_row13_col3, #T_96052_row13_col4, #T_96052_row14_col0, #T_96052_row14_col1, #T_96052_row14_col3, #T_96052_row15_col0, #T_96052_row15_col1, #T_96052_row15_col2, #T_96052_row15_col3, #T_96052_row15_col4, #T_96052_row17_col0, #T_96052_row17_col1, #T_96052_row17_col2, #T_96052_row17_col3, #T_96052_row17_col4, #T_96052_row18_col0, #T_96052_row18_col1, #T_96052_row18_col2, #T_96052_row18_col3, #T_96052_row19_col0, #T_96052_row19_col1, #T_96052_row19_col2, #T_96052_row19_col3, #T_96052_row20_col0, #T_96052_row20_col1, #T_96052_row20_col2, #T_96052_row20_col3, #T_96052_row20_col4, #T_96052_row21_col0, #T_96052_row21_col1, #T_96052_row21_col2, #T_96052_row21_col3, #T_96052_row21_col4, #T_96052_row22_col0, #T_96052_row22_col3, #T_96052_row23_col0, #T_96052_row23_col1, #T_96052_row23_col2, #T_96052_row23_col3, #T_96052_row23_col4, #T_96052_row24_col0, #T_96052_row24_col1, #T_96052_row24_col2, #T_96052_row24_col3, #T_96052_row24_col4, #T_96052_row25_col0, #T_96052_row25_col1, #T_96052_row25_col2, #T_96052_row25_col3, #T_96052_row25_col4, #T_96052_row26_col0, #T_96052_row27_col0, #T_96052_row27_col1, #T_96052_row27_col3, #T_96052_row27_col4, #T_96052_row28_col0, #T_96052_row28_col1, #T_96052_row28_col2, #T_96052_row28_col3, #T_96052_row28_col4, #T_96052_row29_col0, #T_96052_row29_col1, #T_96052_row29_col2, #T_96052_row29_col3, #T_96052_row29_col4, #T_96052_row30_col0, #T_96052_row30_col1, #T_96052_row30_col2, #T_96052_row30_col3, #T_96052_row30_col4, #T_96052_row31_col0, #T_96052_row31_col1, #T_96052_row31_col2, #T_96052_row31_col3, #T_96052_row31_col4, #T_96052_row32_col0, #T_96052_row32_col1, #T_96052_row32_col2, #T_96052_row32_col3, #T_96052_row32_col4, #T_96052_row33_col0, #T_96052_row33_col1, #T_96052_row33_col2, #T_96052_row33_col3, #T_96052_row33_col4, #T_96052_row34_col0, #T_96052_row34_col1, #T_96052_row34_col2, #T_96052_row34_col3, #T_96052_row34_col4, #T_96052_row35_col0, #T_96052_row35_col1, #T_96052_row35_col2, #T_96052_row35_col3, #T_96052_row35_col4, #T_96052_row36_col0, #T_96052_row36_col1, #T_96052_row36_col2, #T_96052_row36_col3, #T_96052_row36_col4, #T_96052_row37_col0, #T_96052_row37_col1, #T_96052_row37_col2, #T_96052_row37_col3, #T_96052_row37_col4, #T_96052_row38_col0, #T_96052_row38_col1, #T_96052_row38_col2, #T_96052_row38_col3, #T_96052_row38_col4 {\n",
       "  background-color: white;\n",
       "}\n",
       "</style>\n",
       "<table id=\"T_96052\">\n",
       "  <thead>\n",
       "    <tr>\n",
       "      <th class=\"blank level0\" >&nbsp;</th>\n",
       "      <th id=\"T_96052_level0_col0\" class=\"col_heading level0 col0\" >MutualInfoReg</th>\n",
       "      <th id=\"T_96052_level0_col1\" class=\"col_heading level0 col1\" >5K</th>\n",
       "      <th id=\"T_96052_level0_col2\" class=\"col_heading level0 col2\" >10K</th>\n",
       "      <th id=\"T_96052_level0_col3\" class=\"col_heading level0 col3\" >RFE</th>\n",
       "      <th id=\"T_96052_level0_col4\" class=\"col_heading level0 col4\" >RFE_10</th>\n",
       "    </tr>\n",
       "  </thead>\n",
       "  <tbody>\n",
       "    <tr>\n",
       "      <th id=\"T_96052_level0_row0\" class=\"row_heading level0 row0\" >Year</th>\n",
       "      <td id=\"T_96052_row0_col0\" class=\"data row0 col0\" >1</td>\n",
       "      <td id=\"T_96052_row0_col1\" class=\"data row0 col1\" >1</td>\n",
       "      <td id=\"T_96052_row0_col2\" class=\"data row0 col2\" >1</td>\n",
       "      <td id=\"T_96052_row0_col3\" class=\"data row0 col3\" >1</td>\n",
       "      <td id=\"T_96052_row0_col4\" class=\"data row0 col4\" >1</td>\n",
       "    </tr>\n",
       "    <tr>\n",
       "      <th id=\"T_96052_level0_row1\" class=\"row_heading level0 row1\" >MinorityRatio</th>\n",
       "      <td id=\"T_96052_row1_col0\" class=\"data row1 col0\" >0</td>\n",
       "      <td id=\"T_96052_row1_col1\" class=\"data row1 col1\" >0</td>\n",
       "      <td id=\"T_96052_row1_col2\" class=\"data row1 col2\" >1</td>\n",
       "      <td id=\"T_96052_row1_col3\" class=\"data row1 col3\" >0</td>\n",
       "      <td id=\"T_96052_row1_col4\" class=\"data row1 col4\" >0</td>\n",
       "    </tr>\n",
       "    <tr>\n",
       "      <th id=\"T_96052_level0_row2\" class=\"row_heading level0 row2\" >CensusTractMedFamIncome</th>\n",
       "      <td id=\"T_96052_row2_col0\" class=\"data row2 col0\" >1</td>\n",
       "      <td id=\"T_96052_row2_col1\" class=\"data row2 col1\" >0</td>\n",
       "      <td id=\"T_96052_row2_col2\" class=\"data row2 col2\" >0</td>\n",
       "      <td id=\"T_96052_row2_col3\" class=\"data row2 col3\" >0</td>\n",
       "      <td id=\"T_96052_row2_col4\" class=\"data row2 col4\" >0</td>\n",
       "    </tr>\n",
       "    <tr>\n",
       "      <th id=\"T_96052_level0_row3\" class=\"row_heading level0 row3\" >LocalAreaMedianIncome</th>\n",
       "      <td id=\"T_96052_row3_col0\" class=\"data row3 col0\" >1</td>\n",
       "      <td id=\"T_96052_row3_col1\" class=\"data row3 col1\" >0</td>\n",
       "      <td id=\"T_96052_row3_col2\" class=\"data row3 col2\" >0</td>\n",
       "      <td id=\"T_96052_row3_col3\" class=\"data row3 col3\" >1</td>\n",
       "      <td id=\"T_96052_row3_col4\" class=\"data row3 col4\" >1</td>\n",
       "    </tr>\n",
       "    <tr>\n",
       "      <th id=\"T_96052_level0_row4\" class=\"row_heading level0 row4\" >MonthlyIncome</th>\n",
       "      <td id=\"T_96052_row4_col0\" class=\"data row4 col0\" >0</td>\n",
       "      <td id=\"T_96052_row4_col1\" class=\"data row4 col1\" >0</td>\n",
       "      <td id=\"T_96052_row4_col2\" class=\"data row4 col2\" >0</td>\n",
       "      <td id=\"T_96052_row4_col3\" class=\"data row4 col3\" >0</td>\n",
       "      <td id=\"T_96052_row4_col4\" class=\"data row4 col4\" >0</td>\n",
       "    </tr>\n",
       "    <tr>\n",
       "      <th id=\"T_96052_level0_row5\" class=\"row_heading level0 row5\" >HUDMedIncome</th>\n",
       "      <td id=\"T_96052_row5_col0\" class=\"data row5 col0\" >1</td>\n",
       "      <td id=\"T_96052_row5_col1\" class=\"data row5 col1\" >0</td>\n",
       "      <td id=\"T_96052_row5_col2\" class=\"data row5 col2\" >0</td>\n",
       "      <td id=\"T_96052_row5_col3\" class=\"data row5 col3\" >0</td>\n",
       "      <td id=\"T_96052_row5_col4\" class=\"data row5 col4\" >1</td>\n",
       "    </tr>\n",
       "    <tr>\n",
       "      <th id=\"T_96052_level0_row6\" class=\"row_heading level0 row6\" >UPB</th>\n",
       "      <td id=\"T_96052_row6_col0\" class=\"data row6 col0\" >0</td>\n",
       "      <td id=\"T_96052_row6_col1\" class=\"data row6 col1\" >0</td>\n",
       "      <td id=\"T_96052_row6_col2\" class=\"data row6 col2\" >0</td>\n",
       "      <td id=\"T_96052_row6_col3\" class=\"data row6 col3\" >0</td>\n",
       "      <td id=\"T_96052_row6_col4\" class=\"data row6 col4\" >0</td>\n",
       "    </tr>\n",
       "    <tr>\n",
       "      <th id=\"T_96052_level0_row7\" class=\"row_heading level0 row7\" >LTV</th>\n",
       "      <td id=\"T_96052_row7_col0\" class=\"data row7 col0\" >0</td>\n",
       "      <td id=\"T_96052_row7_col1\" class=\"data row7 col1\" >0</td>\n",
       "      <td id=\"T_96052_row7_col2\" class=\"data row7 col2\" >1</td>\n",
       "      <td id=\"T_96052_row7_col3\" class=\"data row7 col3\" >0</td>\n",
       "      <td id=\"T_96052_row7_col4\" class=\"data row7 col4\" >0</td>\n",
       "    </tr>\n",
       "    <tr>\n",
       "      <th id=\"T_96052_level0_row8\" class=\"row_heading level0 row8\" >PaymentCount</th>\n",
       "      <td id=\"T_96052_row8_col0\" class=\"data row8 col0\" >0</td>\n",
       "      <td id=\"T_96052_row8_col1\" class=\"data row8 col1\" >1</td>\n",
       "      <td id=\"T_96052_row8_col2\" class=\"data row8 col2\" >1</td>\n",
       "      <td id=\"T_96052_row8_col3\" class=\"data row8 col3\" >1</td>\n",
       "      <td id=\"T_96052_row8_col4\" class=\"data row8 col4\" >1</td>\n",
       "    </tr>\n",
       "    <tr>\n",
       "      <th id=\"T_96052_level0_row9\" class=\"row_heading level0 row9\" >Age1</th>\n",
       "      <td id=\"T_96052_row9_col0\" class=\"data row9 col0\" >0</td>\n",
       "      <td id=\"T_96052_row9_col1\" class=\"data row9 col1\" >0</td>\n",
       "      <td id=\"T_96052_row9_col2\" class=\"data row9 col2\" >0</td>\n",
       "      <td id=\"T_96052_row9_col3\" class=\"data row9 col3\" >0</td>\n",
       "      <td id=\"T_96052_row9_col4\" class=\"data row9 col4\" >0</td>\n",
       "    </tr>\n",
       "    <tr>\n",
       "      <th id=\"T_96052_level0_row10\" class=\"row_heading level0 row10\" >Age2</th>\n",
       "      <td id=\"T_96052_row10_col0\" class=\"data row10 col0\" >0</td>\n",
       "      <td id=\"T_96052_row10_col1\" class=\"data row10 col1\" >0</td>\n",
       "      <td id=\"T_96052_row10_col2\" class=\"data row10 col2\" >0</td>\n",
       "      <td id=\"T_96052_row10_col3\" class=\"data row10 col3\" >0</td>\n",
       "      <td id=\"T_96052_row10_col4\" class=\"data row10 col4\" >0</td>\n",
       "    </tr>\n",
       "    <tr>\n",
       "      <th id=\"T_96052_level0_row11\" class=\"row_heading level0 row11\" >HousingExpense</th>\n",
       "      <td id=\"T_96052_row11_col0\" class=\"data row11 col0\" >0</td>\n",
       "      <td id=\"T_96052_row11_col1\" class=\"data row11 col1\" >0</td>\n",
       "      <td id=\"T_96052_row11_col2\" class=\"data row11 col2\" >0</td>\n",
       "      <td id=\"T_96052_row11_col3\" class=\"data row11 col3\" >0</td>\n",
       "      <td id=\"T_96052_row11_col4\" class=\"data row11 col4\" >0</td>\n",
       "    </tr>\n",
       "    <tr>\n",
       "      <th id=\"T_96052_level0_row12\" class=\"row_heading level0 row12\" >DebtExpense</th>\n",
       "      <td id=\"T_96052_row12_col0\" class=\"data row12 col0\" >0</td>\n",
       "      <td id=\"T_96052_row12_col1\" class=\"data row12 col1\" >0</td>\n",
       "      <td id=\"T_96052_row12_col2\" class=\"data row12 col2\" >1</td>\n",
       "      <td id=\"T_96052_row12_col3\" class=\"data row12 col3\" >0</td>\n",
       "      <td id=\"T_96052_row12_col4\" class=\"data row12 col4\" >0</td>\n",
       "    </tr>\n",
       "    <tr>\n",
       "      <th id=\"T_96052_level0_row13\" class=\"row_heading level0 row13\" >PMI</th>\n",
       "      <td id=\"T_96052_row13_col0\" class=\"data row13 col0\" >0</td>\n",
       "      <td id=\"T_96052_row13_col1\" class=\"data row13 col1\" >0</td>\n",
       "      <td id=\"T_96052_row13_col2\" class=\"data row13 col2\" >0</td>\n",
       "      <td id=\"T_96052_row13_col3\" class=\"data row13 col3\" >0</td>\n",
       "      <td id=\"T_96052_row13_col4\" class=\"data row13 col4\" >0</td>\n",
       "    </tr>\n",
       "    <tr>\n",
       "      <th id=\"T_96052_level0_row14\" class=\"row_heading level0 row14\" >CreditScore1</th>\n",
       "      <td id=\"T_96052_row14_col0\" class=\"data row14 col0\" >0</td>\n",
       "      <td id=\"T_96052_row14_col1\" class=\"data row14 col1\" >0</td>\n",
       "      <td id=\"T_96052_row14_col2\" class=\"data row14 col2\" >1</td>\n",
       "      <td id=\"T_96052_row14_col3\" class=\"data row14 col3\" >0</td>\n",
       "      <td id=\"T_96052_row14_col4\" class=\"data row14 col4\" >1</td>\n",
       "    </tr>\n",
       "    <tr>\n",
       "      <th id=\"T_96052_level0_row15\" class=\"row_heading level0 row15\" >CreditScore2</th>\n",
       "      <td id=\"T_96052_row15_col0\" class=\"data row15 col0\" >0</td>\n",
       "      <td id=\"T_96052_row15_col1\" class=\"data row15 col1\" >0</td>\n",
       "      <td id=\"T_96052_row15_col2\" class=\"data row15 col2\" >0</td>\n",
       "      <td id=\"T_96052_row15_col3\" class=\"data row15 col3\" >0</td>\n",
       "      <td id=\"T_96052_row15_col4\" class=\"data row15 col4\" >0</td>\n",
       "    </tr>\n",
       "    <tr>\n",
       "      <th id=\"T_96052_level0_row16\" class=\"row_heading level0 row16\" >NoteDate</th>\n",
       "      <td id=\"T_96052_row16_col0\" class=\"data row16 col0\" >1</td>\n",
       "      <td id=\"T_96052_row16_col1\" class=\"data row16 col1\" >1</td>\n",
       "      <td id=\"T_96052_row16_col2\" class=\"data row16 col2\" >1</td>\n",
       "      <td id=\"T_96052_row16_col3\" class=\"data row16 col3\" >1</td>\n",
       "      <td id=\"T_96052_row16_col4\" class=\"data row16 col4\" >1</td>\n",
       "    </tr>\n",
       "    <tr>\n",
       "      <th id=\"T_96052_level0_row17\" class=\"row_heading level0 row17\" >NoteAmount</th>\n",
       "      <td id=\"T_96052_row17_col0\" class=\"data row17 col0\" >0</td>\n",
       "      <td id=\"T_96052_row17_col1\" class=\"data row17 col1\" >0</td>\n",
       "      <td id=\"T_96052_row17_col2\" class=\"data row17 col2\" >0</td>\n",
       "      <td id=\"T_96052_row17_col3\" class=\"data row17 col3\" >0</td>\n",
       "      <td id=\"T_96052_row17_col4\" class=\"data row17 col4\" >0</td>\n",
       "    </tr>\n",
       "    <tr>\n",
       "      <th id=\"T_96052_level0_row18\" class=\"row_heading level0 row18\" >Bank</th>\n",
       "      <td id=\"T_96052_row18_col0\" class=\"data row18 col0\" >0</td>\n",
       "      <td id=\"T_96052_row18_col1\" class=\"data row18 col1\" >0</td>\n",
       "      <td id=\"T_96052_row18_col2\" class=\"data row18 col2\" >0</td>\n",
       "      <td id=\"T_96052_row18_col3\" class=\"data row18 col3\" >0</td>\n",
       "      <td id=\"T_96052_row18_col4\" class=\"data row18 col4\" >1</td>\n",
       "    </tr>\n",
       "    <tr>\n",
       "      <th id=\"T_96052_level0_row19\" class=\"row_heading level0 row19\" >LoanPurpose</th>\n",
       "      <td id=\"T_96052_row19_col0\" class=\"data row19 col0\" >0</td>\n",
       "      <td id=\"T_96052_row19_col1\" class=\"data row19 col1\" >0</td>\n",
       "      <td id=\"T_96052_row19_col2\" class=\"data row19 col2\" >0</td>\n",
       "      <td id=\"T_96052_row19_col3\" class=\"data row19 col3\" >0</td>\n",
       "      <td id=\"T_96052_row19_col4\" class=\"data row19 col4\" >1</td>\n",
       "    </tr>\n",
       "    <tr>\n",
       "      <th id=\"T_96052_level0_row20\" class=\"row_heading level0 row20\" >MortgageType</th>\n",
       "      <td id=\"T_96052_row20_col0\" class=\"data row20 col0\" >0</td>\n",
       "      <td id=\"T_96052_row20_col1\" class=\"data row20 col1\" >0</td>\n",
       "      <td id=\"T_96052_row20_col2\" class=\"data row20 col2\" >0</td>\n",
       "      <td id=\"T_96052_row20_col3\" class=\"data row20 col3\" >0</td>\n",
       "      <td id=\"T_96052_row20_col4\" class=\"data row20 col4\" >0</td>\n",
       "    </tr>\n",
       "    <tr>\n",
       "      <th id=\"T_96052_level0_row21\" class=\"row_heading level0 row21\" >BorrowerCount</th>\n",
       "      <td id=\"T_96052_row21_col0\" class=\"data row21 col0\" >0</td>\n",
       "      <td id=\"T_96052_row21_col1\" class=\"data row21 col1\" >0</td>\n",
       "      <td id=\"T_96052_row21_col2\" class=\"data row21 col2\" >0</td>\n",
       "      <td id=\"T_96052_row21_col3\" class=\"data row21 col3\" >0</td>\n",
       "      <td id=\"T_96052_row21_col4\" class=\"data row21 col4\" >0</td>\n",
       "    </tr>\n",
       "    <tr>\n",
       "      <th id=\"T_96052_level0_row22\" class=\"row_heading level0 row22\" >FirstTime</th>\n",
       "      <td id=\"T_96052_row22_col0\" class=\"data row22 col0\" >0</td>\n",
       "      <td id=\"T_96052_row22_col1\" class=\"data row22 col1\" >1</td>\n",
       "      <td id=\"T_96052_row22_col2\" class=\"data row22 col2\" >1</td>\n",
       "      <td id=\"T_96052_row22_col3\" class=\"data row22 col3\" >0</td>\n",
       "      <td id=\"T_96052_row22_col4\" class=\"data row22 col4\" >1</td>\n",
       "    </tr>\n",
       "    <tr>\n",
       "      <th id=\"T_96052_level0_row23\" class=\"row_heading level0 row23\" >Gender1</th>\n",
       "      <td id=\"T_96052_row23_col0\" class=\"data row23 col0\" >0</td>\n",
       "      <td id=\"T_96052_row23_col1\" class=\"data row23 col1\" >0</td>\n",
       "      <td id=\"T_96052_row23_col2\" class=\"data row23 col2\" >0</td>\n",
       "      <td id=\"T_96052_row23_col3\" class=\"data row23 col3\" >0</td>\n",
       "      <td id=\"T_96052_row23_col4\" class=\"data row23 col4\" >0</td>\n",
       "    </tr>\n",
       "    <tr>\n",
       "      <th id=\"T_96052_level0_row24\" class=\"row_heading level0 row24\" >Gender2</th>\n",
       "      <td id=\"T_96052_row24_col0\" class=\"data row24 col0\" >0</td>\n",
       "      <td id=\"T_96052_row24_col1\" class=\"data row24 col1\" >0</td>\n",
       "      <td id=\"T_96052_row24_col2\" class=\"data row24 col2\" >0</td>\n",
       "      <td id=\"T_96052_row24_col3\" class=\"data row24 col3\" >0</td>\n",
       "      <td id=\"T_96052_row24_col4\" class=\"data row24 col4\" >0</td>\n",
       "    </tr>\n",
       "    <tr>\n",
       "      <th id=\"T_96052_level0_row25\" class=\"row_heading level0 row25\" >PropertyUsage</th>\n",
       "      <td id=\"T_96052_row25_col0\" class=\"data row25 col0\" >0</td>\n",
       "      <td id=\"T_96052_row25_col1\" class=\"data row25 col1\" >0</td>\n",
       "      <td id=\"T_96052_row25_col2\" class=\"data row25 col2\" >0</td>\n",
       "      <td id=\"T_96052_row25_col3\" class=\"data row25 col3\" >0</td>\n",
       "      <td id=\"T_96052_row25_col4\" class=\"data row25 col4\" >0</td>\n",
       "    </tr>\n",
       "    <tr>\n",
       "      <th id=\"T_96052_level0_row26\" class=\"row_heading level0 row26\" >SelfEmployed</th>\n",
       "      <td id=\"T_96052_row26_col0\" class=\"data row26 col0\" >0</td>\n",
       "      <td id=\"T_96052_row26_col1\" class=\"data row26 col1\" >1</td>\n",
       "      <td id=\"T_96052_row26_col2\" class=\"data row26 col2\" >1</td>\n",
       "      <td id=\"T_96052_row26_col3\" class=\"data row26 col3\" >1</td>\n",
       "      <td id=\"T_96052_row26_col4\" class=\"data row26 col4\" >1</td>\n",
       "    </tr>\n",
       "    <tr>\n",
       "      <th id=\"T_96052_level0_row27\" class=\"row_heading level0 row27\" >PropertyType</th>\n",
       "      <td id=\"T_96052_row27_col0\" class=\"data row27 col0\" >0</td>\n",
       "      <td id=\"T_96052_row27_col1\" class=\"data row27 col1\" >0</td>\n",
       "      <td id=\"T_96052_row27_col2\" class=\"data row27 col2\" >1</td>\n",
       "      <td id=\"T_96052_row27_col3\" class=\"data row27 col3\" >0</td>\n",
       "      <td id=\"T_96052_row27_col4\" class=\"data row27 col4\" >0</td>\n",
       "    </tr>\n",
       "    <tr>\n",
       "      <th id=\"T_96052_level0_row28\" class=\"row_heading level0 row28\" >HOEPA</th>\n",
       "      <td id=\"T_96052_row28_col0\" class=\"data row28 col0\" >0</td>\n",
       "      <td id=\"T_96052_row28_col1\" class=\"data row28 col1\" >0</td>\n",
       "      <td id=\"T_96052_row28_col2\" class=\"data row28 col2\" >0</td>\n",
       "      <td id=\"T_96052_row28_col3\" class=\"data row28 col3\" >0</td>\n",
       "      <td id=\"T_96052_row28_col4\" class=\"data row28 col4\" >0</td>\n",
       "    </tr>\n",
       "    <tr>\n",
       "      <th id=\"T_96052_level0_row29\" class=\"row_heading level0 row29\" >UnitCount</th>\n",
       "      <td id=\"T_96052_row29_col0\" class=\"data row29 col0\" >0</td>\n",
       "      <td id=\"T_96052_row29_col1\" class=\"data row29 col1\" >0</td>\n",
       "      <td id=\"T_96052_row29_col2\" class=\"data row29 col2\" >0</td>\n",
       "      <td id=\"T_96052_row29_col3\" class=\"data row29 col3\" >0</td>\n",
       "      <td id=\"T_96052_row29_col4\" class=\"data row29 col4\" >0</td>\n",
       "    </tr>\n",
       "    <tr>\n",
       "      <th id=\"T_96052_level0_row30\" class=\"row_heading level0 row30\" >Race1</th>\n",
       "      <td id=\"T_96052_row30_col0\" class=\"data row30 col0\" >0</td>\n",
       "      <td id=\"T_96052_row30_col1\" class=\"data row30 col1\" >0</td>\n",
       "      <td id=\"T_96052_row30_col2\" class=\"data row30 col2\" >0</td>\n",
       "      <td id=\"T_96052_row30_col3\" class=\"data row30 col3\" >0</td>\n",
       "      <td id=\"T_96052_row30_col4\" class=\"data row30 col4\" >0</td>\n",
       "    </tr>\n",
       "    <tr>\n",
       "      <th id=\"T_96052_level0_row31\" class=\"row_heading level0 row31\" >Minority2</th>\n",
       "      <td id=\"T_96052_row31_col0\" class=\"data row31 col0\" >0</td>\n",
       "      <td id=\"T_96052_row31_col1\" class=\"data row31 col1\" >0</td>\n",
       "      <td id=\"T_96052_row31_col2\" class=\"data row31 col2\" >0</td>\n",
       "      <td id=\"T_96052_row31_col3\" class=\"data row31 col3\" >0</td>\n",
       "      <td id=\"T_96052_row31_col4\" class=\"data row31 col4\" >0</td>\n",
       "    </tr>\n",
       "    <tr>\n",
       "      <th id=\"T_96052_level0_row32\" class=\"row_heading level0 row32\" >Race2</th>\n",
       "      <td id=\"T_96052_row32_col0\" class=\"data row32 col0\" >0</td>\n",
       "      <td id=\"T_96052_row32_col1\" class=\"data row32 col1\" >0</td>\n",
       "      <td id=\"T_96052_row32_col2\" class=\"data row32 col2\" >0</td>\n",
       "      <td id=\"T_96052_row32_col3\" class=\"data row32 col3\" >0</td>\n",
       "      <td id=\"T_96052_row32_col4\" class=\"data row32 col4\" >0</td>\n",
       "    </tr>\n",
       "    <tr>\n",
       "      <th id=\"T_96052_level0_row33\" class=\"row_heading level0 row33\" >CensusTractIdentifier</th>\n",
       "      <td id=\"T_96052_row33_col0\" class=\"data row33 col0\" >0</td>\n",
       "      <td id=\"T_96052_row33_col1\" class=\"data row33 col1\" >0</td>\n",
       "      <td id=\"T_96052_row33_col2\" class=\"data row33 col2\" >0</td>\n",
       "      <td id=\"T_96052_row33_col3\" class=\"data row33 col3\" >0</td>\n",
       "      <td id=\"T_96052_row33_col4\" class=\"data row33 col4\" >0</td>\n",
       "    </tr>\n",
       "    <tr>\n",
       "      <th id=\"T_96052_level0_row34\" class=\"row_heading level0 row34\" >AreaCode</th>\n",
       "      <td id=\"T_96052_row34_col0\" class=\"data row34 col0\" >0</td>\n",
       "      <td id=\"T_96052_row34_col1\" class=\"data row34 col1\" >0</td>\n",
       "      <td id=\"T_96052_row34_col2\" class=\"data row34 col2\" >0</td>\n",
       "      <td id=\"T_96052_row34_col3\" class=\"data row34 col3\" >0</td>\n",
       "      <td id=\"T_96052_row34_col4\" class=\"data row34 col4\" >0</td>\n",
       "    </tr>\n",
       "    <tr>\n",
       "      <th id=\"T_96052_level0_row35\" class=\"row_heading level0 row35\" >County</th>\n",
       "      <td id=\"T_96052_row35_col0\" class=\"data row35 col0\" >0</td>\n",
       "      <td id=\"T_96052_row35_col1\" class=\"data row35 col1\" >0</td>\n",
       "      <td id=\"T_96052_row35_col2\" class=\"data row35 col2\" >0</td>\n",
       "      <td id=\"T_96052_row35_col3\" class=\"data row35 col3\" >0</td>\n",
       "      <td id=\"T_96052_row35_col4\" class=\"data row35 col4\" >0</td>\n",
       "    </tr>\n",
       "    <tr>\n",
       "      <th id=\"T_96052_level0_row36\" class=\"row_heading level0 row36\" >State</th>\n",
       "      <td id=\"T_96052_row36_col0\" class=\"data row36 col0\" >0</td>\n",
       "      <td id=\"T_96052_row36_col1\" class=\"data row36 col1\" >0</td>\n",
       "      <td id=\"T_96052_row36_col2\" class=\"data row36 col2\" >0</td>\n",
       "      <td id=\"T_96052_row36_col3\" class=\"data row36 col3\" >0</td>\n",
       "      <td id=\"T_96052_row36_col4\" class=\"data row36 col4\" >0</td>\n",
       "    </tr>\n",
       "    <tr>\n",
       "      <th id=\"T_96052_level0_row37\" class=\"row_heading level0 row37\" >Minority</th>\n",
       "      <td id=\"T_96052_row37_col0\" class=\"data row37 col0\" >0</td>\n",
       "      <td id=\"T_96052_row37_col1\" class=\"data row37 col1\" >0</td>\n",
       "      <td id=\"T_96052_row37_col2\" class=\"data row37 col2\" >0</td>\n",
       "      <td id=\"T_96052_row37_col3\" class=\"data row37 col3\" >0</td>\n",
       "      <td id=\"T_96052_row37_col4\" class=\"data row37 col4\" >0</td>\n",
       "    </tr>\n",
       "    <tr>\n",
       "      <th id=\"T_96052_level0_row38\" class=\"row_heading level0 row38\" >Borrower2Dummy</th>\n",
       "      <td id=\"T_96052_row38_col0\" class=\"data row38 col0\" >0</td>\n",
       "      <td id=\"T_96052_row38_col1\" class=\"data row38 col1\" >0</td>\n",
       "      <td id=\"T_96052_row38_col2\" class=\"data row38 col2\" >0</td>\n",
       "      <td id=\"T_96052_row38_col3\" class=\"data row38 col3\" >0</td>\n",
       "      <td id=\"T_96052_row38_col4\" class=\"data row38 col4\" >0</td>\n",
       "    </tr>\n",
       "  </tbody>\n",
       "</table>\n"
      ],
      "text/plain": [
       "<pandas.io.formats.style.Styler at 0x2a6f3b310>"
      ]
     },
     "execution_count": 52,
     "metadata": {},
     "output_type": "execute_result"
    }
   ],
   "source": [
    "results.style.applymap(format_df_green)"
   ]
  },
  {
   "cell_type": "code",
   "execution_count": null,
   "metadata": {},
   "outputs": [],
   "source": []
  },
  {
   "cell_type": "markdown",
   "metadata": {},
   "source": [
    "\n",
    "# PROBLEM: BOTH YEAR AND NOTEDATE\n",
    "\n"
   ]
  },
  {
   "cell_type": "code",
   "execution_count": 45,
   "metadata": {},
   "outputs": [
    {
     "data": {
      "text/plain": [
       "0.9435411192770013"
      ]
     },
     "execution_count": 45,
     "metadata": {},
     "output_type": "execute_result"
    }
   ],
   "source": [
    "(data.Year == data.NoteDate).sum()/len(data)"
   ]
  },
  {
   "cell_type": "code",
   "execution_count": null,
   "metadata": {},
   "outputs": [],
   "source": []
  },
  {
   "cell_type": "code",
   "execution_count": null,
   "metadata": {},
   "outputs": [],
   "source": []
  },
  {
   "cell_type": "code",
   "execution_count": null,
   "metadata": {},
   "outputs": [],
   "source": []
  },
  {
   "cell_type": "code",
   "execution_count": null,
   "metadata": {},
   "outputs": [],
   "source": []
  },
  {
   "cell_type": "code",
   "execution_count": null,
   "metadata": {},
   "outputs": [],
   "source": []
  },
  {
   "cell_type": "code",
   "execution_count": null,
   "metadata": {},
   "outputs": [],
   "source": []
  },
  {
   "cell_type": "code",
   "execution_count": null,
   "metadata": {},
   "outputs": [],
   "source": []
  },
  {
   "cell_type": "code",
   "execution_count": null,
   "metadata": {},
   "outputs": [],
   "source": []
  },
  {
   "cell_type": "code",
   "execution_count": null,
   "metadata": {},
   "outputs": [],
   "source": []
  },
  {
   "cell_type": "markdown",
   "metadata": {},
   "source": [
    "# da questo sito\n",
    "\n",
    "\n",
    "\n",
    "# RIVEDERE IL SITO, INTERESSANTE PER COME FITTA I MODELLI MA NON è FEATURE SELECTION\n",
    "https://inria.github.io/scikit-learn-mooc/python_scripts/03_categorical_pipeline_column_transformer.html#using-numerical-and-categorical-variables-together\n",
    "\n",
    "\n",
    "# TODO:\n",
    "\n",
    "- cambiare dtype to categorical\n",
    "- feature selection SOLO CON MUTUAL INFO CLASSIFIER ? "
   ]
  },
  {
   "cell_type": "code",
   "execution_count": null,
   "metadata": {},
   "outputs": [],
   "source": [
    "# IMPORTING STATEMENTS\n",
    "import pandas as pd"
   ]
  },
  {
   "cell_type": "code",
   "execution_count": null,
   "metadata": {},
   "outputs": [],
   "source": [
    "data = pd.read_csv('clean.csv', index_col=0)\n",
    "data.head()"
   ]
  },
  {
   "cell_type": "code",
   "execution_count": null,
   "metadata": {},
   "outputs": [],
   "source": [
    "data.columns"
   ]
  },
  {
   "cell_type": "code",
   "execution_count": null,
   "metadata": {},
   "outputs": [],
   "source": [
    "target = data['CreditScore1'].copy(deep=True)"
   ]
  },
  {
   "cell_type": "code",
   "execution_count": null,
   "metadata": {},
   "outputs": [],
   "source": [
    "X = data.copy(deep=True).drop(['CreditScore1'], axis=1)"
   ]
  },
  {
   "cell_type": "code",
   "execution_count": null,
   "metadata": {},
   "outputs": [],
   "source": [
    "X.info()"
   ]
  },
  {
   "cell_type": "code",
   "execution_count": null,
   "metadata": {},
   "outputs": [],
   "source": [
    "X.Minority.unique()"
   ]
  },
  {
   "cell_type": "markdown",
   "metadata": {},
   "source": [
    "# Using numerical and categorical variables together\n",
    "\n",
    "https://inria.github.io/scikit-learn-mooc/python_scripts/03_categorical_pipeline_column_transformer.html"
   ]
  },
  {
   "cell_type": "code",
   "execution_count": null,
   "metadata": {},
   "outputs": [],
   "source": [
    "numerical = list(pd.read_csv('numerical.csv')['0'])\n",
    "categorical = list(pd.read_csv('categorical.csv')['0'])"
   ]
  },
  {
   "cell_type": "code",
   "execution_count": null,
   "metadata": {},
   "outputs": [],
   "source": [
    "numerical"
   ]
  },
  {
   "cell_type": "code",
   "execution_count": null,
   "metadata": {},
   "outputs": [],
   "source": [
    "categorical"
   ]
  },
  {
   "cell_type": "code",
   "execution_count": null,
   "metadata": {},
   "outputs": [],
   "source": [
    "numerical_columns = data[numerical].astype('float64')\n",
    "categorical_columns = data[categorical].astype('object')"
   ]
  },
  {
   "cell_type": "code",
   "execution_count": null,
   "metadata": {},
   "outputs": [],
   "source": [
    "pd.testing.assert_index_equal(numerical_columns.index,categorical_columns.index, check_names=False)\n",
    "data = pd.merge(numerical_columns, categorical_columns, left_index=True, right_index=True)"
   ]
  },
  {
   "cell_type": "markdown",
   "metadata": {},
   "source": [
    "### Dispatch columns to a specific processor\n",
    "\n",
    "Ee need to treat data differently depending on their nature (i.e. numerical or categorical).\n",
    "\n",
    "Scikit-learn provides a `ColumnTransformer` class which will send specific columns to a specific transformer, making it easy to fit a single predictive model on a dataset that combines both kinds of variables together (heterogeneously typed tabular data).\n",
    "\n",
    "We first define the columns depending on their data type:\n",
    "\n",
    "- one-hot encoding will be applied to categorical columns. Besides, we use handle_unknown=\"ignore\" to solve the potential issues due to rare categories.\n",
    "\n",
    "- numerical scaling numerical features which will be standardized.\n",
    "\n",
    "Now, we create our `ColumnTransfomer` by specifying three values: the preprocessor name, the transformer, and the columns. First, let’s create the preprocessors for the numerical and categorical parts."
   ]
  },
  {
   "cell_type": "code",
   "execution_count": null,
   "metadata": {},
   "outputs": [],
   "source": [
    "from sklearn.preprocessing import OneHotEncoder, StandardScaler\n",
    "\n",
    "categorical_preprocessor = OneHotEncoder(handle_unknown=\"ignore\")\n",
    "numerical_preprocessor = StandardScaler()"
   ]
  },
  {
   "cell_type": "markdown",
   "metadata": {},
   "source": [
    "Now, we create the transformer and associate each of these preprocessors with their respective columns.\n",
    "\n"
   ]
  },
  {
   "cell_type": "code",
   "execution_count": null,
   "metadata": {},
   "outputs": [],
   "source": [
    "from sklearn.compose import make_column_selector as selector\n",
    "\n",
    "numerical_columns_selector = selector(dtype_exclude=object)\n",
    "categorical_columns_selector = selector(dtype_include=object)\n",
    "\n",
    "numerical_columns = numerical_columns_selector(data)\n",
    "categorical_columns = categorical_columns_selector(data)"
   ]
  },
  {
   "cell_type": "code",
   "execution_count": null,
   "metadata": {},
   "outputs": [],
   "source": [
    "from sklearn.compose import ColumnTransformer\n",
    "\n",
    "preprocessor = ColumnTransformer([\n",
    "    ('one-hot-encoder', categorical_preprocessor, categorical_columns),\n",
    "    ('standard_scaler', numerical_preprocessor, numerical_columns)])"
   ]
  },
  {
   "attachments": {
    "image.png": {
     "image/png": "[encoded data removed]"
    }
   },
   "cell_type": "markdown",
   "metadata": {},
   "source": [
    "![image.png](attachment:image.png)\n",
    "\n",
    "A ColumnTransformer does the following:\n",
    "\n",
    "It splits the columns of the original dataset based on the column names or indices provided. We will obtain as many subsets as the number of transformers passed into the ColumnTransformer.\n",
    "\n",
    "It transforms each subsets. A specific transformer is applied to each subset: it will internally call fit_transform or transform. The output of this step is a set of transformed datasets.\n",
    "\n",
    "It then concatenates the transformed datasets into a single dataset.\n",
    "\n",
    "The important thing is that ColumnTransformer is like any other scikit-learn transformer. In particular it can be combined with a classifier in a Pipeline:A ColumnTransformer does the following:\n",
    "\n",
    "It splits the columns of the original dataset based on the column names or indices provided. We will obtain as many subsets as the number of transformers passed into the ColumnTransformer.\n",
    "\n",
    "It transforms each subsets. A specific transformer is applied to each subset: it will internally call fit_transform or transform. The output of this step is a set of transformed datasets.\n",
    "\n",
    "It then concatenates the transformed datasets into a single dataset.\n",
    "\n",
    "The important thing is that ColumnTransformer is like any other scikit-learn transformer. In particular it can be combined with a classifier in a Pipeline:"
   ]
  },
  {
   "cell_type": "code",
   "execution_count": null,
   "metadata": {},
   "outputs": [],
   "source": [
    "from sklearn.linear_model import LogisticRegression\n",
    "from sklearn.pipeline import make_pipeline\n",
    "\n",
    "model = make_pipeline(preprocessor, LogisticRegression(max_iter=500))\n",
    "model"
   ]
  },
  {
   "cell_type": "markdown",
   "metadata": {},
   "source": [
    "The final model is more complex than the previous models but still follows the same API (the same set of methods that can be called by the user):\n",
    "\n",
    "- the fit method is called to preprocess the data and then train the classifier of the preprocessed data;\n",
    "\n",
    "- the predict method makes predictions on new data;\n",
    "\n",
    "- the score method is used to predict on the test data and compare the predictions to the expected test labels to compute the accuracy.\n",
    "\n",
    "Let’s start by splitting our data into train and test sets.\n",
    "\n",
    "\n",
    "# WOULD BE BETTER TO USE CROSS VALIDATION !!!!"
   ]
  },
  {
   "cell_type": "code",
   "execution_count": null,
   "metadata": {},
   "outputs": [],
   "source": [
    "from sklearn.model_selection import train_test_split\n",
    "\n",
    "data_train, data_test, target_train, target_test = train_test_split(\n",
    "    data, target, random_state=42)"
   ]
  },
  {
   "cell_type": "code",
   "execution_count": null,
   "metadata": {},
   "outputs": [],
   "source": [
    "model.fit(data_train, target_train)\n",
    "#data_train.info()"
   ]
  },
  {
   "cell_type": "code",
   "execution_count": null,
   "metadata": {},
   "outputs": [],
   "source": []
  },
  {
   "cell_type": "code",
   "execution_count": null,
   "metadata": {},
   "outputs": [],
   "source": []
  },
  {
   "cell_type": "code",
   "execution_count": null,
   "metadata": {},
   "outputs": [],
   "source": []
  },
  {
   "cell_type": "markdown",
   "metadata": {},
   "source": [
    "# --------------------------- GROUP PROJECT ---------------------------"
   ]
  },
  {
   "cell_type": "markdown",
   "metadata": {},
   "source": [
    "## Scaling - NO SCALING BC CATEGORICAL ? "
   ]
  },
  {
   "cell_type": "raw",
   "metadata": {},
   "source": [
    "from sklearn.preprocessing import StandardScaler\n",
    "ss= StandardScaler()\n",
    "\n",
    "X_trans = ss.fit_transform(X)"
   ]
  },
  {
   "cell_type": "code",
   "execution_count": null,
   "metadata": {},
   "outputs": [],
   "source": [
    "results = pd.DataFrame(index=X.columns, columns=['5K_all', '10K_all','5K_avgs',\n",
    "                                                 'pvalue5_all', 'pvalue5_avgs', 'pvalue1_all', 'pvalue1_avgs'])"
   ]
  },
  {
   "cell_type": "code",
   "execution_count": null,
   "metadata": {},
   "outputs": [],
   "source": [
    "# SELECT 5 BEST FROM X_ALL_LABELS\n",
    "\n",
    "selector = SelectKBest(k=5)\n",
    "selector.fit_transform(X,y)\n",
    "selected = selector.get_feature_names_out(input_features=all_labels)\n",
    "\n",
    "for var in all_labels:\n",
    "    if var in selected:\n",
    "        results.loc[var, '5K_all']=1\n",
    "    else:\n",
    "        results.loc[var, '5K_all']=0"
   ]
  },
  {
   "cell_type": "code",
   "execution_count": null,
   "metadata": {},
   "outputs": [],
   "source": [
    "# SELECT 10 BEST FROM X_ALL_LABELS\n",
    "\n",
    "selector = SelectKBest(k=10)\n",
    "selector.fit_transform(X_all_labels,y)\n",
    "selected = selector.get_feature_names_out(input_features=all_labels)\n",
    "\n",
    "for var in all_labels:\n",
    "    if var in selected:\n",
    "        results.loc[var, '10K_all']=1\n",
    "    else:\n",
    "        results.loc[var, '10K_all']=0"
   ]
  },
  {
   "cell_type": "code",
   "execution_count": null,
   "metadata": {},
   "outputs": [],
   "source": [
    "# SELECT 5 BEST FROM X_ONLY_AVG\n",
    "\n",
    "selector = SelectKBest(k=5)\n",
    "selector.fit_transform(X_only_avgs,y)\n",
    "selected = selector.get_feature_names_out(input_features=only_avgs)\n",
    "\n",
    "for var in all_labels:\n",
    "    if var not in only_avgs:\n",
    "        results.loc[var, '5K_avgs']=2\n",
    "    elif var in selected:\n",
    "        results.loc[var, '5K_avgs']=1\n",
    "    else:\n",
    "        results.loc[var, '5K_avgs']=0"
   ]
  },
  {
   "cell_type": "markdown",
   "metadata": {},
   "source": [
    "# SELECT 10 BEST FROM X_ONLY_AVG\n",
    "\n",
    "selector = SelectKBest(k=10)\n",
    "selector.fit_transform(X_only_avgs,y)\n",
    "selected = selector.get_feature_names_out(input_features=only_avgs)\n",
    "\n",
    "for var in all_labels:\n",
    "    if var not in only_avgs:\n",
    "        results.loc[var, '10K_avgs']=2\n",
    "    elif var in selected:\n",
    "        results.loc[var, '10K_avgs']=1\n",
    "    else:\n",
    "        results.loc[var, '10K_avgs']=0"
   ]
  },
  {
   "cell_type": "code",
   "execution_count": null,
   "metadata": {},
   "outputs": [],
   "source": [
    "from sklearn.feature_selection import SelectFpr\n",
    "\n",
    "#chi2 requires only positive inputs so it's a no"
   ]
  },
  {
   "cell_type": "markdown",
   "metadata": {},
   "source": [
    "### SelectPFR"
   ]
  },
  {
   "cell_type": "code",
   "execution_count": null,
   "metadata": {},
   "outputs": [],
   "source": [
    "# 0.005 p-value on ALL_LABELS\n",
    "selector = SelectFpr(alpha=0.005)\n",
    "X_new = selector.fit_transform(X_all_labels,y)\n",
    "selected = selector.get_feature_names_out(input_features= all_labels)\n",
    "\n",
    "for var in all_labels:\n",
    "    if var in selected:\n",
    "        results.loc[var, 'pvalue5_all']=1\n",
    "    else:\n",
    "        results.loc[var, 'pvalue5_all']=0"
   ]
  },
  {
   "cell_type": "code",
   "execution_count": null,
   "metadata": {},
   "outputs": [],
   "source": [
    "# 0.001 p-value on ALL_LABELS\n",
    "selector = SelectFpr(alpha=0.001)\n",
    "X_new = selector.fit_transform(X_all_labels,y)\n",
    "selected = selector.get_feature_names_out(input_features= all_labels)\n",
    "\n",
    "for var in all_labels:\n",
    "    if var in selected:\n",
    "        results.loc[var, 'pvalue1_all']=1\n",
    "    else:\n",
    "        results.loc[var, 'pvalue1_all']=0"
   ]
  },
  {
   "cell_type": "code",
   "execution_count": null,
   "metadata": {},
   "outputs": [],
   "source": [
    "# 0.005 p-value on ONLY_AVG\n",
    "selector = SelectFpr(alpha=0.005)\n",
    "X_new = selector.fit_transform(X_only_avgs,y)\n",
    "selected = selector.get_feature_names_out(input_features=only_avgs)\n",
    "\n",
    "for var in all_labels:\n",
    "    if var not in only_avgs:\n",
    "        results.loc[var, 'pvalue5_avgs']=2\n",
    "    elif var in selected:\n",
    "        results.loc[var, 'pvalue5_avgs']=1\n",
    "    else:\n",
    "        results.loc[var, 'pvalue5_avgs']=0"
   ]
  },
  {
   "cell_type": "code",
   "execution_count": null,
   "metadata": {},
   "outputs": [],
   "source": [
    "# 0.001 p-value on ONLY_AVG\n",
    "selector = SelectFpr(alpha=0.001)\n",
    "X_new = selector.fit_transform(X_only_avgs,y)\n",
    "selected = selector.get_feature_names_out(input_features=only_avgs)\n",
    "\n",
    "for var in all_labels:\n",
    "    if var not in only_avgs:\n",
    "        results.loc[var, 'pvalue1_avgs']=2\n",
    "    elif var in selected:\n",
    "        results.loc[var, 'pvalue1_avgs']=1\n",
    "    else:\n",
    "        results.loc[var, 'pvalue1_avgs']=0"
   ]
  },
  {
   "cell_type": "code",
   "execution_count": null,
   "metadata": {},
   "outputs": [],
   "source": [
    "def is_true(s):\n",
    "    if s == 1:\n",
    "        color = 'lightgreen'\n",
    "    elif s == 0:\n",
    "        color = 'red'\n",
    "    else:\n",
    "        color = 'white'\n",
    "    \n",
    "    return 'background-color: %s' % color \n",
    "\n",
    "results.style.applymap(is_true)"
   ]
  },
  {
   "cell_type": "code",
   "execution_count": null,
   "metadata": {},
   "outputs": [],
   "source": [
    "results.style.applymap(is_true)"
   ]
  },
  {
   "cell_type": "markdown",
   "metadata": {},
   "source": [
    "#### Summary of the results:\n",
    "- BILL_AMT's are not chosen from any selector. Most of them are not even significant, except for 1 which is significant at 0.001. BILL_AVG is never selected and is not even significant\n",
    "- PAY_AMT1 is not chosed among the first 5, but only among the first 10. the Other pay_amt's are almost never chosen, even if they are significant at 0.001. Pay_avg summarizes all the Pay_amt's and is selected among the first 10, even in the first 5 when considering only averages. it is also significant at 0.001 so maybe we can use it instead of pay_amt1 to summarize all of them.\n",
    "- PAY's are almost always selected among the best 5 and are also significant at 0.001. the average is selected among the first 5 and is significant at 0.001. \n",
    "- AGE is never selected and also not significant\n",
    "- MARRIAGE is never selected but is significant\n",
    "- EDUCATION and SEX are selected when considering only averages.they are significant at 0.001\n",
    "- LIMIT_BAL is selected among the first 5 and is significant at 0.001\n",
    "\n",
    "We can choose:\n",
    "- BILL_AVG\n",
    "- PAY_AVG as a summary of pay_amt's\n",
    "- all 6 PAY's (but not their average(?))\n",
    "- LIMIT_BAL\n",
    "- EDUCSTTION and SEX\n",
    " \n"
   ]
  },
  {
   "cell_type": "code",
   "execution_count": null,
   "metadata": {},
   "outputs": [],
   "source": []
  }
 ],
 "metadata": {
  "kernelspec": {
   "display_name": "Python 3.10 (tensorflow)",
   "language": "python",
   "name": "tensorflow"
  },
  "language_info": {
   "codemirror_mode": {
    "name": "ipython",
    "version": 3
   },
   "file_extension": ".py",
   "mimetype": "text/x-python",
   "name": "python",
   "nbconvert_exporter": "python",
   "pygments_lexer": "ipython3",
   "version": "3.10.10"
  },
  "vscode": {
   "interpreter": {
    "hash": "fdbcfec06861b0c06d4d78936ce926ba857b3efbbe8e0d851d306c814d185928"
   }
  }
 },
 "nbformat": 4,
 "nbformat_minor": 2
}
