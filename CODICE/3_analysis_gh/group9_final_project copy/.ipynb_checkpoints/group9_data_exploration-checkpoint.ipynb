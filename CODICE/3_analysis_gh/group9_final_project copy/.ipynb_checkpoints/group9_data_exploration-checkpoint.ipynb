{
 "cells": [
  {
   "cell_type": "code",
   "execution_count": 3,
   "metadata": {},
   "outputs": [],
   "source": [
    "# IMPORTING STATEMENTS\n",
    "import pandas as pd\n",
    "import numpy as np\n",
    "#import matplotlib.pyplot as plt\n",
    "\n",
    "import plotly.express as px\n",
    "\n",
    "\n",
    "dark_blue = \"rgb(9, 16, 88)\"\n",
    "light_blue = 'rgb(195, 224, 249)'\n",
    "dark_yellow = 'rgba(244, 180, 73, 0.3)'\n",
    "light_yellow = 'rgba(249, 230,130, 1)'\n",
    "orange = 'rgb(244, 180, 73)'\n",
    "violetish = 'rgb(89, 100, 217)'"
   ]
  },
  {
   "cell_type": "code",
   "execution_count": 2,
   "metadata": {},
   "outputs": [
    {
     "name": "stdout",
     "output_type": "stream",
     "text": [
      "Collecting plotly\n",
      "  Downloading plotly-5.13.1-py2.py3-none-any.whl (15.2 MB)\n",
      "\u001b[2K     \u001b[90m━━━━━━━━━━━━━━━━━━━━━━━━━━━━━━━━━━━━━━━━\u001b[0m \u001b[32m15.2/15.2 MB\u001b[0m \u001b[31m21.9 MB/s\u001b[0m eta \u001b[36m0:00:00\u001b[0m00:01\u001b[0m00:01\u001b[0m\n",
      "\u001b[?25hCollecting tenacity>=6.2.0\n",
      "  Downloading tenacity-8.2.2-py3-none-any.whl (24 kB)\n",
      "Installing collected packages: tenacity, plotly\n",
      "Successfully installed plotly-5.13.1 tenacity-8.2.2\n",
      "Note: you may need to restart the kernel to use updated packages.\n"
     ]
    }
   ],
   "source": [
    "pip install xlrd\n"
   ]
  },
  {
   "cell_type": "markdown",
   "metadata": {},
   "source": [
    "# Description dataset\n",
    "\n",
    "23 variables as explanatory variables:\n",
    "- X1: Amount of the given credit (NT dollar): it includes both the individual consumer credit and his/her family (supplementary) credit.\n",
    "- X2: Gender (1 = male; 2 = female).\n",
    "- X3: Education (1 = graduate school; 2 = university; 3= high school; 4 = others).\n",
    "- X4: Marital status (1 = married; 2 = single; 3 = others). \n",
    "- X5: Age (year).\n",
    "- X6–X11: History of past payment. \n",
    "    We tracked the past monthly payment records (from April to September, 2005) as follows: \n",
    "    - X6 = the repayment status in September, 2005; \n",
    "    - X7 = the repayment status in August, 2005; \n",
    "    - . . .\n",
    "    - X11 = the repayment status in April, 2005. \n",
    "    \n",
    "        The measurement scale for the repayment status is: \n",
    "        - -1 = pay duly; \n",
    "        - 1 = payment delay for one month; \n",
    "        - 2 = payment delay for two months; \n",
    "        - . . .\n",
    "        - 8 = payment delay for eight months;\n",
    "        - 9 = payment delay for nine months and above.\n",
    "\n",
    "\n",
    "- X12–X17: Amount of bill statement (NT dollar). \n",
    "    - X12 = amount of bill statement in September, 2005; \n",
    "    - X13 = amount of bill statement in August, 2005; \n",
    "    - . . .\n",
    "    - X17 = amount of bill statement in April, 2005.\n",
    "\n",
    "\n",
    "- X18–X23: Amount of previous payment (NT dollar). \n",
    "    - X18 = amount paid in September, 2005; \n",
    "    - X19 = amount paid in August, 2005; \n",
    "    - . . .; \n",
    "    - X23 = amount paid in April, 2005."
   ]
  },
  {
   "cell_type": "code",
   "execution_count": 4,
   "metadata": {},
   "outputs": [
    {
     "ename": "ImportError",
     "evalue": "Missing optional dependency 'xlrd'. Install xlrd >= 1.0.0 for Excel support Use pip or conda to install xlrd.",
     "output_type": "error",
     "traceback": [
      "\u001b[0;31m---------------------------------------------------------------------------\u001b[0m",
      "\u001b[0;31mModuleNotFoundError\u001b[0m                       Traceback (most recent call last)",
      "File \u001b[0;32m~/miniforge3/lib/python3.10/site-packages/pandas/compat/_optional.py:141\u001b[0m, in \u001b[0;36mimport_optional_dependency\u001b[0;34m(name, extra, errors, min_version)\u001b[0m\n\u001b[1;32m    140\u001b[0m \u001b[38;5;28;01mtry\u001b[39;00m:\n\u001b[0;32m--> 141\u001b[0m     module \u001b[38;5;241m=\u001b[39m \u001b[43mimportlib\u001b[49m\u001b[38;5;241;43m.\u001b[39;49m\u001b[43mimport_module\u001b[49m\u001b[43m(\u001b[49m\u001b[43mname\u001b[49m\u001b[43m)\u001b[49m\n\u001b[1;32m    142\u001b[0m \u001b[38;5;28;01mexcept\u001b[39;00m \u001b[38;5;167;01mImportError\u001b[39;00m:\n",
      "File \u001b[0;32m~/miniforge3/lib/python3.10/importlib/__init__.py:126\u001b[0m, in \u001b[0;36mimport_module\u001b[0;34m(name, package)\u001b[0m\n\u001b[1;32m    125\u001b[0m         level \u001b[38;5;241m+\u001b[39m\u001b[38;5;241m=\u001b[39m \u001b[38;5;241m1\u001b[39m\n\u001b[0;32m--> 126\u001b[0m \u001b[38;5;28;01mreturn\u001b[39;00m \u001b[43m_bootstrap\u001b[49m\u001b[38;5;241;43m.\u001b[39;49m\u001b[43m_gcd_import\u001b[49m\u001b[43m(\u001b[49m\u001b[43mname\u001b[49m\u001b[43m[\u001b[49m\u001b[43mlevel\u001b[49m\u001b[43m:\u001b[49m\u001b[43m]\u001b[49m\u001b[43m,\u001b[49m\u001b[43m \u001b[49m\u001b[43mpackage\u001b[49m\u001b[43m,\u001b[49m\u001b[43m \u001b[49m\u001b[43mlevel\u001b[49m\u001b[43m)\u001b[49m\n",
      "File \u001b[0;32m<frozen importlib._bootstrap>:1050\u001b[0m, in \u001b[0;36m_gcd_import\u001b[0;34m(name, package, level)\u001b[0m\n",
      "File \u001b[0;32m<frozen importlib._bootstrap>:1027\u001b[0m, in \u001b[0;36m_find_and_load\u001b[0;34m(name, import_)\u001b[0m\n",
      "File \u001b[0;32m<frozen importlib._bootstrap>:1004\u001b[0m, in \u001b[0;36m_find_and_load_unlocked\u001b[0;34m(name, import_)\u001b[0m\n",
      "\u001b[0;31mModuleNotFoundError\u001b[0m: No module named 'xlrd'",
      "\nDuring handling of the above exception, another exception occurred:\n",
      "\u001b[0;31mImportError\u001b[0m                               Traceback (most recent call last)",
      "Cell \u001b[0;32mIn[4], line 2\u001b[0m\n\u001b[1;32m      1\u001b[0m \u001b[38;5;66;03m# OPENING AND CLEANING THE EXCEL FILE\u001b[39;00m\n\u001b[0;32m----> 2\u001b[0m data \u001b[38;5;241m=\u001b[39m \u001b[43mpd\u001b[49m\u001b[38;5;241;43m.\u001b[39;49m\u001b[43mread_excel\u001b[49m\u001b[43m(\u001b[49m\u001b[38;5;124;43m'\u001b[39;49m\u001b[38;5;124;43mdefault of credit card clients.xls\u001b[39;49m\u001b[38;5;124;43m'\u001b[39;49m\u001b[43m,\u001b[49m\u001b[43m \u001b[49m\u001b[43msheet_name\u001b[49m\u001b[38;5;241;43m=\u001b[39;49m\u001b[38;5;124;43m'\u001b[39;49m\u001b[38;5;124;43mData\u001b[39;49m\u001b[38;5;124;43m'\u001b[39;49m\u001b[43m)\u001b[49m\n\u001b[1;32m      3\u001b[0m data\u001b[38;5;241m.\u001b[39mcolumns \u001b[38;5;241m=\u001b[39m data\u001b[38;5;241m.\u001b[39miloc[\u001b[38;5;241m0\u001b[39m,:]\n\u001b[1;32m      4\u001b[0m data\u001b[38;5;241m.\u001b[39mdrop(index\u001b[38;5;241m=\u001b[39m\u001b[38;5;241m0\u001b[39m, inplace\u001b[38;5;241m=\u001b[39m\u001b[38;5;28;01mTrue\u001b[39;00m)\n",
      "File \u001b[0;32m~/miniforge3/lib/python3.10/site-packages/pandas/util/_decorators.py:211\u001b[0m, in \u001b[0;36mdeprecate_kwarg.<locals>._deprecate_kwarg.<locals>.wrapper\u001b[0;34m(*args, **kwargs)\u001b[0m\n\u001b[1;32m    209\u001b[0m     \u001b[38;5;28;01melse\u001b[39;00m:\n\u001b[1;32m    210\u001b[0m         kwargs[new_arg_name] \u001b[38;5;241m=\u001b[39m new_arg_value\n\u001b[0;32m--> 211\u001b[0m \u001b[38;5;28;01mreturn\u001b[39;00m \u001b[43mfunc\u001b[49m\u001b[43m(\u001b[49m\u001b[38;5;241;43m*\u001b[39;49m\u001b[43margs\u001b[49m\u001b[43m,\u001b[49m\u001b[43m \u001b[49m\u001b[38;5;241;43m*\u001b[39;49m\u001b[38;5;241;43m*\u001b[39;49m\u001b[43mkwargs\u001b[49m\u001b[43m)\u001b[49m\n",
      "File \u001b[0;32m~/miniforge3/lib/python3.10/site-packages/pandas/util/_decorators.py:331\u001b[0m, in \u001b[0;36mdeprecate_nonkeyword_arguments.<locals>.decorate.<locals>.wrapper\u001b[0;34m(*args, **kwargs)\u001b[0m\n\u001b[1;32m    325\u001b[0m \u001b[38;5;28;01mif\u001b[39;00m \u001b[38;5;28mlen\u001b[39m(args) \u001b[38;5;241m>\u001b[39m num_allow_args:\n\u001b[1;32m    326\u001b[0m     warnings\u001b[38;5;241m.\u001b[39mwarn(\n\u001b[1;32m    327\u001b[0m         msg\u001b[38;5;241m.\u001b[39mformat(arguments\u001b[38;5;241m=\u001b[39m_format_argument_list(allow_args)),\n\u001b[1;32m    328\u001b[0m         \u001b[38;5;167;01mFutureWarning\u001b[39;00m,\n\u001b[1;32m    329\u001b[0m         stacklevel\u001b[38;5;241m=\u001b[39mfind_stack_level(),\n\u001b[1;32m    330\u001b[0m     )\n\u001b[0;32m--> 331\u001b[0m \u001b[38;5;28;01mreturn\u001b[39;00m \u001b[43mfunc\u001b[49m\u001b[43m(\u001b[49m\u001b[38;5;241;43m*\u001b[39;49m\u001b[43margs\u001b[49m\u001b[43m,\u001b[49m\u001b[43m \u001b[49m\u001b[38;5;241;43m*\u001b[39;49m\u001b[38;5;241;43m*\u001b[39;49m\u001b[43mkwargs\u001b[49m\u001b[43m)\u001b[49m\n",
      "File \u001b[0;32m~/miniforge3/lib/python3.10/site-packages/pandas/io/excel/_base.py:482\u001b[0m, in \u001b[0;36mread_excel\u001b[0;34m(io, sheet_name, header, names, index_col, usecols, squeeze, dtype, engine, converters, true_values, false_values, skiprows, nrows, na_values, keep_default_na, na_filter, verbose, parse_dates, date_parser, thousands, decimal, comment, skipfooter, convert_float, mangle_dupe_cols, storage_options)\u001b[0m\n\u001b[1;32m    480\u001b[0m \u001b[38;5;28;01mif\u001b[39;00m \u001b[38;5;129;01mnot\u001b[39;00m \u001b[38;5;28misinstance\u001b[39m(io, ExcelFile):\n\u001b[1;32m    481\u001b[0m     should_close \u001b[38;5;241m=\u001b[39m \u001b[38;5;28;01mTrue\u001b[39;00m\n\u001b[0;32m--> 482\u001b[0m     io \u001b[38;5;241m=\u001b[39m \u001b[43mExcelFile\u001b[49m\u001b[43m(\u001b[49m\u001b[43mio\u001b[49m\u001b[43m,\u001b[49m\u001b[43m \u001b[49m\u001b[43mstorage_options\u001b[49m\u001b[38;5;241;43m=\u001b[39;49m\u001b[43mstorage_options\u001b[49m\u001b[43m,\u001b[49m\u001b[43m \u001b[49m\u001b[43mengine\u001b[49m\u001b[38;5;241;43m=\u001b[39;49m\u001b[43mengine\u001b[49m\u001b[43m)\u001b[49m\n\u001b[1;32m    483\u001b[0m \u001b[38;5;28;01melif\u001b[39;00m engine \u001b[38;5;129;01mand\u001b[39;00m engine \u001b[38;5;241m!=\u001b[39m io\u001b[38;5;241m.\u001b[39mengine:\n\u001b[1;32m    484\u001b[0m     \u001b[38;5;28;01mraise\u001b[39;00m \u001b[38;5;167;01mValueError\u001b[39;00m(\n\u001b[1;32m    485\u001b[0m         \u001b[38;5;124m\"\u001b[39m\u001b[38;5;124mEngine should not be specified when passing \u001b[39m\u001b[38;5;124m\"\u001b[39m\n\u001b[1;32m    486\u001b[0m         \u001b[38;5;124m\"\u001b[39m\u001b[38;5;124man ExcelFile - ExcelFile already has the engine set\u001b[39m\u001b[38;5;124m\"\u001b[39m\n\u001b[1;32m    487\u001b[0m     )\n",
      "File \u001b[0;32m~/miniforge3/lib/python3.10/site-packages/pandas/io/excel/_base.py:1695\u001b[0m, in \u001b[0;36mExcelFile.__init__\u001b[0;34m(self, path_or_buffer, engine, storage_options)\u001b[0m\n\u001b[1;32m   1692\u001b[0m \u001b[38;5;28mself\u001b[39m\u001b[38;5;241m.\u001b[39mengine \u001b[38;5;241m=\u001b[39m engine\n\u001b[1;32m   1693\u001b[0m \u001b[38;5;28mself\u001b[39m\u001b[38;5;241m.\u001b[39mstorage_options \u001b[38;5;241m=\u001b[39m storage_options\n\u001b[0;32m-> 1695\u001b[0m \u001b[38;5;28mself\u001b[39m\u001b[38;5;241m.\u001b[39m_reader \u001b[38;5;241m=\u001b[39m \u001b[38;5;28;43mself\u001b[39;49m\u001b[38;5;241;43m.\u001b[39;49m\u001b[43m_engines\u001b[49m\u001b[43m[\u001b[49m\u001b[43mengine\u001b[49m\u001b[43m]\u001b[49m\u001b[43m(\u001b[49m\u001b[38;5;28;43mself\u001b[39;49m\u001b[38;5;241;43m.\u001b[39;49m\u001b[43m_io\u001b[49m\u001b[43m,\u001b[49m\u001b[43m \u001b[49m\u001b[43mstorage_options\u001b[49m\u001b[38;5;241;43m=\u001b[39;49m\u001b[43mstorage_options\u001b[49m\u001b[43m)\u001b[49m\n",
      "File \u001b[0;32m~/miniforge3/lib/python3.10/site-packages/pandas/io/excel/_xlrd.py:34\u001b[0m, in \u001b[0;36mXlrdReader.__init__\u001b[0;34m(self, filepath_or_buffer, storage_options)\u001b[0m\n\u001b[1;32m     24\u001b[0m \u001b[38;5;124;03m\"\"\"\u001b[39;00m\n\u001b[1;32m     25\u001b[0m \u001b[38;5;124;03mReader using xlrd engine.\u001b[39;00m\n\u001b[1;32m     26\u001b[0m \n\u001b[0;32m   (...)\u001b[0m\n\u001b[1;32m     31\u001b[0m \u001b[38;5;124;03m{storage_options}\u001b[39;00m\n\u001b[1;32m     32\u001b[0m \u001b[38;5;124;03m\"\"\"\u001b[39;00m\n\u001b[1;32m     33\u001b[0m err_msg \u001b[38;5;241m=\u001b[39m \u001b[38;5;124m\"\u001b[39m\u001b[38;5;124mInstall xlrd >= 1.0.0 for Excel support\u001b[39m\u001b[38;5;124m\"\u001b[39m\n\u001b[0;32m---> 34\u001b[0m \u001b[43mimport_optional_dependency\u001b[49m\u001b[43m(\u001b[49m\u001b[38;5;124;43m\"\u001b[39;49m\u001b[38;5;124;43mxlrd\u001b[39;49m\u001b[38;5;124;43m\"\u001b[39;49m\u001b[43m,\u001b[49m\u001b[43m \u001b[49m\u001b[43mextra\u001b[49m\u001b[38;5;241;43m=\u001b[39;49m\u001b[43merr_msg\u001b[49m\u001b[43m)\u001b[49m\n\u001b[1;32m     35\u001b[0m \u001b[38;5;28msuper\u001b[39m()\u001b[38;5;241m.\u001b[39m\u001b[38;5;21m__init__\u001b[39m(filepath_or_buffer, storage_options\u001b[38;5;241m=\u001b[39mstorage_options)\n",
      "File \u001b[0;32m~/miniforge3/lib/python3.10/site-packages/pandas/compat/_optional.py:144\u001b[0m, in \u001b[0;36mimport_optional_dependency\u001b[0;34m(name, extra, errors, min_version)\u001b[0m\n\u001b[1;32m    142\u001b[0m \u001b[38;5;28;01mexcept\u001b[39;00m \u001b[38;5;167;01mImportError\u001b[39;00m:\n\u001b[1;32m    143\u001b[0m     \u001b[38;5;28;01mif\u001b[39;00m errors \u001b[38;5;241m==\u001b[39m \u001b[38;5;124m\"\u001b[39m\u001b[38;5;124mraise\u001b[39m\u001b[38;5;124m\"\u001b[39m:\n\u001b[0;32m--> 144\u001b[0m         \u001b[38;5;28;01mraise\u001b[39;00m \u001b[38;5;167;01mImportError\u001b[39;00m(msg)\n\u001b[1;32m    145\u001b[0m     \u001b[38;5;28;01melse\u001b[39;00m:\n\u001b[1;32m    146\u001b[0m         \u001b[38;5;28;01mreturn\u001b[39;00m \u001b[38;5;28;01mNone\u001b[39;00m\n",
      "\u001b[0;31mImportError\u001b[0m: Missing optional dependency 'xlrd'. Install xlrd >= 1.0.0 for Excel support Use pip or conda to install xlrd."
     ]
    }
   ],
   "source": [
    "# OPENING AND CLEANING THE EXCEL FILE\n",
    "data = pd.read_excel('default of credit card clients.xls', sheet_name='Data')\n",
    "data.columns = data.iloc[0,:]\n",
    "data.drop(index=0, inplace=True)\n",
    "data.drop(columns='ID', inplace=True)\n",
    "data"
   ]
  },
  {
   "cell_type": "code",
   "execution_count": null,
   "metadata": {},
   "outputs": [],
   "source": [
    "# All the dtypes are object, so we need to set them all as int\n",
    "data = data.astype(int)"
   ]
  },
  {
   "cell_type": "code",
   "execution_count": null,
   "metadata": {},
   "outputs": [],
   "source": [
    "# creating a copy we'll use for vizualizations\n",
    "import copy\n",
    "data_viz = copy.deepcopy(data)"
   ]
  },
  {
   "cell_type": "code",
   "execution_count": 5,
   "metadata": {},
   "outputs": [
    {
     "ename": "NameError",
     "evalue": "name 'data_viz' is not defined",
     "output_type": "error",
     "traceback": [
      "\u001b[0;31m---------------------------------------------------------------------------\u001b[0m",
      "\u001b[0;31mNameError\u001b[0m                                 Traceback (most recent call last)",
      "Cell \u001b[0;32mIn[5], line 2\u001b[0m\n\u001b[1;32m      1\u001b[0m \u001b[38;5;66;03m# Renaming some columns for the vizs\u001b[39;00m\n\u001b[0;32m----> 2\u001b[0m data_viz \u001b[38;5;241m=\u001b[39m \u001b[43mdata_viz\u001b[49m\u001b[38;5;241m.\u001b[39mrename(columns\u001b[38;5;241m=\u001b[39m{\n\u001b[1;32m      3\u001b[0m     \u001b[38;5;124m'\u001b[39m\u001b[38;5;124mPAY_0\u001b[39m\u001b[38;5;124m'\u001b[39m:\u001b[38;5;124m'\u001b[39m\u001b[38;5;124mPUNCTUALITY_September\u001b[39m\u001b[38;5;124m'\u001b[39m,\n\u001b[1;32m      4\u001b[0m     \u001b[38;5;124m'\u001b[39m\u001b[38;5;124mPAY_2\u001b[39m\u001b[38;5;124m'\u001b[39m:\u001b[38;5;124m'\u001b[39m\u001b[38;5;124mPUNCTUALITY_August\u001b[39m\u001b[38;5;124m'\u001b[39m, \n\u001b[1;32m      5\u001b[0m     \u001b[38;5;124m'\u001b[39m\u001b[38;5;124mPAY_3\u001b[39m\u001b[38;5;124m'\u001b[39m:\u001b[38;5;124m'\u001b[39m\u001b[38;5;124mPUNCTUALITY_July\u001b[39m\u001b[38;5;124m'\u001b[39m, \n\u001b[1;32m      6\u001b[0m     \u001b[38;5;124m'\u001b[39m\u001b[38;5;124mPAY_4\u001b[39m\u001b[38;5;124m'\u001b[39m:\u001b[38;5;124m'\u001b[39m\u001b[38;5;124mPUNCTUALITY_June\u001b[39m\u001b[38;5;124m'\u001b[39m, \n\u001b[1;32m      7\u001b[0m     \u001b[38;5;124m'\u001b[39m\u001b[38;5;124mPAY_5\u001b[39m\u001b[38;5;124m'\u001b[39m:\u001b[38;5;124m'\u001b[39m\u001b[38;5;124mPUNCTUALITY_May\u001b[39m\u001b[38;5;124m'\u001b[39m,\n\u001b[1;32m      8\u001b[0m     \u001b[38;5;124m'\u001b[39m\u001b[38;5;124mPAY_6\u001b[39m\u001b[38;5;124m'\u001b[39m:\u001b[38;5;124m'\u001b[39m\u001b[38;5;124mPUNCTUALITY_April\u001b[39m\u001b[38;5;124m'\u001b[39m,\n\u001b[1;32m      9\u001b[0m     \u001b[38;5;124m'\u001b[39m\u001b[38;5;124mBILL_AMT1\u001b[39m\u001b[38;5;124m'\u001b[39m: \u001b[38;5;124m'\u001b[39m\u001b[38;5;124mBILL_September\u001b[39m\u001b[38;5;124m'\u001b[39m,\n\u001b[1;32m     10\u001b[0m     \u001b[38;5;124m'\u001b[39m\u001b[38;5;124mBILL_AMT2\u001b[39m\u001b[38;5;124m'\u001b[39m: \u001b[38;5;124m'\u001b[39m\u001b[38;5;124mBILL_August\u001b[39m\u001b[38;5;124m'\u001b[39m,\n\u001b[1;32m     11\u001b[0m     \u001b[38;5;124m'\u001b[39m\u001b[38;5;124mBILL_AMT3\u001b[39m\u001b[38;5;124m'\u001b[39m: \u001b[38;5;124m'\u001b[39m\u001b[38;5;124mBILL_July\u001b[39m\u001b[38;5;124m'\u001b[39m,\n\u001b[1;32m     12\u001b[0m     \u001b[38;5;124m'\u001b[39m\u001b[38;5;124mBILL_AMT4\u001b[39m\u001b[38;5;124m'\u001b[39m: \u001b[38;5;124m'\u001b[39m\u001b[38;5;124mBILL_June\u001b[39m\u001b[38;5;124m'\u001b[39m,\n\u001b[1;32m     13\u001b[0m     \u001b[38;5;124m'\u001b[39m\u001b[38;5;124mBILL_AMT5\u001b[39m\u001b[38;5;124m'\u001b[39m: \u001b[38;5;124m'\u001b[39m\u001b[38;5;124mBILL_May\u001b[39m\u001b[38;5;124m'\u001b[39m,\n\u001b[1;32m     14\u001b[0m     \u001b[38;5;124m'\u001b[39m\u001b[38;5;124mBILL_AMT6\u001b[39m\u001b[38;5;124m'\u001b[39m: \u001b[38;5;124m'\u001b[39m\u001b[38;5;124mBILL_April\u001b[39m\u001b[38;5;124m'\u001b[39m,\n\u001b[1;32m     15\u001b[0m     \u001b[38;5;124m'\u001b[39m\u001b[38;5;124mPAY_AMT1\u001b[39m\u001b[38;5;124m'\u001b[39m: \u001b[38;5;124m'\u001b[39m\u001b[38;5;124mTO_PAY_September\u001b[39m\u001b[38;5;124m'\u001b[39m,\n\u001b[1;32m     16\u001b[0m     \u001b[38;5;124m'\u001b[39m\u001b[38;5;124mPAY_AMT2\u001b[39m\u001b[38;5;124m'\u001b[39m: \u001b[38;5;124m'\u001b[39m\u001b[38;5;124mTO_PAY_August\u001b[39m\u001b[38;5;124m'\u001b[39m,\n\u001b[1;32m     17\u001b[0m     \u001b[38;5;124m'\u001b[39m\u001b[38;5;124mPAY_AMT3\u001b[39m\u001b[38;5;124m'\u001b[39m: \u001b[38;5;124m'\u001b[39m\u001b[38;5;124mTO_PAY_July\u001b[39m\u001b[38;5;124m'\u001b[39m,\n\u001b[1;32m     18\u001b[0m     \u001b[38;5;124m'\u001b[39m\u001b[38;5;124mPAY_AMT4\u001b[39m\u001b[38;5;124m'\u001b[39m: \u001b[38;5;124m'\u001b[39m\u001b[38;5;124mTO_PAY_June\u001b[39m\u001b[38;5;124m'\u001b[39m,\n\u001b[1;32m     19\u001b[0m     \u001b[38;5;124m'\u001b[39m\u001b[38;5;124mPAY_AMT5\u001b[39m\u001b[38;5;124m'\u001b[39m: \u001b[38;5;124m'\u001b[39m\u001b[38;5;124mTO_PAY_May\u001b[39m\u001b[38;5;124m'\u001b[39m,\n\u001b[1;32m     20\u001b[0m     \u001b[38;5;124m'\u001b[39m\u001b[38;5;124mPAY_AMT6\u001b[39m\u001b[38;5;124m'\u001b[39m: \u001b[38;5;124m'\u001b[39m\u001b[38;5;124mTO_PAY_April\u001b[39m\u001b[38;5;124m'\u001b[39m,\n\u001b[1;32m     21\u001b[0m     \u001b[38;5;124m'\u001b[39m\u001b[38;5;124mdefault payment next month\u001b[39m\u001b[38;5;124m'\u001b[39m: \u001b[38;5;124m'\u001b[39m\u001b[38;5;124mDEFAULT_October\u001b[39m\u001b[38;5;124m'\u001b[39m\n\u001b[1;32m     22\u001b[0m      })\n\u001b[1;32m     24\u001b[0m data_viz\n",
      "\u001b[0;31mNameError\u001b[0m: name 'data_viz' is not defined"
     ]
    }
   ],
   "source": [
    "# Renaming some columns for the vizs\n",
    "data_viz = data_viz.rename(columns={\n",
    "    'PAY_0':'PUNCTUALITY_September',\n",
    "    'PAY_2':'PUNCTUALITY_August', \n",
    "    'PAY_3':'PUNCTUALITY_July', \n",
    "    'PAY_4':'PUNCTUALITY_June', \n",
    "    'PAY_5':'PUNCTUALITY_May',\n",
    "    'PAY_6':'PUNCTUALITY_April',\n",
    "    'BILL_AMT1': 'BILL_September',\n",
    "    'BILL_AMT2': 'BILL_August',\n",
    "    'BILL_AMT3': 'BILL_July',\n",
    "    'BILL_AMT4': 'BILL_June',\n",
    "    'BILL_AMT5': 'BILL_May',\n",
    "    'BILL_AMT6': 'BILL_April',\n",
    "    'PAY_AMT1': 'TO_PAY_September',\n",
    "    'PAY_AMT2': 'TO_PAY_August',\n",
    "    'PAY_AMT3': 'TO_PAY_July',\n",
    "    'PAY_AMT4': 'TO_PAY_June',\n",
    "    'PAY_AMT5': 'TO_PAY_May',\n",
    "    'PAY_AMT6': 'TO_PAY_April',\n",
    "    'default payment next month': 'DEFAULT_October'\n",
    "     })\n",
    "\n",
    "data_viz"
   ]
  },
  {
   "cell_type": "code",
   "execution_count": 6,
   "metadata": {},
   "outputs": [
    {
     "ename": "NameError",
     "evalue": "name 'data_viz' is not defined",
     "output_type": "error",
     "traceback": [
      "\u001b[0;31m---------------------------------------------------------------------------\u001b[0m",
      "\u001b[0;31mNameError\u001b[0m                                 Traceback (most recent call last)",
      "Cell \u001b[0;32mIn[6], line 1\u001b[0m\n\u001b[0;32m----> 1\u001b[0m \u001b[43mdata_viz\u001b[49m[\u001b[38;5;124m'\u001b[39m\u001b[38;5;124mSEX_encoded\u001b[39m\u001b[38;5;124m'\u001b[39m]\u001b[38;5;241m=\u001b[39m \u001b[38;5;124m'\u001b[39m\u001b[38;5;124mmale\u001b[39m\u001b[38;5;124m'\u001b[39m\n\u001b[1;32m      2\u001b[0m data_viz\u001b[38;5;241m.\u001b[39mSEX_encoded \u001b[38;5;241m=\u001b[39m data_viz\u001b[38;5;241m.\u001b[39mSEX_encoded\u001b[38;5;241m.\u001b[39mwhere(data\u001b[38;5;241m.\u001b[39mSEX\u001b[38;5;241m==\u001b[39m\u001b[38;5;241m1\u001b[39m, \u001b[38;5;124m'\u001b[39m\u001b[38;5;124mfemale\u001b[39m\u001b[38;5;124m'\u001b[39m)\n",
      "\u001b[0;31mNameError\u001b[0m: name 'data_viz' is not defined"
     ]
    }
   ],
   "source": [
    "data_viz['SEX_encoded']= 'male'\n",
    "data_viz.SEX_encoded = data_viz.SEX_encoded.where(data.SEX==1, 'female')\n"
   ]
  },
  {
   "cell_type": "code",
   "execution_count": 7,
   "metadata": {},
   "outputs": [
    {
     "ename": "NameError",
     "evalue": "name 'data_viz' is not defined",
     "output_type": "error",
     "traceback": [
      "\u001b[0;31m---------------------------------------------------------------------------\u001b[0m",
      "\u001b[0;31mNameError\u001b[0m                                 Traceback (most recent call last)",
      "Cell \u001b[0;32mIn[7], line 4\u001b[0m\n\u001b[1;32m      1\u001b[0m \u001b[38;5;66;03m# PROPOSAL TO CHANGE THE LABELS FOR EDUCATION\u001b[39;00m\n\u001b[1;32m      2\u001b[0m \u001b[38;5;66;03m# on the website: 1 = graduate school; 2 = university; 3= high school; 4 = others)\u001b[39;00m\n\u001b[0;32m----> 4\u001b[0m data_viz[\u001b[38;5;124m'\u001b[39m\u001b[38;5;124mEDUCATION\u001b[39m\u001b[38;5;124m'\u001b[39m] \u001b[38;5;241m=\u001b[39m \u001b[43mdata_viz\u001b[49m[\u001b[38;5;124m'\u001b[39m\u001b[38;5;124mEDUCATION\u001b[39m\u001b[38;5;124m'\u001b[39m]\u001b[38;5;241m.\u001b[39mmask(data_viz[\u001b[38;5;124m'\u001b[39m\u001b[38;5;124mEDUCATION\u001b[39m\u001b[38;5;124m'\u001b[39m]\u001b[38;5;241m==\u001b[39m\u001b[38;5;241m4\u001b[39m, \u001b[38;5;241m0\u001b[39m)\n\u001b[1;32m      5\u001b[0m data_viz[\u001b[38;5;124m'\u001b[39m\u001b[38;5;124mEDUCATION\u001b[39m\u001b[38;5;124m'\u001b[39m] \u001b[38;5;241m=\u001b[39m data_viz[\u001b[38;5;124m'\u001b[39m\u001b[38;5;124mEDUCATION\u001b[39m\u001b[38;5;124m'\u001b[39m]\u001b[38;5;241m.\u001b[39mmask(data_viz[\u001b[38;5;124m'\u001b[39m\u001b[38;5;124mEDUCATION\u001b[39m\u001b[38;5;124m'\u001b[39m]\u001b[38;5;241m==\u001b[39m\u001b[38;5;241m5\u001b[39m, \u001b[38;5;241m0\u001b[39m)\n\u001b[1;32m      6\u001b[0m data_viz[\u001b[38;5;124m'\u001b[39m\u001b[38;5;124mEDUCATION\u001b[39m\u001b[38;5;124m'\u001b[39m] \u001b[38;5;241m=\u001b[39m data_viz[\u001b[38;5;124m'\u001b[39m\u001b[38;5;124mEDUCATION\u001b[39m\u001b[38;5;124m'\u001b[39m]\u001b[38;5;241m.\u001b[39mmask(data_viz[\u001b[38;5;124m'\u001b[39m\u001b[38;5;124mEDUCATION\u001b[39m\u001b[38;5;124m'\u001b[39m]\u001b[38;5;241m==\u001b[39m\u001b[38;5;241m6\u001b[39m, \u001b[38;5;241m0\u001b[39m)\n",
      "\u001b[0;31mNameError\u001b[0m: name 'data_viz' is not defined"
     ]
    }
   ],
   "source": [
    "# PROPOSAL TO CHANGE THE LABELS FOR EDUCATION\n",
    "# on the website: 1 = graduate school; 2 = university; 3= high school; 4 = others)\n",
    "\n",
    "data_viz['EDUCATION'] = data_viz['EDUCATION'].mask(data_viz['EDUCATION']==4, 0)\n",
    "data_viz['EDUCATION'] = data_viz['EDUCATION'].mask(data_viz['EDUCATION']==5, 0)\n",
    "data_viz['EDUCATION'] = data_viz['EDUCATION'].mask(data_viz['EDUCATION']==6, 0)\n"
   ]
  },
  {
   "cell_type": "code",
   "execution_count": 8,
   "metadata": {},
   "outputs": [
    {
     "ename": "NameError",
     "evalue": "name 'data_viz' is not defined",
     "output_type": "error",
     "traceback": [
      "\u001b[0;31m---------------------------------------------------------------------------\u001b[0m",
      "\u001b[0;31mNameError\u001b[0m                                 Traceback (most recent call last)",
      "Cell \u001b[0;32mIn[8], line 3\u001b[0m\n\u001b[1;32m      1\u001b[0m \u001b[38;5;66;03m# THIS ONE TURNED OUT TO BE WRONG\u001b[39;00m\n\u001b[0;32m----> 3\u001b[0m \u001b[43mdata_viz\u001b[49m[\u001b[38;5;124m'\u001b[39m\u001b[38;5;124mEDUCATION_encoded\u001b[39m\u001b[38;5;124m'\u001b[39m] \u001b[38;5;241m=\u001b[39m \u001b[38;5;124m'\u001b[39m\u001b[38;5;124m'\u001b[39m\n\u001b[1;32m      4\u001b[0m data_viz\u001b[38;5;241m.\u001b[39mEDUCATION_encoded \u001b[38;5;241m=\u001b[39m data_viz\u001b[38;5;241m.\u001b[39mEDUCATION_encoded\u001b[38;5;241m.\u001b[39mmask(data_viz\u001b[38;5;241m.\u001b[39mEDUCATION\u001b[38;5;241m==\u001b[39m\u001b[38;5;241m1\u001b[39m, \u001b[38;5;124m'\u001b[39m\u001b[38;5;124mgraduate\u001b[39m\u001b[38;5;124m'\u001b[39m)\n\u001b[1;32m      5\u001b[0m data_viz\u001b[38;5;241m.\u001b[39mEDUCATION_encoded \u001b[38;5;241m=\u001b[39m data_viz\u001b[38;5;241m.\u001b[39mEDUCATION_encoded\u001b[38;5;241m.\u001b[39mmask(data_viz\u001b[38;5;241m.\u001b[39mEDUCATION\u001b[38;5;241m==\u001b[39m\u001b[38;5;241m2\u001b[39m, \u001b[38;5;124m'\u001b[39m\u001b[38;5;124muniversity\u001b[39m\u001b[38;5;124m'\u001b[39m)\n",
      "\u001b[0;31mNameError\u001b[0m: name 'data_viz' is not defined"
     ]
    }
   ],
   "source": [
    "# THIS ONE TURNED OUT TO BE WRONG\n",
    "\n",
    "data_viz['EDUCATION_encoded'] = ''\n",
    "data_viz.EDUCATION_encoded = data_viz.EDUCATION_encoded.mask(data_viz.EDUCATION==1, 'graduate')\n",
    "data_viz.EDUCATION_encoded = data_viz.EDUCATION_encoded.mask(data_viz.EDUCATION==2, 'university')\n",
    "data_viz.EDUCATION_encoded = data_viz.EDUCATION_encoded.mask(data_viz.EDUCATION==3, 'high school')\n",
    "data_viz.EDUCATION_encoded = data_viz.EDUCATION_encoded.mask(data_viz.EDUCATION==0, 'other or unknown')"
   ]
  },
  {
   "cell_type": "code",
   "execution_count": 9,
   "metadata": {},
   "outputs": [
    {
     "ename": "NameError",
     "evalue": "name 'data_viz' is not defined",
     "output_type": "error",
     "traceback": [
      "\u001b[0;31m---------------------------------------------------------------------------\u001b[0m",
      "\u001b[0;31mNameError\u001b[0m                                 Traceback (most recent call last)",
      "Cell \u001b[0;32mIn[9], line 1\u001b[0m\n\u001b[0;32m----> 1\u001b[0m \u001b[43mdata_viz\u001b[49m[\u001b[38;5;124m'\u001b[39m\u001b[38;5;124mMARRIAGE_encoded\u001b[39m\u001b[38;5;124m'\u001b[39m] \u001b[38;5;241m=\u001b[39m \u001b[38;5;124m'\u001b[39m\u001b[38;5;124m'\u001b[39m\n\u001b[1;32m      2\u001b[0m data_viz\u001b[38;5;241m.\u001b[39mMARRIAGE_encoded \u001b[38;5;241m=\u001b[39m data_viz\u001b[38;5;241m.\u001b[39mMARRIAGE_encoded\u001b[38;5;241m.\u001b[39mmask(data_viz\u001b[38;5;241m.\u001b[39mMARRIAGE\u001b[38;5;241m==\u001b[39m\u001b[38;5;241m1\u001b[39m, \u001b[38;5;124m'\u001b[39m\u001b[38;5;124mmarried\u001b[39m\u001b[38;5;124m'\u001b[39m)\n\u001b[1;32m      3\u001b[0m data_viz\u001b[38;5;241m.\u001b[39mMARRIAGE_encoded \u001b[38;5;241m=\u001b[39m data_viz\u001b[38;5;241m.\u001b[39mMARRIAGE_encoded\u001b[38;5;241m.\u001b[39mmask(data_viz\u001b[38;5;241m.\u001b[39mMARRIAGE\u001b[38;5;241m==\u001b[39m\u001b[38;5;241m2\u001b[39m, \u001b[38;5;124m'\u001b[39m\u001b[38;5;124msingle\u001b[39m\u001b[38;5;124m'\u001b[39m)\n",
      "\u001b[0;31mNameError\u001b[0m: name 'data_viz' is not defined"
     ]
    }
   ],
   "source": [
    "data_viz['MARRIAGE_encoded'] = ''\n",
    "data_viz.MARRIAGE_encoded = data_viz.MARRIAGE_encoded.mask(data_viz.MARRIAGE==1, 'married')\n",
    "data_viz.MARRIAGE_encoded = data_viz.MARRIAGE_encoded.mask(data_viz.MARRIAGE==2, 'single')\n",
    "data_viz.MARRIAGE_encoded = data_viz.MARRIAGE_encoded.mask(data_viz.MARRIAGE==3, 'others')\n",
    "data_viz.MARRIAGE_encoded = data_viz.MARRIAGE_encoded.mask(data_viz.MARRIAGE==0, 'unknown')\n"
   ]
  },
  {
   "cell_type": "code",
   "execution_count": 10,
   "metadata": {},
   "outputs": [
    {
     "ename": "NameError",
     "evalue": "name 'data_viz' is not defined",
     "output_type": "error",
     "traceback": [
      "\u001b[0;31m---------------------------------------------------------------------------\u001b[0m",
      "\u001b[0;31mNameError\u001b[0m                                 Traceback (most recent call last)",
      "Cell \u001b[0;32mIn[10], line 1\u001b[0m\n\u001b[0;32m----> 1\u001b[0m data_viz[\u001b[38;5;124m'\u001b[39m\u001b[38;5;124mPUNCTUALITY_AVG\u001b[39m\u001b[38;5;124m'\u001b[39m] \u001b[38;5;241m=\u001b[39m \u001b[43mdata_viz\u001b[49m[[\u001b[38;5;124m'\u001b[39m\u001b[38;5;124mPUNCTUALITY_September\u001b[39m\u001b[38;5;124m'\u001b[39m, \u001b[38;5;124m'\u001b[39m\u001b[38;5;124mPUNCTUALITY_August\u001b[39m\u001b[38;5;124m'\u001b[39m,\u001b[38;5;124m'\u001b[39m\u001b[38;5;124mPUNCTUALITY_July\u001b[39m\u001b[38;5;124m'\u001b[39m,\u001b[38;5;124m'\u001b[39m\u001b[38;5;124mPUNCTUALITY_June\u001b[39m\u001b[38;5;124m'\u001b[39m,\u001b[38;5;124m'\u001b[39m\u001b[38;5;124mPUNCTUALITY_May\u001b[39m\u001b[38;5;124m'\u001b[39m,\u001b[38;5;124m'\u001b[39m\u001b[38;5;124mPUNCTUALITY_April\u001b[39m\u001b[38;5;124m'\u001b[39m]]\u001b[38;5;241m.\u001b[39mmean(axis\u001b[38;5;241m=\u001b[39m\u001b[38;5;241m1\u001b[39m)\n\u001b[1;32m      3\u001b[0m data_viz[\u001b[38;5;124m'\u001b[39m\u001b[38;5;124mTO_PAY_AVG\u001b[39m\u001b[38;5;124m'\u001b[39m] \u001b[38;5;241m=\u001b[39m data_viz[[\u001b[38;5;124m'\u001b[39m\u001b[38;5;124mTO_PAY_September\u001b[39m\u001b[38;5;124m'\u001b[39m, \u001b[38;5;124m'\u001b[39m\u001b[38;5;124mTO_PAY_August\u001b[39m\u001b[38;5;124m'\u001b[39m,\u001b[38;5;124m'\u001b[39m\u001b[38;5;124mTO_PAY_July\u001b[39m\u001b[38;5;124m'\u001b[39m,\u001b[38;5;124m'\u001b[39m\u001b[38;5;124mTO_PAY_June\u001b[39m\u001b[38;5;124m'\u001b[39m,\u001b[38;5;124m'\u001b[39m\u001b[38;5;124mTO_PAY_May\u001b[39m\u001b[38;5;124m'\u001b[39m,\u001b[38;5;124m'\u001b[39m\u001b[38;5;124mTO_PAY_April\u001b[39m\u001b[38;5;124m'\u001b[39m]]\u001b[38;5;241m.\u001b[39mmean(axis\u001b[38;5;241m=\u001b[39m\u001b[38;5;241m1\u001b[39m)\n\u001b[1;32m      5\u001b[0m data_viz[\u001b[38;5;124m'\u001b[39m\u001b[38;5;124mBILL_AVG\u001b[39m\u001b[38;5;124m'\u001b[39m] \u001b[38;5;241m=\u001b[39m data_viz[[\u001b[38;5;124m'\u001b[39m\u001b[38;5;124mBILL_September\u001b[39m\u001b[38;5;124m'\u001b[39m, \u001b[38;5;124m'\u001b[39m\u001b[38;5;124mBILL_August\u001b[39m\u001b[38;5;124m'\u001b[39m,\u001b[38;5;124m'\u001b[39m\u001b[38;5;124mBILL_July\u001b[39m\u001b[38;5;124m'\u001b[39m,\u001b[38;5;124m'\u001b[39m\u001b[38;5;124mBILL_June\u001b[39m\u001b[38;5;124m'\u001b[39m,\u001b[38;5;124m'\u001b[39m\u001b[38;5;124mBILL_May\u001b[39m\u001b[38;5;124m'\u001b[39m,\u001b[38;5;124m'\u001b[39m\u001b[38;5;124mBILL_April\u001b[39m\u001b[38;5;124m'\u001b[39m]]\u001b[38;5;241m.\u001b[39mmean(axis\u001b[38;5;241m=\u001b[39m\u001b[38;5;241m1\u001b[39m)\n",
      "\u001b[0;31mNameError\u001b[0m: name 'data_viz' is not defined"
     ]
    }
   ],
   "source": [
    "data_viz['PUNCTUALITY_AVG'] = data_viz[['PUNCTUALITY_September', 'PUNCTUALITY_August','PUNCTUALITY_July','PUNCTUALITY_June','PUNCTUALITY_May','PUNCTUALITY_April']].mean(axis=1)\n",
    "\n",
    "data_viz['TO_PAY_AVG'] = data_viz[['TO_PAY_September', 'TO_PAY_August','TO_PAY_July','TO_PAY_June','TO_PAY_May','TO_PAY_April']].mean(axis=1)\n",
    "\n",
    "data_viz['BILL_AVG'] = data_viz[['BILL_September', 'BILL_August','BILL_July','BILL_June','BILL_May','BILL_April']].mean(axis=1)"
   ]
  },
  {
   "cell_type": "code",
   "execution_count": 11,
   "metadata": {},
   "outputs": [
    {
     "ename": "NameError",
     "evalue": "name 'data_viz' is not defined",
     "output_type": "error",
     "traceback": [
      "\u001b[0;31m---------------------------------------------------------------------------\u001b[0m",
      "\u001b[0;31mNameError\u001b[0m                                 Traceback (most recent call last)",
      "Cell \u001b[0;32mIn[11], line 1\u001b[0m\n\u001b[0;32m----> 1\u001b[0m fig \u001b[38;5;241m=\u001b[39m px\u001b[38;5;241m.\u001b[39mhistogram(\u001b[43mdata_viz\u001b[49m, x\u001b[38;5;241m=\u001b[39m\u001b[38;5;124m\"\u001b[39m\u001b[38;5;124mLIMIT_BAL\u001b[39m\u001b[38;5;124m\"\u001b[39m,nbins\u001b[38;5;241m=\u001b[39m\u001b[38;5;241m50\u001b[39m,\n\u001b[1;32m      2\u001b[0m                     color_discrete_sequence\u001b[38;5;241m=\u001b[39m[orange, light_blue],\n\u001b[1;32m      3\u001b[0m                     labels\u001b[38;5;241m=\u001b[39m{\u001b[38;5;124m\"\u001b[39m\u001b[38;5;124mcount\u001b[39m\u001b[38;5;124m\"\u001b[39m: \u001b[38;5;124m\"\u001b[39m\u001b[38;5;124m\"\u001b[39m},\n\u001b[1;32m      4\u001b[0m                     title\u001b[38;5;241m=\u001b[39m\u001b[38;5;124m'\u001b[39m\u001b[38;5;124mLIMIT_BAL distribution in the sample\u001b[39m\u001b[38;5;124m'\u001b[39m)\n\u001b[1;32m      5\u001b[0m fig\u001b[38;5;241m.\u001b[39mupdate_layout({\u001b[38;5;124m'\u001b[39m\u001b[38;5;124mplot_bgcolor\u001b[39m\u001b[38;5;124m'\u001b[39m: \u001b[38;5;124m'\u001b[39m\u001b[38;5;124mrgb(255, 255, 255)\u001b[39m\u001b[38;5;124m'\u001b[39m,\u001b[38;5;124m'\u001b[39m\u001b[38;5;124mpaper_bgcolor\u001b[39m\u001b[38;5;124m'\u001b[39m: \u001b[38;5;124m'\u001b[39m\u001b[38;5;124mrgb(255, 255, 255)\u001b[39m\u001b[38;5;124m'\u001b[39m},\n\u001b[1;32m      6\u001b[0m                     font_color\u001b[38;5;241m=\u001b[39mdark_blue,\n\u001b[1;32m      7\u001b[0m                     title_font_color\u001b[38;5;241m=\u001b[39mdark_blue,\n\u001b[1;32m      8\u001b[0m                     bargap\u001b[38;5;241m=\u001b[39m\u001b[38;5;241m0.2\u001b[39m)\n\u001b[1;32m      9\u001b[0m fig\u001b[38;5;241m.\u001b[39mupdate_xaxes(showgrid\u001b[38;5;241m=\u001b[39m\u001b[38;5;28;01mTrue\u001b[39;00m, gridcolor\u001b[38;5;241m=\u001b[39mlight_yellow)\n",
      "\u001b[0;31mNameError\u001b[0m: name 'data_viz' is not defined"
     ]
    }
   ],
   "source": [
    "fig = px.histogram(data_viz, x=\"LIMIT_BAL\",nbins=50,\n",
    "                    color_discrete_sequence=[orange, light_blue],\n",
    "                    labels={\"count\": \"\"},\n",
    "                    title='LIMIT_BAL distribution in the sample')\n",
    "fig.update_layout({'plot_bgcolor': 'rgb(255, 255, 255)','paper_bgcolor': 'rgb(255, 255, 255)'},\n",
    "                    font_color=dark_blue,\n",
    "                    title_font_color=dark_blue,\n",
    "                    bargap=0.2)\n",
    "fig.update_xaxes(showgrid=True, gridcolor=light_yellow)\n",
    "fig.update_yaxes(showgrid=True, gridcolor=light_yellow)\n",
    "fig.show()"
   ]
  },
  {
   "cell_type": "code",
   "execution_count": 12,
   "metadata": {},
   "outputs": [
    {
     "ename": "NameError",
     "evalue": "name 'data_viz' is not defined",
     "output_type": "error",
     "traceback": [
      "\u001b[0;31m---------------------------------------------------------------------------\u001b[0m",
      "\u001b[0;31mNameError\u001b[0m                                 Traceback (most recent call last)",
      "Cell \u001b[0;32mIn[12], line 1\u001b[0m\n\u001b[0;32m----> 1\u001b[0m fig \u001b[38;5;241m=\u001b[39m px\u001b[38;5;241m.\u001b[39mhistogram(\u001b[43mdata_viz\u001b[49m, x\u001b[38;5;241m=\u001b[39m\u001b[38;5;124m\"\u001b[39m\u001b[38;5;124mSEX_encoded\u001b[39m\u001b[38;5;124m\"\u001b[39m,nbins\u001b[38;5;241m=\u001b[39m\u001b[38;5;241m2\u001b[39m,\n\u001b[1;32m      2\u001b[0m                     color_discrete_sequence\u001b[38;5;241m=\u001b[39m[orange, light_blue],\n\u001b[1;32m      3\u001b[0m                     labels\u001b[38;5;241m=\u001b[39m{\u001b[38;5;124m\"\u001b[39m\u001b[38;5;124mSEX_encoded\u001b[39m\u001b[38;5;124m\"\u001b[39m: \u001b[38;5;124m\"\u001b[39m\u001b[38;5;124mSEX\u001b[39m\u001b[38;5;124m\"\u001b[39m},\n\u001b[1;32m      4\u001b[0m                     title \u001b[38;5;241m=\u001b[39m \u001b[38;5;124m'\u001b[39m\u001b[38;5;124m SEX distribution in the sample\u001b[39m\u001b[38;5;124m'\u001b[39m)\n\u001b[1;32m      5\u001b[0m fig\u001b[38;5;241m.\u001b[39mupdate_layout({\u001b[38;5;124m'\u001b[39m\u001b[38;5;124mplot_bgcolor\u001b[39m\u001b[38;5;124m'\u001b[39m: \u001b[38;5;124m'\u001b[39m\u001b[38;5;124mrgb(255, 255, 255)\u001b[39m\u001b[38;5;124m'\u001b[39m,\u001b[38;5;124m'\u001b[39m\u001b[38;5;124mpaper_bgcolor\u001b[39m\u001b[38;5;124m'\u001b[39m: \u001b[38;5;124m'\u001b[39m\u001b[38;5;124mrgb(255, 255, 255)\u001b[39m\u001b[38;5;124m'\u001b[39m},\n\u001b[1;32m      6\u001b[0m                     font_color\u001b[38;5;241m=\u001b[39mdark_blue,\n\u001b[1;32m      7\u001b[0m                     title_font_color\u001b[38;5;241m=\u001b[39mdark_blue,\n\u001b[1;32m      8\u001b[0m                     bargap\u001b[38;5;241m=\u001b[39m\u001b[38;5;241m0.2\u001b[39m)\n\u001b[1;32m      9\u001b[0m fig\u001b[38;5;241m.\u001b[39mupdate_xaxes(showgrid\u001b[38;5;241m=\u001b[39m\u001b[38;5;28;01mTrue\u001b[39;00m, gridcolor\u001b[38;5;241m=\u001b[39mlight_yellow)\n",
      "\u001b[0;31mNameError\u001b[0m: name 'data_viz' is not defined"
     ]
    }
   ],
   "source": [
    "fig = px.histogram(data_viz, x=\"SEX_encoded\",nbins=2,\n",
    "                    color_discrete_sequence=[orange, light_blue],\n",
    "                    labels={\"SEX_encoded\": \"SEX\"},\n",
    "                    title = ' SEX distribution in the sample')\n",
    "fig.update_layout({'plot_bgcolor': 'rgb(255, 255, 255)','paper_bgcolor': 'rgb(255, 255, 255)'},\n",
    "                    font_color=dark_blue,\n",
    "                    title_font_color=dark_blue,\n",
    "                    bargap=0.2)\n",
    "fig.update_xaxes(showgrid=True, gridcolor=light_yellow)\n",
    "fig.update_yaxes(showgrid=True, gridcolor=light_yellow)\n",
    "fig.show()"
   ]
  },
  {
   "cell_type": "code",
   "execution_count": 13,
   "metadata": {},
   "outputs": [
    {
     "ename": "NameError",
     "evalue": "name 'data_viz' is not defined",
     "output_type": "error",
     "traceback": [
      "\u001b[0;31m---------------------------------------------------------------------------\u001b[0m",
      "\u001b[0;31mNameError\u001b[0m                                 Traceback (most recent call last)",
      "Cell \u001b[0;32mIn[13], line 1\u001b[0m\n\u001b[0;32m----> 1\u001b[0m fig \u001b[38;5;241m=\u001b[39m px\u001b[38;5;241m.\u001b[39mhistogram(\u001b[43mdata_viz\u001b[49m, x\u001b[38;5;241m=\u001b[39m\u001b[38;5;124m\"\u001b[39m\u001b[38;5;124mEDUCATION_encoded\u001b[39m\u001b[38;5;124m\"\u001b[39m,nbins\u001b[38;5;241m=\u001b[39m\u001b[38;5;241m4\u001b[39m,\n\u001b[1;32m      2\u001b[0m                     color_discrete_sequence\u001b[38;5;241m=\u001b[39m[orange, light_blue],\n\u001b[1;32m      3\u001b[0m                     labels\u001b[38;5;241m=\u001b[39m{\u001b[38;5;124m\"\u001b[39m\u001b[38;5;124mEDUCATION_encoded\u001b[39m\u001b[38;5;124m\"\u001b[39m: \u001b[38;5;124m\"\u001b[39m\u001b[38;5;124mEDUCATION\u001b[39m\u001b[38;5;124m\"\u001b[39m},\n\u001b[1;32m      4\u001b[0m                     title \u001b[38;5;241m=\u001b[39m \u001b[38;5;124m'\u001b[39m\u001b[38;5;124m EDUCATION distribution in the sample\u001b[39m\u001b[38;5;124m'\u001b[39m)\n\u001b[1;32m      5\u001b[0m fig\u001b[38;5;241m.\u001b[39mupdate_layout({\u001b[38;5;124m'\u001b[39m\u001b[38;5;124mplot_bgcolor\u001b[39m\u001b[38;5;124m'\u001b[39m: \u001b[38;5;124m'\u001b[39m\u001b[38;5;124mrgb(255, 255, 255)\u001b[39m\u001b[38;5;124m'\u001b[39m,\u001b[38;5;124m'\u001b[39m\u001b[38;5;124mpaper_bgcolor\u001b[39m\u001b[38;5;124m'\u001b[39m: \u001b[38;5;124m'\u001b[39m\u001b[38;5;124mrgb(255, 255, 255)\u001b[39m\u001b[38;5;124m'\u001b[39m},\n\u001b[1;32m      6\u001b[0m                     font_color\u001b[38;5;241m=\u001b[39mdark_blue,\n\u001b[1;32m      7\u001b[0m                     title_font_color\u001b[38;5;241m=\u001b[39mdark_blue,\n\u001b[1;32m      8\u001b[0m                     bargap\u001b[38;5;241m=\u001b[39m\u001b[38;5;241m0.05\u001b[39m)\n\u001b[1;32m      9\u001b[0m fig\u001b[38;5;241m.\u001b[39mupdate_xaxes(showgrid\u001b[38;5;241m=\u001b[39m\u001b[38;5;28;01mTrue\u001b[39;00m, gridcolor\u001b[38;5;241m=\u001b[39mlight_yellow)\n",
      "\u001b[0;31mNameError\u001b[0m: name 'data_viz' is not defined"
     ]
    }
   ],
   "source": [
    "fig = px.histogram(data_viz, x=\"EDUCATION_encoded\",nbins=4,\n",
    "                    color_discrete_sequence=[orange, light_blue],\n",
    "                    labels={\"EDUCATION_encoded\": \"EDUCATION\"},\n",
    "                    title = ' EDUCATION distribution in the sample')\n",
    "fig.update_layout({'plot_bgcolor': 'rgb(255, 255, 255)','paper_bgcolor': 'rgb(255, 255, 255)'},\n",
    "                    font_color=dark_blue,\n",
    "                    title_font_color=dark_blue,\n",
    "                    bargap=0.05)\n",
    "fig.update_xaxes(showgrid=True, gridcolor=light_yellow)\n",
    "fig.update_yaxes(showgrid=True, gridcolor=light_yellow)\n",
    "fig.show()"
   ]
  },
  {
   "cell_type": "code",
   "execution_count": 14,
   "metadata": {},
   "outputs": [
    {
     "ename": "NameError",
     "evalue": "name 'data_viz' is not defined",
     "output_type": "error",
     "traceback": [
      "\u001b[0;31m---------------------------------------------------------------------------\u001b[0m",
      "\u001b[0;31mNameError\u001b[0m                                 Traceback (most recent call last)",
      "Cell \u001b[0;32mIn[14], line 1\u001b[0m\n\u001b[0;32m----> 1\u001b[0m \u001b[43mdata_viz\u001b[49m\u001b[38;5;241m.\u001b[39mcolumns\n",
      "\u001b[0;31mNameError\u001b[0m: name 'data_viz' is not defined"
     ]
    }
   ],
   "source": [
    "data_viz.columns"
   ]
  },
  {
   "cell_type": "code",
   "execution_count": null,
   "metadata": {},
   "outputs": [],
   "source": [
    "# Correlation heatmap\n",
    "to_corr = data_viz.iloc[:,:-7]\n",
    "corr = to_corr.corr()\n",
    "fig = px.imshow(corr, text_auto=False, \n",
    "                color_continuous_scale=[light_blue, dark_blue], \n",
    "                title='Correlation heatmap')\n",
    "fig.update_layout(autosize=False,width=800,height=800, \n",
    "                #{'plot_bgcolor': 'rgb(255, 255, 255)','paper_bgcolor': 'rgb(255, 255, 255)'},\n",
    "                    font_color=dark_blue,\n",
    "                    title_font_color=dark_blue)\n",
    "fig.update_xaxes(tickangle = 315)\n",
    "fig.show()"
   ]
  },
  {
   "cell_type": "code",
   "execution_count": null,
   "metadata": {},
   "outputs": [],
   "source": [
    "corr_with_default = pd.DataFrame(index=np.arange(20), columns=['variable', 'correlation'])\n",
    "for i,col in enumerate(data.columns[:-1]):\n",
    "    corr_with_default.loc[i, 'variable'] = col\n",
    "    corr = data[col].corr(data['default payment next month'])\n",
    "    corr_with_default.loc[i, 'correlation'] = corr\n",
    "\n",
    "fig = px.bar(corr_with_default, x='variable', y='correlation',\n",
    "            title = 'Correlation of each variable with the target',\n",
    "            color_discrete_sequence=[orange, light_blue] )\n",
    "fig.update_layout({'plot_bgcolor': 'rgb(255, 255, 255)','paper_bgcolor': 'rgb(255, 255, 255)'},\n",
    "                    font_color=dark_blue,\n",
    "                    title_font_color=dark_blue,\n",
    "                    bargap=0.2)\n",
    "fig.update_xaxes(showgrid=True, gridcolor=light_yellow)\n",
    "fig.update_yaxes(showgrid=True, gridcolor=light_yellow)\n",
    "fig.show()"
   ]
  },
  {
   "cell_type": "markdown",
   "metadata": {},
   "source": [
    "## Cross-tabs"
   ]
  },
  {
   "cell_type": "markdown",
   "metadata": {},
   "source": [
    "Now we explore the correlation between each of the variables and the dependent variable (default) in order to explore the data.\n",
    "To do this we use CROSS TABS.\n",
    "We define a function to create a cross tab given two pandas series. The function  also cleanes the cross tab to make it ready for plotting.\n",
    "The second function plots the cross_tab using a bar graph"
   ]
  },
  {
   "cell_type": "code",
   "execution_count": null,
   "metadata": {},
   "outputs": [],
   "source": [
    "data_viz['DEFAULT'] = data_viz.DEFAULT_October.apply(lambda s: 'not_default' if s==0 else 'default' )\n",
    "data_viz"
   ]
  },
  {
   "cell_type": "code",
   "execution_count": null,
   "metadata": {},
   "outputs": [],
   "source": [
    "def create_and_clean_crosstab(dataframe, var1, var2='DEFAULT', normalize='index'):\n",
    "    #values_var1 = dataframe[var1].unique()\n",
    "    values_var2 = dataframe[var2].unique()\n",
    "    cross_tab = pd.crosstab(dataframe[var1], dataframe[var2], normalize=normalize)\n",
    "\n",
    "    long_cross_tab = pd.DataFrame()\n",
    "    for value in values_var2:\n",
    "        cross_tab0 = pd.DataFrame(cross_tab[value])\n",
    "        cross_tab0['label']=value\n",
    "        cross_tab0 = cross_tab0.rename(columns={value:'percentage'})\n",
    "\n",
    "        long_cross_tab = pd.concat([long_cross_tab, cross_tab0])\n",
    "        \n",
    "    long_cross_tab = long_cross_tab.sort_values(var1)\n",
    "    long_cross_tab = long_cross_tab.reset_index()\n",
    "    return long_cross_tab\n",
    "\n",
    "def bar_plot_cross_tab(cross_tab, var1, var2='percentage', order_categories = None):\n",
    "    cross_tab = cross_tab.astype({'label':str})\n",
    "    fig = px.bar(cross_tab, x=var1, y=var2,\n",
    "            color ='label', barmode='stack', \n",
    "            category_orders = order_categories, \n",
    "            color_discrete_sequence=[orange, light_blue],\n",
    "            title = f'CrossTab by {var1}'\n",
    "            )\n",
    "\n",
    "    fig.update_layout({'plot_bgcolor': 'rgb(255, 255, 255)','paper_bgcolor': 'rgb(255, 255, 255)'},\n",
    "                        font_color=dark_blue,\n",
    "                        title_font_color=dark_blue,\n",
    "                        bargap=0.2)\n",
    "    fig.update_xaxes(showgrid=True, gridcolor=light_yellow)\n",
    "    fig.update_yaxes(showgrid=True, gridcolor=light_yellow)\n",
    "    fig.show()\n",
    "    "
   ]
  },
  {
   "cell_type": "markdown",
   "metadata": {},
   "source": [
    "### Crosstab SEX"
   ]
  },
  {
   "cell_type": "code",
   "execution_count": null,
   "metadata": {},
   "outputs": [],
   "source": [
    "ct_sex = create_and_clean_crosstab(data_viz, 'SEX_encoded')\n",
    "bar_plot_cross_tab(ct_sex, 'SEX_encoded')"
   ]
  },
  {
   "cell_type": "markdown",
   "metadata": {},
   "source": [
    "### Crosstab AGE"
   ]
  },
  {
   "cell_type": "code",
   "execution_count": null,
   "metadata": {},
   "outputs": [],
   "source": [
    "ct_age = create_and_clean_crosstab(data_viz, 'AGE')\n",
    "bar_plot_cross_tab(ct_age, 'AGE')"
   ]
  },
  {
   "cell_type": "markdown",
   "metadata": {},
   "source": [
    "### Crosstab EDUCATION"
   ]
  },
  {
   "cell_type": "code",
   "execution_count": null,
   "metadata": {},
   "outputs": [],
   "source": [
    "ct_education = create_and_clean_crosstab(data_viz, 'EDUCATION_encoded')\n",
    "bar_plot_cross_tab(ct_education, 'EDUCATION_encoded', order_categories = {'EDUCATION_encoded':['high school', 'university', 'graduate', 'other or unknown']})"
   ]
  },
  {
   "cell_type": "markdown",
   "metadata": {},
   "source": [
    "The problem here is that we don't really know how education is encoded, so it is quite hard to infer anything. "
   ]
  },
  {
   "cell_type": "markdown",
   "metadata": {},
   "source": [
    "### Crosstab MARRIAGE"
   ]
  },
  {
   "cell_type": "code",
   "execution_count": null,
   "metadata": {},
   "outputs": [],
   "source": [
    "ct_marriage = create_and_clean_crosstab(data_viz, 'MARRIAGE_encoded')\n",
    "bar_plot_cross_tab(ct_marriage, 'MARRIAGE_encoded', order_categories= {\"MARRIAGE_encoded\": [\"married\", \"single\", \"others\", \"unknown\"]})"
   ]
  },
  {
   "cell_type": "markdown",
   "metadata": {},
   "source": [
    "### Crosstab LIMIT_BAL"
   ]
  },
  {
   "cell_type": "code",
   "execution_count": null,
   "metadata": {},
   "outputs": [],
   "source": [
    "ct_limitbal = create_and_clean_crosstab(data_viz, 'LIMIT_BAL', normalize=False)"
   ]
  },
  {
   "cell_type": "code",
   "execution_count": null,
   "metadata": {},
   "outputs": [],
   "source": [
    "ct_limitbal"
   ]
  },
  {
   "cell_type": "code",
   "execution_count": null,
   "metadata": {},
   "outputs": [],
   "source": [
    "def categorizing_crosstab(crosstab, intervals, df_index, var1, var2='label'):\n",
    "    new_ct = pd.DataFrame(index = np.arange(2*len(intervals)), columns = [var1, 'percentage', 'label'])\n",
    "    values_var2 = crosstab[var2].unique()\n",
    "    i=0\n",
    "    for interval, ind in zip(intervals, df_index):\n",
    "        filtered = crosstab[(crosstab[var1]>=interval[0])&(crosstab[var1]<interval[1])]\n",
    "        for value in values_var2:\n",
    "            new_filtered = filtered[filtered.label == value]\n",
    "            new_ct.loc[i, var1] = ind\n",
    "            new_ct.loc[i,'percentage'] = new_filtered.percentage.sum()\n",
    "            new_ct.loc[i,'label'] = value\n",
    "            i+=1\n",
    "            #filtered_NOdefault = filtered[filtered.label != 'default']\n",
    "        \n",
    "    tots = new_ct.groupby(var1, sort=False).sum().percentage\n",
    "    percentages = pd.Series(dtype=float)\n",
    "    for value in values_var2:\n",
    "        new_ct_filtered = new_ct[new_ct.label==value]\n",
    "        percentages_new = new_ct_filtered.percentage / tots.values\n",
    "        percentages = pd.concat([percentages, percentages_new])  \n",
    "\n",
    "    new_ct.percentage = percentages\n",
    "    return new_ct"
   ]
  },
  {
   "cell_type": "code",
   "execution_count": null,
   "metadata": {},
   "outputs": [],
   "source": [
    "intervals = [(10000, 50000),(50000, 100000), (100000, 200000),(200000, 300000), \n",
    "(300000, 400000), (400000, 500000), (500000, 600000),(600000, 700000), (700000, 800000), (800000, 900000)]\n",
    "\n",
    "df_index =['10K-50K','50K-100K', '100K-200K', '200K-300K', '300K-400K', '400K-500K','500K-600K','600K-700K', '700K-800K','800K-900K']\n",
    "\n",
    "new_ct_limitbal = categorizing_crosstab(ct_limitbal, intervals, df_index, 'LIMIT_BAL')"
   ]
  },
  {
   "cell_type": "code",
   "execution_count": null,
   "metadata": {},
   "outputs": [],
   "source": [
    "bar_plot_cross_tab(new_ct_limitbal, 'LIMIT_BAL')"
   ]
  },
  {
   "cell_type": "markdown",
   "metadata": {},
   "source": [
    "In this case, it appears that lower amounts of credit are associated with higher default rates. This is quite understandable since banks are reluctant to give out an excessive amount of credit with little certainty that it will be paid back. \n",
    "\n",
    "### Crosstab PUNCTUALITY"
   ]
  },
  {
   "cell_type": "code",
   "execution_count": null,
   "metadata": {},
   "outputs": [],
   "source": [
    "ct_punctuality = create_and_clean_crosstab(data_viz,'PUNCTUALITY_AVG')\n",
    "bar_plot_cross_tab(ct_punctuality, 'PUNCTUALITY_AVG')"
   ]
  },
  {
   "cell_type": "markdown",
   "metadata": {},
   "source": [
    "Here, it is also possible to spot a patter of increasing risk of default correlated with a higher value of Punctuality_avg. This means that those customers who are more months late on their payments (high values of Punctuality_avg) have a higher probability of defaulting, i.e. not paying back the amount due in the next month.\n",
    "\n",
    "### Crosstab BILL"
   ]
  },
  {
   "cell_type": "code",
   "execution_count": null,
   "metadata": {},
   "outputs": [],
   "source": [
    "ct_bill = create_and_clean_crosstab(data_viz, 'BILL_AVG')"
   ]
  },
  {
   "cell_type": "code",
   "execution_count": null,
   "metadata": {},
   "outputs": [],
   "source": [
    "intervals = [(-60000,-30000), (-30000,0), (0, 10000),   \n",
    "    (10000, 50000),(50000, 100000), (100000, 200000),(200000, 300000), \n",
    "    (300000, 400000), (400000, 500000), (500000, 600000),(600000, 700000), (700000, 800000), (800000, 900000)]\n",
    "\n",
    "df_index =['-60K--30K','-30K-0','0-10K', '10K-50K','50K-100K', '100K-200K', '200K-300K', '300K-400K', '400K-500K','500K-600K','600K-700K', '700K-800K','800K-900K', '900K-1M']\n",
    "\n",
    "new_ct_bill= categorizing_crosstab(ct_bill, intervals, df_index, 'BILL_AVG')"
   ]
  },
  {
   "cell_type": "code",
   "execution_count": null,
   "metadata": {},
   "outputs": [],
   "source": [
    "bar_plot_cross_tab(new_ct_bill, 'BILL_AVG')"
   ]
  },
  {
   "cell_type": "markdown",
   "metadata": {},
   "source": [
    "### Crosstab TO_PAY"
   ]
  },
  {
   "cell_type": "code",
   "execution_count": null,
   "metadata": {},
   "outputs": [],
   "source": [
    "ct_to_pay = create_and_clean_crosstab(data_viz, 'TO_PAY_AVG')\n",
    "ct_to_pay"
   ]
  },
  {
   "cell_type": "code",
   "execution_count": null,
   "metadata": {},
   "outputs": [],
   "source": [
    "intervals = [(0, 5000),  (5000, 10000) ,\n",
    "    (10000, 50000),(50000, 100000), (100000, 200000),(200000, 300000), \n",
    "    (300000, 400000), (400000, 500000), (500000, 600000),(600000, 700000)]\n",
    "\n",
    "df_index =['0-5K', '5K-10K', '10K-50K','50K-100K', '100K-200K', '200K-300K', '300K-400K', '400K-500K','500K-600K','600K-700K']\n",
    "\n",
    "new_ct_to_pay = categorizing_crosstab(ct_to_pay, intervals, df_index, 'TO_PAY_AVG')\n",
    "new_ct_to_pay"
   ]
  },
  {
   "cell_type": "code",
   "execution_count": null,
   "metadata": {},
   "outputs": [],
   "source": [
    "bar_plot_cross_tab(new_ct_to_pay, 'TO_PAY_AVG')"
   ]
  },
  {
   "cell_type": "markdown",
   "metadata": {},
   "source": [
    "### Crosstab LIMIT_BAL - SEX (i.e. checking if there is some gender bias)"
   ]
  },
  {
   "cell_type": "code",
   "execution_count": null,
   "metadata": {},
   "outputs": [],
   "source": [
    "ct_sex_limitbal = create_and_clean_crosstab(data_viz, 'LIMIT_BAL', 'SEX_encoded')\n",
    "ct_sex_limitbal"
   ]
  },
  {
   "cell_type": "code",
   "execution_count": null,
   "metadata": {},
   "outputs": [],
   "source": [
    "intervals = [(10000, 50000),(50000, 100000), (100000, 200000),(200000, 300000), \n",
    "(300000, 400000), (400000, 500000), (500000, 600000),(600000, 700000), (700000, 800000), (800000, 900000)]\n",
    "\n",
    "df_index =['10K-50K','50K-100K', '100K-200K', '200K-300K', '300K-400K', '400K-500K','500K-600K','600K-700K', '700K-800K','800K-900K']\n",
    "\n",
    "new_ct_sex_limitbal = categorizing_crosstab(ct_sex_limitbal, intervals, df_index, 'LIMIT_BAL')"
   ]
  },
  {
   "cell_type": "code",
   "execution_count": null,
   "metadata": {},
   "outputs": [],
   "source": [
    "bar_plot_cross_tab(new_ct_sex_limitbal, 'LIMIT_BAL')"
   ]
  },
  {
   "cell_type": "markdown",
   "metadata": {},
   "source": [
    "It appears that women have higher default rates compared to men, however we'd have to consider that in our sample there are more women than men. Therefore, we implement the same analysis again by accounting for this factor."
   ]
  },
  {
   "cell_type": "code",
   "execution_count": null,
   "metadata": {},
   "outputs": [],
   "source": [
    "ct_sex_limitbal2 = create_and_clean_crosstab(data_viz, 'LIMIT_BAL', 'SEX_encoded', normalize=False)\n",
    "ct_sex_limitbal2"
   ]
  },
  {
   "cell_type": "code",
   "execution_count": null,
   "metadata": {},
   "outputs": [],
   "source": [
    "ct_sex_limitbal2.percentage.sum()"
   ]
  },
  {
   "cell_type": "code",
   "execution_count": null,
   "metadata": {},
   "outputs": [],
   "source": [
    "def categorizing_crosstab2(crosstab, intervals, df_index, var1, var2='label'):\n",
    "    new_ct = pd.DataFrame(index = np.arange(2*len(intervals)), columns = [var1, 'percentage', 'label'])\n",
    "    values_var2 = crosstab[var2].unique()\n",
    "    #values_var1 = crosstab[var1].unique()\n",
    "    i=0\n",
    "    for interval, ind in zip(intervals, df_index):\n",
    "        filtered = crosstab[(crosstab[var1]>=interval[0])&(crosstab[var1]<interval[1])]\n",
    "        \n",
    "        for value in values_var2:\n",
    "            new_filtered = filtered[filtered.label == value]\n",
    "            #print(new_filtered)\n",
    "            new_ct.loc[i, var1] = ind\n",
    "            new_ct.loc[i,'percentage'] = new_filtered.percentage.sum()\n",
    "            new_ct.loc[i,'label'] = value\n",
    "            i+=1\n",
    "            #filtered_NOdefault = filtered[filtered.label != 'default']\n",
    "        #print(new_ct)\n",
    "    tots = new_ct.groupby(var2, sort=False).sum().percentage\n",
    "    #print(tots)\n",
    "    percentages = pd.Series(dtype=float)\n",
    "    for value in df_index:\n",
    "        new_ct_filtered = new_ct[new_ct[var1]==value]\n",
    "        percentages_new = new_ct_filtered.percentage / tots.values\n",
    "        percentages = pd.concat([percentages, percentages_new])  \n",
    "\n",
    "    new_ct.percentage = percentages\n",
    "    return new_ct"
   ]
  },
  {
   "cell_type": "code",
   "execution_count": null,
   "metadata": {},
   "outputs": [],
   "source": [
    "new_ct_sex_limitbal2 = categorizing_crosstab2(ct_sex_limitbal2, intervals, df_index, 'LIMIT_BAL')"
   ]
  },
  {
   "cell_type": "code",
   "execution_count": null,
   "metadata": {},
   "outputs": [],
   "source": [
    "bar_plot_cross_tab(new_ct_sex_limitbal2, 'LIMIT_BAL')"
   ]
  },
  {
   "cell_type": "markdown",
   "metadata": {},
   "source": [
    "In this case, it is evident that no gender bias can be inferred by the defaulting probabilities. \n",
    "\n",
    "#### Conclusion\n",
    "\n",
    "The exploratory analysis of the variables available didn't lead to uncovering any type of bias. However, the variables presented in our dataset are not very numerous, and others may be investigated, such as sexual orientation or other related to digital footprint."
   ]
  },
  {
   "cell_type": "code",
   "execution_count": null,
   "metadata": {},
   "outputs": [],
   "source": []
  }
 ],
 "metadata": {
  "kernelspec": {
   "display_name": "Python 3 (ipykernel)",
   "language": "python",
   "name": "python3"
  },
  "language_info": {
   "codemirror_mode": {
    "name": "ipython",
    "version": 3
   },
   "file_extension": ".py",
   "mimetype": "text/x-python",
   "name": "python",
   "nbconvert_exporter": "python",
   "pygments_lexer": "ipython3",
   "version": "3.10.9"
  },
  "vscode": {
   "interpreter": {
    "hash": "fdbcfec06861b0c06d4d78936ce926ba857b3efbbe8e0d851d306c814d185928"
   }
  }
 },
 "nbformat": 4,
 "nbformat_minor": 2
}
