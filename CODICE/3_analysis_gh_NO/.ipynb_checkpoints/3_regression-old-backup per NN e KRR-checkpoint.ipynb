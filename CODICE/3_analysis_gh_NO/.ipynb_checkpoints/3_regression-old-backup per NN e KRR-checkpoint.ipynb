{
 "cells": [
  {
   "cell_type": "code",
   "execution_count": 3,
   "id": "863aeade",
   "metadata": {},
   "outputs": [
    {
     "name": "stdout",
     "output_type": "stream",
     "text": [
      "Python Platform: macOS-13.2.1-arm64-arm-64bit\n",
      "Tensor Flow Version: 2.12.0\n",
      "Keras Version: 2.12.0\n",
      "\n",
      "Python 3.10.10 | packaged by conda-forge | (main, Mar 24 2023, 20:12:31) [Clang 14.0.6 ]\n",
      "Pandas 2.0.0\n",
      "Scikit-Learn 1.2.2\n",
      "GPU is available\n"
     ]
    }
   ],
   "source": [
    "import sys\n",
    "import tensorflow.keras\n",
    "import pandas as pd\n",
    "import sklearn as sk\n",
    "import tensorflow as tf\n",
    "import platform\n",
    "\n",
    "print(f\"Python Platform: {platform.platform()}\")\n",
    "print(f\"Tensor Flow Version: {tf.__version__}\")\n",
    "print(f\"Keras Version: {tensorflow.keras.__version__}\")\n",
    "print()\n",
    "print(f\"Python {sys.version}\")\n",
    "print(f\"Pandas {pd.__version__}\")\n",
    "print(f\"Scikit-Learn {sk.__version__}\")\n",
    "gpu = len(tf.config.list_physical_devices('GPU'))>0\n",
    "print(\"GPU is\", \"available\" if gpu else \"NOT AVAILABLE\")"
   ]
  },
  {
   "cell_type": "code",
   "execution_count": 4,
   "id": "a0bbf7aa",
   "metadata": {},
   "outputs": [],
   "source": [
    "# IMPORTING STATEMENTS\n",
    "import pandas as pd\n",
    "import numpy as np\n",
    "import matplotlib.pyplot as plt\n",
    "\n",
    "import mutual_information_regression as mri\n",
    "import helper_functions_fs as hf\n",
    "\n",
    "np.random.seed(7)"
   ]
  },
  {
   "cell_type": "code",
   "execution_count": 5,
   "id": "2e93108d",
   "metadata": {},
   "outputs": [],
   "source": [
    "from sklearn.preprocessing import StandardScaler"
   ]
  },
  {
   "cell_type": "markdown",
   "id": "87fe6815",
   "metadata": {},
   "source": [
    "# Import the Data"
   ]
  },
  {
   "cell_type": "code",
   "execution_count": 6,
   "id": "f8c05e88",
   "metadata": {
    "scrolled": true
   },
   "outputs": [
    {
     "data": {
      "text/html": [
       "<div>\n",
       "<style scoped>\n",
       "    .dataframe tbody tr th:only-of-type {\n",
       "        vertical-align: middle;\n",
       "    }\n",
       "\n",
       "    .dataframe tbody tr th {\n",
       "        vertical-align: top;\n",
       "    }\n",
       "\n",
       "    .dataframe thead th {\n",
       "        text-align: right;\n",
       "    }\n",
       "</style>\n",
       "<table border=\"1\" class=\"dataframe\">\n",
       "  <thead>\n",
       "    <tr style=\"text-align: right;\">\n",
       "      <th></th>\n",
       "      <th>InterestRate</th>\n",
       "      <th>MinorityRatio</th>\n",
       "      <th>CensusTractMedFamIncome</th>\n",
       "      <th>MonthlyIncome</th>\n",
       "      <th>HUDMedIncome</th>\n",
       "      <th>LTV</th>\n",
       "      <th>PaymentCount</th>\n",
       "      <th>Age1</th>\n",
       "      <th>Age2</th>\n",
       "      <th>HousingExpense</th>\n",
       "      <th>...</th>\n",
       "      <th>State_31</th>\n",
       "      <th>State_39</th>\n",
       "      <th>State_42</th>\n",
       "      <th>State_48</th>\n",
       "      <th>State_55</th>\n",
       "      <th>State_infrequent_sklearn</th>\n",
       "      <th>Minority_Min</th>\n",
       "      <th>Minority_Missing</th>\n",
       "      <th>Minority_White</th>\n",
       "      <th>Borrower2Dummy</th>\n",
       "    </tr>\n",
       "  </thead>\n",
       "  <tbody>\n",
       "    <tr>\n",
       "      <th>170846</th>\n",
       "      <td>3.750</td>\n",
       "      <td>5.631</td>\n",
       "      <td>96500</td>\n",
       "      <td>4693</td>\n",
       "      <td>69400</td>\n",
       "      <td>72.0</td>\n",
       "      <td>360</td>\n",
       "      <td>65</td>\n",
       "      <td>61</td>\n",
       "      <td>21.76</td>\n",
       "      <td>...</td>\n",
       "      <td>0.0</td>\n",
       "      <td>0.0</td>\n",
       "      <td>0.0</td>\n",
       "      <td>0.0</td>\n",
       "      <td>1.0</td>\n",
       "      <td>0.0</td>\n",
       "      <td>0.0</td>\n",
       "      <td>0.0</td>\n",
       "      <td>1.0</td>\n",
       "      <td>1</td>\n",
       "    </tr>\n",
       "    <tr>\n",
       "      <th>154335</th>\n",
       "      <td>4.375</td>\n",
       "      <td>5.745</td>\n",
       "      <td>93258</td>\n",
       "      <td>3194</td>\n",
       "      <td>94200</td>\n",
       "      <td>79.0</td>\n",
       "      <td>360</td>\n",
       "      <td>34</td>\n",
       "      <td>0</td>\n",
       "      <td>30.74</td>\n",
       "      <td>...</td>\n",
       "      <td>0.0</td>\n",
       "      <td>0.0</td>\n",
       "      <td>0.0</td>\n",
       "      <td>0.0</td>\n",
       "      <td>1.0</td>\n",
       "      <td>0.0</td>\n",
       "      <td>0.0</td>\n",
       "      <td>0.0</td>\n",
       "      <td>1.0</td>\n",
       "      <td>0</td>\n",
       "    </tr>\n",
       "    <tr>\n",
       "      <th>145818</th>\n",
       "      <td>2.750</td>\n",
       "      <td>21.300</td>\n",
       "      <td>82260</td>\n",
       "      <td>6344</td>\n",
       "      <td>81700</td>\n",
       "      <td>99.0</td>\n",
       "      <td>360</td>\n",
       "      <td>32</td>\n",
       "      <td>56</td>\n",
       "      <td>27.87</td>\n",
       "      <td>...</td>\n",
       "      <td>0.0</td>\n",
       "      <td>0.0</td>\n",
       "      <td>0.0</td>\n",
       "      <td>0.0</td>\n",
       "      <td>0.0</td>\n",
       "      <td>0.0</td>\n",
       "      <td>0.0</td>\n",
       "      <td>0.0</td>\n",
       "      <td>1.0</td>\n",
       "      <td>1</td>\n",
       "    </tr>\n",
       "    <tr>\n",
       "      <th>94035</th>\n",
       "      <td>3.375</td>\n",
       "      <td>4.000</td>\n",
       "      <td>71172</td>\n",
       "      <td>9776</td>\n",
       "      <td>76700</td>\n",
       "      <td>80.0</td>\n",
       "      <td>360</td>\n",
       "      <td>25</td>\n",
       "      <td>25</td>\n",
       "      <td>9.00</td>\n",
       "      <td>...</td>\n",
       "      <td>0.0</td>\n",
       "      <td>1.0</td>\n",
       "      <td>0.0</td>\n",
       "      <td>0.0</td>\n",
       "      <td>0.0</td>\n",
       "      <td>0.0</td>\n",
       "      <td>0.0</td>\n",
       "      <td>0.0</td>\n",
       "      <td>1.0</td>\n",
       "      <td>1</td>\n",
       "    </tr>\n",
       "    <tr>\n",
       "      <th>175348</th>\n",
       "      <td>4.250</td>\n",
       "      <td>8.000</td>\n",
       "      <td>65755</td>\n",
       "      <td>3800</td>\n",
       "      <td>73100</td>\n",
       "      <td>80.0</td>\n",
       "      <td>360</td>\n",
       "      <td>30</td>\n",
       "      <td>0</td>\n",
       "      <td>12.00</td>\n",
       "      <td>...</td>\n",
       "      <td>0.0</td>\n",
       "      <td>1.0</td>\n",
       "      <td>0.0</td>\n",
       "      <td>0.0</td>\n",
       "      <td>0.0</td>\n",
       "      <td>0.0</td>\n",
       "      <td>0.0</td>\n",
       "      <td>0.0</td>\n",
       "      <td>1.0</td>\n",
       "      <td>0</td>\n",
       "    </tr>\n",
       "  </tbody>\n",
       "</table>\n",
       "<p>5 rows × 74 columns</p>\n",
       "</div>"
      ],
      "text/plain": [
       "        InterestRate  MinorityRatio  CensusTractMedFamIncome  MonthlyIncome   \n",
       "170846         3.750          5.631                    96500           4693  \\\n",
       "154335         4.375          5.745                    93258           3194   \n",
       "145818         2.750         21.300                    82260           6344   \n",
       "94035          3.375          4.000                    71172           9776   \n",
       "175348         4.250          8.000                    65755           3800   \n",
       "\n",
       "        HUDMedIncome   LTV  PaymentCount  Age1  Age2  HousingExpense  ...   \n",
       "170846         69400  72.0           360    65    61           21.76  ...  \\\n",
       "154335         94200  79.0           360    34     0           30.74  ...   \n",
       "145818         81700  99.0           360    32    56           27.87  ...   \n",
       "94035          76700  80.0           360    25    25            9.00  ...   \n",
       "175348         73100  80.0           360    30     0           12.00  ...   \n",
       "\n",
       "        State_31  State_39  State_42  State_48  State_55   \n",
       "170846       0.0       0.0       0.0       0.0       1.0  \\\n",
       "154335       0.0       0.0       0.0       0.0       1.0   \n",
       "145818       0.0       0.0       0.0       0.0       0.0   \n",
       "94035        0.0       1.0       0.0       0.0       0.0   \n",
       "175348       0.0       1.0       0.0       0.0       0.0   \n",
       "\n",
       "        State_infrequent_sklearn  Minority_Min  Minority_Missing   \n",
       "170846                       0.0           0.0               0.0  \\\n",
       "154335                       0.0           0.0               0.0   \n",
       "145818                       0.0           0.0               0.0   \n",
       "94035                        0.0           0.0               0.0   \n",
       "175348                       0.0           0.0               0.0   \n",
       "\n",
       "        Minority_White  Borrower2Dummy  \n",
       "170846             1.0               1  \n",
       "154335             1.0               0  \n",
       "145818             1.0               1  \n",
       "94035              1.0               1  \n",
       "175348             1.0               0  \n",
       "\n",
       "[5 rows x 74 columns]"
      ]
     },
     "execution_count": 6,
     "metadata": {},
     "output_type": "execute_result"
    }
   ],
   "source": [
    "# training data\n",
    "data = pd.read_csv('train.csv', index_col=0)\n",
    "data.head()"
   ]
  },
  {
   "cell_type": "code",
   "execution_count": 7,
   "id": "85e5bf83",
   "metadata": {},
   "outputs": [
    {
     "data": {
      "text/plain": [
       "(189079, 74)"
      ]
     },
     "execution_count": 7,
     "metadata": {},
     "output_type": "execute_result"
    }
   ],
   "source": [
    "data.shape"
   ]
  },
  {
   "cell_type": "code",
   "execution_count": 8,
   "id": "46fedf59",
   "metadata": {},
   "outputs": [],
   "source": [
    "# defining response variable and input features\n",
    "y = data.pop('InterestRate')\n",
    "X = data.copy()"
   ]
  },
  {
   "cell_type": "code",
   "execution_count": 9,
   "id": "963f5251",
   "metadata": {},
   "outputs": [
    {
     "data": {
      "text/html": [
       "<div>\n",
       "<style scoped>\n",
       "    .dataframe tbody tr th:only-of-type {\n",
       "        vertical-align: middle;\n",
       "    }\n",
       "\n",
       "    .dataframe tbody tr th {\n",
       "        vertical-align: top;\n",
       "    }\n",
       "\n",
       "    .dataframe thead th {\n",
       "        text-align: right;\n",
       "    }\n",
       "</style>\n",
       "<table border=\"1\" class=\"dataframe\">\n",
       "  <thead>\n",
       "    <tr style=\"text-align: right;\">\n",
       "      <th></th>\n",
       "      <th>InterestRate</th>\n",
       "      <th>MinorityRatio</th>\n",
       "      <th>CensusTractMedFamIncome</th>\n",
       "      <th>MonthlyIncome</th>\n",
       "      <th>HUDMedIncome</th>\n",
       "      <th>LTV</th>\n",
       "      <th>PaymentCount</th>\n",
       "      <th>Age1</th>\n",
       "      <th>Age2</th>\n",
       "      <th>HousingExpense</th>\n",
       "      <th>...</th>\n",
       "      <th>State_31</th>\n",
       "      <th>State_39</th>\n",
       "      <th>State_42</th>\n",
       "      <th>State_48</th>\n",
       "      <th>State_55</th>\n",
       "      <th>State_infrequent_sklearn</th>\n",
       "      <th>Minority_Min</th>\n",
       "      <th>Minority_Missing</th>\n",
       "      <th>Minority_White</th>\n",
       "      <th>Borrower2Dummy</th>\n",
       "    </tr>\n",
       "  </thead>\n",
       "  <tbody>\n",
       "    <tr>\n",
       "      <th>188315</th>\n",
       "      <td>4.000</td>\n",
       "      <td>47.950</td>\n",
       "      <td>80357</td>\n",
       "      <td>18334</td>\n",
       "      <td>95900</td>\n",
       "      <td>80.0</td>\n",
       "      <td>360</td>\n",
       "      <td>39</td>\n",
       "      <td>0</td>\n",
       "      <td>17.07</td>\n",
       "      <td>...</td>\n",
       "      <td>0.0</td>\n",
       "      <td>0.0</td>\n",
       "      <td>0.0</td>\n",
       "      <td>1.0</td>\n",
       "      <td>0.0</td>\n",
       "      <td>0.0</td>\n",
       "      <td>0.0</td>\n",
       "      <td>0.0</td>\n",
       "      <td>1.0</td>\n",
       "      <td>0</td>\n",
       "    </tr>\n",
       "    <tr>\n",
       "      <th>104813</th>\n",
       "      <td>3.250</td>\n",
       "      <td>6.489</td>\n",
       "      <td>112882</td>\n",
       "      <td>10065</td>\n",
       "      <td>86200</td>\n",
       "      <td>72.0</td>\n",
       "      <td>360</td>\n",
       "      <td>64</td>\n",
       "      <td>66</td>\n",
       "      <td>20.14</td>\n",
       "      <td>...</td>\n",
       "      <td>0.0</td>\n",
       "      <td>0.0</td>\n",
       "      <td>0.0</td>\n",
       "      <td>0.0</td>\n",
       "      <td>0.0</td>\n",
       "      <td>1.0</td>\n",
       "      <td>0.0</td>\n",
       "      <td>0.0</td>\n",
       "      <td>1.0</td>\n",
       "      <td>1</td>\n",
       "    </tr>\n",
       "    <tr>\n",
       "      <th>164647</th>\n",
       "      <td>3.475</td>\n",
       "      <td>9.661</td>\n",
       "      <td>118045</td>\n",
       "      <td>19272</td>\n",
       "      <td>82300</td>\n",
       "      <td>72.0</td>\n",
       "      <td>360</td>\n",
       "      <td>62</td>\n",
       "      <td>62</td>\n",
       "      <td>14.70</td>\n",
       "      <td>...</td>\n",
       "      <td>0.0</td>\n",
       "      <td>0.0</td>\n",
       "      <td>0.0</td>\n",
       "      <td>0.0</td>\n",
       "      <td>1.0</td>\n",
       "      <td>0.0</td>\n",
       "      <td>0.0</td>\n",
       "      <td>1.0</td>\n",
       "      <td>0.0</td>\n",
       "      <td>1</td>\n",
       "    </tr>\n",
       "    <tr>\n",
       "      <th>110948</th>\n",
       "      <td>3.125</td>\n",
       "      <td>5.172</td>\n",
       "      <td>100096</td>\n",
       "      <td>5171</td>\n",
       "      <td>89200</td>\n",
       "      <td>80.0</td>\n",
       "      <td>180</td>\n",
       "      <td>43</td>\n",
       "      <td>0</td>\n",
       "      <td>25.31</td>\n",
       "      <td>...</td>\n",
       "      <td>0.0</td>\n",
       "      <td>0.0</td>\n",
       "      <td>0.0</td>\n",
       "      <td>0.0</td>\n",
       "      <td>0.0</td>\n",
       "      <td>0.0</td>\n",
       "      <td>0.0</td>\n",
       "      <td>0.0</td>\n",
       "      <td>1.0</td>\n",
       "      <td>0</td>\n",
       "    </tr>\n",
       "    <tr>\n",
       "      <th>152548</th>\n",
       "      <td>4.750</td>\n",
       "      <td>4.396</td>\n",
       "      <td>91638</td>\n",
       "      <td>14262</td>\n",
       "      <td>79600</td>\n",
       "      <td>80.0</td>\n",
       "      <td>360</td>\n",
       "      <td>39</td>\n",
       "      <td>31</td>\n",
       "      <td>12.66</td>\n",
       "      <td>...</td>\n",
       "      <td>0.0</td>\n",
       "      <td>0.0</td>\n",
       "      <td>0.0</td>\n",
       "      <td>0.0</td>\n",
       "      <td>0.0</td>\n",
       "      <td>0.0</td>\n",
       "      <td>0.0</td>\n",
       "      <td>0.0</td>\n",
       "      <td>1.0</td>\n",
       "      <td>1</td>\n",
       "    </tr>\n",
       "  </tbody>\n",
       "</table>\n",
       "<p>5 rows × 74 columns</p>\n",
       "</div>"
      ],
      "text/plain": [
       "        InterestRate  MinorityRatio  CensusTractMedFamIncome  MonthlyIncome   \n",
       "188315         4.000         47.950                    80357          18334  \\\n",
       "104813         3.250          6.489                   112882          10065   \n",
       "164647         3.475          9.661                   118045          19272   \n",
       "110948         3.125          5.172                   100096           5171   \n",
       "152548         4.750          4.396                    91638          14262   \n",
       "\n",
       "        HUDMedIncome   LTV  PaymentCount  Age1  Age2  HousingExpense  ...   \n",
       "188315         95900  80.0           360    39     0           17.07  ...  \\\n",
       "104813         86200  72.0           360    64    66           20.14  ...   \n",
       "164647         82300  72.0           360    62    62           14.70  ...   \n",
       "110948         89200  80.0           180    43     0           25.31  ...   \n",
       "152548         79600  80.0           360    39    31           12.66  ...   \n",
       "\n",
       "        State_31  State_39  State_42  State_48  State_55   \n",
       "188315       0.0       0.0       0.0       1.0       0.0  \\\n",
       "104813       0.0       0.0       0.0       0.0       0.0   \n",
       "164647       0.0       0.0       0.0       0.0       1.0   \n",
       "110948       0.0       0.0       0.0       0.0       0.0   \n",
       "152548       0.0       0.0       0.0       0.0       0.0   \n",
       "\n",
       "        State_infrequent_sklearn  Minority_Min  Minority_Missing   \n",
       "188315                       0.0           0.0               0.0  \\\n",
       "104813                       1.0           0.0               0.0   \n",
       "164647                       0.0           0.0               1.0   \n",
       "110948                       0.0           0.0               0.0   \n",
       "152548                       0.0           0.0               0.0   \n",
       "\n",
       "        Minority_White  Borrower2Dummy  \n",
       "188315             1.0               0  \n",
       "104813             1.0               1  \n",
       "164647             0.0               1  \n",
       "110948             1.0               0  \n",
       "152548             1.0               1  \n",
       "\n",
       "[5 rows x 74 columns]"
      ]
     },
     "execution_count": 9,
     "metadata": {},
     "output_type": "execute_result"
    }
   ],
   "source": [
    "# test data\n",
    "data_test = pd.read_csv('test.csv', index_col=0)\n",
    "data_test.head()"
   ]
  },
  {
   "cell_type": "code",
   "execution_count": 10,
   "id": "e4cbe3e8",
   "metadata": {},
   "outputs": [],
   "source": [
    "y_test = data_test.pop('InterestRate')\n",
    "X_test = data_test.copy()"
   ]
  },
  {
   "cell_type": "markdown",
   "id": "e510301f",
   "metadata": {},
   "source": [
    "# Scaling"
   ]
  },
  {
   "cell_type": "code",
   "execution_count": 11,
   "id": "02078e00",
   "metadata": {},
   "outputs": [
    {
     "data": {
      "text/html": [
       "<div>\n",
       "<style scoped>\n",
       "    .dataframe tbody tr th:only-of-type {\n",
       "        vertical-align: middle;\n",
       "    }\n",
       "\n",
       "    .dataframe tbody tr th {\n",
       "        vertical-align: top;\n",
       "    }\n",
       "\n",
       "    .dataframe thead th {\n",
       "        text-align: right;\n",
       "    }\n",
       "</style>\n",
       "<table border=\"1\" class=\"dataframe\">\n",
       "  <thead>\n",
       "    <tr style=\"text-align: right;\">\n",
       "      <th></th>\n",
       "      <th>MinorityRatio</th>\n",
       "      <th>CensusTractMedFamIncome</th>\n",
       "      <th>MonthlyIncome</th>\n",
       "      <th>HUDMedIncome</th>\n",
       "      <th>LTV</th>\n",
       "      <th>PaymentCount</th>\n",
       "      <th>Age1</th>\n",
       "      <th>Age2</th>\n",
       "      <th>HousingExpense</th>\n",
       "      <th>DebtExpense</th>\n",
       "      <th>...</th>\n",
       "      <th>State_31</th>\n",
       "      <th>State_39</th>\n",
       "      <th>State_42</th>\n",
       "      <th>State_48</th>\n",
       "      <th>State_55</th>\n",
       "      <th>State_infrequent_sklearn</th>\n",
       "      <th>Minority_Min</th>\n",
       "      <th>Minority_Missing</th>\n",
       "      <th>Minority_White</th>\n",
       "      <th>Borrower2Dummy</th>\n",
       "    </tr>\n",
       "  </thead>\n",
       "  <tbody>\n",
       "    <tr>\n",
       "      <th>count</th>\n",
       "      <td>1.890790e+05</td>\n",
       "      <td>1.890790e+05</td>\n",
       "      <td>1.890790e+05</td>\n",
       "      <td>1.890790e+05</td>\n",
       "      <td>1.890790e+05</td>\n",
       "      <td>1.890790e+05</td>\n",
       "      <td>1.890790e+05</td>\n",
       "      <td>1.890790e+05</td>\n",
       "      <td>1.890790e+05</td>\n",
       "      <td>1.890790e+05</td>\n",
       "      <td>...</td>\n",
       "      <td>1.890790e+05</td>\n",
       "      <td>1.890790e+05</td>\n",
       "      <td>1.890790e+05</td>\n",
       "      <td>1.890790e+05</td>\n",
       "      <td>1.890790e+05</td>\n",
       "      <td>1.890790e+05</td>\n",
       "      <td>1.890790e+05</td>\n",
       "      <td>1.890790e+05</td>\n",
       "      <td>1.890790e+05</td>\n",
       "      <td>1.890790e+05</td>\n",
       "    </tr>\n",
       "    <tr>\n",
       "      <th>mean</th>\n",
       "      <td>-2.335544e-16</td>\n",
       "      <td>4.329118e-17</td>\n",
       "      <td>6.898592e-17</td>\n",
       "      <td>-1.819958e-16</td>\n",
       "      <td>6.964825e-16</td>\n",
       "      <td>2.689164e-16</td>\n",
       "      <td>-2.288664e-16</td>\n",
       "      <td>4.235170e-17</td>\n",
       "      <td>1.323913e-16</td>\n",
       "      <td>6.650381e-16</td>\n",
       "      <td>...</td>\n",
       "      <td>4.911594e-17</td>\n",
       "      <td>6.713514e-17</td>\n",
       "      <td>4.160011e-17</td>\n",
       "      <td>-5.148343e-17</td>\n",
       "      <td>2.324270e-17</td>\n",
       "      <td>3.370849e-17</td>\n",
       "      <td>-4.154375e-17</td>\n",
       "      <td>2.621145e-17</td>\n",
       "      <td>1.026286e-16</td>\n",
       "      <td>3.848105e-17</td>\n",
       "    </tr>\n",
       "    <tr>\n",
       "      <th>std</th>\n",
       "      <td>1.000003e+00</td>\n",
       "      <td>1.000003e+00</td>\n",
       "      <td>1.000003e+00</td>\n",
       "      <td>1.000003e+00</td>\n",
       "      <td>1.000003e+00</td>\n",
       "      <td>1.000003e+00</td>\n",
       "      <td>1.000003e+00</td>\n",
       "      <td>1.000003e+00</td>\n",
       "      <td>1.000003e+00</td>\n",
       "      <td>1.000003e+00</td>\n",
       "      <td>...</td>\n",
       "      <td>1.000003e+00</td>\n",
       "      <td>1.000003e+00</td>\n",
       "      <td>1.000003e+00</td>\n",
       "      <td>1.000003e+00</td>\n",
       "      <td>1.000003e+00</td>\n",
       "      <td>1.000003e+00</td>\n",
       "      <td>1.000003e+00</td>\n",
       "      <td>1.000003e+00</td>\n",
       "      <td>1.000003e+00</td>\n",
       "      <td>1.000003e+00</td>\n",
       "    </tr>\n",
       "    <tr>\n",
       "      <th>min</th>\n",
       "      <td>-9.829129e-01</td>\n",
       "      <td>-2.968603e+00</td>\n",
       "      <td>-1.541693e+00</td>\n",
       "      <td>-3.136269e+00</td>\n",
       "      <td>-8.617748e-01</td>\n",
       "      <td>-3.667909e+00</td>\n",
       "      <td>-2.003581e+00</td>\n",
       "      <td>-1.101219e+00</td>\n",
       "      <td>-2.410365e+00</td>\n",
       "      <td>-3.148844e+00</td>\n",
       "      <td>...</td>\n",
       "      <td>-2.210030e-01</td>\n",
       "      <td>-3.043770e-01</td>\n",
       "      <td>-2.002391e-01</td>\n",
       "      <td>-1.994807e-01</td>\n",
       "      <td>-3.706281e-01</td>\n",
       "      <td>-5.073212e-01</td>\n",
       "      <td>-2.293908e-01</td>\n",
       "      <td>-2.695680e-01</td>\n",
       "      <td>-2.737468e+00</td>\n",
       "      <td>-1.210046e+00</td>\n",
       "    </tr>\n",
       "    <tr>\n",
       "      <th>25%</th>\n",
       "      <td>-6.899229e-01</td>\n",
       "      <td>-6.907823e-01</td>\n",
       "      <td>-6.998868e-01</td>\n",
       "      <td>-6.839963e-01</td>\n",
       "      <td>-8.617748e-01</td>\n",
       "      <td>-2.778056e-01</td>\n",
       "      <td>-8.066413e-01</td>\n",
       "      <td>-1.101219e+00</td>\n",
       "      <td>-7.202951e-01</td>\n",
       "      <td>-7.560665e-01</td>\n",
       "      <td>...</td>\n",
       "      <td>-2.210030e-01</td>\n",
       "      <td>-3.043770e-01</td>\n",
       "      <td>-2.002391e-01</td>\n",
       "      <td>-1.994807e-01</td>\n",
       "      <td>-3.706281e-01</td>\n",
       "      <td>-5.073212e-01</td>\n",
       "      <td>-2.293908e-01</td>\n",
       "      <td>-2.695680e-01</td>\n",
       "      <td>3.653010e-01</td>\n",
       "      <td>-1.210046e+00</td>\n",
       "    </tr>\n",
       "    <tr>\n",
       "      <th>50%</th>\n",
       "      <td>-3.806037e-01</td>\n",
       "      <td>-2.074440e-01</td>\n",
       "      <td>-2.267679e-01</td>\n",
       "      <td>-6.296614e-02</td>\n",
       "      <td>-9.168695e-02</td>\n",
       "      <td>5.697203e-01</td>\n",
       "      <td>-1.333627e-01</td>\n",
       "      <td>1.920703e-01</td>\n",
       "      <td>-1.531912e-01</td>\n",
       "      <td>8.581993e-03</td>\n",
       "      <td>...</td>\n",
       "      <td>-2.210030e-01</td>\n",
       "      <td>-3.043770e-01</td>\n",
       "      <td>-2.002391e-01</td>\n",
       "      <td>-1.994807e-01</td>\n",
       "      <td>-3.706281e-01</td>\n",
       "      <td>-5.073212e-01</td>\n",
       "      <td>-2.293908e-01</td>\n",
       "      <td>-2.695680e-01</td>\n",
       "      <td>3.653010e-01</td>\n",
       "      <td>8.264146e-01</td>\n",
       "    </tr>\n",
       "    <tr>\n",
       "      <th>75%</th>\n",
       "      <td>2.836096e-01</td>\n",
       "      <td>5.193869e-01</td>\n",
       "      <td>4.021168e-01</td>\n",
       "      <td>5.102925e-01</td>\n",
       "      <td>1.650090e-01</td>\n",
       "      <td>5.697203e-01</td>\n",
       "      <td>6.895334e-01</td>\n",
       "      <td>7.761363e-01</td>\n",
       "      <td>5.862923e-01</td>\n",
       "      <td>7.836339e-01</td>\n",
       "      <td>...</td>\n",
       "      <td>-2.210030e-01</td>\n",
       "      <td>-3.043770e-01</td>\n",
       "      <td>-2.002391e-01</td>\n",
       "      <td>-1.994807e-01</td>\n",
       "      <td>-3.706281e-01</td>\n",
       "      <td>-5.073212e-01</td>\n",
       "      <td>-2.293908e-01</td>\n",
       "      <td>-2.695680e-01</td>\n",
       "      <td>3.653010e-01</td>\n",
       "      <td>8.264146e-01</td>\n",
       "    </tr>\n",
       "    <tr>\n",
       "      <th>max</th>\n",
       "      <td>3.195775e+00</td>\n",
       "      <td>4.143399e+00</td>\n",
       "      <td>3.701777e+00</td>\n",
       "      <td>3.949844e+00</td>\n",
       "      <td>5.170580e+00</td>\n",
       "      <td>5.697203e-01</td>\n",
       "      <td>3.981118e+00</td>\n",
       "      <td>2.862086e+00</td>\n",
       "      <td>4.372398e+00</td>\n",
       "      <td>5.361121e+00</td>\n",
       "      <td>...</td>\n",
       "      <td>4.524826e+00</td>\n",
       "      <td>3.285399e+00</td>\n",
       "      <td>4.994029e+00</td>\n",
       "      <td>5.013015e+00</td>\n",
       "      <td>2.698123e+00</td>\n",
       "      <td>1.971138e+00</td>\n",
       "      <td>4.359372e+00</td>\n",
       "      <td>3.709638e+00</td>\n",
       "      <td>3.653010e-01</td>\n",
       "      <td>8.264146e-01</td>\n",
       "    </tr>\n",
       "  </tbody>\n",
       "</table>\n",
       "<p>8 rows × 73 columns</p>\n",
       "</div>"
      ],
      "text/plain": [
       "       MinorityRatio  CensusTractMedFamIncome  MonthlyIncome  HUDMedIncome   \n",
       "count   1.890790e+05             1.890790e+05   1.890790e+05  1.890790e+05  \\\n",
       "mean   -2.335544e-16             4.329118e-17   6.898592e-17 -1.819958e-16   \n",
       "std     1.000003e+00             1.000003e+00   1.000003e+00  1.000003e+00   \n",
       "min    -9.829129e-01            -2.968603e+00  -1.541693e+00 -3.136269e+00   \n",
       "25%    -6.899229e-01            -6.907823e-01  -6.998868e-01 -6.839963e-01   \n",
       "50%    -3.806037e-01            -2.074440e-01  -2.267679e-01 -6.296614e-02   \n",
       "75%     2.836096e-01             5.193869e-01   4.021168e-01  5.102925e-01   \n",
       "max     3.195775e+00             4.143399e+00   3.701777e+00  3.949844e+00   \n",
       "\n",
       "                LTV  PaymentCount          Age1          Age2  HousingExpense   \n",
       "count  1.890790e+05  1.890790e+05  1.890790e+05  1.890790e+05    1.890790e+05  \\\n",
       "mean   6.964825e-16  2.689164e-16 -2.288664e-16  4.235170e-17    1.323913e-16   \n",
       "std    1.000003e+00  1.000003e+00  1.000003e+00  1.000003e+00    1.000003e+00   \n",
       "min   -8.617748e-01 -3.667909e+00 -2.003581e+00 -1.101219e+00   -2.410365e+00   \n",
       "25%   -8.617748e-01 -2.778056e-01 -8.066413e-01 -1.101219e+00   -7.202951e-01   \n",
       "50%   -9.168695e-02  5.697203e-01 -1.333627e-01  1.920703e-01   -1.531912e-01   \n",
       "75%    1.650090e-01  5.697203e-01  6.895334e-01  7.761363e-01    5.862923e-01   \n",
       "max    5.170580e+00  5.697203e-01  3.981118e+00  2.862086e+00    4.372398e+00   \n",
       "\n",
       "        DebtExpense  ...      State_31      State_39      State_42   \n",
       "count  1.890790e+05  ...  1.890790e+05  1.890790e+05  1.890790e+05  \\\n",
       "mean   6.650381e-16  ...  4.911594e-17  6.713514e-17  4.160011e-17   \n",
       "std    1.000003e+00  ...  1.000003e+00  1.000003e+00  1.000003e+00   \n",
       "min   -3.148844e+00  ... -2.210030e-01 -3.043770e-01 -2.002391e-01   \n",
       "25%   -7.560665e-01  ... -2.210030e-01 -3.043770e-01 -2.002391e-01   \n",
       "50%    8.581993e-03  ... -2.210030e-01 -3.043770e-01 -2.002391e-01   \n",
       "75%    7.836339e-01  ... -2.210030e-01 -3.043770e-01 -2.002391e-01   \n",
       "max    5.361121e+00  ...  4.524826e+00  3.285399e+00  4.994029e+00   \n",
       "\n",
       "           State_48      State_55  State_infrequent_sklearn  Minority_Min   \n",
       "count  1.890790e+05  1.890790e+05              1.890790e+05  1.890790e+05  \\\n",
       "mean  -5.148343e-17  2.324270e-17              3.370849e-17 -4.154375e-17   \n",
       "std    1.000003e+00  1.000003e+00              1.000003e+00  1.000003e+00   \n",
       "min   -1.994807e-01 -3.706281e-01             -5.073212e-01 -2.293908e-01   \n",
       "25%   -1.994807e-01 -3.706281e-01             -5.073212e-01 -2.293908e-01   \n",
       "50%   -1.994807e-01 -3.706281e-01             -5.073212e-01 -2.293908e-01   \n",
       "75%   -1.994807e-01 -3.706281e-01             -5.073212e-01 -2.293908e-01   \n",
       "max    5.013015e+00  2.698123e+00              1.971138e+00  4.359372e+00   \n",
       "\n",
       "       Minority_Missing  Minority_White  Borrower2Dummy  \n",
       "count      1.890790e+05    1.890790e+05    1.890790e+05  \n",
       "mean       2.621145e-17    1.026286e-16    3.848105e-17  \n",
       "std        1.000003e+00    1.000003e+00    1.000003e+00  \n",
       "min       -2.695680e-01   -2.737468e+00   -1.210046e+00  \n",
       "25%       -2.695680e-01    3.653010e-01   -1.210046e+00  \n",
       "50%       -2.695680e-01    3.653010e-01    8.264146e-01  \n",
       "75%       -2.695680e-01    3.653010e-01    8.264146e-01  \n",
       "max        3.709638e+00    3.653010e-01    8.264146e-01  \n",
       "\n",
       "[8 rows x 73 columns]"
      ]
     },
     "execution_count": 11,
     "metadata": {},
     "output_type": "execute_result"
    }
   ],
   "source": [
    "# input variables\n",
    "ss = StandardScaler()\n",
    "X_train = ss.fit_transform(X)\n",
    "X_test = ss.transform(X_test)\n",
    "X = pd.DataFrame(X_train, columns=data.columns)\n",
    "X_test = pd.DataFrame(X_test, columns=data.columns)\n",
    "X.describe()"
   ]
  },
  {
   "cell_type": "code",
   "execution_count": 12,
   "id": "3df57709",
   "metadata": {},
   "outputs": [
    {
     "data": {
      "text/plain": [
       "count    1.890790e+05\n",
       "mean    -1.981173e-16\n",
       "std      1.000003e+00\n",
       "min     -2.684678e+00\n",
       "25%     -7.623710e-01\n",
       "50%     -1.856790e-01\n",
       "75%      5.832437e-01\n",
       "max      4.427857e+00\n",
       "dtype: float64"
      ]
     },
     "execution_count": 12,
     "metadata": {},
     "output_type": "execute_result"
    }
   ],
   "source": [
    "# dependent variables\n",
    "ss_y = StandardScaler()\n",
    "y = ss_y.fit_transform(np.array(y).reshape(-1, 1))\n",
    "y_test = ss_y.transform(np.array(y_test).reshape(-1, 1))\n",
    "pd.Series(y.flatten()).describe()"
   ]
  },
  {
   "cell_type": "markdown",
   "id": "8967ee6d",
   "metadata": {},
   "source": [
    "# TODO:  PREPARATION FOR VARIABLE SELECTION APPLICATIONS \n",
    "\n",
    "Below is a list of variables we are choosing to keep for the purposes of re-running our models on the selected variables:\n",
    "- MinorityRatio\n",
    "- HUDMedIncome \n",
    "- PaymentCount\n",
    "- NoteDate\n",
    "- FirstTime\n",
    "- SelfEmployed\n",
    "- LoanPurpose_1\n",
    "\n",
    "(see notebook *2_feature_selection.ipynb*)"
   ]
  },
  {
   "cell_type": "code",
   "execution_count": 13,
   "id": "5faaa5b3",
   "metadata": {},
   "outputs": [],
   "source": [
    "X_vs = X[['HUDMedIncome', 'PaymentCount', 'NoteDate', 'FirstTime', 'SelfEmployed', 'LoanPurpose_1']]\n",
    "X_test_vs = X_test[['HUDMedIncome', 'PaymentCount', 'NoteDate', 'FirstTime', 'SelfEmployed', 'LoanPurpose_1']]"
   ]
  },
  {
   "cell_type": "markdown",
   "id": "d588821a",
   "metadata": {},
   "source": [
    "# TODO: Scoring Methods\n",
    "\n",
    "We define a helper function to save the scores for each model and make a final comparison.\n",
    "\n",
    "The metrics we will analyse are: \n",
    "- MSE: Mean Squared Error\n",
    "- MAE: Mean Absolute Error\n",
    "- MR: Mean Residual\n",
    "- **R2 ???????**\n",
    "- **FAIRNESS QUALCOSA!!! TODO!!**\n",
    "\n",
    "# PRENDERE DA ONE NOTE !!!!"
   ]
  },
  {
   "cell_type": "code",
   "execution_count": 44,
   "id": "3ff86bd4",
   "metadata": {},
   "outputs": [],
   "source": [
    "from sklearn.metrics import mean_squared_error, r2_score, mean_absolute_error\n",
    "\n",
    "\n",
    "def mean_residual(y_true, prediction):\n",
    "    '''Compute the mean residual metric'''\n",
    "    residuals = (y_true - prediction)\n",
    "    MR = residuals.mean()\n",
    "    return MR\n",
    "\n",
    "\n",
    "def compute_scores(x, y_true, modelname):\n",
    "    '''Compute the following metrics for the given model: MSE, MAE, MR, r2'''\n",
    "    prediction = modelname.predict(x)\n",
    "    y_true = y_true.reshape(prediction.shape)\n",
    "\n",
    "    MSE = mean_squared_error(y_true, prediction)\n",
    "    print(f\"The mean squared error of the model is {MSE:.4f}\")\n",
    "    MAE = mean_absolute_error(y_true, prediction)\n",
    "    print(f\"The mean absolute error of the model is {MAE:.4f}\")\n",
    "    MR = mean_residual(y_true, prediction)\n",
    "    print(f\"The mean residual of the model is {MR:.4f}\")\n",
    "    R2 = r2_score(y_true, prediction)\n",
    "    adj_R2 = 1- ((1-R2) * (X.shape[0]-1)/(X.shape[0]-X.shape[1]-1))\n",
    "    print(f\"The adjusted R-squared of the model is {adj_R2:.4f}\")\n",
    "    return [MSE, MAE, MR, adj_R2]\n",
    "\n",
    "\n",
    "def save_scores(model, scores):\n",
    "    '''Store scores for the given model into a dedicated dataframe for a final comparison across models'''\n",
    "    MSE, MAE, MR, r2 = scores\n",
    "    pd.Series(scores).to_csv('scores/'+model)\n",
    "    model_names.append(model)\n",
    "    MSEs.append(MSE)\n",
    "    MAEs.append(MAE)\n",
    "    MRs.append(MR)\n",
    "    r2s.append(r2)\n",
    "    \n",
    "\n",
    "def display_scores():\n",
    "    scores_df = pd.DataFrame([model_names, MSEs, MAEs, MRs, r2s], \n",
    "                 index=['method', 'MSE', 'MAE', 'MR', 'adj R-squared']).T\n",
    "    return scores_df"
   ]
  },
  {
   "cell_type": "code",
   "execution_count": 45,
   "id": "ef97edec",
   "metadata": {},
   "outputs": [],
   "source": [
    "model_names, MSEs, MAEs, MRs, r2s = [],[],[],[],[]"
   ]
  },
  {
   "cell_type": "code",
   "execution_count": 46,
   "id": "ad742209",
   "metadata": {},
   "outputs": [
    {
     "data": {
      "text/plain": [
       "array([ 0.58324369,  1.54439705, -0.95460169, ..., -1.33906304,\n",
       "        0.00655167, -1.53129371])"
      ]
     },
     "execution_count": 46,
     "metadata": {},
     "output_type": "execute_result"
    }
   ],
   "source": [
    "y.flatten()"
   ]
  },
  {
   "cell_type": "markdown",
   "id": "42c2808f",
   "metadata": {},
   "source": [
    "# MODELS\n",
    "\n",
    "# 1. Linear Regression"
   ]
  },
  {
   "cell_type": "code",
   "execution_count": 47,
   "id": "c95e1fad",
   "metadata": {},
   "outputs": [],
   "source": [
    "import statsmodels.api as sm"
   ]
  },
  {
   "cell_type": "code",
   "execution_count": 48,
   "id": "6bd7c4dc",
   "metadata": {},
   "outputs": [],
   "source": [
    "#add constant to predictor variables\n",
    "x = sm.add_constant(X)\n",
    "#fit linear regression model\n",
    "lr = sm.OLS(y, x).fit()"
   ]
  },
  {
   "cell_type": "code",
   "execution_count": 49,
   "id": "ffa76a42",
   "metadata": {},
   "outputs": [
    {
     "name": "stdout",
     "output_type": "stream",
     "text": [
      "                            OLS Regression Results                            \n",
      "==============================================================================\n",
      "Dep. Variable:                      y   R-squared:                       0.705\n",
      "Model:                            OLS   Adj. R-squared:                  0.705\n",
      "Method:                 Least Squares   F-statistic:                     7660.\n",
      "Date:                Wed, 26 Jul 2023   Prob (F-statistic):               0.00\n",
      "Time:                        17:45:45   Log-Likelihood:            -1.5285e+05\n",
      "No. Observations:              189079   AIC:                         3.058e+05\n",
      "Df Residuals:                  189019   BIC:                         3.064e+05\n",
      "Df Model:                          59                                         \n",
      "Covariance Type:            nonrobust                                         \n",
      "===================================================================================================\n",
      "                                      coef    std err          t      P>|t|      [0.025      0.975]\n",
      "---------------------------------------------------------------------------------------------------\n",
      "const                               0.0004      0.001      0.285      0.775      -0.002       0.003\n",
      "MinorityRatio                       0.0314      0.002     14.080      0.000       0.027       0.036\n",
      "CensusTractMedFamIncome             0.0102      0.002      5.448      0.000       0.007       0.014\n",
      "MonthlyIncome                       0.0394      0.003     15.544      0.000       0.034       0.044\n",
      "HUDMedIncome                       -0.0020      0.002     -1.087      0.277      -0.006       0.002\n",
      "LTV                                 0.0490      0.003     14.119      0.000       0.042       0.056\n",
      "PaymentCount                        0.2953      0.001    197.251      0.000       0.292       0.298\n",
      "Age1                                0.0282      0.002     15.282      0.000       0.025       0.032\n",
      "Age2                               -0.0193      0.004     -4.598      0.000      -0.027      -0.011\n",
      "HousingExpense                      0.0449      0.002     20.039      0.000       0.041       0.049\n",
      "DebtExpense                         0.0299      0.002     17.686      0.000       0.027       0.033\n",
      "PMI                                -0.0427      0.003    -15.779      0.000      -0.048      -0.037\n",
      "CreditScore1                       -0.0823      0.001    -55.906      0.000      -0.085      -0.079\n",
      "CreditScore2                       -0.0977      0.006    -17.688      0.000      -0.109      -0.087\n",
      "NoteDate                           -0.5767      0.001   -418.117      0.000      -0.579      -0.574\n",
      "NoteAmount                         -0.0555      0.003    -21.290      0.000      -0.061      -0.050\n",
      "BorrowerCount                      -0.0170      0.021     -0.818      0.414      -0.058       0.024\n",
      "FirstTime                           0.1409      0.001     94.637      0.000       0.138       0.144\n",
      "SelfEmployed                        0.1456      0.001    105.049      0.000       0.143       0.148\n",
      "Bank_Boston                       3.42e+10   2.14e+10      1.594      0.111   -7.84e+09    7.62e+10\n",
      "Bank_Chicago                     8.718e+10   5.47e+10      1.594      0.111      -2e+10    1.94e+11\n",
      "Bank_Cincinnati                  6.692e+10    4.2e+10      1.594      0.111   -1.53e+10    1.49e+11\n",
      "Bank_Dallas                      5.077e+10   3.18e+10      1.594      0.111   -1.16e+10    1.13e+11\n",
      "Bank_Des Moines                  7.145e+10   4.48e+10      1.594      0.111   -1.64e+10    1.59e+11\n",
      "Bank_Indianapolis                6.144e+10   3.85e+10      1.594      0.111   -1.41e+10    1.37e+11\n",
      "Bank_Pittsburgh                  4.851e+10   3.04e+10      1.594      0.111   -1.11e+10    1.08e+11\n",
      "Bank_Topeka                      7.525e+10   4.72e+10      1.594      0.111   -1.72e+10    1.68e+11\n",
      "Bank_infrequent_sklearn          3.694e+10   2.32e+10      1.594      0.111   -8.47e+09    8.23e+10\n",
      "LoanPurpose_1                   -3.355e+10   7.04e+10     -0.476      0.634   -1.72e+11    1.04e+11\n",
      "LoanPurpose_2                   -3.294e+10   6.91e+10     -0.476      0.634   -1.68e+11    1.03e+11\n",
      "LoanPurpose_6                   -3.354e+10   7.04e+10     -0.476      0.634   -1.72e+11    1.04e+11\n",
      "MortgageType_0                   1.636e+10   1.05e+11      0.155      0.877    -1.9e+11    2.23e+11\n",
      "MortgageType_infrequent_sklearn  1.636e+10   1.05e+11      0.155      0.877    -1.9e+11    2.23e+11\n",
      "Gender1_1                        1.595e+11    1.4e+11      1.136      0.256   -1.16e+11    4.35e+11\n",
      "Gender1_2                        1.534e+11   1.35e+11      1.136      0.256   -1.11e+11    4.18e+11\n",
      "Gender1_3                         6.61e+10   5.82e+10      1.136      0.256    -4.8e+10     1.8e+11\n",
      "Gender2_1                       -4.319e+09   9.65e+09     -0.448      0.655   -2.32e+10    1.46e+10\n",
      "Gender2_2                        -6.72e+09    1.5e+10     -0.448      0.655   -3.62e+10    2.27e+10\n",
      "Gender2_3                       -2.107e+09   4.71e+09     -0.448      0.655   -1.13e+10    7.12e+09\n",
      "Gender2_4                       -6.624e+09   1.48e+10     -0.448      0.655   -3.56e+10    2.24e+10\n",
      "PropertyType_1                   1.002e+11   2.31e+11      0.433      0.665   -3.53e+11    5.54e+11\n",
      "PropertyType_6                   4.951e+10   1.14e+11      0.433      0.665   -1.75e+11    2.74e+11\n",
      "PropertyType_7                   8.754e+10   2.02e+11      0.433      0.665   -3.09e+11    4.84e+11\n",
      "PropertyType_infrequent_sklearn  3.123e+10   7.21e+10      0.433      0.665    -1.1e+11    1.73e+11\n",
      "Race1_2                          5.613e+10    1.5e+11      0.375      0.708   -2.38e+11     3.5e+11\n",
      "Race1_5                          4.795e+10   1.49e+11      0.322      0.748   -2.44e+11     3.4e+11\n",
      "Race1_6                          3.119e+10   5.32e+10      0.586      0.558   -7.31e+10    1.35e+11\n",
      "Race1_infrequent_sklearn         5.547e+10   1.48e+11      0.375      0.708   -2.35e+11    3.46e+11\n",
      "Minority2_Min                    9.826e+09   2.42e+10      0.407      0.684   -3.75e+10    5.72e+10\n",
      "Minority2_Missing                3.322e+10   8.17e+10      0.407      0.684   -1.27e+11    1.93e+11\n",
      "Minority2_White                  3.212e+10   5.99e+10      0.537      0.592   -8.52e+10    1.49e+11\n",
      "Race2_5                          3.455e+10   6.07e+10      0.569      0.570   -8.45e+10    1.54e+11\n",
      "Race2_6                          1.344e+10   2.26e+10      0.595      0.552   -3.08e+10    5.77e+10\n",
      "Race2_8                          3.277e+10   5.51e+10      0.595      0.552   -7.52e+10    1.41e+11\n",
      "Race2_infrequent_sklearn         9.826e+09   1.65e+10      0.595      0.552   -2.25e+10    4.22e+10\n",
      "State_6                          9.933e+09   2.44e+10      0.406      0.684    -3.8e+10    5.78e+10\n",
      "State_8                          9.731e+09   2.39e+10      0.406      0.684   -3.72e+10    5.67e+10\n",
      "State_17                         1.781e+10   4.38e+10      0.406      0.684   -6.81e+10    1.04e+11\n",
      "State_18                          1.62e+10   3.99e+10      0.406      0.684   -6.19e+10    9.43e+10\n",
      "State_19                         1.418e+10   3.49e+10      0.406      0.684   -5.42e+10    8.25e+10\n",
      "State_20                         1.439e+10   3.54e+10      0.406      0.684    -5.5e+10    8.38e+10\n",
      "State_26                         1.092e+10   2.69e+10      0.406      0.684   -4.17e+10    6.36e+10\n",
      "State_27                         1.054e+10   2.59e+10      0.406      0.684   -4.03e+10    6.14e+10\n",
      "State_29                         1.218e+10      3e+10      0.406      0.684   -4.66e+10    7.09e+10\n",
      "State_31                         1.258e+10    3.1e+10      0.406      0.684   -4.81e+10    7.33e+10\n",
      "State_39                         1.664e+10   4.09e+10      0.406      0.684   -6.36e+10    9.69e+10\n",
      "State_42                          1.15e+10   2.83e+10      0.406      0.684    -4.4e+10     6.7e+10\n",
      "State_48                         1.146e+10   2.82e+10      0.406      0.684   -4.38e+10    6.67e+10\n",
      "State_55                         1.946e+10   4.79e+10      0.406      0.684   -7.44e+10    1.13e+11\n",
      "State_infrequent_sklearn          2.41e+10   5.93e+10      0.406      0.684   -9.21e+10     1.4e+11\n",
      "Minority_Min                    -2.318e+10   1.95e+11     -0.119      0.905   -4.05e+11    3.58e+11\n",
      "Minority_Missing                 3.191e+10   5.27e+10      0.605      0.545   -7.15e+10    1.35e+11\n",
      "Minority_White                   3.297e+10   8.44e+10      0.391      0.696   -1.32e+11    1.98e+11\n",
      "Borrower2Dummy                     -0.1294      0.018     -7.011      0.000      -0.166      -0.093\n",
      "==============================================================================\n",
      "Omnibus:                     2805.484   Durbin-Watson:                   2.000\n",
      "Prob(Omnibus):                  0.000   Jarque-Bera (JB):             4293.905\n",
      "Skew:                           0.160   Prob(JB):                         0.00\n",
      "Kurtosis:                       3.665   Cond. No.                     2.25e+15\n",
      "==============================================================================\n",
      "\n",
      "Notes:\n",
      "[1] Standard Errors assume that the covariance matrix of the errors is correctly specified.\n",
      "[2] The smallest eigenvalue is 3.65e-25. This might indicate that there are\n",
      "strong multicollinearity problems or that the design matrix is singular.\n"
     ]
    }
   ],
   "source": [
    "#view model summary\n",
    "print(lr.summary())"
   ]
  },
  {
   "cell_type": "code",
   "execution_count": 50,
   "id": "04621d2f",
   "metadata": {},
   "outputs": [
    {
     "name": "stdout",
     "output_type": "stream",
     "text": [
      "The mean squared error of the model is 0.2967\n",
      "The mean absolute error of the model is 0.4255\n",
      "(47270,) (47270,)\n",
      "The mean residual of the model is 0.0002\n",
      "The adjusted R-squared of the model is 0.7078\n"
     ]
    }
   ],
   "source": [
    "X_TEST = sm.add_constant(X_test)\n",
    "scores = compute_scores(X_TEST, y_test, lr)\n",
    "save_scores('LinearRegression', scores)"
   ]
  },
  {
   "cell_type": "code",
   "execution_count": null,
   "id": "e5759a99",
   "metadata": {},
   "outputs": [],
   "source": []
  },
  {
   "cell_type": "code",
   "execution_count": null,
   "id": "6eb81727",
   "metadata": {},
   "outputs": [],
   "source": []
  },
  {
   "cell_type": "markdown",
   "id": "100db175",
   "metadata": {},
   "source": [
    "### Linear Regression with selected features"
   ]
  },
  {
   "cell_type": "code",
   "execution_count": 51,
   "id": "9f37da5d",
   "metadata": {},
   "outputs": [],
   "source": [
    "lr_vs = linear_model.LinearRegression().fit(X_vs, y)"
   ]
  },
  {
   "cell_type": "code",
   "execution_count": 52,
   "id": "36871223",
   "metadata": {
    "scrolled": true
   },
   "outputs": [
    {
     "name": "stdout",
     "output_type": "stream",
     "text": [
      "The mean squared error of the model is 0.3287\n",
      "The mean absolute error of the model is 0.4457\n",
      "(47270, 1) (47270, 1)\n",
      "The mean residual of the model is 0.0005\n",
      "The adjusted R-squared of the model is 0.6763\n"
     ]
    }
   ],
   "source": [
    "scores = compute_scores(X_test_vs, y_test, lr_vs)\n",
    "save_scores('LinearRegression_VS', scores)"
   ]
  },
  {
   "cell_type": "markdown",
   "id": "cbc1f6d5",
   "metadata": {},
   "source": [
    "# 2. RANSAC\n",
    "\n",
    "https://scikit-learn.org/stable/auto_examples/linear_model/plot_ransac.html#sphx-glr-auto-examples-linear-model-plot-ransac-py"
   ]
  },
  {
   "cell_type": "code",
   "execution_count": 53,
   "id": "ffaebef6",
   "metadata": {},
   "outputs": [],
   "source": [
    "from sklearn import linear_model"
   ]
  },
  {
   "cell_type": "code",
   "execution_count": 54,
   "id": "9f09f2a9",
   "metadata": {},
   "outputs": [],
   "source": [
    "# Robustly fit linear model with RANSAC algorithm to avoid outlier interference\n",
    "ransac = linear_model.RANSACRegressor().fit(X, y)"
   ]
  },
  {
   "cell_type": "code",
   "execution_count": 55,
   "id": "929f511f",
   "metadata": {},
   "outputs": [
    {
     "name": "stdout",
     "output_type": "stream",
     "text": [
      "The mean squared error of the model is 78524736458860731039744.0000\n",
      "The mean absolute error of the model is 48409607505.2395\n",
      "(47270, 1) (47270, 1)\n",
      "The mean residual of the model is -46786291401.9595\n",
      "The adjusted R-squared of the model is -77320855167889162895360.0000\n"
     ]
    }
   ],
   "source": [
    "scores = compute_scores(X_test, y_test, ransac)\n",
    "save_scores('RANSAC', scores)"
   ]
  },
  {
   "cell_type": "markdown",
   "id": "ccf903b4",
   "metadata": {},
   "source": [
    "### RANSAC with selected features"
   ]
  },
  {
   "cell_type": "code",
   "execution_count": 56,
   "id": "3eb157cc",
   "metadata": {},
   "outputs": [],
   "source": [
    "ransac_vs = linear_model.RANSACRegressor().fit(X_vs, y)"
   ]
  },
  {
   "cell_type": "code",
   "execution_count": 57,
   "id": "761f1975",
   "metadata": {},
   "outputs": [
    {
     "name": "stdout",
     "output_type": "stream",
     "text": [
      "The mean squared error of the model is 0.3493\n",
      "The mean absolute error of the model is 0.4567\n",
      "(47270, 1) (47270, 1)\n",
      "The mean residual of the model is 0.0323\n",
      "The adjusted R-squared of the model is 0.6560\n"
     ]
    }
   ],
   "source": [
    "scores = compute_scores(X_test_vs, y_test, ransac_vs)\n",
    "save_scores('RANSAC_VS', scores)"
   ]
  },
  {
   "cell_type": "code",
   "execution_count": null,
   "id": "2a4a78bc",
   "metadata": {},
   "outputs": [],
   "source": []
  },
  {
   "cell_type": "code",
   "execution_count": null,
   "id": "b855e469",
   "metadata": {},
   "outputs": [],
   "source": []
  },
  {
   "cell_type": "code",
   "execution_count": null,
   "id": "b8f8b59a",
   "metadata": {},
   "outputs": [],
   "source": []
  },
  {
   "cell_type": "markdown",
   "id": "63ceb03a",
   "metadata": {},
   "source": [
    "# 3. DNN\n",
    "\n",
    "*Wang 2022:*\n",
    "\n",
    "- three hidden layers are used with 10 nodes in the first hidden layer, 8 nodes in the second hidden layer, and 6 nodes in the third hidden layer. \n",
    "- All layers use tanh activation function. \n",
    "- Mean square error is used as the cost function. \n",
    "- Stochastic gradient descent algorithm with a batch size of 64 and epoch of 100 is used to train the weights. "
   ]
  },
  {
   "cell_type": "markdown",
   "id": "07939d60",
   "metadata": {},
   "source": [
    "## Neural Networks\n",
    "- forse non devo fare validation set? \n",
    "- sistemare con test\n",
    "\n",
    "For neural networks, we experiment with different network configurations and pick the best in terms of \n",
    "# #TODO: scegliere metriche\n",
    "\n",
    "on the validation set. \n"
   ]
  },
  {
   "cell_type": "code",
   "execution_count": 80,
   "id": "3022c7ab",
   "metadata": {},
   "outputs": [],
   "source": [
    "from tensorflow.keras.models import Sequential\n",
    "from tensorflow.keras.layers import Dense, Dropout\n",
    "from tensorflow.keras.layers import Activation"
   ]
  },
  {
   "cell_type": "raw",
   "id": "ba3d530c",
   "metadata": {},
   "source": [
    "from sklearn.model_selection import train_test_split\n",
    "# Splitting data with a 20/80% val train split\n",
    "X_tr, X_val, y_tr, y_val = train_test_split(X, y, random_state=0, test_size=0.2)"
   ]
  },
  {
   "cell_type": "code",
   "execution_count": 81,
   "id": "721ba80c",
   "metadata": {},
   "outputs": [],
   "source": [
    "def create_model(layers, activation='tanh', dropout_rate=0.15, X_train=X):\n",
    "    model = None\n",
    "    model = Sequential()\n",
    "\n",
    "    for i, nodes in enumerate(layers):\n",
    "        if i==0:\n",
    "            model.add(Dense(nodes, input_dim = X_train.shape[1]))\n",
    "            model.add(Activation(activation))\n",
    "            model.add(Dropout(dropout_rate, seed=0))\n",
    "        else:\n",
    "            model.add(Dense(nodes))\n",
    "            model.add(Activation(activation))\n",
    "            model.add(Dropout(dropout_rate, seed=0))\n",
    "\n",
    "    # final prediction\n",
    "    model.add(Dense(1,activation=activation)) \n",
    "    \n",
    "    # compile model\n",
    "    model.compile(optimizer='sgd', # stochastic gradient descent\n",
    "                  loss='mean_squared_error', # loss function chosen\n",
    "                  metrics=['mean_squared_error']) # TODO !\n",
    "    return model"
   ]
  },
  {
   "cell_type": "code",
   "execution_count": 84,
   "id": "9ebaa298",
   "metadata": {},
   "outputs": [],
   "source": [
    "layers = [[10,8,6] ,[121,53,77],[121,77,53],  [10,8,25,6] , [22,9, 19, 98]]#,  [120,53,92,40], [121,53,77, 91]]\n",
    "activations = ['tanh']#['sigmoid', 'relu', 'tanh'] # don't need"
   ]
  },
  {
   "cell_type": "code",
   "execution_count": null,
   "id": "cc9f8972",
   "metadata": {},
   "outputs": [
    {
     "name": "stdout",
     "output_type": "stream",
     "text": [
      "Layer configuration number 0: [10, 8, 6]\n",
      "activation: tanh \n",
      "\n",
      "Epoch 1/50\n",
      "1478/1478 [==============================] - 7s 4ms/step - loss: 0.5547 - mean_squared_error: 0.5547\n",
      "Epoch 2/50\n",
      "1478/1478 [==============================] - 6s 4ms/step - loss: 0.4145 - mean_squared_error: 0.4145\n",
      "Epoch 3/50\n",
      "1478/1478 [==============================] - 6s 4ms/step - loss: 0.3988 - mean_squared_error: 0.3988\n",
      "Epoch 4/50\n",
      "1478/1478 [==============================] - 6s 4ms/step - loss: 0.3918 - mean_squared_error: 0.3918\n",
      "Epoch 5/50\n",
      "1478/1478 [==============================] - 6s 4ms/step - loss: 0.3877 - mean_squared_error: 0.3877\n",
      "Epoch 6/50\n",
      " 470/1478 [========>.....................] - ETA: 4s - loss: 0.3860 - mean_squared_error: 0.3860"
     ]
    }
   ],
   "source": [
    "scores2 = pd.DataFrame(columns=['layers','activation','val_mean_squared_error'], index=np.arange(len(layers)*len(activations)))\n",
    "\n",
    "for i, lay in enumerate(layers):\n",
    "    print(f\"Layer configuration number {i}: {lay}\")\n",
    "    for j, act in enumerate(activations):\n",
    "        print(f\"activation: {act} \\n\")\n",
    "        model = create_model(lay, activation=act)\n",
    "        \n",
    "        history = model.fit(X, y,# validation_data=(X_val,y_val), \n",
    "                            epochs=50, batch_size=128, verbose=1\n",
    "                           )\n",
    "        scores2.iloc[i+j,:] = [lay, act,  history.history['mean_squared_error'][-1]]\n",
    "        path = 'saved_nn/model' + str(i)+'.'+str(j)\n",
    "        model.save(path)\n",
    "        print('\\n\\n')"
   ]
  },
  {
   "cell_type": "code",
   "execution_count": null,
   "id": "2bae987b",
   "metadata": {},
   "outputs": [],
   "source": [
    "scores2"
   ]
  },
  {
   "cell_type": "markdown",
   "id": "e1c96f61",
   "metadata": {},
   "source": [
    "# TODO: reimport the chosen model and predict\n"
   ]
  },
  {
   "cell_type": "code",
   "execution_count": 78,
   "id": "e41d5c5d",
   "metadata": {},
   "outputs": [
    {
     "name": "stdout",
     "output_type": "stream",
     "text": [
      "1478/1478 [==============================] - 2s 1ms/step\n",
      "The mean squared error of the model is 0.3089\n",
      "The mean absolute error of the model is 0.4237\n",
      "The mean residual of the model is 0.0144\n",
      "The adjusted R-squared of the model is 0.6958\n"
     ]
    }
   ],
   "source": [
    "scores = compute_scores(X_test, y_test, model)\n",
    "save_scores('NN', scores)"
   ]
  },
  {
   "cell_type": "code",
   "execution_count": 79,
   "id": "013e31ed",
   "metadata": {},
   "outputs": [
    {
     "data": {
      "text/html": [
       "<div>\n",
       "<style scoped>\n",
       "    .dataframe tbody tr th:only-of-type {\n",
       "        vertical-align: middle;\n",
       "    }\n",
       "\n",
       "    .dataframe tbody tr th {\n",
       "        vertical-align: top;\n",
       "    }\n",
       "\n",
       "    .dataframe thead th {\n",
       "        text-align: right;\n",
       "    }\n",
       "</style>\n",
       "<table border=\"1\" class=\"dataframe\">\n",
       "  <thead>\n",
       "    <tr style=\"text-align: right;\">\n",
       "      <th></th>\n",
       "      <th>method</th>\n",
       "      <th>MSE</th>\n",
       "      <th>MAE</th>\n",
       "      <th>MR</th>\n",
       "      <th>adj R-squared</th>\n",
       "    </tr>\n",
       "  </thead>\n",
       "  <tbody>\n",
       "    <tr>\n",
       "      <th>0</th>\n",
       "      <td>LinearRegression</td>\n",
       "      <td>0.296738</td>\n",
       "      <td>0.425545</td>\n",
       "      <td>0.000606</td>\n",
       "      <td>0.707812</td>\n",
       "    </tr>\n",
       "    <tr>\n",
       "      <th>1</th>\n",
       "      <td>LinearRegression_VS</td>\n",
       "      <td>0.32875</td>\n",
       "      <td>0.445652</td>\n",
       "      <td>0.000465</td>\n",
       "      <td>0.67629</td>\n",
       "    </tr>\n",
       "    <tr>\n",
       "      <th>2</th>\n",
       "      <td>RANSAC</td>\n",
       "      <td>0.565692</td>\n",
       "      <td>0.570139</td>\n",
       "      <td>-0.056636</td>\n",
       "      <td>0.442981</td>\n",
       "    </tr>\n",
       "    <tr>\n",
       "      <th>3</th>\n",
       "      <td>RANSAC_VS</td>\n",
       "      <td>0.423814</td>\n",
       "      <td>0.488471</td>\n",
       "      <td>0.154729</td>\n",
       "      <td>0.582684</td>\n",
       "    </tr>\n",
       "    <tr>\n",
       "      <th>4</th>\n",
       "      <td>NN</td>\n",
       "      <td>0.342096</td>\n",
       "      <td>0.449317</td>\n",
       "      <td>-0.000316</td>\n",
       "      <td>0.663148</td>\n",
       "    </tr>\n",
       "    <tr>\n",
       "      <th>5</th>\n",
       "      <td>NN</td>\n",
       "      <td>0.314712</td>\n",
       "      <td>0.428407</td>\n",
       "      <td>0.015757</td>\n",
       "      <td>0.690113</td>\n",
       "    </tr>\n",
       "    <tr>\n",
       "      <th>6</th>\n",
       "      <td>NN</td>\n",
       "      <td>0.308915</td>\n",
       "      <td>0.423737</td>\n",
       "      <td>0.014423</td>\n",
       "      <td>0.695821</td>\n",
       "    </tr>\n",
       "  </tbody>\n",
       "</table>\n",
       "</div>"
      ],
      "text/plain": [
       "                method       MSE       MAE        MR adj R-squared\n",
       "0     LinearRegression  0.296738  0.425545  0.000606      0.707812\n",
       "1  LinearRegression_VS   0.32875  0.445652  0.000465       0.67629\n",
       "2               RANSAC  0.565692  0.570139 -0.056636      0.442981\n",
       "3            RANSAC_VS  0.423814  0.488471  0.154729      0.582684\n",
       "4                   NN  0.342096  0.449317 -0.000316      0.663148\n",
       "5                   NN  0.314712  0.428407  0.015757      0.690113\n",
       "6                   NN  0.308915  0.423737  0.014423      0.695821"
      ]
     },
     "execution_count": 79,
     "metadata": {},
     "output_type": "execute_result"
    }
   ],
   "source": [
    "display_scores()"
   ]
  },
  {
   "cell_type": "markdown",
   "id": "b34fefd9",
   "metadata": {},
   "source": [
    "# FINAL SUMMARY OF METHODS PERFORMANCES\n",
    "\n",
    "We display below a summary of the scores obtained by the different models. \n",
    "We see that models can be classified differently based on the metric of evaluation chosen. \n",
    "\n",
    "\n"
   ]
  },
  {
   "cell_type": "code",
   "execution_count": null,
   "id": "4d5356ff",
   "metadata": {},
   "outputs": [],
   "source": []
  },
  {
   "cell_type": "code",
   "execution_count": null,
   "id": "216db887",
   "metadata": {},
   "outputs": [],
   "source": []
  },
  {
   "cell_type": "code",
   "execution_count": null,
   "id": "48a620c4",
   "metadata": {},
   "outputs": [],
   "source": []
  },
  {
   "cell_type": "code",
   "execution_count": null,
   "id": "bb137b4b",
   "metadata": {},
   "outputs": [],
   "source": []
  },
  {
   "cell_type": "code",
   "execution_count": null,
   "id": "36b026c7",
   "metadata": {},
   "outputs": [],
   "source": []
  },
  {
   "cell_type": "code",
   "execution_count": null,
   "id": "6106a2a2",
   "metadata": {},
   "outputs": [],
   "source": []
  },
  {
   "cell_type": "code",
   "execution_count": null,
   "id": "17859024",
   "metadata": {},
   "outputs": [],
   "source": []
  },
  {
   "cell_type": "code",
   "execution_count": null,
   "id": "ddbf0dca",
   "metadata": {},
   "outputs": [],
   "source": []
  },
  {
   "cell_type": "markdown",
   "id": "8b22ff4b",
   "metadata": {},
   "source": [
    "# 4. Support Vector Regression"
   ]
  },
  {
   "cell_type": "code",
   "execution_count": 21,
   "id": "b6cb25dc",
   "metadata": {
    "scrolled": false
   },
   "outputs": [
    {
     "name": "stderr",
     "output_type": "stream",
     "text": [
      "/Users/fra/miniconda3/envs/tensorflow/lib/python3.10/site-packages/sklearn/utils/validation.py:1143: DataConversionWarning: A column-vector y was passed when a 1d array was expected. Please change the shape of y to (n_samples, ), for example using ravel().\n",
      "  y = column_or_1d(y, warn=True)\n"
     ]
    },
    {
     "name": "stdout",
     "output_type": "stream",
     "text": [
      "[LibSVM]................................................................................................................................................................................*..............................................................................*..*\n",
      "optimization finished, #iter = 256322\n",
      "obj = -46893.235482, rho = -0.222898\n",
      "nSV = 152603, nBSV = 137551\n"
     ]
    },
    {
     "data": {
      "text/html": [
       "<style>#sk-container-id-1 {color: black;background-color: white;}#sk-container-id-1 pre{padding: 0;}#sk-container-id-1 div.sk-toggleable {background-color: white;}#sk-container-id-1 label.sk-toggleable__label {cursor: pointer;display: block;width: 100%;margin-bottom: 0;padding: 0.3em;box-sizing: border-box;text-align: center;}#sk-container-id-1 label.sk-toggleable__label-arrow:before {content: \"▸\";float: left;margin-right: 0.25em;color: #696969;}#sk-container-id-1 label.sk-toggleable__label-arrow:hover:before {color: black;}#sk-container-id-1 div.sk-estimator:hover label.sk-toggleable__label-arrow:before {color: black;}#sk-container-id-1 div.sk-toggleable__content {max-height: 0;max-width: 0;overflow: hidden;text-align: left;background-color: #f0f8ff;}#sk-container-id-1 div.sk-toggleable__content pre {margin: 0.2em;color: black;border-radius: 0.25em;background-color: #f0f8ff;}#sk-container-id-1 input.sk-toggleable__control:checked~div.sk-toggleable__content {max-height: 200px;max-width: 100%;overflow: auto;}#sk-container-id-1 input.sk-toggleable__control:checked~label.sk-toggleable__label-arrow:before {content: \"▾\";}#sk-container-id-1 div.sk-estimator input.sk-toggleable__control:checked~label.sk-toggleable__label {background-color: #d4ebff;}#sk-container-id-1 div.sk-label input.sk-toggleable__control:checked~label.sk-toggleable__label {background-color: #d4ebff;}#sk-container-id-1 input.sk-hidden--visually {border: 0;clip: rect(1px 1px 1px 1px);clip: rect(1px, 1px, 1px, 1px);height: 1px;margin: -1px;overflow: hidden;padding: 0;position: absolute;width: 1px;}#sk-container-id-1 div.sk-estimator {font-family: monospace;background-color: #f0f8ff;border: 1px dotted black;border-radius: 0.25em;box-sizing: border-box;margin-bottom: 0.5em;}#sk-container-id-1 div.sk-estimator:hover {background-color: #d4ebff;}#sk-container-id-1 div.sk-parallel-item::after {content: \"\";width: 100%;border-bottom: 1px solid gray;flex-grow: 1;}#sk-container-id-1 div.sk-label:hover label.sk-toggleable__label {background-color: #d4ebff;}#sk-container-id-1 div.sk-serial::before {content: \"\";position: absolute;border-left: 1px solid gray;box-sizing: border-box;top: 0;bottom: 0;left: 50%;z-index: 0;}#sk-container-id-1 div.sk-serial {display: flex;flex-direction: column;align-items: center;background-color: white;padding-right: 0.2em;padding-left: 0.2em;position: relative;}#sk-container-id-1 div.sk-item {position: relative;z-index: 1;}#sk-container-id-1 div.sk-parallel {display: flex;align-items: stretch;justify-content: center;background-color: white;position: relative;}#sk-container-id-1 div.sk-item::before, #sk-container-id-1 div.sk-parallel-item::before {content: \"\";position: absolute;border-left: 1px solid gray;box-sizing: border-box;top: 0;bottom: 0;left: 50%;z-index: -1;}#sk-container-id-1 div.sk-parallel-item {display: flex;flex-direction: column;z-index: 1;position: relative;background-color: white;}#sk-container-id-1 div.sk-parallel-item:first-child::after {align-self: flex-end;width: 50%;}#sk-container-id-1 div.sk-parallel-item:last-child::after {align-self: flex-start;width: 50%;}#sk-container-id-1 div.sk-parallel-item:only-child::after {width: 0;}#sk-container-id-1 div.sk-dashed-wrapped {border: 1px dashed gray;margin: 0 0.4em 0.5em 0.4em;box-sizing: border-box;padding-bottom: 0.4em;background-color: white;}#sk-container-id-1 div.sk-label label {font-family: monospace;font-weight: bold;display: inline-block;line-height: 1.2em;}#sk-container-id-1 div.sk-label-container {text-align: center;}#sk-container-id-1 div.sk-container {/* jupyter's `normalize.less` sets `[hidden] { display: none; }` but bootstrap.min.css set `[hidden] { display: none !important; }` so we also need the `!important` here to be able to override the default hidden behavior on the sphinx rendered scikit-learn.org. See: https://github.com/scikit-learn/scikit-learn/issues/21755 */display: inline-block !important;position: relative;}#sk-container-id-1 div.sk-text-repr-fallback {display: none;}</style><div id=\"sk-container-id-1\" class=\"sk-top-container\"><div class=\"sk-text-repr-fallback\"><pre>SVR(verbose=True)</pre><b>In a Jupyter environment, please rerun this cell to show the HTML representation or trust the notebook. <br />On GitHub, the HTML representation is unable to render, please try loading this page with nbviewer.org.</b></div><div class=\"sk-container\" hidden><div class=\"sk-item\"><div class=\"sk-estimator sk-toggleable\"><input class=\"sk-toggleable__control sk-hidden--visually\" id=\"sk-estimator-id-1\" type=\"checkbox\" checked><label for=\"sk-estimator-id-1\" class=\"sk-toggleable__label sk-toggleable__label-arrow\">SVR</label><div class=\"sk-toggleable__content\"><pre>SVR(verbose=True)</pre></div></div></div></div></div>"
      ],
      "text/plain": [
       "SVR(verbose=True)"
      ]
     },
     "execution_count": 21,
     "metadata": {},
     "output_type": "execute_result"
    }
   ],
   "source": [
    "from sklearn.svm import SVR\n",
    "svr = SVR(kernel = 'rbf', verbose=True)\n",
    "svr.fit(X, y)"
   ]
  },
  {
   "cell_type": "code",
   "execution_count": 31,
   "id": "8c357f0c",
   "metadata": {},
   "outputs": [
    {
     "name": "stdout",
     "output_type": "stream",
     "text": [
      "The mean squared error of the model is 0.2141\n",
      "The mean absolute error of the model is 0.3547\n",
      "The mean residual of the model is 0.0194\n",
      "The adjusted R-squared of the model is 0.7892\n"
     ]
    }
   ],
   "source": [
    "scores = compute_scores(X_test, y_test, svr)\n",
    "save_scores('SVR', scores)"
   ]
  },
  {
   "cell_type": "raw",
   "id": "b0e05186",
   "metadata": {},
   "source": [
    "# modello lineare\n",
    "The mean squared error of the model is 11.8880\n",
    "The mean absolute error of the model is 3.4169\n",
    "The mean residual of the model is 3.4169\n",
    "The adjusted R-squared of the model is -26.6837"
   ]
  },
  {
   "cell_type": "markdown",
   "id": "6e71771d",
   "metadata": {},
   "source": [
    "- fare subsamples e cercare margine migliore su uno solo, parametri:\n",
    "\n",
    "    - Cfloat, default=1.0: Regularization parameter. The strength of the regularization is inversely proportional to C. Must be strictly positive. The penalty is a squared l2 penalty.\n",
    "\n",
    "    - epsilonfloat, default=0.1: Epsilon in the epsilon-SVR model. It specifies the epsilon-tube within which no penalty is associated in the training loss function with points predicted within a distance epsilon from the actual value. Must be non-negative"
   ]
  },
  {
   "cell_type": "markdown",
   "id": "a2d28449",
   "metadata": {},
   "source": [
    "# KERNEL RIDGE REGRESSION "
   ]
  },
  {
   "cell_type": "code",
   "execution_count": 13,
   "id": "4a47b17f",
   "metadata": {},
   "outputs": [],
   "source": [
    "from sklearn.kernel_ridge import KernelRidge\n",
    "from sklearn.model_selection import GridSearchCV\n",
    "\n",
    "kr = GridSearchCV(\n",
    "    KernelRidge(kernel=\"rbf\", gamma=0.1),\n",
    "    param_grid={\"alpha\": [1e0, 0.1, 1e-2, 1e-3], \"gamma\": np.logspace(-2, 2, 5)}, verbose=3)"
   ]
  },
  {
   "cell_type": "code",
   "execution_count": null,
   "id": "ef65ef95",
   "metadata": {},
   "outputs": [
    {
     "name": "stdout",
     "output_type": "stream",
     "text": [
      "Fitting 5 folds for each of 20 candidates, totalling 100 fits\n"
     ]
    }
   ],
   "source": [
    "import time\n",
    "\n",
    "t0 = time.time()\n",
    "kr.fit(X, y)\n",
    "kr_fit = time.time() - t0\n",
    "print(f\"Best KRR with params: {kr.best_params_} and R2 score: {kr.best_score_:.3f}\")\n",
    "print(\"KRR complexity and bandwidth selected and model fitted in %.3f s\" % kr_fit)"
   ]
  },
  {
   "cell_type": "code",
   "execution_count": null,
   "id": "5d5bcd79",
   "metadata": {},
   "outputs": [],
   "source": [
    "t0 = time.time()\n",
    "y_kr = kr.predict(X_test)\n",
    "kr_predict = time.time() - t0\n",
    "print(\"KRR prediction for %d inputs in %.3f s\" % (X_plot.shape[0], kr_predict))"
   ]
  },
  {
   "cell_type": "code",
   "execution_count": null,
   "id": "764150ec",
   "metadata": {},
   "outputs": [],
   "source": []
  },
  {
   "cell_type": "markdown",
   "id": "9ee1771a",
   "metadata": {},
   "source": [
    "# analisi finali\n",
    "- predictions per anno vs reale (grafica)"
   ]
  }
 ],
 "metadata": {
  "kernelspec": {
   "display_name": "Python 3.10 (tensorflow)",
   "language": "python",
   "name": "tensorflow"
  },
  "language_info": {
   "codemirror_mode": {
    "name": "ipython",
    "version": 3
   },
   "file_extension": ".py",
   "mimetype": "text/x-python",
   "name": "python",
   "nbconvert_exporter": "python",
   "pygments_lexer": "ipython3",
   "version": "3.10.10"
  }
 },
 "nbformat": 4,
 "nbformat_minor": 5
}
